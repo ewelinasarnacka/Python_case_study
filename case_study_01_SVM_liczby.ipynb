{
  "nbformat": 4,
  "nbformat_minor": 0,
  "metadata": {
    "kernelspec": {
      "display_name": "Python 3",
      "language": "python",
      "name": "python3"
    },
    "language_info": {
      "codemirror_mode": {
        "name": "ipython",
        "version": 3
      },
      "file_extension": ".py",
      "mimetype": "text/x-python",
      "name": "python",
      "nbconvert_exporter": "python",
      "pygments_lexer": "ipython3",
      "version": "3.7.5"
    },
    "colab": {
      "name": "case_study_01_SVM_liczby.ipynb",
      "provenance": []
    }
  },
  "cells": [
    {
      "cell_type": "markdown",
      "metadata": {
        "id": "3e_trjcGWvCa",
        "colab_type": "text"
      },
      "source": [
        "# <font color='green'>Klasyfikacja - rozpoznawanie cyfr</font>\n",
        "### <font color='green'>Zastosowanie estymatora liniowego Support Vector Machine (SVM) do klasyfikacji ręcznie napisanych cyfr</font>"
      ]
    },
    {
      "cell_type": "code",
      "metadata": {
        "id": "wnRECFgPWvCn",
        "colab_type": "code",
        "colab": {},
        "outputId": "ebae1ec6-39ad-46a7-c9aa-092323452af5"
      },
      "source": [
        "!pip install scikit-learn"
      ],
      "execution_count": 0,
      "outputs": [
        {
          "output_type": "stream",
          "text": [
            "Requirement already satisfied: scikit-learn in /Users/ewelina/opt/anaconda3/lib/python3.7/site-packages (0.22.2.post1)\n",
            "Requirement already satisfied: numpy>=1.11.0 in /Users/ewelina/opt/anaconda3/lib/python3.7/site-packages (from scikit-learn) (1.17.4)\n",
            "Requirement already satisfied: joblib>=0.11 in /Users/ewelina/opt/anaconda3/lib/python3.7/site-packages (from scikit-learn) (0.14.0)\n",
            "Requirement already satisfied: scipy>=0.17.0 in /Users/ewelina/opt/anaconda3/lib/python3.7/site-packages (from scikit-learn) (1.3.1)\n"
          ],
          "name": "stdout"
        }
      ]
    },
    {
      "cell_type": "code",
      "metadata": {
        "id": "mtaOfjXNWvCw",
        "colab_type": "code",
        "colab": {},
        "outputId": "293b03fe-7dcf-4e05-a993-aab5c2a8b9d1"
      },
      "source": [
        "!pip install plotly"
      ],
      "execution_count": 0,
      "outputs": [
        {
          "output_type": "stream",
          "text": [
            "Collecting plotly\n",
            "\u001b[?25l  Downloading https://files.pythonhosted.org/packages/15/90/918bccb0ca60dc6d126d921e2c67126d75949f5da777e6b18c51fb12603d/plotly-4.6.0-py2.py3-none-any.whl (7.1MB)\n",
            "\u001b[K     |████████████████████████████████| 7.2MB 1.0MB/s eta 0:00:01\n",
            "\u001b[?25hCollecting retrying>=1.3.3\n",
            "  Downloading https://files.pythonhosted.org/packages/44/ef/beae4b4ef80902f22e3af073397f079c96969c69b2c7d52a57ea9ae61c9d/retrying-1.3.3.tar.gz\n",
            "Requirement already satisfied: six in /Users/ewelina/opt/anaconda3/lib/python3.7/site-packages (from plotly) (1.13.0)\n",
            "Building wheels for collected packages: retrying\n",
            "  Building wheel for retrying (setup.py) ... \u001b[?25ldone\n",
            "\u001b[?25h  Created wheel for retrying: filename=retrying-1.3.3-cp37-none-any.whl size=11429 sha256=94fb7d9a3f9432dbf2213894bacb73bcae2e44ee1ebad5347deb3244d33b6879\n",
            "  Stored in directory: /Users/ewelina/Library/Caches/pip/wheels/d7/a9/33/acc7b709e2a35caa7d4cae442f6fe6fbf2c43f80823d46460c\n",
            "Successfully built retrying\n",
            "Installing collected packages: retrying, plotly\n",
            "Successfully installed plotly-4.6.0 retrying-1.3.3\n"
          ],
          "name": "stdout"
        }
      ]
    },
    {
      "cell_type": "code",
      "metadata": {
        "id": "QZSKVymbWvC6",
        "colab_type": "code",
        "colab": {},
        "outputId": "db45cb74-8336-41d1-ad31-a574e87bb84a"
      },
      "source": [
        "!pip install --upgrade scikit-learn"
      ],
      "execution_count": 0,
      "outputs": [
        {
          "output_type": "stream",
          "text": [
            "Requirement already up-to-date: scikit-learn in /Users/ewelina/opt/anaconda3/lib/python3.7/site-packages (0.22.2.post1)\r\n",
            "Requirement already satisfied, skipping upgrade: joblib>=0.11 in /Users/ewelina/opt/anaconda3/lib/python3.7/site-packages (from scikit-learn) (0.14.0)\r\n",
            "Requirement already satisfied, skipping upgrade: scipy>=0.17.0 in /Users/ewelina/opt/anaconda3/lib/python3.7/site-packages (from scikit-learn) (1.3.1)\r\n",
            "Requirement already satisfied, skipping upgrade: numpy>=1.11.0 in /Users/ewelina/opt/anaconda3/lib/python3.7/site-packages (from scikit-learn) (1.17.4)\r\n"
          ],
          "name": "stdout"
        }
      ]
    },
    {
      "cell_type": "code",
      "metadata": {
        "id": "ZMxk3nPMWvDA",
        "colab_type": "code",
        "colab": {}
      },
      "source": [
        "import numpy as np\n",
        "import pandas as pd\n",
        "import matplotlib.pyplot as plt\n",
        "import seaborn as sns\n",
        "import plotly.figure_factory as ff\n",
        "from sklearn import datasets\n",
        "from sklearn.metrics import classification_report\n",
        "from sklearn.metrics import confusion_matrix\n",
        "\n",
        "sns.set(font_scale=1.3)\n",
        "np.random.seed(42)"
      ],
      "execution_count": 0,
      "outputs": []
    },
    {
      "cell_type": "markdown",
      "metadata": {
        "id": "jSX5_XwIWvDE",
        "colab_type": "text"
      },
      "source": [
        "## &#x1F331; <font color='lightblue'>Wczytanie danych</font>"
      ]
    },
    {
      "cell_type": "code",
      "metadata": {
        "id": "gZKaLE0EWvDF",
        "colab_type": "code",
        "colab": {},
        "outputId": "ea65b585-274f-4884-c9ac-c167873bf05e"
      },
      "source": [
        "raw_digits = datasets.load_digits()\n",
        "digits = raw_digits.copy()\n",
        "digits.keys()"
      ],
      "execution_count": 0,
      "outputs": [
        {
          "output_type": "execute_result",
          "data": {
            "text/plain": [
              "dict_keys(['data', 'target', 'target_names', 'images', 'DESCR'])"
            ]
          },
          "metadata": {
            "tags": []
          },
          "execution_count": 82
        }
      ]
    },
    {
      "cell_type": "code",
      "metadata": {
        "id": "jQE0xMIiWvDJ",
        "colab_type": "code",
        "colab": {},
        "outputId": "ffe7fe67-63d7-4228-d7e8-16e254ccf928"
      },
      "source": [
        "images = digits['images']\n",
        "targets = digits['target']\n",
        "print('images shape:{}'.format(images.shape))\n",
        "print('targest shape:{}'.format(targets.shape))"
      ],
      "execution_count": 0,
      "outputs": [
        {
          "output_type": "stream",
          "text": [
            "images shape:(1797, 8, 8)\n",
            "targest shape:(1797,)\n"
          ],
          "name": "stdout"
        }
      ]
    },
    {
      "cell_type": "markdown",
      "metadata": {
        "id": "4Vb5hFvXWvDQ",
        "colab_type": "text"
      },
      "source": [
        "## &#x1F331; <font color='lightblue'>Wyświetlenie przykładowych danych</font>"
      ]
    },
    {
      "cell_type": "code",
      "metadata": {
        "id": "PP68BjamWvDR",
        "colab_type": "code",
        "colab": {},
        "outputId": "365b99a0-870f-419d-ba26-ac171c50d342"
      },
      "source": [
        "images[0]"
      ],
      "execution_count": 0,
      "outputs": [
        {
          "output_type": "execute_result",
          "data": {
            "text/plain": [
              "array([[ 0.,  0.,  5., 13.,  9.,  1.,  0.,  0.],\n",
              "       [ 0.,  0., 13., 15., 10., 15.,  5.,  0.],\n",
              "       [ 0.,  3., 15.,  2.,  0., 11.,  8.,  0.],\n",
              "       [ 0.,  4., 12.,  0.,  0.,  8.,  8.,  0.],\n",
              "       [ 0.,  5.,  8.,  0.,  0.,  9.,  8.,  0.],\n",
              "       [ 0.,  4., 11.,  0.,  1., 12.,  7.,  0.],\n",
              "       [ 0.,  2., 14.,  5., 10., 12.,  0.,  0.],\n",
              "       [ 0.,  0.,  6., 13., 10.,  0.,  0.,  0.]])"
            ]
          },
          "metadata": {
            "tags": []
          },
          "execution_count": 84
        }
      ]
    },
    {
      "cell_type": "code",
      "metadata": {
        "id": "OAOyi389WvDW",
        "colab_type": "code",
        "colab": {},
        "outputId": "308b38a6-1e5b-4891-dd30-3e401be7e583"
      },
      "source": [
        "plt.figure(figsize=(12, 10))\n",
        "for index, (image, target) in enumerate(list(zip(images, targets))[:6]):\n",
        "    plt.subplot(2, 6, index + 1)\n",
        "    plt.axis('off')\n",
        "    plt.imshow(image, cmap='Greys')\n",
        "    plt.title(f'Label: {target}')"
      ],
      "execution_count": 0,
      "outputs": [
        {
          "output_type": "display_data",
          "data": {
            "image/png": "[encoded data removed]",
            "text/plain": [
              "<Figure size 864x720 with 6 Axes>"
            ]
          },
          "metadata": {
            "tags": []
          }
        }
      ]
    },
    {
      "cell_type": "markdown",
      "metadata": {
        "id": "fu5XWiosWvDc",
        "colab_type": "text"
      },
      "source": [
        "## &#x1F34A; <font color='orange'>Przygotowanie danych do modelu</font>"
      ]
    },
    {
      "cell_type": "code",
      "metadata": {
        "id": "TQEi30MAWvDd",
        "colab_type": "code",
        "colab": {}
      },
      "source": [
        "from sklearn.model_selection import train_test_split"
      ],
      "execution_count": 0,
      "outputs": []
    },
    {
      "cell_type": "code",
      "metadata": {
        "id": "3hBTCzuxWvDi",
        "colab_type": "code",
        "colab": {},
        "outputId": "6d610987-3480-4514-8dee-4164ba5f6605"
      },
      "source": [
        "X_train, X_test, y_train, y_test = train_test_split(images, targets)\n",
        "\n",
        "print('X_train shape: {}'.format(X_train.shape))\n",
        "print('X_test shape: {}'.format(X_test.shape))\n",
        "print('y_train shape: {}'.format(y_train.shape))\n",
        "print('y_test shape: {}'.format(y_test.shape))"
      ],
      "execution_count": 0,
      "outputs": [
        {
          "output_type": "stream",
          "text": [
            "X_train shape: (1347, 8, 8)\n",
            "X_test shape: (450, 8, 8)\n",
            "y_train shape: (1347,)\n",
            "y_test shape: (450,)\n"
          ],
          "name": "stdout"
        }
      ]
    },
    {
      "cell_type": "code",
      "metadata": {
        "id": "HOGzNbiiWvDl",
        "colab_type": "code",
        "colab": {},
        "outputId": "8d63d0b5-fde0-4fe4-8a6a-059ee0444f26"
      },
      "source": [
        "X_train = X_train.reshape(X_train.shape[0], -1)\n",
        "X_test = X_test.reshape(X_test.shape[0], -1)\n",
        "\n",
        "print()\n",
        "print(f'X_train shape: {X_train.shape}')\n",
        "print(f'X_test shape: {X_test.shape}')"
      ],
      "execution_count": 0,
      "outputs": [
        {
          "output_type": "stream",
          "text": [
            "\n",
            "X_train shape: (1347, 64)\n",
            "X_test shape: (450, 64)\n"
          ],
          "name": "stdout"
        }
      ]
    },
    {
      "cell_type": "code",
      "metadata": {
        "id": "fkosRAQyWvDp",
        "colab_type": "code",
        "colab": {},
        "outputId": "5ce70c6f-fb1a-4ca0-99dd-a5fe571e7e40"
      },
      "source": [
        "X_train[0]"
      ],
      "execution_count": 0,
      "outputs": [
        {
          "output_type": "execute_result",
          "data": {
            "text/plain": [
              "array([ 0.,  0.,  2., 15., 15., 16., 11.,  0.,  0.,  0.,  8., 16., 11.,\n",
              "        3.,  0.,  0.,  0.,  0., 13.,  9.,  0.,  0.,  0.,  0.,  0.,  5.,\n",
              "       16.,  3.,  9., 11.,  3.,  0.,  0., 10., 15., 15., 16., 16., 11.,\n",
              "        0.,  0.,  6., 16., 10.,  7., 16.,  5.,  0.,  0.,  0.,  3.,  4.,\n",
              "       15.,  8.,  0.,  0.,  0.,  0.,  4., 15.,  7.,  0.,  0.,  0.])"
            ]
          },
          "metadata": {
            "tags": []
          },
          "execution_count": 94
        }
      ]
    },
    {
      "cell_type": "code",
      "metadata": {
        "id": "E6txygMMWvDu",
        "colab_type": "code",
        "colab": {},
        "outputId": "209a2aab-4fe3-4009-d8a5-1276ec9bcb2a"
      },
      "source": [
        "y_train[0]"
      ],
      "execution_count": 0,
      "outputs": [
        {
          "output_type": "execute_result",
          "data": {
            "text/plain": [
              "5"
            ]
          },
          "metadata": {
            "tags": []
          },
          "execution_count": 95
        }
      ]
    },
    {
      "cell_type": "markdown",
      "metadata": {
        "id": "Xp8DplHyWvDy",
        "colab_type": "text"
      },
      "source": [
        "## &#x1F34F; <font color='green'>Trenowanie modelu kernel='linear' </font>"
      ]
    },
    {
      "cell_type": "code",
      "metadata": {
        "id": "6f9E9KHSWvDz",
        "colab_type": "code",
        "colab": {},
        "outputId": "cab0e690-6b82-485d-a93d-695856977102"
      },
      "source": [
        "from sklearn.svm import SVC\n",
        "\n",
        "classifier = SVC(gamma = 0.001, kernel='linear')\n",
        "print('Model:\\n', classifier.fit(X_train,y_train))\n",
        "print('Score:\\n', classifier.score(X_test,y_test))"
      ],
      "execution_count": 0,
      "outputs": [
        {
          "output_type": "stream",
          "text": [
            "Model:\n",
            " SVC(C=1.0, break_ties=False, cache_size=200, class_weight=None, coef0=0.0,\n",
            "    decision_function_shape='ovr', degree=3, gamma=0.001, kernel='linear',\n",
            "    max_iter=-1, probability=False, random_state=None, shrinking=True,\n",
            "    tol=0.001, verbose=False)\n",
            "Score:\n",
            " 0.9822222222222222\n"
          ],
          "name": "stdout"
        }
      ]
    },
    {
      "cell_type": "markdown",
      "metadata": {
        "id": "hOAfJuuCWvD2",
        "colab_type": "text"
      },
      "source": [
        "## &#x1F34F; <font color='green'>Trenowanie modelu kernel='rbf' </font>"
      ]
    },
    {
      "cell_type": "code",
      "metadata": {
        "id": "p-0OavTCWvD3",
        "colab_type": "code",
        "colab": {},
        "outputId": "7f0cf63a-a2af-4f0e-ecdb-ec278e208850"
      },
      "source": [
        "classifier = SVC(gamma = 0.001, kernel='rbf')\n",
        "print('Model:\\n', classifier.fit(X_train,y_train))\n",
        "print('Score:\\n', classifier.score(X_test,y_test))"
      ],
      "execution_count": 0,
      "outputs": [
        {
          "output_type": "stream",
          "text": [
            "Model:\n",
            " SVC(C=1.0, break_ties=False, cache_size=200, class_weight=None, coef0=0.0,\n",
            "    decision_function_shape='ovr', degree=3, gamma=0.001, kernel='rbf',\n",
            "    max_iter=-1, probability=False, random_state=None, shrinking=True,\n",
            "    tol=0.001, verbose=False)\n",
            "Score:\n",
            " 0.9888888888888889\n"
          ],
          "name": "stdout"
        }
      ]
    },
    {
      "cell_type": "markdown",
      "metadata": {
        "id": "YHPHuuldWvD6",
        "colab_type": "text"
      },
      "source": [
        "## &#x1F34F; <font color='green'>Wybór optymalnych hiperparametrów - Grid Search\n",
        "</font>"
      ]
    },
    {
      "cell_type": "code",
      "metadata": {
        "id": "nebB-l1tWvD6",
        "colab_type": "code",
        "colab": {}
      },
      "source": [
        "from sklearn.model_selection import GridSearchCV\n",
        "\n",
        "classifier = SVC()\n",
        "\n",
        "params = {'kernel': ['rbf','poly','linear'], 'gamma': [0.01, 0.001, 0.0001]}"
      ],
      "execution_count": 0,
      "outputs": []
    },
    {
      "cell_type": "code",
      "metadata": {
        "id": "DRQ5FgmjWvD9",
        "colab_type": "code",
        "colab": {},
        "outputId": "c6d5e016-ec20-4c9e-8faf-a0e0c4499f35"
      },
      "source": [
        "classifier.get_params().keys()"
      ],
      "execution_count": 0,
      "outputs": [
        {
          "output_type": "execute_result",
          "data": {
            "text/plain": [
              "dict_keys(['C', 'break_ties', 'cache_size', 'class_weight', 'coef0', 'decision_function_shape', 'degree', 'gamma', 'kernel', 'max_iter', 'probability', 'random_state', 'shrinking', 'tol', 'verbose'])"
            ]
          },
          "metadata": {
            "tags": []
          },
          "execution_count": 124
        }
      ]
    },
    {
      "cell_type": "code",
      "metadata": {
        "id": "Egji-bWCWvD_",
        "colab_type": "code",
        "colab": {},
        "outputId": "1c6925a2-5710-476b-cccb-26997ef49aad"
      },
      "source": [
        "grid_search = GridSearchCV(classifier, param_grid=params, scoring='accuracy', cv=5)\n",
        "grid_search.fit(X_train, y_train)"
      ],
      "execution_count": 0,
      "outputs": [
        {
          "output_type": "execute_result",
          "data": {
            "text/plain": [
              "GridSearchCV(cv=5, error_score=nan,\n",
              "             estimator=SVC(C=1.0, break_ties=False, cache_size=200,\n",
              "                           class_weight=None, coef0=0.0,\n",
              "                           decision_function_shape='ovr', degree=3,\n",
              "                           gamma='scale', kernel='rbf', max_iter=-1,\n",
              "                           probability=False, random_state=None, shrinking=True,\n",
              "                           tol=0.001, verbose=False),\n",
              "             iid='deprecated', n_jobs=None,\n",
              "             param_grid={'gamma': [0.01, 0.001, 0.0001],\n",
              "                         'kernel': ['rbf', 'poly', 'linear']},\n",
              "             pre_dispatch='2*n_jobs', refit=True, return_train_score=False,\n",
              "             scoring='accuracy', verbose=0)"
            ]
          },
          "metadata": {
            "tags": []
          },
          "execution_count": 125
        }
      ]
    },
    {
      "cell_type": "markdown",
      "metadata": {
        "id": "oIRs2vxsWvEC",
        "colab_type": "text"
      },
      "source": [
        "## &#x1F34F; <font color='green'>Ocena modelu</font>"
      ]
    },
    {
      "cell_type": "code",
      "metadata": {
        "id": "iwl5t7yKWvEC",
        "colab_type": "code",
        "colab": {},
        "outputId": "b4d6d432-cdee-4a5f-977c-7c99cd282af9"
      },
      "source": [
        "grid_search.best_params_"
      ],
      "execution_count": 0,
      "outputs": [
        {
          "output_type": "execute_result",
          "data": {
            "text/plain": [
              "{'gamma': 0.001, 'kernel': 'rbf'}"
            ]
          },
          "metadata": {
            "tags": []
          },
          "execution_count": 126
        }
      ]
    },
    {
      "cell_type": "code",
      "metadata": {
        "id": "yc6kP1w0WvEF",
        "colab_type": "code",
        "colab": {},
        "outputId": "94d10230-9a51-410d-b56e-0ce4c373821f"
      },
      "source": [
        "grid_search.best_estimator_"
      ],
      "execution_count": 0,
      "outputs": [
        {
          "output_type": "execute_result",
          "data": {
            "text/plain": [
              "SVC(C=1.0, break_ties=False, cache_size=200, class_weight=None, coef0=0.0,\n",
              "    decision_function_shape='ovr', degree=3, gamma=0.001, kernel='rbf',\n",
              "    max_iter=-1, probability=False, random_state=None, shrinking=True,\n",
              "    tol=0.001, verbose=False)"
            ]
          },
          "metadata": {
            "tags": []
          },
          "execution_count": 128
        }
      ]
    },
    {
      "cell_type": "code",
      "metadata": {
        "id": "wCWjreYkWvEI",
        "colab_type": "code",
        "colab": {}
      },
      "source": [
        "y_pred = grid_search.predict(X_test)\n",
        "#y_pred = np.round(y_pred, decimals=0)"
      ],
      "execution_count": 0,
      "outputs": []
    },
    {
      "cell_type": "code",
      "metadata": {
        "id": "XKN-sc_sWvEK",
        "colab_type": "code",
        "colab": {}
      },
      "source": [
        "#y_pred = classifier.predict(X_test)\n",
        "#y_pred"
      ],
      "execution_count": 0,
      "outputs": []
    },
    {
      "cell_type": "code",
      "metadata": {
        "id": "SUCaahkMWvEM",
        "colab_type": "code",
        "colab": {},
        "outputId": "5e5417fd-4b2d-43bd-9c5c-57295ae409c0"
      },
      "source": [
        "print(classification_report(y_test, y_pred))"
      ],
      "execution_count": 0,
      "outputs": [
        {
          "output_type": "stream",
          "text": [
            "              precision    recall  f1-score   support\n",
            "\n",
            "           0       1.00      1.00      1.00        43\n",
            "           1       1.00      1.00      1.00        37\n",
            "           2       1.00      1.00      1.00        38\n",
            "           3       1.00      0.96      0.98        46\n",
            "           4       1.00      1.00      1.00        55\n",
            "           5       0.97      1.00      0.98        59\n",
            "           6       1.00      1.00      1.00        45\n",
            "           7       0.98      0.98      0.98        41\n",
            "           8       0.97      1.00      0.99        38\n",
            "           9       0.98      0.96      0.97        48\n",
            "\n",
            "    accuracy                           0.99       450\n",
            "   macro avg       0.99      0.99      0.99       450\n",
            "weighted avg       0.99      0.99      0.99       450\n",
            "\n"
          ],
          "name": "stdout"
        }
      ]
    },
    {
      "cell_type": "code",
      "metadata": {
        "id": "Ivdu3j9pWvEO",
        "colab_type": "code",
        "colab": {},
        "outputId": "ebbf3b1a-15a1-449a-c16b-595c7533283b"
      },
      "source": [
        "cm = confusion_matrix(y_test, y_pred)\n",
        "cm"
      ],
      "execution_count": 0,
      "outputs": [
        {
          "output_type": "execute_result",
          "data": {
            "text/plain": [
              "array([[43,  0,  0,  0,  0,  0,  0,  0,  0,  0],\n",
              "       [ 0, 37,  0,  0,  0,  0,  0,  0,  0,  0],\n",
              "       [ 0,  0, 38,  0,  0,  0,  0,  0,  0,  0],\n",
              "       [ 0,  0,  0, 44,  0,  1,  0,  0,  1,  0],\n",
              "       [ 0,  0,  0,  0, 55,  0,  0,  0,  0,  0],\n",
              "       [ 0,  0,  0,  0,  0, 59,  0,  0,  0,  0],\n",
              "       [ 0,  0,  0,  0,  0,  0, 45,  0,  0,  0],\n",
              "       [ 0,  0,  0,  0,  0,  0,  0, 40,  0,  1],\n",
              "       [ 0,  0,  0,  0,  0,  0,  0,  0, 38,  0],\n",
              "       [ 0,  0,  0,  0,  0,  1,  0,  1,  0, 46]])"
            ]
          },
          "metadata": {
            "tags": []
          },
          "execution_count": 137
        }
      ]
    },
    {
      "cell_type": "code",
      "metadata": {
        "id": "di5BJaQFWvEQ",
        "colab_type": "code",
        "colab": {},
        "outputId": "f12fb3b1-86eb-4858-c213-4777503fda89"
      },
      "source": [
        "plt.figure(figsize=(8,6))\n",
        "plt.title('Macierz konfuzji')\n",
        "_ = sns.heatmap(cm, annot=True, cmap=sns.cm.rocket_r)"
      ],
      "execution_count": 0,
      "outputs": [
        {
          "output_type": "display_data",
          "data": {
            "image/png": "[encoded data removed]",
            "text/plain": [
              "<Figure size 648x432 with 2 Axes>"
            ]
          },
          "metadata": {
            "tags": []
          }
        }
      ]
    },
    {
      "cell_type": "code",
      "metadata": {
        "id": "SrhX1VSxWvES",
        "colab_type": "code",
        "colab": {},
        "outputId": "bd730433-2cf1-46d8-bd75-c9a53a6ed0f5"
      },
      "source": [
        "columns = ['pred_' + str(i) for i in range(10)]\n",
        "index = ['true_' + str(i) for i in range(10)]\n",
        "\n",
        "def plot_confusion_matrix(cm):\n",
        "    # Mulitclass classification, 3 classes\n",
        "    cm = cm[::-1]\n",
        "    cm = pd.DataFrame(cm, columns=columns, index=index[::-1])\n",
        "\n",
        "    fig = ff.create_annotated_heatmap(z=cm.values, x=list(cm.columns), y=list(cm.index), \n",
        "                                      colorscale='ice', showscale=True, reversescale=True)\n",
        "    fig.update_layout(width=700, height=500, title='Confusion Matrix', font_size=16)\n",
        "    fig.show()\n",
        "\n",
        "plot_confusion_matrix(cm)"
      ],
      "execution_count": 0,
      "outputs": [
        {
          "output_type": "display_data",
          "data": {
            "application/vnd.plotly.v1+json": {
              "config": {
                "plotlyServerURL": "https://plot.ly"
              },
              "data": [
                {
                  "colorscale": [
                    [
                      0,
                      "rgb(3, 5, 18)"
                    ],
                    [
                      0.09090909090909091,
                      "rgb(25, 25, 51)"
                    ],
                    [
                      0.18181818181818182,
                      "rgb(44, 42, 87)"
                    ],
                    [
                      0.2727272727272727,
                      "rgb(58, 60, 125)"
                    ],
                    [
                      0.36363636363636365,
                      "rgb(62, 83, 160)"
                    ],
                    [
                      0.45454545454545453,
                      "rgb(62, 109, 178)"
                    ],
                    [
                      0.5454545454545454,
                      "rgb(72, 134, 187)"
                    ],
                    [
                      0.6363636363636364,
                      "rgb(89, 159, 196)"
                    ],
                    [
                      0.7272727272727273,
                      "rgb(114, 184, 205)"
                    ],
                    [
                      0.8181818181818182,
                      "rgb(149, 207, 216)"
                    ],
                    [
                      0.9090909090909091,
                      "rgb(192, 229, 232)"
                    ],
                    [
                      1,
                      "rgb(234, 252, 253)"
                    ]
                  ],
                  "reversescale": true,
                  "showscale": true,
                  "type": "heatmap",
                  "x": [
                    "pred_0",
                    "pred_1",
                    "pred_2",
                    "pred_3",
                    "pred_4",
                    "pred_5",
                    "pred_6",
                    "pred_7",
                    "pred_8",
                    "pred_9"
                  ],
                  "y": [
                    "true_9",
                    "true_8",
                    "true_7",
                    "true_6",
                    "true_5",
                    "true_4",
                    "true_3",
                    "true_2",
                    "true_1",
                    "true_0"
                  ],
                  "z": [
                    [
                      0,
                      0,
                      0,
                      0,
                      0,
                      1,
                      0,
                      1,
                      0,
                      46
                    ],
                    [
                      0,
                      0,
                      0,
                      0,
                      0,
                      0,
                      0,
                      0,
                      38,
                      0
                    ],
                    [
                      0,
                      0,
                      0,
                      0,
                      0,
                      0,
                      0,
                      40,
                      0,
                      1
                    ],
                    [
                      0,
                      0,
                      0,
                      0,
                      0,
                      0,
                      45,
                      0,
                      0,
                      0
                    ],
                    [
                      0,
                      0,
                      0,
                      0,
                      0,
                      59,
                      0,
                      0,
                      0,
                      0
                    ],
                    [
                      0,
                      0,
                      0,
                      0,
                      55,
                      0,
                      0,
                      0,
                      0,
                      0
                    ],
                    [
                      0,
                      0,
                      0,
                      44,
                      0,
                      1,
                      0,
                      0,
                      1,
                      0
                    ],
                    [
                      0,
                      0,
                      38,
                      0,
                      0,
                      0,
                      0,
                      0,
                      0,
                      0
                    ],
                    [
                      0,
                      37,
                      0,
                      0,
                      0,
                      0,
                      0,
                      0,
                      0,
                      0
                    ],
                    [
                      43,
                      0,
                      0,
                      0,
                      0,
                      0,
                      0,
                      0,
                      0,
                      0
                    ]
                  ]
                }
              ],
              "layout": {
                "annotations": [
                  {
                    "font": {
                      "color": "#000000"
                    },
                    "showarrow": false,
                    "text": "0",
                    "x": "pred_0",
                    "xref": "x",
                    "y": "true_9",
                    "yref": "y"
                  },
                  {
                    "font": {
                      "color": "#000000"
                    },
                    "showarrow": false,
                    "text": "0",
                    "x": "pred_1",
                    "xref": "x",
                    "y": "true_9",
                    "yref": "y"
                  },
                  {
                    "font": {
                      "color": "#000000"
                    },
                    "showarrow": false,
                    "text": "0",
                    "x": "pred_2",
                    "xref": "x",
                    "y": "true_9",
                    "yref": "y"
                  },
                  {
                    "font": {
                      "color": "#000000"
                    },
                    "showarrow": false,
                    "text": "0",
                    "x": "pred_3",
                    "xref": "x",
                    "y": "true_9",
                    "yref": "y"
                  },
                  {
                    "font": {
                      "color": "#000000"
                    },
                    "showarrow": false,
                    "text": "0",
                    "x": "pred_4",
                    "xref": "x",
                    "y": "true_9",
                    "yref": "y"
                  },
                  {
                    "font": {
                      "color": "#000000"
                    },
                    "showarrow": false,
                    "text": "1",
                    "x": "pred_5",
                    "xref": "x",
                    "y": "true_9",
                    "yref": "y"
                  },
                  {
                    "font": {
                      "color": "#000000"
                    },
                    "showarrow": false,
                    "text": "0",
                    "x": "pred_6",
                    "xref": "x",
                    "y": "true_9",
                    "yref": "y"
                  },
                  {
                    "font": {
                      "color": "#000000"
                    },
                    "showarrow": false,
                    "text": "1",
                    "x": "pred_7",
                    "xref": "x",
                    "y": "true_9",
                    "yref": "y"
                  },
                  {
                    "font": {
                      "color": "#000000"
                    },
                    "showarrow": false,
                    "text": "0",
                    "x": "pred_8",
                    "xref": "x",
                    "y": "true_9",
                    "yref": "y"
                  },
                  {
                    "font": {
                      "color": "#FFFFFF"
                    },
                    "showarrow": false,
                    "text": "46",
                    "x": "pred_9",
                    "xref": "x",
                    "y": "true_9",
                    "yref": "y"
                  },
                  {
                    "font": {
                      "color": "#000000"
                    },
                    "showarrow": false,
                    "text": "0",
                    "x": "pred_0",
                    "xref": "x",
                    "y": "true_8",
                    "yref": "y"
                  },
                  {
                    "font": {
                      "color": "#000000"
                    },
                    "showarrow": false,
                    "text": "0",
                    "x": "pred_1",
                    "xref": "x",
                    "y": "true_8",
                    "yref": "y"
                  },
                  {
                    "font": {
                      "color": "#000000"
                    },
                    "showarrow": false,
                    "text": "0",
                    "x": "pred_2",
                    "xref": "x",
                    "y": "true_8",
                    "yref": "y"
                  },
                  {
                    "font": {
                      "color": "#000000"
                    },
                    "showarrow": false,
                    "text": "0",
                    "x": "pred_3",
                    "xref": "x",
                    "y": "true_8",
                    "yref": "y"
                  },
                  {
                    "font": {
                      "color": "#000000"
                    },
                    "showarrow": false,
                    "text": "0",
                    "x": "pred_4",
                    "xref": "x",
                    "y": "true_8",
                    "yref": "y"
                  },
                  {
                    "font": {
                      "color": "#000000"
                    },
                    "showarrow": false,
                    "text": "0",
                    "x": "pred_5",
                    "xref": "x",
                    "y": "true_8",
                    "yref": "y"
                  },
                  {
                    "font": {
                      "color": "#000000"
                    },
                    "showarrow": false,
                    "text": "0",
                    "x": "pred_6",
                    "xref": "x",
                    "y": "true_8",
                    "yref": "y"
                  },
                  {
                    "font": {
                      "color": "#000000"
                    },
                    "showarrow": false,
                    "text": "0",
                    "x": "pred_7",
                    "xref": "x",
                    "y": "true_8",
                    "yref": "y"
                  },
                  {
                    "font": {
                      "color": "#FFFFFF"
                    },
                    "showarrow": false,
                    "text": "38",
                    "x": "pred_8",
                    "xref": "x",
                    "y": "true_8",
                    "yref": "y"
                  },
                  {
                    "font": {
                      "color": "#000000"
                    },
                    "showarrow": false,
                    "text": "0",
                    "x": "pred_9",
                    "xref": "x",
                    "y": "true_8",
                    "yref": "y"
                  },
                  {
                    "font": {
                      "color": "#000000"
                    },
                    "showarrow": false,
                    "text": "0",
                    "x": "pred_0",
                    "xref": "x",
                    "y": "true_7",
                    "yref": "y"
                  },
                  {
                    "font": {
                      "color": "#000000"
                    },
                    "showarrow": false,
                    "text": "0",
                    "x": "pred_1",
                    "xref": "x",
                    "y": "true_7",
                    "yref": "y"
                  },
                  {
                    "font": {
                      "color": "#000000"
                    },
                    "showarrow": false,
                    "text": "0",
                    "x": "pred_2",
                    "xref": "x",
                    "y": "true_7",
                    "yref": "y"
                  },
                  {
                    "font": {
                      "color": "#000000"
                    },
                    "showarrow": false,
                    "text": "0",
                    "x": "pred_3",
                    "xref": "x",
                    "y": "true_7",
                    "yref": "y"
                  },
                  {
                    "font": {
                      "color": "#000000"
                    },
                    "showarrow": false,
                    "text": "0",
                    "x": "pred_4",
                    "xref": "x",
                    "y": "true_7",
                    "yref": "y"
                  },
                  {
                    "font": {
                      "color": "#000000"
                    },
                    "showarrow": false,
                    "text": "0",
                    "x": "pred_5",
                    "xref": "x",
                    "y": "true_7",
                    "yref": "y"
                  },
                  {
                    "font": {
                      "color": "#000000"
                    },
                    "showarrow": false,
                    "text": "0",
                    "x": "pred_6",
                    "xref": "x",
                    "y": "true_7",
                    "yref": "y"
                  },
                  {
                    "font": {
                      "color": "#FFFFFF"
                    },
                    "showarrow": false,
                    "text": "40",
                    "x": "pred_7",
                    "xref": "x",
                    "y": "true_7",
                    "yref": "y"
                  },
                  {
                    "font": {
                      "color": "#000000"
                    },
                    "showarrow": false,
                    "text": "0",
                    "x": "pred_8",
                    "xref": "x",
                    "y": "true_7",
                    "yref": "y"
                  },
                  {
                    "font": {
                      "color": "#000000"
                    },
                    "showarrow": false,
                    "text": "1",
                    "x": "pred_9",
                    "xref": "x",
                    "y": "true_7",
                    "yref": "y"
                  },
                  {
                    "font": {
                      "color": "#000000"
                    },
                    "showarrow": false,
                    "text": "0",
                    "x": "pred_0",
                    "xref": "x",
                    "y": "true_6",
                    "yref": "y"
                  },
                  {
                    "font": {
                      "color": "#000000"
                    },
                    "showarrow": false,
                    "text": "0",
                    "x": "pred_1",
                    "xref": "x",
                    "y": "true_6",
                    "yref": "y"
                  },
                  {
                    "font": {
                      "color": "#000000"
                    },
                    "showarrow": false,
                    "text": "0",
                    "x": "pred_2",
                    "xref": "x",
                    "y": "true_6",
                    "yref": "y"
                  },
                  {
                    "font": {
                      "color": "#000000"
                    },
                    "showarrow": false,
                    "text": "0",
                    "x": "pred_3",
                    "xref": "x",
                    "y": "true_6",
                    "yref": "y"
                  },
                  {
                    "font": {
                      "color": "#000000"
                    },
                    "showarrow": false,
                    "text": "0",
                    "x": "pred_4",
                    "xref": "x",
                    "y": "true_6",
                    "yref": "y"
                  },
                  {
                    "font": {
                      "color": "#000000"
                    },
                    "showarrow": false,
                    "text": "0",
                    "x": "pred_5",
                    "xref": "x",
                    "y": "true_6",
                    "yref": "y"
                  },
                  {
                    "font": {
                      "color": "#FFFFFF"
                    },
                    "showarrow": false,
                    "text": "45",
                    "x": "pred_6",
                    "xref": "x",
                    "y": "true_6",
                    "yref": "y"
                  },
                  {
                    "font": {
                      "color": "#000000"
                    },
                    "showarrow": false,
                    "text": "0",
                    "x": "pred_7",
                    "xref": "x",
                    "y": "true_6",
                    "yref": "y"
                  },
                  {
                    "font": {
                      "color": "#000000"
                    },
                    "showarrow": false,
                    "text": "0",
                    "x": "pred_8",
                    "xref": "x",
                    "y": "true_6",
                    "yref": "y"
                  },
                  {
                    "font": {
                      "color": "#000000"
                    },
                    "showarrow": false,
                    "text": "0",
                    "x": "pred_9",
                    "xref": "x",
                    "y": "true_6",
                    "yref": "y"
                  },
                  {
                    "font": {
                      "color": "#000000"
                    },
                    "showarrow": false,
                    "text": "0",
                    "x": "pred_0",
                    "xref": "x",
                    "y": "true_5",
                    "yref": "y"
                  },
                  {
                    "font": {
                      "color": "#000000"
                    },
                    "showarrow": false,
                    "text": "0",
                    "x": "pred_1",
                    "xref": "x",
                    "y": "true_5",
                    "yref": "y"
                  },
                  {
                    "font": {
                      "color": "#000000"
                    },
                    "showarrow": false,
                    "text": "0",
                    "x": "pred_2",
                    "xref": "x",
                    "y": "true_5",
                    "yref": "y"
                  },
                  {
                    "font": {
                      "color": "#000000"
                    },
                    "showarrow": false,
                    "text": "0",
                    "x": "pred_3",
                    "xref": "x",
                    "y": "true_5",
                    "yref": "y"
                  },
                  {
                    "font": {
                      "color": "#000000"
                    },
                    "showarrow": false,
                    "text": "0",
                    "x": "pred_4",
                    "xref": "x",
                    "y": "true_5",
                    "yref": "y"
                  },
                  {
                    "font": {
                      "color": "#FFFFFF"
                    },
                    "showarrow": false,
                    "text": "59",
                    "x": "pred_5",
                    "xref": "x",
                    "y": "true_5",
                    "yref": "y"
                  },
                  {
                    "font": {
                      "color": "#000000"
                    },
                    "showarrow": false,
                    "text": "0",
                    "x": "pred_6",
                    "xref": "x",
                    "y": "true_5",
                    "yref": "y"
                  },
                  {
                    "font": {
                      "color": "#000000"
                    },
                    "showarrow": false,
                    "text": "0",
                    "x": "pred_7",
                    "xref": "x",
                    "y": "true_5",
                    "yref": "y"
                  },
                  {
                    "font": {
                      "color": "#000000"
                    },
                    "showarrow": false,
                    "text": "0",
                    "x": "pred_8",
                    "xref": "x",
                    "y": "true_5",
                    "yref": "y"
                  },
                  {
                    "font": {
                      "color": "#000000"
                    },
                    "showarrow": false,
                    "text": "0",
                    "x": "pred_9",
                    "xref": "x",
                    "y": "true_5",
                    "yref": "y"
                  },
                  {
                    "font": {
                      "color": "#000000"
                    },
                    "showarrow": false,
                    "text": "0",
                    "x": "pred_0",
                    "xref": "x",
                    "y": "true_4",
                    "yref": "y"
                  },
                  {
                    "font": {
                      "color": "#000000"
                    },
                    "showarrow": false,
                    "text": "0",
                    "x": "pred_1",
                    "xref": "x",
                    "y": "true_4",
                    "yref": "y"
                  },
                  {
                    "font": {
                      "color": "#000000"
                    },
                    "showarrow": false,
                    "text": "0",
                    "x": "pred_2",
                    "xref": "x",
                    "y": "true_4",
                    "yref": "y"
                  },
                  {
                    "font": {
                      "color": "#000000"
                    },
                    "showarrow": false,
                    "text": "0",
                    "x": "pred_3",
                    "xref": "x",
                    "y": "true_4",
                    "yref": "y"
                  },
                  {
                    "font": {
                      "color": "#FFFFFF"
                    },
                    "showarrow": false,
                    "text": "55",
                    "x": "pred_4",
                    "xref": "x",
                    "y": "true_4",
                    "yref": "y"
                  },
                  {
                    "font": {
                      "color": "#000000"
                    },
                    "showarrow": false,
                    "text": "0",
                    "x": "pred_5",
                    "xref": "x",
                    "y": "true_4",
                    "yref": "y"
                  },
                  {
                    "font": {
                      "color": "#000000"
                    },
                    "showarrow": false,
                    "text": "0",
                    "x": "pred_6",
                    "xref": "x",
                    "y": "true_4",
                    "yref": "y"
                  },
                  {
                    "font": {
                      "color": "#000000"
                    },
                    "showarrow": false,
                    "text": "0",
                    "x": "pred_7",
                    "xref": "x",
                    "y": "true_4",
                    "yref": "y"
                  },
                  {
                    "font": {
                      "color": "#000000"
                    },
                    "showarrow": false,
                    "text": "0",
                    "x": "pred_8",
                    "xref": "x",
                    "y": "true_4",
                    "yref": "y"
                  },
                  {
                    "font": {
                      "color": "#000000"
                    },
                    "showarrow": false,
                    "text": "0",
                    "x": "pred_9",
                    "xref": "x",
                    "y": "true_4",
                    "yref": "y"
                  },
                  {
                    "font": {
                      "color": "#000000"
                    },
                    "showarrow": false,
                    "text": "0",
                    "x": "pred_0",
                    "xref": "x",
                    "y": "true_3",
                    "yref": "y"
                  },
                  {
                    "font": {
                      "color": "#000000"
                    },
                    "showarrow": false,
                    "text": "0",
                    "x": "pred_1",
                    "xref": "x",
                    "y": "true_3",
                    "yref": "y"
                  },
                  {
                    "font": {
                      "color": "#000000"
                    },
                    "showarrow": false,
                    "text": "0",
                    "x": "pred_2",
                    "xref": "x",
                    "y": "true_3",
                    "yref": "y"
                  },
                  {
                    "font": {
                      "color": "#FFFFFF"
                    },
                    "showarrow": false,
                    "text": "44",
                    "x": "pred_3",
                    "xref": "x",
                    "y": "true_3",
                    "yref": "y"
                  },
                  {
                    "font": {
                      "color": "#000000"
                    },
                    "showarrow": false,
                    "text": "0",
                    "x": "pred_4",
                    "xref": "x",
                    "y": "true_3",
                    "yref": "y"
                  },
                  {
                    "font": {
                      "color": "#000000"
                    },
                    "showarrow": false,
                    "text": "1",
                    "x": "pred_5",
                    "xref": "x",
                    "y": "true_3",
                    "yref": "y"
                  },
                  {
                    "font": {
                      "color": "#000000"
                    },
                    "showarrow": false,
                    "text": "0",
                    "x": "pred_6",
                    "xref": "x",
                    "y": "true_3",
                    "yref": "y"
                  },
                  {
                    "font": {
                      "color": "#000000"
                    },
                    "showarrow": false,
                    "text": "0",
                    "x": "pred_7",
                    "xref": "x",
                    "y": "true_3",
                    "yref": "y"
                  },
                  {
                    "font": {
                      "color": "#000000"
                    },
                    "showarrow": false,
                    "text": "1",
                    "x": "pred_8",
                    "xref": "x",
                    "y": "true_3",
                    "yref": "y"
                  },
                  {
                    "font": {
                      "color": "#000000"
                    },
                    "showarrow": false,
                    "text": "0",
                    "x": "pred_9",
                    "xref": "x",
                    "y": "true_3",
                    "yref": "y"
                  },
                  {
                    "font": {
                      "color": "#000000"
                    },
                    "showarrow": false,
                    "text": "0",
                    "x": "pred_0",
                    "xref": "x",
                    "y": "true_2",
                    "yref": "y"
                  },
                  {
                    "font": {
                      "color": "#000000"
                    },
                    "showarrow": false,
                    "text": "0",
                    "x": "pred_1",
                    "xref": "x",
                    "y": "true_2",
                    "yref": "y"
                  },
                  {
                    "font": {
                      "color": "#FFFFFF"
                    },
                    "showarrow": false,
                    "text": "38",
                    "x": "pred_2",
                    "xref": "x",
                    "y": "true_2",
                    "yref": "y"
                  },
                  {
                    "font": {
                      "color": "#000000"
                    },
                    "showarrow": false,
                    "text": "0",
                    "x": "pred_3",
                    "xref": "x",
                    "y": "true_2",
                    "yref": "y"
                  },
                  {
                    "font": {
                      "color": "#000000"
                    },
                    "showarrow": false,
                    "text": "0",
                    "x": "pred_4",
                    "xref": "x",
                    "y": "true_2",
                    "yref": "y"
                  },
                  {
                    "font": {
                      "color": "#000000"
                    },
                    "showarrow": false,
                    "text": "0",
                    "x": "pred_5",
                    "xref": "x",
                    "y": "true_2",
                    "yref": "y"
                  },
                  {
                    "font": {
                      "color": "#000000"
                    },
                    "showarrow": false,
                    "text": "0",
                    "x": "pred_6",
                    "xref": "x",
                    "y": "true_2",
                    "yref": "y"
                  },
                  {
                    "font": {
                      "color": "#000000"
                    },
                    "showarrow": false,
                    "text": "0",
                    "x": "pred_7",
                    "xref": "x",
                    "y": "true_2",
                    "yref": "y"
                  },
                  {
                    "font": {
                      "color": "#000000"
                    },
                    "showarrow": false,
                    "text": "0",
                    "x": "pred_8",
                    "xref": "x",
                    "y": "true_2",
                    "yref": "y"
                  },
                  {
                    "font": {
                      "color": "#000000"
                    },
                    "showarrow": false,
                    "text": "0",
                    "x": "pred_9",
                    "xref": "x",
                    "y": "true_2",
                    "yref": "y"
                  },
                  {
                    "font": {
                      "color": "#000000"
                    },
                    "showarrow": false,
                    "text": "0",
                    "x": "pred_0",
                    "xref": "x",
                    "y": "true_1",
                    "yref": "y"
                  },
                  {
                    "font": {
                      "color": "#FFFFFF"
                    },
                    "showarrow": false,
                    "text": "37",
                    "x": "pred_1",
                    "xref": "x",
                    "y": "true_1",
                    "yref": "y"
                  },
                  {
                    "font": {
                      "color": "#000000"
                    },
                    "showarrow": false,
                    "text": "0",
                    "x": "pred_2",
                    "xref": "x",
                    "y": "true_1",
                    "yref": "y"
                  },
                  {
                    "font": {
                      "color": "#000000"
                    },
                    "showarrow": false,
                    "text": "0",
                    "x": "pred_3",
                    "xref": "x",
                    "y": "true_1",
                    "yref": "y"
                  },
                  {
                    "font": {
                      "color": "#000000"
                    },
                    "showarrow": false,
                    "text": "0",
                    "x": "pred_4",
                    "xref": "x",
                    "y": "true_1",
                    "yref": "y"
                  },
                  {
                    "font": {
                      "color": "#000000"
                    },
                    "showarrow": false,
                    "text": "0",
                    "x": "pred_5",
                    "xref": "x",
                    "y": "true_1",
                    "yref": "y"
                  },
                  {
                    "font": {
                      "color": "#000000"
                    },
                    "showarrow": false,
                    "text": "0",
                    "x": "pred_6",
                    "xref": "x",
                    "y": "true_1",
                    "yref": "y"
                  },
                  {
                    "font": {
                      "color": "#000000"
                    },
                    "showarrow": false,
                    "text": "0",
                    "x": "pred_7",
                    "xref": "x",
                    "y": "true_1",
                    "yref": "y"
                  },
                  {
                    "font": {
                      "color": "#000000"
                    },
                    "showarrow": false,
                    "text": "0",
                    "x": "pred_8",
                    "xref": "x",
                    "y": "true_1",
                    "yref": "y"
                  },
                  {
                    "font": {
                      "color": "#000000"
                    },
                    "showarrow": false,
                    "text": "0",
                    "x": "pred_9",
                    "xref": "x",
                    "y": "true_1",
                    "yref": "y"
                  },
                  {
                    "font": {
                      "color": "#FFFFFF"
                    },
                    "showarrow": false,
                    "text": "43",
                    "x": "pred_0",
                    "xref": "x",
                    "y": "true_0",
                    "yref": "y"
                  },
                  {
                    "font": {
                      "color": "#000000"
                    },
                    "showarrow": false,
                    "text": "0",
                    "x": "pred_1",
                    "xref": "x",
                    "y": "true_0",
                    "yref": "y"
                  },
                  {
                    "font": {
                      "color": "#000000"
                    },
                    "showarrow": false,
                    "text": "0",
                    "x": "pred_2",
                    "xref": "x",
                    "y": "true_0",
                    "yref": "y"
                  },
                  {
                    "font": {
                      "color": "#000000"
                    },
                    "showarrow": false,
                    "text": "0",
                    "x": "pred_3",
                    "xref": "x",
                    "y": "true_0",
                    "yref": "y"
                  },
                  {
                    "font": {
                      "color": "#000000"
                    },
                    "showarrow": false,
                    "text": "0",
                    "x": "pred_4",
                    "xref": "x",
                    "y": "true_0",
                    "yref": "y"
                  },
                  {
                    "font": {
                      "color": "#000000"
                    },
                    "showarrow": false,
                    "text": "0",
                    "x": "pred_5",
                    "xref": "x",
                    "y": "true_0",
                    "yref": "y"
                  },
                  {
                    "font": {
                      "color": "#000000"
                    },
                    "showarrow": false,
                    "text": "0",
                    "x": "pred_6",
                    "xref": "x",
                    "y": "true_0",
                    "yref": "y"
                  },
                  {
                    "font": {
                      "color": "#000000"
                    },
                    "showarrow": false,
                    "text": "0",
                    "x": "pred_7",
                    "xref": "x",
                    "y": "true_0",
                    "yref": "y"
                  },
                  {
                    "font": {
                      "color": "#000000"
                    },
                    "showarrow": false,
                    "text": "0",
                    "x": "pred_8",
                    "xref": "x",
                    "y": "true_0",
                    "yref": "y"
                  },
                  {
                    "font": {
                      "color": "#000000"
                    },
                    "showarrow": false,
                    "text": "0",
                    "x": "pred_9",
                    "xref": "x",
                    "y": "true_0",
                    "yref": "y"
                  }
                ],
                "font": {
                  "size": 16
                },
                "height": 500,
                "template": {
                  "data": {
                    "bar": [
                      {
                        "error_x": {
                          "color": "#2a3f5f"
                        },
                        "error_y": {
                          "color": "#2a3f5f"
                        },
                        "marker": {
                          "line": {
                            "color": "#E5ECF6",
                            "width": 0.5
                          }
                        },
                        "type": "bar"
                      }
                    ],
                    "barpolar": [
                      {
                        "marker": {
                          "line": {
                            "color": "#E5ECF6",
                            "width": 0.5
                          }
                        },
                        "type": "barpolar"
                      }
                    ],
                    "carpet": [
                      {
                        "aaxis": {
                          "endlinecolor": "#2a3f5f",
                          "gridcolor": "white",
                          "linecolor": "white",
                          "minorgridcolor": "white",
                          "startlinecolor": "#2a3f5f"
                        },
                        "baxis": {
                          "endlinecolor": "#2a3f5f",
                          "gridcolor": "white",
                          "linecolor": "white",
                          "minorgridcolor": "white",
                          "startlinecolor": "#2a3f5f"
                        },
                        "type": "carpet"
                      }
                    ],
                    "choropleth": [
                      {
                        "colorbar": {
                          "outlinewidth": 0,
                          "ticks": ""
                        },
                        "type": "choropleth"
                      }
                    ],
                    "contour": [
                      {
                        "colorbar": {
                          "outlinewidth": 0,
                          "ticks": ""
                        },
                        "colorscale": [
                          [
                            0,
                            "#0d0887"
                          ],
                          [
                            0.1111111111111111,
                            "#46039f"
                          ],
                          [
                            0.2222222222222222,
                            "#7201a8"
                          ],
                          [
                            0.3333333333333333,
                            "#9c179e"
                          ],
                          [
                            0.4444444444444444,
                            "#bd3786"
                          ],
                          [
                            0.5555555555555556,
                            "#d8576b"
                          ],
                          [
                            0.6666666666666666,
                            "#ed7953"
                          ],
                          [
                            0.7777777777777778,
                            "#fb9f3a"
                          ],
                          [
                            0.8888888888888888,
                            "#fdca26"
                          ],
                          [
                            1,
                            "#f0f921"
                          ]
                        ],
                        "type": "contour"
                      }
                    ],
                    "contourcarpet": [
                      {
                        "colorbar": {
                          "outlinewidth": 0,
                          "ticks": ""
                        },
                        "type": "contourcarpet"
                      }
                    ],
                    "heatmap": [
                      {
                        "colorbar": {
                          "outlinewidth": 0,
                          "ticks": ""
                        },
                        "colorscale": [
                          [
                            0,
                            "#0d0887"
                          ],
                          [
                            0.1111111111111111,
                            "#46039f"
                          ],
                          [
                            0.2222222222222222,
                            "#7201a8"
                          ],
                          [
                            0.3333333333333333,
                            "#9c179e"
                          ],
                          [
                            0.4444444444444444,
                            "#bd3786"
                          ],
                          [
                            0.5555555555555556,
                            "#d8576b"
                          ],
                          [
                            0.6666666666666666,
                            "#ed7953"
                          ],
                          [
                            0.7777777777777778,
                            "#fb9f3a"
                          ],
                          [
                            0.8888888888888888,
                            "#fdca26"
                          ],
                          [
                            1,
                            "#f0f921"
                          ]
                        ],
                        "type": "heatmap"
                      }
                    ],
                    "heatmapgl": [
                      {
                        "colorbar": {
                          "outlinewidth": 0,
                          "ticks": ""
                        },
                        "colorscale": [
                          [
                            0,
                            "#0d0887"
                          ],
                          [
                            0.1111111111111111,
                            "#46039f"
                          ],
                          [
                            0.2222222222222222,
                            "#7201a8"
                          ],
                          [
                            0.3333333333333333,
                            "#9c179e"
                          ],
                          [
                            0.4444444444444444,
                            "#bd3786"
                          ],
                          [
                            0.5555555555555556,
                            "#d8576b"
                          ],
                          [
                            0.6666666666666666,
                            "#ed7953"
                          ],
                          [
                            0.7777777777777778,
                            "#fb9f3a"
                          ],
                          [
                            0.8888888888888888,
                            "#fdca26"
                          ],
                          [
                            1,
                            "#f0f921"
                          ]
                        ],
                        "type": "heatmapgl"
                      }
                    ],
                    "histogram": [
                      {
                        "marker": {
                          "colorbar": {
                            "outlinewidth": 0,
                            "ticks": ""
                          }
                        },
                        "type": "histogram"
                      }
                    ],
                    "histogram2d": [
                      {
                        "colorbar": {
                          "outlinewidth": 0,
                          "ticks": ""
                        },
                        "colorscale": [
                          [
                            0,
                            "#0d0887"
                          ],
                          [
                            0.1111111111111111,
                            "#46039f"
                          ],
                          [
                            0.2222222222222222,
                            "#7201a8"
                          ],
                          [
                            0.3333333333333333,
                            "#9c179e"
                          ],
                          [
                            0.4444444444444444,
                            "#bd3786"
                          ],
                          [
                            0.5555555555555556,
                            "#d8576b"
                          ],
                          [
                            0.6666666666666666,
                            "#ed7953"
                          ],
                          [
                            0.7777777777777778,
                            "#fb9f3a"
                          ],
                          [
                            0.8888888888888888,
                            "#fdca26"
                          ],
                          [
                            1,
                            "#f0f921"
                          ]
                        ],
                        "type": "histogram2d"
                      }
                    ],
                    "histogram2dcontour": [
                      {
                        "colorbar": {
                          "outlinewidth": 0,
                          "ticks": ""
                        },
                        "colorscale": [
                          [
                            0,
                            "#0d0887"
                          ],
                          [
                            0.1111111111111111,
                            "#46039f"
                          ],
                          [
                            0.2222222222222222,
                            "#7201a8"
                          ],
                          [
                            0.3333333333333333,
                            "#9c179e"
                          ],
                          [
                            0.4444444444444444,
                            "#bd3786"
                          ],
                          [
                            0.5555555555555556,
                            "#d8576b"
                          ],
                          [
                            0.6666666666666666,
                            "#ed7953"
                          ],
                          [
                            0.7777777777777778,
                            "#fb9f3a"
                          ],
                          [
                            0.8888888888888888,
                            "#fdca26"
                          ],
                          [
                            1,
                            "#f0f921"
                          ]
                        ],
                        "type": "histogram2dcontour"
                      }
                    ],
                    "mesh3d": [
                      {
                        "colorbar": {
                          "outlinewidth": 0,
                          "ticks": ""
                        },
                        "type": "mesh3d"
                      }
                    ],
                    "parcoords": [
                      {
                        "line": {
                          "colorbar": {
                            "outlinewidth": 0,
                            "ticks": ""
                          }
                        },
                        "type": "parcoords"
                      }
                    ],
                    "pie": [
                      {
                        "automargin": true,
                        "type": "pie"
                      }
                    ],
                    "scatter": [
                      {
                        "marker": {
                          "colorbar": {
                            "outlinewidth": 0,
                            "ticks": ""
                          }
                        },
                        "type": "scatter"
                      }
                    ],
                    "scatter3d": [
                      {
                        "line": {
                          "colorbar": {
                            "outlinewidth": 0,
                            "ticks": ""
                          }
                        },
                        "marker": {
                          "colorbar": {
                            "outlinewidth": 0,
                            "ticks": ""
                          }
                        },
                        "type": "scatter3d"
                      }
                    ],
                    "scattercarpet": [
                      {
                        "marker": {
                          "colorbar": {
                            "outlinewidth": 0,
                            "ticks": ""
                          }
                        },
                        "type": "scattercarpet"
                      }
                    ],
                    "scattergeo": [
                      {
                        "marker": {
                          "colorbar": {
                            "outlinewidth": 0,
                            "ticks": ""
                          }
                        },
                        "type": "scattergeo"
                      }
                    ],
                    "scattergl": [
                      {
                        "marker": {
                          "colorbar": {
                            "outlinewidth": 0,
                            "ticks": ""
                          }
                        },
                        "type": "scattergl"
                      }
                    ],
                    "scattermapbox": [
                      {
                        "marker": {
                          "colorbar": {
                            "outlinewidth": 0,
                            "ticks": ""
                          }
                        },
                        "type": "scattermapbox"
                      }
                    ],
                    "scatterpolar": [
                      {
                        "marker": {
                          "colorbar": {
                            "outlinewidth": 0,
                            "ticks": ""
                          }
                        },
                        "type": "scatterpolar"
                      }
                    ],
                    "scatterpolargl": [
                      {
                        "marker": {
                          "colorbar": {
                            "outlinewidth": 0,
                            "ticks": ""
                          }
                        },
                        "type": "scatterpolargl"
                      }
                    ],
                    "scatterternary": [
                      {
                        "marker": {
                          "colorbar": {
                            "outlinewidth": 0,
                            "ticks": ""
                          }
                        },
                        "type": "scatterternary"
                      }
                    ],
                    "surface": [
                      {
                        "colorbar": {
                          "outlinewidth": 0,
                          "ticks": ""
                        },
                        "colorscale": [
                          [
                            0,
                            "#0d0887"
                          ],
                          [
                            0.1111111111111111,
                            "#46039f"
                          ],
                          [
                            0.2222222222222222,
                            "#7201a8"
                          ],
                          [
                            0.3333333333333333,
                            "#9c179e"
                          ],
                          [
                            0.4444444444444444,
                            "#bd3786"
                          ],
                          [
                            0.5555555555555556,
                            "#d8576b"
                          ],
                          [
                            0.6666666666666666,
                            "#ed7953"
                          ],
                          [
                            0.7777777777777778,
                            "#fb9f3a"
                          ],
                          [
                            0.8888888888888888,
                            "#fdca26"
                          ],
                          [
                            1,
                            "#f0f921"
                          ]
                        ],
                        "type": "surface"
                      }
                    ],
                    "table": [
                      {
                        "cells": {
                          "fill": {
                            "color": "#EBF0F8"
                          },
                          "line": {
                            "color": "white"
                          }
                        },
                        "header": {
                          "fill": {
                            "color": "#C8D4E3"
                          },
                          "line": {
                            "color": "white"
                          }
                        },
                        "type": "table"
                      }
                    ]
                  },
                  "layout": {
                    "annotationdefaults": {
                      "arrowcolor": "#2a3f5f",
                      "arrowhead": 0,
                      "arrowwidth": 1
                    },
                    "coloraxis": {
                      "colorbar": {
                        "outlinewidth": 0,
                        "ticks": ""
                      }
                    },
                    "colorscale": {
                      "diverging": [
                        [
                          0,
                          "#8e0152"
                        ],
                        [
                          0.1,
                          "#c51b7d"
                        ],
                        [
                          0.2,
                          "#de77ae"
                        ],
                        [
                          0.3,
                          "#f1b6da"
                        ],
                        [
                          0.4,
                          "#fde0ef"
                        ],
                        [
                          0.5,
                          "#f7f7f7"
                        ],
                        [
                          0.6,
                          "#e6f5d0"
                        ],
                        [
                          0.7,
                          "#b8e186"
                        ],
                        [
                          0.8,
                          "#7fbc41"
                        ],
                        [
                          0.9,
                          "#4d9221"
                        ],
                        [
                          1,
                          "#276419"
                        ]
                      ],
                      "sequential": [
                        [
                          0,
                          "#0d0887"
                        ],
                        [
                          0.1111111111111111,
                          "#46039f"
                        ],
                        [
                          0.2222222222222222,
                          "#7201a8"
                        ],
                        [
                          0.3333333333333333,
                          "#9c179e"
                        ],
                        [
                          0.4444444444444444,
                          "#bd3786"
                        ],
                        [
                          0.5555555555555556,
                          "#d8576b"
                        ],
                        [
                          0.6666666666666666,
                          "#ed7953"
                        ],
                        [
                          0.7777777777777778,
                          "#fb9f3a"
                        ],
                        [
                          0.8888888888888888,
                          "#fdca26"
                        ],
                        [
                          1,
                          "#f0f921"
                        ]
                      ],
                      "sequentialminus": [
                        [
                          0,
                          "#0d0887"
                        ],
                        [
                          0.1111111111111111,
                          "#46039f"
                        ],
                        [
                          0.2222222222222222,
                          "#7201a8"
                        ],
                        [
                          0.3333333333333333,
                          "#9c179e"
                        ],
                        [
                          0.4444444444444444,
                          "#bd3786"
                        ],
                        [
                          0.5555555555555556,
                          "#d8576b"
                        ],
                        [
                          0.6666666666666666,
                          "#ed7953"
                        ],
                        [
                          0.7777777777777778,
                          "#fb9f3a"
                        ],
                        [
                          0.8888888888888888,
                          "#fdca26"
                        ],
                        [
                          1,
                          "#f0f921"
                        ]
                      ]
                    },
                    "colorway": [
                      "#636efa",
                      "#EF553B",
                      "#00cc96",
                      "#ab63fa",
                      "#FFA15A",
                      "#19d3f3",
                      "#FF6692",
                      "#B6E880",
                      "#FF97FF",
                      "#FECB52"
                    ],
                    "font": {
                      "color": "#2a3f5f"
                    },
                    "geo": {
                      "bgcolor": "white",
                      "lakecolor": "white",
                      "landcolor": "#E5ECF6",
                      "showlakes": true,
                      "showland": true,
                      "subunitcolor": "white"
                    },
                    "hoverlabel": {
                      "align": "left"
                    },
                    "hovermode": "closest",
                    "mapbox": {
                      "style": "light"
                    },
                    "paper_bgcolor": "white",
                    "plot_bgcolor": "#E5ECF6",
                    "polar": {
                      "angularaxis": {
                        "gridcolor": "white",
                        "linecolor": "white",
                        "ticks": ""
                      },
                      "bgcolor": "#E5ECF6",
                      "radialaxis": {
                        "gridcolor": "white",
                        "linecolor": "white",
                        "ticks": ""
                      }
                    },
                    "scene": {
                      "xaxis": {
                        "backgroundcolor": "#E5ECF6",
                        "gridcolor": "white",
                        "gridwidth": 2,
                        "linecolor": "white",
                        "showbackground": true,
                        "ticks": "",
                        "zerolinecolor": "white"
                      },
                      "yaxis": {
                        "backgroundcolor": "#E5ECF6",
                        "gridcolor": "white",
                        "gridwidth": 2,
                        "linecolor": "white",
                        "showbackground": true,
                        "ticks": "",
                        "zerolinecolor": "white"
                      },
                      "zaxis": {
                        "backgroundcolor": "#E5ECF6",
                        "gridcolor": "white",
                        "gridwidth": 2,
                        "linecolor": "white",
                        "showbackground": true,
                        "ticks": "",
                        "zerolinecolor": "white"
                      }
                    },
                    "shapedefaults": {
                      "line": {
                        "color": "#2a3f5f"
                      }
                    },
                    "ternary": {
                      "aaxis": {
                        "gridcolor": "white",
                        "linecolor": "white",
                        "ticks": ""
                      },
                      "baxis": {
                        "gridcolor": "white",
                        "linecolor": "white",
                        "ticks": ""
                      },
                      "bgcolor": "#E5ECF6",
                      "caxis": {
                        "gridcolor": "white",
                        "linecolor": "white",
                        "ticks": ""
                      }
                    },
                    "title": {
                      "x": 0.05
                    },
                    "xaxis": {
                      "automargin": true,
                      "gridcolor": "white",
                      "linecolor": "white",
                      "ticks": "",
                      "title": {
                        "standoff": 15
                      },
                      "zerolinecolor": "white",
                      "zerolinewidth": 2
                    },
                    "yaxis": {
                      "automargin": true,
                      "gridcolor": "white",
                      "linecolor": "white",
                      "ticks": "",
                      "title": {
                        "standoff": 15
                      },
                      "zerolinecolor": "white",
                      "zerolinewidth": 2
                    }
                  }
                },
                "title": {
                  "text": "Confusion Matrix"
                },
                "width": 700,
                "xaxis": {
                  "dtick": 1,
                  "gridcolor": "rgb(0, 0, 0)",
                  "side": "top",
                  "ticks": ""
                },
                "yaxis": {
                  "dtick": 1,
                  "ticks": "",
                  "ticksuffix": "  "
                }
              }
            },
            "text/html": [
              "<div>\n",
              "        \n",
              "        \n",
              "            <div id=\"f94d31bb-9b9b-4467-a314-07ab4f993b2a\" class=\"plotly-graph-div\" style=\"height:500px; width:700px;\"></div>\n",
              "            <script type=\"text/javascript\">\n",
              "                require([\"plotly\"], function(Plotly) {\n",
              "                    window.PLOTLYENV=window.PLOTLYENV || {};\n",
              "                    \n",
              "                if (document.getElementById(\"f94d31bb-9b9b-4467-a314-07ab4f993b2a\")) {\n",
              "                    Plotly.newPlot(\n",
              "                        'f94d31bb-9b9b-4467-a314-07ab4f993b2a',\n",
              "                        [{\"colorscale\": [[0.0, \"rgb(3, 5, 18)\"], [0.09090909090909091, \"rgb(25, 25, 51)\"], [0.18181818181818182, \"rgb(44, 42, 87)\"], [0.2727272727272727, \"rgb(58, 60, 125)\"], [0.36363636363636365, \"rgb(62, 83, 160)\"], [0.45454545454545453, \"rgb(62, 109, 178)\"], [0.5454545454545454, \"rgb(72, 134, 187)\"], [0.6363636363636364, \"rgb(89, 159, 196)\"], [0.7272727272727273, \"rgb(114, 184, 205)\"], [0.8181818181818182, \"rgb(149, 207, 216)\"], [0.9090909090909091, \"rgb(192, 229, 232)\"], [1.0, \"rgb(234, 252, 253)\"]], \"reversescale\": true, \"showscale\": true, \"type\": \"heatmap\", \"x\": [\"pred_0\", \"pred_1\", \"pred_2\", \"pred_3\", \"pred_4\", \"pred_5\", \"pred_6\", \"pred_7\", \"pred_8\", \"pred_9\"], \"y\": [\"true_9\", \"true_8\", \"true_7\", \"true_6\", \"true_5\", \"true_4\", \"true_3\", \"true_2\", \"true_1\", \"true_0\"], \"z\": [[0, 0, 0, 0, 0, 1, 0, 1, 0, 46], [0, 0, 0, 0, 0, 0, 0, 0, 38, 0], [0, 0, 0, 0, 0, 0, 0, 40, 0, 1], [0, 0, 0, 0, 0, 0, 45, 0, 0, 0], [0, 0, 0, 0, 0, 59, 0, 0, 0, 0], [0, 0, 0, 0, 55, 0, 0, 0, 0, 0], [0, 0, 0, 44, 0, 1, 0, 0, 1, 0], [0, 0, 38, 0, 0, 0, 0, 0, 0, 0], [0, 37, 0, 0, 0, 0, 0, 0, 0, 0], [43, 0, 0, 0, 0, 0, 0, 0, 0, 0]]}],\n",
              "                        {\"annotations\": [{\"font\": {\"color\": \"#000000\"}, \"showarrow\": false, \"text\": \"0\", \"x\": \"pred_0\", \"xref\": \"x\", \"y\": \"true_9\", \"yref\": \"y\"}, {\"font\": {\"color\": \"#000000\"}, \"showarrow\": false, \"text\": \"0\", \"x\": \"pred_1\", \"xref\": \"x\", \"y\": \"true_9\", \"yref\": \"y\"}, {\"font\": {\"color\": \"#000000\"}, \"showarrow\": false, \"text\": \"0\", \"x\": \"pred_2\", \"xref\": \"x\", \"y\": \"true_9\", \"yref\": \"y\"}, {\"font\": {\"color\": \"#000000\"}, \"showarrow\": false, \"text\": \"0\", \"x\": \"pred_3\", \"xref\": \"x\", \"y\": \"true_9\", \"yref\": \"y\"}, {\"font\": {\"color\": \"#000000\"}, \"showarrow\": false, \"text\": \"0\", \"x\": \"pred_4\", \"xref\": \"x\", \"y\": \"true_9\", \"yref\": \"y\"}, {\"font\": {\"color\": \"#000000\"}, \"showarrow\": false, \"text\": \"1\", \"x\": \"pred_5\", \"xref\": \"x\", \"y\": \"true_9\", \"yref\": \"y\"}, {\"font\": {\"color\": \"#000000\"}, \"showarrow\": false, \"text\": \"0\", \"x\": \"pred_6\", \"xref\": \"x\", \"y\": \"true_9\", \"yref\": \"y\"}, {\"font\": {\"color\": \"#000000\"}, \"showarrow\": false, \"text\": \"1\", \"x\": \"pred_7\", \"xref\": \"x\", \"y\": \"true_9\", \"yref\": \"y\"}, {\"font\": {\"color\": \"#000000\"}, \"showarrow\": false, \"text\": \"0\", \"x\": \"pred_8\", \"xref\": \"x\", \"y\": \"true_9\", \"yref\": \"y\"}, {\"font\": {\"color\": \"#FFFFFF\"}, \"showarrow\": false, \"text\": \"46\", \"x\": \"pred_9\", \"xref\": \"x\", \"y\": \"true_9\", \"yref\": \"y\"}, {\"font\": {\"color\": \"#000000\"}, \"showarrow\": false, \"text\": \"0\", \"x\": \"pred_0\", \"xref\": \"x\", \"y\": \"true_8\", \"yref\": \"y\"}, {\"font\": {\"color\": \"#000000\"}, \"showarrow\": false, \"text\": \"0\", \"x\": \"pred_1\", \"xref\": \"x\", \"y\": \"true_8\", \"yref\": \"y\"}, {\"font\": {\"color\": \"#000000\"}, \"showarrow\": false, \"text\": \"0\", \"x\": \"pred_2\", \"xref\": \"x\", \"y\": \"true_8\", \"yref\": \"y\"}, {\"font\": {\"color\": \"#000000\"}, \"showarrow\": false, \"text\": \"0\", \"x\": \"pred_3\", \"xref\": \"x\", \"y\": \"true_8\", \"yref\": \"y\"}, {\"font\": {\"color\": \"#000000\"}, \"showarrow\": false, \"text\": \"0\", \"x\": \"pred_4\", \"xref\": \"x\", \"y\": \"true_8\", \"yref\": \"y\"}, {\"font\": {\"color\": \"#000000\"}, \"showarrow\": false, \"text\": \"0\", \"x\": \"pred_5\", \"xref\": \"x\", \"y\": \"true_8\", \"yref\": \"y\"}, {\"font\": {\"color\": \"#000000\"}, \"showarrow\": false, \"text\": \"0\", \"x\": \"pred_6\", \"xref\": \"x\", \"y\": \"true_8\", \"yref\": \"y\"}, {\"font\": {\"color\": \"#000000\"}, \"showarrow\": false, \"text\": \"0\", \"x\": \"pred_7\", \"xref\": \"x\", \"y\": \"true_8\", \"yref\": \"y\"}, {\"font\": {\"color\": \"#FFFFFF\"}, \"showarrow\": false, \"text\": \"38\", \"x\": \"pred_8\", \"xref\": \"x\", \"y\": \"true_8\", \"yref\": \"y\"}, {\"font\": {\"color\": \"#000000\"}, \"showarrow\": false, \"text\": \"0\", \"x\": \"pred_9\", \"xref\": \"x\", \"y\": \"true_8\", \"yref\": \"y\"}, {\"font\": {\"color\": \"#000000\"}, \"showarrow\": false, \"text\": \"0\", \"x\": \"pred_0\", \"xref\": \"x\", \"y\": \"true_7\", \"yref\": \"y\"}, {\"font\": {\"color\": \"#000000\"}, \"showarrow\": false, \"text\": \"0\", \"x\": \"pred_1\", \"xref\": \"x\", \"y\": \"true_7\", \"yref\": \"y\"}, {\"font\": {\"color\": \"#000000\"}, \"showarrow\": false, \"text\": \"0\", \"x\": \"pred_2\", \"xref\": \"x\", \"y\": \"true_7\", \"yref\": \"y\"}, {\"font\": {\"color\": \"#000000\"}, \"showarrow\": false, \"text\": \"0\", \"x\": \"pred_3\", \"xref\": \"x\", \"y\": \"true_7\", \"yref\": \"y\"}, {\"font\": {\"color\": \"#000000\"}, \"showarrow\": false, \"text\": \"0\", \"x\": \"pred_4\", \"xref\": \"x\", \"y\": \"true_7\", \"yref\": \"y\"}, {\"font\": {\"color\": \"#000000\"}, \"showarrow\": false, \"text\": \"0\", \"x\": \"pred_5\", \"xref\": \"x\", \"y\": \"true_7\", \"yref\": \"y\"}, {\"font\": {\"color\": \"#000000\"}, \"showarrow\": false, \"text\": \"0\", \"x\": \"pred_6\", \"xref\": \"x\", \"y\": \"true_7\", \"yref\": \"y\"}, {\"font\": {\"color\": \"#FFFFFF\"}, \"showarrow\": false, \"text\": \"40\", \"x\": \"pred_7\", \"xref\": \"x\", \"y\": \"true_7\", \"yref\": \"y\"}, {\"font\": {\"color\": \"#000000\"}, \"showarrow\": false, \"text\": \"0\", \"x\": \"pred_8\", \"xref\": \"x\", \"y\": \"true_7\", \"yref\": \"y\"}, {\"font\": {\"color\": \"#000000\"}, \"showarrow\": false, \"text\": \"1\", \"x\": \"pred_9\", \"xref\": \"x\", \"y\": \"true_7\", \"yref\": \"y\"}, {\"font\": {\"color\": \"#000000\"}, \"showarrow\": false, \"text\": \"0\", \"x\": \"pred_0\", \"xref\": \"x\", \"y\": \"true_6\", \"yref\": \"y\"}, {\"font\": {\"color\": \"#000000\"}, \"showarrow\": false, \"text\": \"0\", \"x\": \"pred_1\", \"xref\": \"x\", \"y\": \"true_6\", \"yref\": \"y\"}, {\"font\": {\"color\": \"#000000\"}, \"showarrow\": false, \"text\": \"0\", \"x\": \"pred_2\", \"xref\": \"x\", \"y\": \"true_6\", \"yref\": \"y\"}, {\"font\": {\"color\": \"#000000\"}, \"showarrow\": false, \"text\": \"0\", \"x\": \"pred_3\", \"xref\": \"x\", \"y\": \"true_6\", \"yref\": \"y\"}, {\"font\": {\"color\": \"#000000\"}, \"showarrow\": false, \"text\": \"0\", \"x\": \"pred_4\", \"xref\": \"x\", \"y\": \"true_6\", \"yref\": \"y\"}, {\"font\": {\"color\": \"#000000\"}, \"showarrow\": false, \"text\": \"0\", \"x\": \"pred_5\", \"xref\": \"x\", \"y\": \"true_6\", \"yref\": \"y\"}, {\"font\": {\"color\": \"#FFFFFF\"}, \"showarrow\": false, \"text\": \"45\", \"x\": \"pred_6\", \"xref\": \"x\", \"y\": \"true_6\", \"yref\": \"y\"}, {\"font\": {\"color\": \"#000000\"}, \"showarrow\": false, \"text\": \"0\", \"x\": \"pred_7\", \"xref\": \"x\", \"y\": \"true_6\", \"yref\": \"y\"}, {\"font\": {\"color\": \"#000000\"}, \"showarrow\": false, \"text\": \"0\", \"x\": \"pred_8\", \"xref\": \"x\", \"y\": \"true_6\", \"yref\": \"y\"}, {\"font\": {\"color\": \"#000000\"}, \"showarrow\": false, \"text\": \"0\", \"x\": \"pred_9\", \"xref\": \"x\", \"y\": \"true_6\", \"yref\": \"y\"}, {\"font\": {\"color\": \"#000000\"}, \"showarrow\": false, \"text\": \"0\", \"x\": \"pred_0\", \"xref\": \"x\", \"y\": \"true_5\", \"yref\": \"y\"}, {\"font\": {\"color\": \"#000000\"}, \"showarrow\": false, \"text\": \"0\", \"x\": \"pred_1\", \"xref\": \"x\", \"y\": \"true_5\", \"yref\": \"y\"}, {\"font\": {\"color\": \"#000000\"}, \"showarrow\": false, \"text\": \"0\", \"x\": \"pred_2\", \"xref\": \"x\", \"y\": \"true_5\", \"yref\": \"y\"}, {\"font\": {\"color\": \"#000000\"}, \"showarrow\": false, \"text\": \"0\", \"x\": \"pred_3\", \"xref\": \"x\", \"y\": \"true_5\", \"yref\": \"y\"}, {\"font\": {\"color\": \"#000000\"}, \"showarrow\": false, \"text\": \"0\", \"x\": \"pred_4\", \"xref\": \"x\", \"y\": \"true_5\", \"yref\": \"y\"}, {\"font\": {\"color\": \"#FFFFFF\"}, \"showarrow\": false, \"text\": \"59\", \"x\": \"pred_5\", \"xref\": \"x\", \"y\": \"true_5\", \"yref\": \"y\"}, {\"font\": {\"color\": \"#000000\"}, \"showarrow\": false, \"text\": \"0\", \"x\": \"pred_6\", \"xref\": \"x\", \"y\": \"true_5\", \"yref\": \"y\"}, {\"font\": {\"color\": \"#000000\"}, \"showarrow\": false, \"text\": \"0\", \"x\": \"pred_7\", \"xref\": \"x\", \"y\": \"true_5\", \"yref\": \"y\"}, {\"font\": {\"color\": \"#000000\"}, \"showarrow\": false, \"text\": \"0\", \"x\": \"pred_8\", \"xref\": \"x\", \"y\": \"true_5\", \"yref\": \"y\"}, {\"font\": {\"color\": \"#000000\"}, \"showarrow\": false, \"text\": \"0\", \"x\": \"pred_9\", \"xref\": \"x\", \"y\": \"true_5\", \"yref\": \"y\"}, {\"font\": {\"color\": \"#000000\"}, \"showarrow\": false, \"text\": \"0\", \"x\": \"pred_0\", \"xref\": \"x\", \"y\": \"true_4\", \"yref\": \"y\"}, {\"font\": {\"color\": \"#000000\"}, \"showarrow\": false, \"text\": \"0\", \"x\": \"pred_1\", \"xref\": \"x\", \"y\": \"true_4\", \"yref\": \"y\"}, {\"font\": {\"color\": \"#000000\"}, \"showarrow\": false, \"text\": \"0\", \"x\": \"pred_2\", \"xref\": \"x\", \"y\": \"true_4\", \"yref\": \"y\"}, {\"font\": {\"color\": \"#000000\"}, \"showarrow\": false, \"text\": \"0\", \"x\": \"pred_3\", \"xref\": \"x\", \"y\": \"true_4\", \"yref\": \"y\"}, {\"font\": {\"color\": \"#FFFFFF\"}, \"showarrow\": false, \"text\": \"55\", \"x\": \"pred_4\", \"xref\": \"x\", \"y\": \"true_4\", \"yref\": \"y\"}, {\"font\": {\"color\": \"#000000\"}, \"showarrow\": false, \"text\": \"0\", \"x\": \"pred_5\", \"xref\": \"x\", \"y\": \"true_4\", \"yref\": \"y\"}, {\"font\": {\"color\": \"#000000\"}, \"showarrow\": false, \"text\": \"0\", \"x\": \"pred_6\", \"xref\": \"x\", \"y\": \"true_4\", \"yref\": \"y\"}, {\"font\": {\"color\": \"#000000\"}, \"showarrow\": false, \"text\": \"0\", \"x\": \"pred_7\", \"xref\": \"x\", \"y\": \"true_4\", \"yref\": \"y\"}, {\"font\": {\"color\": \"#000000\"}, \"showarrow\": false, \"text\": \"0\", \"x\": \"pred_8\", \"xref\": \"x\", \"y\": \"true_4\", \"yref\": \"y\"}, {\"font\": {\"color\": \"#000000\"}, \"showarrow\": false, \"text\": \"0\", \"x\": \"pred_9\", \"xref\": \"x\", \"y\": \"true_4\", \"yref\": \"y\"}, {\"font\": {\"color\": \"#000000\"}, \"showarrow\": false, \"text\": \"0\", \"x\": \"pred_0\", \"xref\": \"x\", \"y\": \"true_3\", \"yref\": \"y\"}, {\"font\": {\"color\": \"#000000\"}, \"showarrow\": false, \"text\": \"0\", \"x\": \"pred_1\", \"xref\": \"x\", \"y\": \"true_3\", \"yref\": \"y\"}, {\"font\": {\"color\": \"#000000\"}, \"showarrow\": false, \"text\": \"0\", \"x\": \"pred_2\", \"xref\": \"x\", \"y\": \"true_3\", \"yref\": \"y\"}, {\"font\": {\"color\": \"#FFFFFF\"}, \"showarrow\": false, \"text\": \"44\", \"x\": \"pred_3\", \"xref\": \"x\", \"y\": \"true_3\", \"yref\": \"y\"}, {\"font\": {\"color\": \"#000000\"}, \"showarrow\": false, \"text\": \"0\", \"x\": \"pred_4\", \"xref\": \"x\", \"y\": \"true_3\", \"yref\": \"y\"}, {\"font\": {\"color\": \"#000000\"}, \"showarrow\": false, \"text\": \"1\", \"x\": \"pred_5\", \"xref\": \"x\", \"y\": \"true_3\", \"yref\": \"y\"}, {\"font\": {\"color\": \"#000000\"}, \"showarrow\": false, \"text\": \"0\", \"x\": \"pred_6\", \"xref\": \"x\", \"y\": \"true_3\", \"yref\": \"y\"}, {\"font\": {\"color\": \"#000000\"}, \"showarrow\": false, \"text\": \"0\", \"x\": \"pred_7\", \"xref\": \"x\", \"y\": \"true_3\", \"yref\": \"y\"}, {\"font\": {\"color\": \"#000000\"}, \"showarrow\": false, \"text\": \"1\", \"x\": \"pred_8\", \"xref\": \"x\", \"y\": \"true_3\", \"yref\": \"y\"}, {\"font\": {\"color\": \"#000000\"}, \"showarrow\": false, \"text\": \"0\", \"x\": \"pred_9\", \"xref\": \"x\", \"y\": \"true_3\", \"yref\": \"y\"}, {\"font\": {\"color\": \"#000000\"}, \"showarrow\": false, \"text\": \"0\", \"x\": \"pred_0\", \"xref\": \"x\", \"y\": \"true_2\", \"yref\": \"y\"}, {\"font\": {\"color\": \"#000000\"}, \"showarrow\": false, \"text\": \"0\", \"x\": \"pred_1\", \"xref\": \"x\", \"y\": \"true_2\", \"yref\": \"y\"}, {\"font\": {\"color\": \"#FFFFFF\"}, \"showarrow\": false, \"text\": \"38\", \"x\": \"pred_2\", \"xref\": \"x\", \"y\": \"true_2\", \"yref\": \"y\"}, {\"font\": {\"color\": \"#000000\"}, \"showarrow\": false, \"text\": \"0\", \"x\": \"pred_3\", \"xref\": \"x\", \"y\": \"true_2\", \"yref\": \"y\"}, {\"font\": {\"color\": \"#000000\"}, \"showarrow\": false, \"text\": \"0\", \"x\": \"pred_4\", \"xref\": \"x\", \"y\": \"true_2\", \"yref\": \"y\"}, {\"font\": {\"color\": \"#000000\"}, \"showarrow\": false, \"text\": \"0\", \"x\": \"pred_5\", \"xref\": \"x\", \"y\": \"true_2\", \"yref\": \"y\"}, {\"font\": {\"color\": \"#000000\"}, \"showarrow\": false, \"text\": \"0\", \"x\": \"pred_6\", \"xref\": \"x\", \"y\": \"true_2\", \"yref\": \"y\"}, {\"font\": {\"color\": \"#000000\"}, \"showarrow\": false, \"text\": \"0\", \"x\": \"pred_7\", \"xref\": \"x\", \"y\": \"true_2\", \"yref\": \"y\"}, {\"font\": {\"color\": \"#000000\"}, \"showarrow\": false, \"text\": \"0\", \"x\": \"pred_8\", \"xref\": \"x\", \"y\": \"true_2\", \"yref\": \"y\"}, {\"font\": {\"color\": \"#000000\"}, \"showarrow\": false, \"text\": \"0\", \"x\": \"pred_9\", \"xref\": \"x\", \"y\": \"true_2\", \"yref\": \"y\"}, {\"font\": {\"color\": \"#000000\"}, \"showarrow\": false, \"text\": \"0\", \"x\": \"pred_0\", \"xref\": \"x\", \"y\": \"true_1\", \"yref\": \"y\"}, {\"font\": {\"color\": \"#FFFFFF\"}, \"showarrow\": false, \"text\": \"37\", \"x\": \"pred_1\", \"xref\": \"x\", \"y\": \"true_1\", \"yref\": \"y\"}, {\"font\": {\"color\": \"#000000\"}, \"showarrow\": false, \"text\": \"0\", \"x\": \"pred_2\", \"xref\": \"x\", \"y\": \"true_1\", \"yref\": \"y\"}, {\"font\": {\"color\": \"#000000\"}, \"showarrow\": false, \"text\": \"0\", \"x\": \"pred_3\", \"xref\": \"x\", \"y\": \"true_1\", \"yref\": \"y\"}, {\"font\": {\"color\": \"#000000\"}, \"showarrow\": false, \"text\": \"0\", \"x\": \"pred_4\", \"xref\": \"x\", \"y\": \"true_1\", \"yref\": \"y\"}, {\"font\": {\"color\": \"#000000\"}, \"showarrow\": false, \"text\": \"0\", \"x\": \"pred_5\", \"xref\": \"x\", \"y\": \"true_1\", \"yref\": \"y\"}, {\"font\": {\"color\": \"#000000\"}, \"showarrow\": false, \"text\": \"0\", \"x\": \"pred_6\", \"xref\": \"x\", \"y\": \"true_1\", \"yref\": \"y\"}, {\"font\": {\"color\": \"#000000\"}, \"showarrow\": false, \"text\": \"0\", \"x\": \"pred_7\", \"xref\": \"x\", \"y\": \"true_1\", \"yref\": \"y\"}, {\"font\": {\"color\": \"#000000\"}, \"showarrow\": false, \"text\": \"0\", \"x\": \"pred_8\", \"xref\": \"x\", \"y\": \"true_1\", \"yref\": \"y\"}, {\"font\": {\"color\": \"#000000\"}, \"showarrow\": false, \"text\": \"0\", \"x\": \"pred_9\", \"xref\": \"x\", \"y\": \"true_1\", \"yref\": \"y\"}, {\"font\": {\"color\": \"#FFFFFF\"}, \"showarrow\": false, \"text\": \"43\", \"x\": \"pred_0\", \"xref\": \"x\", \"y\": \"true_0\", \"yref\": \"y\"}, {\"font\": {\"color\": \"#000000\"}, \"showarrow\": false, \"text\": \"0\", \"x\": \"pred_1\", \"xref\": \"x\", \"y\": \"true_0\", \"yref\": \"y\"}, {\"font\": {\"color\": \"#000000\"}, \"showarrow\": false, \"text\": \"0\", \"x\": \"pred_2\", \"xref\": \"x\", \"y\": \"true_0\", \"yref\": \"y\"}, {\"font\": {\"color\": \"#000000\"}, \"showarrow\": false, \"text\": \"0\", \"x\": \"pred_3\", \"xref\": \"x\", \"y\": \"true_0\", \"yref\": \"y\"}, {\"font\": {\"color\": \"#000000\"}, \"showarrow\": false, \"text\": \"0\", \"x\": \"pred_4\", \"xref\": \"x\", \"y\": \"true_0\", \"yref\": \"y\"}, {\"font\": {\"color\": \"#000000\"}, \"showarrow\": false, \"text\": \"0\", \"x\": \"pred_5\", \"xref\": \"x\", \"y\": \"true_0\", \"yref\": \"y\"}, {\"font\": {\"color\": \"#000000\"}, \"showarrow\": false, \"text\": \"0\", \"x\": \"pred_6\", \"xref\": \"x\", \"y\": \"true_0\", \"yref\": \"y\"}, {\"font\": {\"color\": \"#000000\"}, \"showarrow\": false, \"text\": \"0\", \"x\": \"pred_7\", \"xref\": \"x\", \"y\": \"true_0\", \"yref\": \"y\"}, {\"font\": {\"color\": \"#000000\"}, \"showarrow\": false, \"text\": \"0\", \"x\": \"pred_8\", \"xref\": \"x\", \"y\": \"true_0\", \"yref\": \"y\"}, {\"font\": {\"color\": \"#000000\"}, \"showarrow\": false, \"text\": \"0\", \"x\": \"pred_9\", \"xref\": \"x\", \"y\": \"true_0\", \"yref\": \"y\"}], \"font\": {\"size\": 16}, \"height\": 500, \"template\": {\"data\": {\"bar\": [{\"error_x\": {\"color\": \"#2a3f5f\"}, \"error_y\": {\"color\": \"#2a3f5f\"}, \"marker\": {\"line\": {\"color\": \"#E5ECF6\", \"width\": 0.5}}, \"type\": \"bar\"}], \"barpolar\": [{\"marker\": {\"line\": {\"color\": \"#E5ECF6\", \"width\": 0.5}}, \"type\": \"barpolar\"}], \"carpet\": [{\"aaxis\": {\"endlinecolor\": \"#2a3f5f\", \"gridcolor\": \"white\", \"linecolor\": \"white\", \"minorgridcolor\": \"white\", \"startlinecolor\": \"#2a3f5f\"}, \"baxis\": {\"endlinecolor\": \"#2a3f5f\", \"gridcolor\": \"white\", \"linecolor\": \"white\", \"minorgridcolor\": \"white\", \"startlinecolor\": \"#2a3f5f\"}, \"type\": \"carpet\"}], \"choropleth\": [{\"colorbar\": {\"outlinewidth\": 0, \"ticks\": \"\"}, \"type\": \"choropleth\"}], \"contour\": [{\"colorbar\": {\"outlinewidth\": 0, \"ticks\": \"\"}, \"colorscale\": [[0.0, \"#0d0887\"], [0.1111111111111111, \"#46039f\"], [0.2222222222222222, \"#7201a8\"], [0.3333333333333333, \"#9c179e\"], [0.4444444444444444, \"#bd3786\"], [0.5555555555555556, \"#d8576b\"], [0.6666666666666666, \"#ed7953\"], [0.7777777777777778, \"#fb9f3a\"], [0.8888888888888888, \"#fdca26\"], [1.0, \"#f0f921\"]], \"type\": \"contour\"}], \"contourcarpet\": [{\"colorbar\": {\"outlinewidth\": 0, \"ticks\": \"\"}, \"type\": \"contourcarpet\"}], \"heatmap\": [{\"colorbar\": {\"outlinewidth\": 0, \"ticks\": \"\"}, \"colorscale\": [[0.0, \"#0d0887\"], [0.1111111111111111, \"#46039f\"], [0.2222222222222222, \"#7201a8\"], [0.3333333333333333, \"#9c179e\"], [0.4444444444444444, \"#bd3786\"], [0.5555555555555556, \"#d8576b\"], [0.6666666666666666, \"#ed7953\"], [0.7777777777777778, \"#fb9f3a\"], [0.8888888888888888, \"#fdca26\"], [1.0, \"#f0f921\"]], \"type\": \"heatmap\"}], \"heatmapgl\": [{\"colorbar\": {\"outlinewidth\": 0, \"ticks\": \"\"}, \"colorscale\": [[0.0, \"#0d0887\"], [0.1111111111111111, \"#46039f\"], [0.2222222222222222, \"#7201a8\"], [0.3333333333333333, \"#9c179e\"], [0.4444444444444444, \"#bd3786\"], [0.5555555555555556, \"#d8576b\"], [0.6666666666666666, \"#ed7953\"], [0.7777777777777778, \"#fb9f3a\"], [0.8888888888888888, \"#fdca26\"], [1.0, \"#f0f921\"]], \"type\": \"heatmapgl\"}], \"histogram\": [{\"marker\": {\"colorbar\": {\"outlinewidth\": 0, \"ticks\": \"\"}}, \"type\": \"histogram\"}], \"histogram2d\": [{\"colorbar\": {\"outlinewidth\": 0, \"ticks\": \"\"}, \"colorscale\": [[0.0, \"#0d0887\"], [0.1111111111111111, \"#46039f\"], [0.2222222222222222, \"#7201a8\"], [0.3333333333333333, \"#9c179e\"], [0.4444444444444444, \"#bd3786\"], [0.5555555555555556, \"#d8576b\"], [0.6666666666666666, \"#ed7953\"], [0.7777777777777778, \"#fb9f3a\"], [0.8888888888888888, \"#fdca26\"], [1.0, \"#f0f921\"]], \"type\": \"histogram2d\"}], \"histogram2dcontour\": [{\"colorbar\": {\"outlinewidth\": 0, \"ticks\": \"\"}, \"colorscale\": [[0.0, \"#0d0887\"], [0.1111111111111111, \"#46039f\"], [0.2222222222222222, \"#7201a8\"], [0.3333333333333333, \"#9c179e\"], [0.4444444444444444, \"#bd3786\"], [0.5555555555555556, \"#d8576b\"], [0.6666666666666666, \"#ed7953\"], [0.7777777777777778, \"#fb9f3a\"], [0.8888888888888888, \"#fdca26\"], [1.0, \"#f0f921\"]], \"type\": \"histogram2dcontour\"}], \"mesh3d\": [{\"colorbar\": {\"outlinewidth\": 0, \"ticks\": \"\"}, \"type\": \"mesh3d\"}], \"parcoords\": [{\"line\": {\"colorbar\": {\"outlinewidth\": 0, \"ticks\": \"\"}}, \"type\": \"parcoords\"}], \"pie\": [{\"automargin\": true, \"type\": \"pie\"}], \"scatter\": [{\"marker\": {\"colorbar\": {\"outlinewidth\": 0, \"ticks\": \"\"}}, \"type\": \"scatter\"}], \"scatter3d\": [{\"line\": {\"colorbar\": {\"outlinewidth\": 0, \"ticks\": \"\"}}, \"marker\": {\"colorbar\": {\"outlinewidth\": 0, \"ticks\": \"\"}}, \"type\": \"scatter3d\"}], \"scattercarpet\": [{\"marker\": {\"colorbar\": {\"outlinewidth\": 0, \"ticks\": \"\"}}, \"type\": \"scattercarpet\"}], \"scattergeo\": [{\"marker\": {\"colorbar\": {\"outlinewidth\": 0, \"ticks\": \"\"}}, \"type\": \"scattergeo\"}], \"scattergl\": [{\"marker\": {\"colorbar\": {\"outlinewidth\": 0, \"ticks\": \"\"}}, \"type\": \"scattergl\"}], \"scattermapbox\": [{\"marker\": {\"colorbar\": {\"outlinewidth\": 0, \"ticks\": \"\"}}, \"type\": \"scattermapbox\"}], \"scatterpolar\": [{\"marker\": {\"colorbar\": {\"outlinewidth\": 0, \"ticks\": \"\"}}, \"type\": \"scatterpolar\"}], \"scatterpolargl\": [{\"marker\": {\"colorbar\": {\"outlinewidth\": 0, \"ticks\": \"\"}}, \"type\": \"scatterpolargl\"}], \"scatterternary\": [{\"marker\": {\"colorbar\": {\"outlinewidth\": 0, \"ticks\": \"\"}}, \"type\": \"scatterternary\"}], \"surface\": [{\"colorbar\": {\"outlinewidth\": 0, \"ticks\": \"\"}, \"colorscale\": [[0.0, \"#0d0887\"], [0.1111111111111111, \"#46039f\"], [0.2222222222222222, \"#7201a8\"], [0.3333333333333333, \"#9c179e\"], [0.4444444444444444, \"#bd3786\"], [0.5555555555555556, \"#d8576b\"], [0.6666666666666666, \"#ed7953\"], [0.7777777777777778, \"#fb9f3a\"], [0.8888888888888888, \"#fdca26\"], [1.0, \"#f0f921\"]], \"type\": \"surface\"}], \"table\": [{\"cells\": {\"fill\": {\"color\": \"#EBF0F8\"}, \"line\": {\"color\": \"white\"}}, \"header\": {\"fill\": {\"color\": \"#C8D4E3\"}, \"line\": {\"color\": \"white\"}}, \"type\": \"table\"}]}, \"layout\": {\"annotationdefaults\": {\"arrowcolor\": \"#2a3f5f\", \"arrowhead\": 0, \"arrowwidth\": 1}, \"coloraxis\": {\"colorbar\": {\"outlinewidth\": 0, \"ticks\": \"\"}}, \"colorscale\": {\"diverging\": [[0, \"#8e0152\"], [0.1, \"#c51b7d\"], [0.2, \"#de77ae\"], [0.3, \"#f1b6da\"], [0.4, \"#fde0ef\"], [0.5, \"#f7f7f7\"], [0.6, \"#e6f5d0\"], [0.7, \"#b8e186\"], [0.8, \"#7fbc41\"], [0.9, \"#4d9221\"], [1, \"#276419\"]], \"sequential\": [[0.0, \"#0d0887\"], [0.1111111111111111, \"#46039f\"], [0.2222222222222222, \"#7201a8\"], [0.3333333333333333, \"#9c179e\"], [0.4444444444444444, \"#bd3786\"], [0.5555555555555556, \"#d8576b\"], [0.6666666666666666, \"#ed7953\"], [0.7777777777777778, \"#fb9f3a\"], [0.8888888888888888, \"#fdca26\"], [1.0, \"#f0f921\"]], \"sequentialminus\": [[0.0, \"#0d0887\"], [0.1111111111111111, \"#46039f\"], [0.2222222222222222, \"#7201a8\"], [0.3333333333333333, \"#9c179e\"], [0.4444444444444444, \"#bd3786\"], [0.5555555555555556, \"#d8576b\"], [0.6666666666666666, \"#ed7953\"], [0.7777777777777778, \"#fb9f3a\"], [0.8888888888888888, \"#fdca26\"], [1.0, \"#f0f921\"]]}, \"colorway\": [\"#636efa\", \"#EF553B\", \"#00cc96\", \"#ab63fa\", \"#FFA15A\", \"#19d3f3\", \"#FF6692\", \"#B6E880\", \"#FF97FF\", \"#FECB52\"], \"font\": {\"color\": \"#2a3f5f\"}, \"geo\": {\"bgcolor\": \"white\", \"lakecolor\": \"white\", \"landcolor\": \"#E5ECF6\", \"showlakes\": true, \"showland\": true, \"subunitcolor\": \"white\"}, \"hoverlabel\": {\"align\": \"left\"}, \"hovermode\": \"closest\", \"mapbox\": {\"style\": \"light\"}, \"paper_bgcolor\": \"white\", \"plot_bgcolor\": \"#E5ECF6\", \"polar\": {\"angularaxis\": {\"gridcolor\": \"white\", \"linecolor\": \"white\", \"ticks\": \"\"}, \"bgcolor\": \"#E5ECF6\", \"radialaxis\": {\"gridcolor\": \"white\", \"linecolor\": \"white\", \"ticks\": \"\"}}, \"scene\": {\"xaxis\": {\"backgroundcolor\": \"#E5ECF6\", \"gridcolor\": \"white\", \"gridwidth\": 2, \"linecolor\": \"white\", \"showbackground\": true, \"ticks\": \"\", \"zerolinecolor\": \"white\"}, \"yaxis\": {\"backgroundcolor\": \"#E5ECF6\", \"gridcolor\": \"white\", \"gridwidth\": 2, \"linecolor\": \"white\", \"showbackground\": true, \"ticks\": \"\", \"zerolinecolor\": \"white\"}, \"zaxis\": {\"backgroundcolor\": \"#E5ECF6\", \"gridcolor\": \"white\", \"gridwidth\": 2, \"linecolor\": \"white\", \"showbackground\": true, \"ticks\": \"\", \"zerolinecolor\": \"white\"}}, \"shapedefaults\": {\"line\": {\"color\": \"#2a3f5f\"}}, \"ternary\": {\"aaxis\": {\"gridcolor\": \"white\", \"linecolor\": \"white\", \"ticks\": \"\"}, \"baxis\": {\"gridcolor\": \"white\", \"linecolor\": \"white\", \"ticks\": \"\"}, \"bgcolor\": \"#E5ECF6\", \"caxis\": {\"gridcolor\": \"white\", \"linecolor\": \"white\", \"ticks\": \"\"}}, \"title\": {\"x\": 0.05}, \"xaxis\": {\"automargin\": true, \"gridcolor\": \"white\", \"linecolor\": \"white\", \"ticks\": \"\", \"title\": {\"standoff\": 15}, \"zerolinecolor\": \"white\", \"zerolinewidth\": 2}, \"yaxis\": {\"automargin\": true, \"gridcolor\": \"white\", \"linecolor\": \"white\", \"ticks\": \"\", \"title\": {\"standoff\": 15}, \"zerolinecolor\": \"white\", \"zerolinewidth\": 2}}}, \"title\": {\"text\": \"Confusion Matrix\"}, \"width\": 700, \"xaxis\": {\"dtick\": 1, \"gridcolor\": \"rgb(0, 0, 0)\", \"side\": \"top\", \"ticks\": \"\"}, \"yaxis\": {\"dtick\": 1, \"ticks\": \"\", \"ticksuffix\": \"  \"}},\n",
              "                        {\"responsive\": true}\n",
              "                    ).then(function(){\n",
              "                            \n",
              "var gd = document.getElementById('f94d31bb-9b9b-4467-a314-07ab4f993b2a');\n",
              "var x = new MutationObserver(function (mutations, observer) {{\n",
              "        var display = window.getComputedStyle(gd).display;\n",
              "        if (!display || display === 'none') {{\n",
              "            console.log([gd, 'removed!']);\n",
              "            Plotly.purge(gd);\n",
              "            observer.disconnect();\n",
              "        }}\n",
              "}});\n",
              "\n",
              "// Listen for the removal of the full notebook cells\n",
              "var notebookContainer = gd.closest('#notebook-container');\n",
              "if (notebookContainer) {{\n",
              "    x.observe(notebookContainer, {childList: true});\n",
              "}}\n",
              "\n",
              "// Listen for the clearing of the current output cell\n",
              "var outputEl = gd.closest('.output');\n",
              "if (outputEl) {{\n",
              "    x.observe(outputEl, {childList: true});\n",
              "}}\n",
              "\n",
              "                        })\n",
              "                };\n",
              "                });\n",
              "            </script>\n",
              "        </div>"
            ]
          },
          "metadata": {
            "tags": []
          }
        }
      ]
    },
    {
      "cell_type": "markdown",
      "metadata": {
        "id": "G9-HoKXGWvEU",
        "colab_type": "text"
      },
      "source": [
        "## &#x1F345; <font color='brown'>Wyświetlenie błędnych predykcji</font>"
      ]
    },
    {
      "cell_type": "code",
      "metadata": {
        "id": "bBbVpyi-WvEV",
        "colab_type": "code",
        "colab": {},
        "outputId": "ddc3040e-42fe-43f6-90dd-7468d0206b65"
      },
      "source": [
        "results = pd.DataFrame(data={'y_pred': y_pred, 'y_test': y_test})\n",
        "results.head(10)"
      ],
      "execution_count": 0,
      "outputs": [
        {
          "output_type": "execute_result",
          "data": {
            "text/html": [
              "<div>\n",
              "<style scoped>\n",
              "    .dataframe tbody tr th:only-of-type {\n",
              "        vertical-align: middle;\n",
              "    }\n",
              "\n",
              "    .dataframe tbody tr th {\n",
              "        vertical-align: top;\n",
              "    }\n",
              "\n",
              "    .dataframe thead th {\n",
              "        text-align: right;\n",
              "    }\n",
              "</style>\n",
              "<table border=\"1\" class=\"dataframe\">\n",
              "  <thead>\n",
              "    <tr style=\"text-align: right;\">\n",
              "      <th></th>\n",
              "      <th>y_pred</th>\n",
              "      <th>y_test</th>\n",
              "    </tr>\n",
              "  </thead>\n",
              "  <tbody>\n",
              "    <tr>\n",
              "      <th>0</th>\n",
              "      <td>5</td>\n",
              "      <td>5</td>\n",
              "    </tr>\n",
              "    <tr>\n",
              "      <th>1</th>\n",
              "      <td>5</td>\n",
              "      <td>5</td>\n",
              "    </tr>\n",
              "    <tr>\n",
              "      <th>2</th>\n",
              "      <td>6</td>\n",
              "      <td>6</td>\n",
              "    </tr>\n",
              "    <tr>\n",
              "      <th>3</th>\n",
              "      <td>6</td>\n",
              "      <td>6</td>\n",
              "    </tr>\n",
              "    <tr>\n",
              "      <th>4</th>\n",
              "      <td>1</td>\n",
              "      <td>1</td>\n",
              "    </tr>\n",
              "    <tr>\n",
              "      <th>5</th>\n",
              "      <td>8</td>\n",
              "      <td>8</td>\n",
              "    </tr>\n",
              "    <tr>\n",
              "      <th>6</th>\n",
              "      <td>6</td>\n",
              "      <td>6</td>\n",
              "    </tr>\n",
              "    <tr>\n",
              "      <th>7</th>\n",
              "      <td>9</td>\n",
              "      <td>9</td>\n",
              "    </tr>\n",
              "    <tr>\n",
              "      <th>8</th>\n",
              "      <td>9</td>\n",
              "      <td>9</td>\n",
              "    </tr>\n",
              "    <tr>\n",
              "      <th>9</th>\n",
              "      <td>4</td>\n",
              "      <td>4</td>\n",
              "    </tr>\n",
              "  </tbody>\n",
              "</table>\n",
              "</div>"
            ],
            "text/plain": [
              "   y_pred  y_test\n",
              "0       5       5\n",
              "1       5       5\n",
              "2       6       6\n",
              "3       6       6\n",
              "4       1       1\n",
              "5       8       8\n",
              "6       6       6\n",
              "7       9       9\n",
              "8       9       9\n",
              "9       4       4"
            ]
          },
          "metadata": {
            "tags": []
          },
          "execution_count": 74
        }
      ]
    },
    {
      "cell_type": "code",
      "metadata": {
        "id": "g7K5thy5WvEX",
        "colab_type": "code",
        "colab": {},
        "outputId": "3aa37d2a-c59a-41f3-95ee-e4bed92c626a"
      },
      "source": [
        "errors = results[results['y_pred'] != results['y_test']]\n",
        "errors_idxs = list(errors.index)\n",
        "errors_idxs"
      ],
      "execution_count": 0,
      "outputs": [
        {
          "output_type": "execute_result",
          "data": {
            "text/plain": [
              "[206, 328]"
            ]
          },
          "metadata": {
            "tags": []
          },
          "execution_count": 75
        }
      ]
    },
    {
      "cell_type": "code",
      "metadata": {
        "id": "TOtEEqKhWvEZ",
        "colab_type": "code",
        "colab": {},
        "outputId": "84de47a8-918a-4b04-a9e1-8457c0bc826b"
      },
      "source": [
        "results.loc[errors_idxs, :]"
      ],
      "execution_count": 0,
      "outputs": [
        {
          "output_type": "execute_result",
          "data": {
            "text/html": [
              "<div>\n",
              "<style scoped>\n",
              "    .dataframe tbody tr th:only-of-type {\n",
              "        vertical-align: middle;\n",
              "    }\n",
              "\n",
              "    .dataframe tbody tr th {\n",
              "        vertical-align: top;\n",
              "    }\n",
              "\n",
              "    .dataframe thead th {\n",
              "        text-align: right;\n",
              "    }\n",
              "</style>\n",
              "<table border=\"1\" class=\"dataframe\">\n",
              "  <thead>\n",
              "    <tr style=\"text-align: right;\">\n",
              "      <th></th>\n",
              "      <th>y_pred</th>\n",
              "      <th>y_test</th>\n",
              "    </tr>\n",
              "  </thead>\n",
              "  <tbody>\n",
              "    <tr>\n",
              "      <th>206</th>\n",
              "      <td>9</td>\n",
              "      <td>5</td>\n",
              "    </tr>\n",
              "    <tr>\n",
              "      <th>328</th>\n",
              "      <td>1</td>\n",
              "      <td>8</td>\n",
              "    </tr>\n",
              "  </tbody>\n",
              "</table>\n",
              "</div>"
            ],
            "text/plain": [
              "     y_pred  y_test\n",
              "206       9       5\n",
              "328       1       8"
            ]
          },
          "metadata": {
            "tags": []
          },
          "execution_count": 76
        }
      ]
    },
    {
      "cell_type": "code",
      "metadata": {
        "id": "2Ym6YkygWvEb",
        "colab_type": "code",
        "colab": {},
        "outputId": "96a1835f-0c1a-4e77-b183-4f36ab1f1a25"
      },
      "source": [
        "plt.figure(figsize=(12, 10))\n",
        "for idx, error_idx in enumerate(errors_idxs[:4]):\n",
        "    image = X_test[error_idx].reshape(8, 8)\n",
        "    plt.subplot(2, 4, idx + 1)\n",
        "    plt.axis('off')\n",
        "    plt.imshow(image, cmap='Greys')\n",
        "    plt.title(f\"True {results.loc[error_idx, 'y_test']} Prediction: {results.loc[error_idx, 'y_pred']}\")"
      ],
      "execution_count": 0,
      "outputs": [
        {
          "output_type": "display_data",
          "data": {
            "image/png": "[encoded data removed]",
            "text/plain": [
              "<Figure size 864x720 with 2 Axes>"
            ]
          },
          "metadata": {
            "tags": []
          }
        }
      ]
    },
    {
      "cell_type": "code",
      "metadata": {
        "id": "B16n5L5HWvEc",
        "colab_type": "code",
        "colab": {}
      },
      "source": [
        ""
      ],
      "execution_count": 0,
      "outputs": []
    }
  ]
}