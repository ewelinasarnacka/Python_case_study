{
 "cells": [
  {
   "cell_type": "markdown",
   "metadata": {},
   "source": [
    "# <font color='green'>Decision trees regression</font>\n",
   ]
  },
  {
   "cell_type": "code",
   "execution_count": 235,
   "metadata": {},
   "outputs": [],
   "source": [
    "#!pip install xgboost"
   ]
  },
  {
   "cell_type": "code",
   "execution_count": 294,
   "metadata": {},
   "outputs": [
    {
     "data": {
      "text/html": [
       "        <script type=\"text/javascript\">\n",
       "        window.PlotlyConfig = {MathJaxConfig: 'local'};\n",
       "        if (window.MathJax) {MathJax.Hub.Config({SVG: {font: \"STIX-Web\"}});}\n",
       "        if (typeof require !== 'undefined') {\n",
       "        require.undef(\"plotly\");\n",
       "        requirejs.config({\n",
       "            paths: {\n",
       "                'plotly': ['https://cdn.plot.ly/plotly-latest.min']\n",
       "            }\n",
       "        });\n",
       "        require(['plotly'], function(Plotly) {\n",
       "            window._Plotly = Plotly;\n",
       "        });\n",
       "        }\n",
       "        </script>\n",
       "        "
      ]
     },
     "metadata": {},
     "output_type": "display_data"
    }
   ],
   "source": [
    "import numpy as np\n",
    "import pandas as pd\n",
    "import re\n",
    "#import xgboost as xgb\n",
    "import seaborn as sns\n",
    "import matplotlib.pyplot as plt\n",
    "%matplotlib inline\n",
    "\n",
    "import plotly.offline as py\n",
    "py.init_notebook_mode(connected=True)\n",
    "import plotly.graph_objs as go\n",
    "import plotly.tools as tls\n",
    "\n",
    "from sklearn import tree\n",
    "from sklearn.metrics import accuracy_score\n",
    "from sklearn.model_selection import KFold\n",
    "from sklearn.model_selection import cross_val_score\n",
    "from IPython.display import Image as PImage\n",
    "from subprocess import check_call\n",
    "from PIL import Image, ImageDraw, ImageFont\n",
    "\n",
    "pd.options.display.float_format = '{:0,.3f}'.format"
   ]
  },
  {
   "cell_type": "markdown",
   "metadata": {},
   "source": [
    "# <font color='brawn'> Import Data - train data and test data </font>"
   ]
  },
  {
   "cell_type": "code",
   "execution_count": 295,
   "metadata": {},
   "outputs": [
    {
     "data": {
      "text/plain": [
       "'/Users/ewelina/Desktop/Code/Python_case_study'"
      ]
     },
     "execution_count": 295,
     "metadata": {},
     "output_type": "execute_result"
    }
   ],
   "source": [
    "pwd()"
   ]
  },
  {
   "cell_type": "code",
   "execution_count": 296,
   "metadata": {},
   "outputs": [],
   "source": [
    "train = pd.read_csv(\"train.csv\")\n",
    "test = pd.read_csv(\"test.csv\")\n",
    "\n",
    "full_data = [train, test]"
   ]
  },
  {
   "cell_type": "code",
   "execution_count": 297,
   "metadata": {},
   "outputs": [
    {
     "name": "stdout",
     "output_type": "stream",
     "text": [
      "full_data -> type -> <class 'list'>\n",
      "train -> type -> <class 'pandas.core.frame.DataFrame'>\n"
     ]
    }
   ],
   "source": [
    "print('full_data -> type ->', type(full_data))\n",
    "print('train -> type ->', type(train))"
   ]
  },
  {
   "cell_type": "code",
   "execution_count": 298,
   "metadata": {},
   "outputs": [
    {
     "data": {
      "text/html": [
       "<div>\n",
       "<style scoped>\n",
       "    .dataframe tbody tr th:only-of-type {\n",
       "        vertical-align: middle;\n",
       "    }\n",
       "\n",
       "    .dataframe tbody tr th {\n",
       "        vertical-align: top;\n",
       "    }\n",
       "\n",
       "    .dataframe thead th {\n",
       "        text-align: right;\n",
       "    }\n",
       "</style>\n",
       "<table border=\"1\" class=\"dataframe\">\n",
       "  <thead>\n",
       "    <tr style=\"text-align: right;\">\n",
       "      <th></th>\n",
       "      <th>PassengerId</th>\n",
       "      <th>Survived</th>\n",
       "      <th>Pclass</th>\n",
       "      <th>Name</th>\n",
       "      <th>Sex</th>\n",
       "      <th>Age</th>\n",
       "      <th>SibSp</th>\n",
       "      <th>Parch</th>\n",
       "      <th>Ticket</th>\n",
       "      <th>Fare</th>\n",
       "      <th>Cabin</th>\n",
       "      <th>Embarked</th>\n",
       "    </tr>\n",
       "  </thead>\n",
       "  <tbody>\n",
       "    <tr>\n",
       "      <th>0</th>\n",
       "      <td>1</td>\n",
       "      <td>0</td>\n",
       "      <td>3</td>\n",
       "      <td>Braund, Mr. Owen Harris</td>\n",
       "      <td>male</td>\n",
       "      <td>22.000</td>\n",
       "      <td>1</td>\n",
       "      <td>0</td>\n",
       "      <td>A/5 21171</td>\n",
       "      <td>7.250</td>\n",
       "      <td>NaN</td>\n",
       "      <td>S</td>\n",
       "    </tr>\n",
       "    <tr>\n",
       "      <th>1</th>\n",
       "      <td>2</td>\n",
       "      <td>1</td>\n",
       "      <td>1</td>\n",
       "      <td>Cumings, Mrs. John Bradley (Florence Briggs Th...</td>\n",
       "      <td>female</td>\n",
       "      <td>38.000</td>\n",
       "      <td>1</td>\n",
       "      <td>0</td>\n",
       "      <td>PC 17599</td>\n",
       "      <td>71.283</td>\n",
       "      <td>C85</td>\n",
       "      <td>C</td>\n",
       "    </tr>\n",
       "    <tr>\n",
       "      <th>2</th>\n",
       "      <td>3</td>\n",
       "      <td>1</td>\n",
       "      <td>3</td>\n",
       "      <td>Heikkinen, Miss. Laina</td>\n",
       "      <td>female</td>\n",
       "      <td>26.000</td>\n",
       "      <td>0</td>\n",
       "      <td>0</td>\n",
       "      <td>STON/O2. 3101282</td>\n",
       "      <td>7.925</td>\n",
       "      <td>NaN</td>\n",
       "      <td>S</td>\n",
       "    </tr>\n",
       "  </tbody>\n",
       "</table>\n",
       "</div>"
      ],
      "text/plain": [
       "   PassengerId  Survived  Pclass  \\\n",
       "0            1         0       3   \n",
       "1            2         1       1   \n",
       "2            3         1       3   \n",
       "\n",
       "                                                Name     Sex    Age  SibSp  \\\n",
       "0                            Braund, Mr. Owen Harris    male 22.000      1   \n",
       "1  Cumings, Mrs. John Bradley (Florence Briggs Th...  female 38.000      1   \n",
       "2                             Heikkinen, Miss. Laina  female 26.000      0   \n",
       "\n",
       "   Parch            Ticket   Fare Cabin Embarked  \n",
       "0      0         A/5 21171  7.250   NaN        S  \n",
       "1      0          PC 17599 71.283   C85        C  \n",
       "2      0  STON/O2. 3101282  7.925   NaN        S  "
      ]
     },
     "execution_count": 298,
     "metadata": {},
     "output_type": "execute_result"
    }
   ],
   "source": [
    "train.head(3)"
   ]
  },
  {
   "cell_type": "code",
   "execution_count": 299,
   "metadata": {},
   "outputs": [
    {
     "data": {
      "text/html": [
       "<div>\n",
       "<style scoped>\n",
       "    .dataframe tbody tr th:only-of-type {\n",
       "        vertical-align: middle;\n",
       "    }\n",
       "\n",
       "    .dataframe tbody tr th {\n",
       "        vertical-align: top;\n",
       "    }\n",
       "\n",
       "    .dataframe thead th {\n",
       "        text-align: right;\n",
       "    }\n",
       "</style>\n",
       "<table border=\"1\" class=\"dataframe\">\n",
       "  <thead>\n",
       "    <tr style=\"text-align: right;\">\n",
       "      <th></th>\n",
       "      <th>PassengerId</th>\n",
       "      <th>Pclass</th>\n",
       "      <th>Name</th>\n",
       "      <th>Sex</th>\n",
       "      <th>Age</th>\n",
       "      <th>SibSp</th>\n",
       "      <th>Parch</th>\n",
       "      <th>Ticket</th>\n",
       "      <th>Fare</th>\n",
       "      <th>Cabin</th>\n",
       "      <th>Embarked</th>\n",
       "    </tr>\n",
       "  </thead>\n",
       "  <tbody>\n",
       "    <tr>\n",
       "      <th>0</th>\n",
       "      <td>892</td>\n",
       "      <td>3</td>\n",
       "      <td>Kelly, Mr. James</td>\n",
       "      <td>male</td>\n",
       "      <td>34.500</td>\n",
       "      <td>0</td>\n",
       "      <td>0</td>\n",
       "      <td>330911</td>\n",
       "      <td>7.829</td>\n",
       "      <td>NaN</td>\n",
       "      <td>Q</td>\n",
       "    </tr>\n",
       "    <tr>\n",
       "      <th>1</th>\n",
       "      <td>893</td>\n",
       "      <td>3</td>\n",
       "      <td>Wilkes, Mrs. James (Ellen Needs)</td>\n",
       "      <td>female</td>\n",
       "      <td>47.000</td>\n",
       "      <td>1</td>\n",
       "      <td>0</td>\n",
       "      <td>363272</td>\n",
       "      <td>7.000</td>\n",
       "      <td>NaN</td>\n",
       "      <td>S</td>\n",
       "    </tr>\n",
       "    <tr>\n",
       "      <th>2</th>\n",
       "      <td>894</td>\n",
       "      <td>2</td>\n",
       "      <td>Myles, Mr. Thomas Francis</td>\n",
       "      <td>male</td>\n",
       "      <td>62.000</td>\n",
       "      <td>0</td>\n",
       "      <td>0</td>\n",
       "      <td>240276</td>\n",
       "      <td>9.688</td>\n",
       "      <td>NaN</td>\n",
       "      <td>Q</td>\n",
       "    </tr>\n",
       "  </tbody>\n",
       "</table>\n",
       "</div>"
      ],
      "text/plain": [
       "   PassengerId  Pclass                              Name     Sex    Age  \\\n",
       "0          892       3                  Kelly, Mr. James    male 34.500   \n",
       "1          893       3  Wilkes, Mrs. James (Ellen Needs)  female 47.000   \n",
       "2          894       2         Myles, Mr. Thomas Francis    male 62.000   \n",
       "\n",
       "   SibSp  Parch  Ticket  Fare Cabin Embarked  \n",
       "0      0      0  330911 7.829   NaN        Q  \n",
       "1      1      0  363272 7.000   NaN        S  \n",
       "2      0      0  240276 9.688   NaN        Q  "
      ]
     },
     "execution_count": 299,
     "metadata": {},
     "output_type": "execute_result"
    }
   ],
   "source": [
    "test.head(3)"
   ]
  },
  {
   "cell_type": "code",
   "execution_count": 300,
   "metadata": {},
   "outputs": [
    {
     "name": "stdout",
     "output_type": "stream",
     "text": [
      "<class 'pandas.core.frame.DataFrame'>\n",
      "RangeIndex: 891 entries, 0 to 890\n",
      "Data columns (total 12 columns):\n",
      " #   Column       Non-Null Count  Dtype  \n",
      "---  ------       --------------  -----  \n",
      " 0   PassengerId  891 non-null    int64  \n",
      " 1   Survived     891 non-null    int64  \n",
      " 2   Pclass       891 non-null    int64  \n",
      " 3   Name         891 non-null    object \n",
      " 4   Sex          891 non-null    object \n",
      " 5   Age          714 non-null    float64\n",
      " 6   SibSp        891 non-null    int64  \n",
      " 7   Parch        891 non-null    int64  \n",
      " 8   Ticket       891 non-null    object \n",
      " 9   Fare         891 non-null    float64\n",
      " 10  Cabin        204 non-null    object \n",
      " 11  Embarked     889 non-null    object \n",
      "dtypes: float64(2), int64(5), object(5)\n",
      "memory usage: 83.7+ KB\n",
      "None\n"
     ]
    }
   ],
   "source": [
    "print(train.info())"
   ]
  },
  {
   "cell_type": "markdown",
   "metadata": {},
   "source": [
    "# <font color='orange'>Data Quality</font>"
   ]
  },
  {
   "cell_type": "markdown",
   "metadata": {},
   "source": [
    "## <font color='orange'>Dulicate rows</font>"
   ]
  },
  {
   "cell_type": "code",
   "execution_count": 301,
   "metadata": {},
   "outputs": [
    {
     "name": "stdout",
     "output_type": "stream",
     "text": [
      "Trains -> dipicate rows -> 0\n"
     ]
    }
   ],
   "source": [
    "print('Trains -> dipicate rows -> {}'.format(train.duplicated().sum()))"
   ]
  },
  {
   "cell_type": "markdown",
   "metadata": {},
   "source": [
    "## <font color='orange'>Missing Value</font>"
   ]
  },
  {
   "cell_type": "code",
   "execution_count": 302,
   "metadata": {},
   "outputs": [
    {
     "data": {
      "text/html": [
       "<div>\n",
       "<style scoped>\n",
       "    .dataframe tbody tr th:only-of-type {\n",
       "        vertical-align: middle;\n",
       "    }\n",
       "\n",
       "    .dataframe tbody tr th {\n",
       "        vertical-align: top;\n",
       "    }\n",
       "\n",
       "    .dataframe thead th {\n",
       "        text-align: right;\n",
       "    }\n",
       "</style>\n",
       "<table border=\"1\" class=\"dataframe\">\n",
       "  <thead>\n",
       "    <tr style=\"text-align: right;\">\n",
       "      <th></th>\n",
       "      <th>Train_IsNull</th>\n",
       "      <th>Train_IsNull%</th>\n",
       "    </tr>\n",
       "  </thead>\n",
       "  <tbody>\n",
       "    <tr>\n",
       "      <th>Cabin</th>\n",
       "      <td>687</td>\n",
       "      <td>77.104</td>\n",
       "    </tr>\n",
       "    <tr>\n",
       "      <th>Age</th>\n",
       "      <td>177</td>\n",
       "      <td>19.865</td>\n",
       "    </tr>\n",
       "    <tr>\n",
       "      <th>Embarked</th>\n",
       "      <td>2</td>\n",
       "      <td>0.224</td>\n",
       "    </tr>\n",
       "  </tbody>\n",
       "</table>\n",
       "</div>"
      ],
      "text/plain": [
       "          Train_IsNull  Train_IsNull%\n",
       "Cabin              687         77.104\n",
       "Age                177         19.865\n",
       "Embarked             2          0.224"
      ]
     },
     "execution_count": 302,
     "metadata": {},
     "output_type": "execute_result"
    }
   ],
   "source": [
    "stat = pd.DataFrame(train.isnull().sum(), columns=['Train_IsNull'])\n",
    "stat['Train_IsNull%'] = 100*stat['Train_IsNull']/train.shape[0]\n",
    "stat.sort_values(by=['Train_IsNull'], inplace=True, ascending=False)\n",
    "stat.loc[stat['Train_IsNull'] != 0]"
   ]
  },
  {
   "cell_type": "code",
   "execution_count": 303,
   "metadata": {},
   "outputs": [
    {
     "data": {
      "text/html": [
       "<div>\n",
       "<style scoped>\n",
       "    .dataframe tbody tr th:only-of-type {\n",
       "        vertical-align: middle;\n",
       "    }\n",
       "\n",
       "    .dataframe tbody tr th {\n",
       "        vertical-align: top;\n",
       "    }\n",
       "\n",
       "    .dataframe thead th {\n",
       "        text-align: right;\n",
       "    }\n",
       "</style>\n",
       "<table border=\"1\" class=\"dataframe\">\n",
       "  <thead>\n",
       "    <tr style=\"text-align: right;\">\n",
       "      <th></th>\n",
       "      <th>Test_IsNull</th>\n",
       "      <th>Test_IsNull%</th>\n",
       "    </tr>\n",
       "  </thead>\n",
       "  <tbody>\n",
       "    <tr>\n",
       "      <th>Cabin</th>\n",
       "      <td>327</td>\n",
       "      <td>78.230</td>\n",
       "    </tr>\n",
       "    <tr>\n",
       "      <th>Age</th>\n",
       "      <td>86</td>\n",
       "      <td>20.574</td>\n",
       "    </tr>\n",
       "    <tr>\n",
       "      <th>Fare</th>\n",
       "      <td>1</td>\n",
       "      <td>0.239</td>\n",
       "    </tr>\n",
       "  </tbody>\n",
       "</table>\n",
       "</div>"
      ],
      "text/plain": [
       "       Test_IsNull  Test_IsNull%\n",
       "Cabin          327        78.230\n",
       "Age             86        20.574\n",
       "Fare             1         0.239"
      ]
     },
     "execution_count": 303,
     "metadata": {},
     "output_type": "execute_result"
    }
   ],
   "source": [
    "stat = pd.DataFrame(test.isnull().sum(), columns=['Test_IsNull'])\n",
    "stat['Test_IsNull%'] = 100*stat['Test_IsNull']/test.shape[0]\n",
    "stat.sort_values(by=['Test_IsNull'], inplace=True, ascending=False)\n",
    "stat.loc[stat['Test_IsNull'] != 0]"
   ]
  },
  {
   "cell_type": "markdown",
   "metadata": {},
   "source": [
    "# <font color='brawn'> Feature Engineering </font>"
   ]
  },
  {
   "cell_type": "markdown",
   "metadata": {},
   "source": [
    "## <font color='brawn'> 1. Pclass </font>\n",
    "\n",
    "-> no missing value\n",
    "\n",
    "-> numerical value\n",
    "\n",
    "-> let's check impact on our train set"
   ]
  },
  {
   "cell_type": "code",
   "execution_count": 304,
   "metadata": {},
   "outputs": [
    {
     "data": {
      "text/html": [
       "<div>\n",
       "<style scoped>\n",
       "    .dataframe tbody tr th:only-of-type {\n",
       "        vertical-align: middle;\n",
       "    }\n",
       "\n",
       "    .dataframe tbody tr th {\n",
       "        vertical-align: top;\n",
       "    }\n",
       "\n",
       "    .dataframe thead th {\n",
       "        text-align: right;\n",
       "    }\n",
       "</style>\n",
       "<table border=\"1\" class=\"dataframe\">\n",
       "  <thead>\n",
       "    <tr style=\"text-align: right;\">\n",
       "      <th></th>\n",
       "      <th>Pclass</th>\n",
       "      <th>Survived</th>\n",
       "    </tr>\n",
       "  </thead>\n",
       "  <tbody>\n",
       "    <tr>\n",
       "      <th>0</th>\n",
       "      <td>1</td>\n",
       "      <td>0.630</td>\n",
       "    </tr>\n",
       "    <tr>\n",
       "      <th>1</th>\n",
       "      <td>2</td>\n",
       "      <td>0.473</td>\n",
       "    </tr>\n",
       "    <tr>\n",
       "      <th>2</th>\n",
       "      <td>3</td>\n",
       "      <td>0.242</td>\n",
       "    </tr>\n",
       "  </tbody>\n",
       "</table>\n",
       "</div>"
      ],
      "text/plain": [
       "   Pclass  Survived\n",
       "0       1     0.630\n",
       "1       2     0.473\n",
       "2       3     0.242"
      ]
     },
     "execution_count": 304,
     "metadata": {},
     "output_type": "execute_result"
    }
   ],
   "source": [
    "train[['Pclass', 'Survived']].groupby(['Pclass'], as_index=False).mean()"
   ]
  },
  {
   "cell_type": "code",
   "execution_count": 305,
   "metadata": {},
   "outputs": [
    {
     "data": {
      "text/html": [
       "<div>\n",
       "<style scoped>\n",
       "    .dataframe tbody tr th:only-of-type {\n",
       "        vertical-align: middle;\n",
       "    }\n",
       "\n",
       "    .dataframe tbody tr th {\n",
       "        vertical-align: top;\n",
       "    }\n",
       "\n",
       "    .dataframe thead th {\n",
       "        text-align: right;\n",
       "    }\n",
       "</style>\n",
       "<table border=\"1\" class=\"dataframe\">\n",
       "  <thead>\n",
       "    <tr style=\"text-align: right;\">\n",
       "      <th></th>\n",
       "      <th>Pclass</th>\n",
       "      <th>Survived</th>\n",
       "    </tr>\n",
       "  </thead>\n",
       "  <tbody>\n",
       "    <tr>\n",
       "      <th>0</th>\n",
       "      <td>1</td>\n",
       "      <td>216</td>\n",
       "    </tr>\n",
       "    <tr>\n",
       "      <th>1</th>\n",
       "      <td>2</td>\n",
       "      <td>184</td>\n",
       "    </tr>\n",
       "    <tr>\n",
       "      <th>2</th>\n",
       "      <td>3</td>\n",
       "      <td>491</td>\n",
       "    </tr>\n",
       "  </tbody>\n",
       "</table>\n",
       "</div>"
      ],
      "text/plain": [
       "   Pclass  Survived\n",
       "0       1       216\n",
       "1       2       184\n",
       "2       3       491"
      ]
     },
     "execution_count": 305,
     "metadata": {},
     "output_type": "execute_result"
    }
   ],
   "source": [
    "train[['Pclass', 'Survived']].groupby(['Pclass'], as_index=False).count()"
   ]
  },
  {
   "cell_type": "markdown",
   "metadata": {},
   "source": [
    "## <font color='brawn'> 2. Sex </font>\n",
    "\n",
    "-> no missing value\n",
    "\n",
    "-> numerical value\n",
    "\n",
    "-> let's check impact on our train set"
   ]
  },
  {
   "cell_type": "code",
   "execution_count": 306,
   "metadata": {},
   "outputs": [
    {
     "data": {
      "text/html": [
       "<div>\n",
       "<style scoped>\n",
       "    .dataframe tbody tr th:only-of-type {\n",
       "        vertical-align: middle;\n",
       "    }\n",
       "\n",
       "    .dataframe tbody tr th {\n",
       "        vertical-align: top;\n",
       "    }\n",
       "\n",
       "    .dataframe thead th {\n",
       "        text-align: right;\n",
       "    }\n",
       "</style>\n",
       "<table border=\"1\" class=\"dataframe\">\n",
       "  <thead>\n",
       "    <tr style=\"text-align: right;\">\n",
       "      <th></th>\n",
       "      <th>Sex</th>\n",
       "      <th>Survived</th>\n",
       "    </tr>\n",
       "  </thead>\n",
       "  <tbody>\n",
       "    <tr>\n",
       "      <th>0</th>\n",
       "      <td>female</td>\n",
       "      <td>0.742</td>\n",
       "    </tr>\n",
       "    <tr>\n",
       "      <th>1</th>\n",
       "      <td>male</td>\n",
       "      <td>0.189</td>\n",
       "    </tr>\n",
       "  </tbody>\n",
       "</table>\n",
       "</div>"
      ],
      "text/plain": [
       "      Sex  Survived\n",
       "0  female     0.742\n",
       "1    male     0.189"
      ]
     },
     "execution_count": 306,
     "metadata": {},
     "output_type": "execute_result"
    }
   ],
   "source": [
    "train[[\"Sex\", \"Survived\"]].groupby(['Sex'], as_index=False).mean()"
   ]
  },
  {
   "cell_type": "code",
   "execution_count": 307,
   "metadata": {},
   "outputs": [
    {
     "data": {
      "text/html": [
       "<div>\n",
       "<style scoped>\n",
       "    .dataframe tbody tr th:only-of-type {\n",
       "        vertical-align: middle;\n",
       "    }\n",
       "\n",
       "    .dataframe tbody tr th {\n",
       "        vertical-align: top;\n",
       "    }\n",
       "\n",
       "    .dataframe thead th {\n",
       "        text-align: right;\n",
       "    }\n",
       "</style>\n",
       "<table border=\"1\" class=\"dataframe\">\n",
       "  <thead>\n",
       "    <tr style=\"text-align: right;\">\n",
       "      <th></th>\n",
       "      <th>Sex</th>\n",
       "      <th>Survived</th>\n",
       "    </tr>\n",
       "  </thead>\n",
       "  <tbody>\n",
       "    <tr>\n",
       "      <th>0</th>\n",
       "      <td>female</td>\n",
       "      <td>314</td>\n",
       "    </tr>\n",
       "    <tr>\n",
       "      <th>1</th>\n",
       "      <td>male</td>\n",
       "      <td>577</td>\n",
       "    </tr>\n",
       "  </tbody>\n",
       "</table>\n",
       "</div>"
      ],
      "text/plain": [
       "      Sex  Survived\n",
       "0  female       314\n",
       "1    male       577"
      ]
     },
     "execution_count": 307,
     "metadata": {},
     "output_type": "execute_result"
    }
   ],
   "source": [
    "train[[\"Sex\", \"Survived\"]].groupby(['Sex'], as_index=False).count()"
   ]
  },
  {
   "cell_type": "markdown",
   "metadata": {},
   "source": [
    "## <font color='brawn'> 3. SibSp and Parch </font>\n",
    "\n",
    "-> SibSp - number of siblings/spouse\n",
    "\n",
    "-> Parch - number of children/parents \n",
    "\n",
    "-> We can create new feature called Family Size\n",
    "\n",
    "-> We can create new feature called IsAlone"
   ]
  },
  {
   "cell_type": "code",
   "execution_count": 308,
   "metadata": {},
   "outputs": [
    {
     "data": {
      "text/html": [
       "<div>\n",
       "<style scoped>\n",
       "    .dataframe tbody tr th:only-of-type {\n",
       "        vertical-align: middle;\n",
       "    }\n",
       "\n",
       "    .dataframe tbody tr th {\n",
       "        vertical-align: top;\n",
       "    }\n",
       "\n",
       "    .dataframe thead th {\n",
       "        text-align: right;\n",
       "    }\n",
       "</style>\n",
       "<table border=\"1\" class=\"dataframe\">\n",
       "  <thead>\n",
       "    <tr style=\"text-align: right;\">\n",
       "      <th></th>\n",
       "      <th>FamilySize</th>\n",
       "      <th>Survived</th>\n",
       "    </tr>\n",
       "  </thead>\n",
       "  <tbody>\n",
       "    <tr>\n",
       "      <th>0</th>\n",
       "      <td>1</td>\n",
       "      <td>0.304</td>\n",
       "    </tr>\n",
       "    <tr>\n",
       "      <th>1</th>\n",
       "      <td>2</td>\n",
       "      <td>0.553</td>\n",
       "    </tr>\n",
       "    <tr>\n",
       "      <th>2</th>\n",
       "      <td>3</td>\n",
       "      <td>0.578</td>\n",
       "    </tr>\n",
       "    <tr>\n",
       "      <th>3</th>\n",
       "      <td>4</td>\n",
       "      <td>0.724</td>\n",
       "    </tr>\n",
       "    <tr>\n",
       "      <th>4</th>\n",
       "      <td>5</td>\n",
       "      <td>0.200</td>\n",
       "    </tr>\n",
       "    <tr>\n",
       "      <th>5</th>\n",
       "      <td>6</td>\n",
       "      <td>0.136</td>\n",
       "    </tr>\n",
       "    <tr>\n",
       "      <th>6</th>\n",
       "      <td>7</td>\n",
       "      <td>0.333</td>\n",
       "    </tr>\n",
       "    <tr>\n",
       "      <th>7</th>\n",
       "      <td>8</td>\n",
       "      <td>0.000</td>\n",
       "    </tr>\n",
       "    <tr>\n",
       "      <th>8</th>\n",
       "      <td>11</td>\n",
       "      <td>0.000</td>\n",
       "    </tr>\n",
       "  </tbody>\n",
       "</table>\n",
       "</div>"
      ],
      "text/plain": [
       "   FamilySize  Survived\n",
       "0           1     0.304\n",
       "1           2     0.553\n",
       "2           3     0.578\n",
       "3           4     0.724\n",
       "4           5     0.200\n",
       "5           6     0.136\n",
       "6           7     0.333\n",
       "7           8     0.000\n",
       "8          11     0.000"
      ]
     },
     "execution_count": 308,
     "metadata": {},
     "output_type": "execute_result"
    }
   ],
   "source": [
    "for dataset in full_data:\n",
    "    dataset['FamilySize'] = dataset['SibSp'] + dataset['Parch'] + 1\n",
    "\n",
    "train[['FamilySize', 'Survived']].groupby(['FamilySize'], as_index=False).mean()"
   ]
  },
  {
   "cell_type": "code",
   "execution_count": 309,
   "metadata": {},
   "outputs": [
    {
     "data": {
      "text/html": [
       "<div>\n",
       "<style scoped>\n",
       "    .dataframe tbody tr th:only-of-type {\n",
       "        vertical-align: middle;\n",
       "    }\n",
       "\n",
       "    .dataframe tbody tr th {\n",
       "        vertical-align: top;\n",
       "    }\n",
       "\n",
       "    .dataframe thead th {\n",
       "        text-align: right;\n",
       "    }\n",
       "</style>\n",
       "<table border=\"1\" class=\"dataframe\">\n",
       "  <thead>\n",
       "    <tr style=\"text-align: right;\">\n",
       "      <th></th>\n",
       "      <th>FamilySize</th>\n",
       "      <th>Survived</th>\n",
       "    </tr>\n",
       "  </thead>\n",
       "  <tbody>\n",
       "    <tr>\n",
       "      <th>0</th>\n",
       "      <td>1</td>\n",
       "      <td>537</td>\n",
       "    </tr>\n",
       "    <tr>\n",
       "      <th>1</th>\n",
       "      <td>2</td>\n",
       "      <td>161</td>\n",
       "    </tr>\n",
       "    <tr>\n",
       "      <th>2</th>\n",
       "      <td>3</td>\n",
       "      <td>102</td>\n",
       "    </tr>\n",
       "    <tr>\n",
       "      <th>3</th>\n",
       "      <td>4</td>\n",
       "      <td>29</td>\n",
       "    </tr>\n",
       "    <tr>\n",
       "      <th>4</th>\n",
       "      <td>5</td>\n",
       "      <td>15</td>\n",
       "    </tr>\n",
       "    <tr>\n",
       "      <th>5</th>\n",
       "      <td>6</td>\n",
       "      <td>22</td>\n",
       "    </tr>\n",
       "    <tr>\n",
       "      <th>6</th>\n",
       "      <td>7</td>\n",
       "      <td>12</td>\n",
       "    </tr>\n",
       "    <tr>\n",
       "      <th>7</th>\n",
       "      <td>8</td>\n",
       "      <td>6</td>\n",
       "    </tr>\n",
       "    <tr>\n",
       "      <th>8</th>\n",
       "      <td>11</td>\n",
       "      <td>7</td>\n",
       "    </tr>\n",
       "  </tbody>\n",
       "</table>\n",
       "</div>"
      ],
      "text/plain": [
       "   FamilySize  Survived\n",
       "0           1       537\n",
       "1           2       161\n",
       "2           3       102\n",
       "3           4        29\n",
       "4           5        15\n",
       "5           6        22\n",
       "6           7        12\n",
       "7           8         6\n",
       "8          11         7"
      ]
     },
     "execution_count": 309,
     "metadata": {},
     "output_type": "execute_result"
    }
   ],
   "source": [
    "train[['FamilySize', 'Survived']].groupby(['FamilySize'], as_index=False).count()"
   ]
  },
  {
   "cell_type": "code",
   "execution_count": 310,
   "metadata": {},
   "outputs": [
    {
     "data": {
      "text/html": [
       "<div>\n",
       "<style scoped>\n",
       "    .dataframe tbody tr th:only-of-type {\n",
       "        vertical-align: middle;\n",
       "    }\n",
       "\n",
       "    .dataframe tbody tr th {\n",
       "        vertical-align: top;\n",
       "    }\n",
       "\n",
       "    .dataframe thead th {\n",
       "        text-align: right;\n",
       "    }\n",
       "</style>\n",
       "<table border=\"1\" class=\"dataframe\">\n",
       "  <thead>\n",
       "    <tr style=\"text-align: right;\">\n",
       "      <th></th>\n",
       "      <th>IsAlone</th>\n",
       "      <th>Survived</th>\n",
       "    </tr>\n",
       "  </thead>\n",
       "  <tbody>\n",
       "    <tr>\n",
       "      <th>0</th>\n",
       "      <td>0</td>\n",
       "      <td>0.506</td>\n",
       "    </tr>\n",
       "    <tr>\n",
       "      <th>1</th>\n",
       "      <td>1</td>\n",
       "      <td>0.304</td>\n",
       "    </tr>\n",
       "  </tbody>\n",
       "</table>\n",
       "</div>"
      ],
      "text/plain": [
       "   IsAlone  Survived\n",
       "0        0     0.506\n",
       "1        1     0.304"
      ]
     },
     "execution_count": 310,
     "metadata": {},
     "output_type": "execute_result"
    }
   ],
   "source": [
    "for dataset in full_data:\n",
    "    dataset['IsAlone'] = 0\n",
    "    dataset.loc[dataset['FamilySize'] == 1, 'IsAlone'] = 1\n",
    "    \n",
    "train[['IsAlone', 'Survived']].groupby(['IsAlone'], as_index=False).mean()"
   ]
  },
  {
   "cell_type": "code",
   "execution_count": 311,
   "metadata": {},
   "outputs": [
    {
     "data": {
      "text/html": [
       "<div>\n",
       "<style scoped>\n",
       "    .dataframe tbody tr th:only-of-type {\n",
       "        vertical-align: middle;\n",
       "    }\n",
       "\n",
       "    .dataframe tbody tr th {\n",
       "        vertical-align: top;\n",
       "    }\n",
       "\n",
       "    .dataframe thead th {\n",
       "        text-align: right;\n",
       "    }\n",
       "</style>\n",
       "<table border=\"1\" class=\"dataframe\">\n",
       "  <thead>\n",
       "    <tr style=\"text-align: right;\">\n",
       "      <th></th>\n",
       "      <th>IsAlone</th>\n",
       "      <th>Survived</th>\n",
       "    </tr>\n",
       "  </thead>\n",
       "  <tbody>\n",
       "    <tr>\n",
       "      <th>0</th>\n",
       "      <td>0</td>\n",
       "      <td>354</td>\n",
       "    </tr>\n",
       "    <tr>\n",
       "      <th>1</th>\n",
       "      <td>1</td>\n",
       "      <td>537</td>\n",
       "    </tr>\n",
       "  </tbody>\n",
       "</table>\n",
       "</div>"
      ],
      "text/plain": [
       "   IsAlone  Survived\n",
       "0        0       354\n",
       "1        1       537"
      ]
     },
     "execution_count": 311,
     "metadata": {},
     "output_type": "execute_result"
    }
   ],
   "source": [
    "train[['IsAlone', 'Survived']].groupby(['IsAlone'], as_index=False).count()"
   ]
  },
  {
   "cell_type": "markdown",
   "metadata": {},
   "source": [
    "## <font color='brawn'>4. Embarked</font>\n",
    "\n",
    "-> missing value\n",
    "\n",
    "-> we try to fill those with the most occurred value ('S')"
   ]
  },
  {
   "cell_type": "code",
   "execution_count": 312,
   "metadata": {},
   "outputs": [
    {
     "name": "stdout",
     "output_type": "stream",
     "text": [
      "Boarded passengers grouped by port of embarkation (C=Cherbourg, Q=Queenstown, S=Southampton):\n",
      "S    644\n",
      "C    168\n",
      "Q     77\n",
      "Name: Embarked, dtype: int64\n"
     ]
    },
    {
     "data": {
      "image/png": "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\n",
      "text/plain": [
       "<Figure size 432x288 with 1 Axes>"
      ]
     },
     "metadata": {
      "needs_background": "light"
     },
     "output_type": "display_data"
    }
   ],
   "source": [
    "print('Boarded passengers grouped by port of embarkation (C=Cherbourg, Q=Queenstown, S=Southampton):')\n",
    "print(train['Embarked'].value_counts())\n",
    "sns.countplot(x='Embarked', data=train, palette='Set3')\n",
    "plt.show()"
   ]
  },
  {
   "cell_type": "code",
   "execution_count": 313,
   "metadata": {},
   "outputs": [
    {
     "data": {
      "text/html": [
       "<div>\n",
       "<style scoped>\n",
       "    .dataframe tbody tr th:only-of-type {\n",
       "        vertical-align: middle;\n",
       "    }\n",
       "\n",
       "    .dataframe tbody tr th {\n",
       "        vertical-align: top;\n",
       "    }\n",
       "\n",
       "    .dataframe thead th {\n",
       "        text-align: right;\n",
       "    }\n",
       "</style>\n",
       "<table border=\"1\" class=\"dataframe\">\n",
       "  <thead>\n",
       "    <tr style=\"text-align: right;\">\n",
       "      <th></th>\n",
       "      <th>Embarked</th>\n",
       "      <th>Survived</th>\n",
       "    </tr>\n",
       "  </thead>\n",
       "  <tbody>\n",
       "    <tr>\n",
       "      <th>0</th>\n",
       "      <td>C</td>\n",
       "      <td>0.554</td>\n",
       "    </tr>\n",
       "    <tr>\n",
       "      <th>1</th>\n",
       "      <td>Q</td>\n",
       "      <td>0.390</td>\n",
       "    </tr>\n",
       "    <tr>\n",
       "      <th>2</th>\n",
       "      <td>S</td>\n",
       "      <td>0.339</td>\n",
       "    </tr>\n",
       "  </tbody>\n",
       "</table>\n",
       "</div>"
      ],
      "text/plain": [
       "  Embarked  Survived\n",
       "0        C     0.554\n",
       "1        Q     0.390\n",
       "2        S     0.339"
      ]
     },
     "execution_count": 313,
     "metadata": {},
     "output_type": "execute_result"
    }
   ],
   "source": [
    "for dataset in full_data:\n",
    "    dataset['Embarked'] = dataset['Embarked'].fillna('S')\n",
    "\n",
    "train[['Embarked', 'Survived']].groupby(['Embarked'], as_index=False).mean()"
   ]
  },
  {
   "cell_type": "markdown",
   "metadata": {},
   "source": [
    "## <font color='brawn'>5. Fare</font>\n",
    "\n",
    "-> missing value\n",
    "\n",
    "-> we will replace it with the median and then we categorize it into 4 ranges"
   ]
  },
  {
   "cell_type": "code",
   "execution_count": 314,
   "metadata": {},
   "outputs": [
    {
     "data": {
      "text/html": [
       "<div>\n",
       "<style scoped>\n",
       "    .dataframe tbody tr th:only-of-type {\n",
       "        vertical-align: middle;\n",
       "    }\n",
       "\n",
       "    .dataframe tbody tr th {\n",
       "        vertical-align: top;\n",
       "    }\n",
       "\n",
       "    .dataframe thead th {\n",
       "        text-align: right;\n",
       "    }\n",
       "</style>\n",
       "<table border=\"1\" class=\"dataframe\">\n",
       "  <thead>\n",
       "    <tr style=\"text-align: right;\">\n",
       "      <th></th>\n",
       "      <th>CategoricalFare</th>\n",
       "      <th>Survived</th>\n",
       "    </tr>\n",
       "  </thead>\n",
       "  <tbody>\n",
       "    <tr>\n",
       "      <th>0</th>\n",
       "      <td>(-0.001, 7.91]</td>\n",
       "      <td>0.197</td>\n",
       "    </tr>\n",
       "    <tr>\n",
       "      <th>1</th>\n",
       "      <td>(7.91, 14.454]</td>\n",
       "      <td>0.304</td>\n",
       "    </tr>\n",
       "    <tr>\n",
       "      <th>2</th>\n",
       "      <td>(14.454, 31.0]</td>\n",
       "      <td>0.455</td>\n",
       "    </tr>\n",
       "    <tr>\n",
       "      <th>3</th>\n",
       "      <td>(31.0, 512.329]</td>\n",
       "      <td>0.581</td>\n",
       "    </tr>\n",
       "  </tbody>\n",
       "</table>\n",
       "</div>"
      ],
      "text/plain": [
       "   CategoricalFare  Survived\n",
       "0   (-0.001, 7.91]     0.197\n",
       "1   (7.91, 14.454]     0.304\n",
       "2   (14.454, 31.0]     0.455\n",
       "3  (31.0, 512.329]     0.581"
      ]
     },
     "execution_count": 314,
     "metadata": {},
     "output_type": "execute_result"
    }
   ],
   "source": [
    "for dataset in full_data:\n",
    "    dataset['Fare'] = dataset['Fare'].fillna(train['Fare'].median())\n",
    "train['CategoricalFare'] = pd.qcut(train['Fare'], 4)\n",
    "train[['CategoricalFare', 'Survived']].groupby(['CategoricalFare'], as_index=False).mean()"
   ]
  },
  {
   "cell_type": "code",
   "execution_count": 315,
   "metadata": {},
   "outputs": [
    {
     "data": {
      "text/html": [
       "<div>\n",
       "<style scoped>\n",
       "    .dataframe tbody tr th:only-of-type {\n",
       "        vertical-align: middle;\n",
       "    }\n",
       "\n",
       "    .dataframe tbody tr th {\n",
       "        vertical-align: top;\n",
       "    }\n",
       "\n",
       "    .dataframe thead th {\n",
       "        text-align: right;\n",
       "    }\n",
       "</style>\n",
       "<table border=\"1\" class=\"dataframe\">\n",
       "  <thead>\n",
       "    <tr style=\"text-align: right;\">\n",
       "      <th></th>\n",
       "      <th>CategoricalFare</th>\n",
       "      <th>Survived</th>\n",
       "    </tr>\n",
       "  </thead>\n",
       "  <tbody>\n",
       "    <tr>\n",
       "      <th>0</th>\n",
       "      <td>(-0.001, 7.91]</td>\n",
       "      <td>223</td>\n",
       "    </tr>\n",
       "    <tr>\n",
       "      <th>1</th>\n",
       "      <td>(7.91, 14.454]</td>\n",
       "      <td>224</td>\n",
       "    </tr>\n",
       "    <tr>\n",
       "      <th>2</th>\n",
       "      <td>(14.454, 31.0]</td>\n",
       "      <td>222</td>\n",
       "    </tr>\n",
       "    <tr>\n",
       "      <th>3</th>\n",
       "      <td>(31.0, 512.329]</td>\n",
       "      <td>222</td>\n",
       "    </tr>\n",
       "  </tbody>\n",
       "</table>\n",
       "</div>"
      ],
      "text/plain": [
       "   CategoricalFare  Survived\n",
       "0   (-0.001, 7.91]       223\n",
       "1   (7.91, 14.454]       224\n",
       "2   (14.454, 31.0]       222\n",
       "3  (31.0, 512.329]       222"
      ]
     },
     "execution_count": 315,
     "metadata": {},
     "output_type": "execute_result"
    }
   ],
   "source": [
    "train[['CategoricalFare', 'Survived']].groupby(['CategoricalFare'], as_index=False).count()"
   ]
  },
  {
   "cell_type": "markdown",
   "metadata": {},
   "source": [
    "## <font color='brawn'>6. Age</font>\n",
    "\n",
    "-> plenty of missing values\n",
    "\n",
    "-> we generate random numbers between (mean - std) and (mean + std) then we categorize age into 5 range"
   ]
  },
  {
   "cell_type": "code",
   "execution_count": 316,
   "metadata": {},
   "outputs": [
    {
     "name": "stderr",
     "output_type": "stream",
     "text": [
      "/Users/ewelina/opt/anaconda3/lib/python3.7/site-packages/ipykernel_launcher.py:7: SettingWithCopyWarning:\n",
      "\n",
      "\n",
      "A value is trying to be set on a copy of a slice from a DataFrame\n",
      "\n",
      "See the caveats in the documentation: https://pandas.pydata.org/pandas-docs/stable/user_guide/indexing.html#returning-a-view-versus-a-copy\n",
      "\n"
     ]
    },
    {
     "data": {
      "text/html": [
       "<div>\n",
       "<style scoped>\n",
       "    .dataframe tbody tr th:only-of-type {\n",
       "        vertical-align: middle;\n",
       "    }\n",
       "\n",
       "    .dataframe tbody tr th {\n",
       "        vertical-align: top;\n",
       "    }\n",
       "\n",
       "    .dataframe thead th {\n",
       "        text-align: right;\n",
       "    }\n",
       "</style>\n",
       "<table border=\"1\" class=\"dataframe\">\n",
       "  <thead>\n",
       "    <tr style=\"text-align: right;\">\n",
       "      <th></th>\n",
       "      <th>CategoricalAge</th>\n",
       "      <th>Survived</th>\n",
       "    </tr>\n",
       "  </thead>\n",
       "  <tbody>\n",
       "    <tr>\n",
       "      <th>0</th>\n",
       "      <td>(-0.08, 16.0]</td>\n",
       "      <td>0.528</td>\n",
       "    </tr>\n",
       "    <tr>\n",
       "      <th>1</th>\n",
       "      <td>(16.0, 32.0]</td>\n",
       "      <td>0.349</td>\n",
       "    </tr>\n",
       "    <tr>\n",
       "      <th>2</th>\n",
       "      <td>(32.0, 48.0]</td>\n",
       "      <td>0.384</td>\n",
       "    </tr>\n",
       "    <tr>\n",
       "      <th>3</th>\n",
       "      <td>(48.0, 64.0]</td>\n",
       "      <td>0.435</td>\n",
       "    </tr>\n",
       "    <tr>\n",
       "      <th>4</th>\n",
       "      <td>(64.0, 80.0]</td>\n",
       "      <td>0.091</td>\n",
       "    </tr>\n",
       "  </tbody>\n",
       "</table>\n",
       "</div>"
      ],
      "text/plain": [
       "  CategoricalAge  Survived\n",
       "0  (-0.08, 16.0]     0.528\n",
       "1   (16.0, 32.0]     0.349\n",
       "2   (32.0, 48.0]     0.384\n",
       "3   (48.0, 64.0]     0.435\n",
       "4   (64.0, 80.0]     0.091"
      ]
     },
     "execution_count": 316,
     "metadata": {},
     "output_type": "execute_result"
    }
   ],
   "source": [
    "for dataset in full_data:\n",
    "    age_avg   = dataset['Age'].mean()\n",
    "    age_std   = dataset['Age'].std()\n",
    "    age_null_count = dataset['Age'].isnull().sum()\n",
    "    \n",
    "    age_null_random_list = np.random.randint(age_avg - age_std, age_avg + age_std, size=age_null_count)\n",
    "    dataset['Age'][np.isnan(dataset['Age'])] = age_null_random_list\n",
    "    dataset['Age'] = dataset['Age'].astype(int)\n",
    "    \n",
    "train['CategoricalAge'] = pd.cut(train['Age'], 5)\n",
    "\n",
    "train[['CategoricalAge', 'Survived']].groupby(['CategoricalAge'], as_index=False).mean()"
   ]
  },
  {
   "cell_type": "code",
   "execution_count": 317,
   "metadata": {},
   "outputs": [
    {
     "data": {
      "text/html": [
       "<div>\n",
       "<style scoped>\n",
       "    .dataframe tbody tr th:only-of-type {\n",
       "        vertical-align: middle;\n",
       "    }\n",
       "\n",
       "    .dataframe tbody tr th {\n",
       "        vertical-align: top;\n",
       "    }\n",
       "\n",
       "    .dataframe thead th {\n",
       "        text-align: right;\n",
       "    }\n",
       "</style>\n",
       "<table border=\"1\" class=\"dataframe\">\n",
       "  <thead>\n",
       "    <tr style=\"text-align: right;\">\n",
       "      <th></th>\n",
       "      <th>CategoricalAge</th>\n",
       "      <th>Survived</th>\n",
       "    </tr>\n",
       "  </thead>\n",
       "  <tbody>\n",
       "    <tr>\n",
       "      <th>0</th>\n",
       "      <td>(-0.08, 16.0]</td>\n",
       "      <td>108</td>\n",
       "    </tr>\n",
       "    <tr>\n",
       "      <th>1</th>\n",
       "      <td>(16.0, 32.0]</td>\n",
       "      <td>453</td>\n",
       "    </tr>\n",
       "    <tr>\n",
       "      <th>2</th>\n",
       "      <td>(32.0, 48.0]</td>\n",
       "      <td>250</td>\n",
       "    </tr>\n",
       "    <tr>\n",
       "      <th>3</th>\n",
       "      <td>(48.0, 64.0]</td>\n",
       "      <td>69</td>\n",
       "    </tr>\n",
       "    <tr>\n",
       "      <th>4</th>\n",
       "      <td>(64.0, 80.0]</td>\n",
       "      <td>11</td>\n",
       "    </tr>\n",
       "  </tbody>\n",
       "</table>\n",
       "</div>"
      ],
      "text/plain": [
       "  CategoricalAge  Survived\n",
       "0  (-0.08, 16.0]       108\n",
       "1   (16.0, 32.0]       453\n",
       "2   (32.0, 48.0]       250\n",
       "3   (48.0, 64.0]        69\n",
       "4   (64.0, 80.0]        11"
      ]
     },
     "execution_count": 317,
     "metadata": {},
     "output_type": "execute_result"
    }
   ],
   "source": [
    "train[['CategoricalAge', 'Survived']].groupby(['CategoricalAge'], as_index=False).count()"
   ]
  },
  {
   "cell_type": "markdown",
   "metadata": {},
   "source": [
    "## <font color='brawn'>7. Name</font>\n",
    "\n",
    "-> inside this feature we can find the title of people"
   ]
  },
  {
   "cell_type": "code",
   "execution_count": 318,
   "metadata": {},
   "outputs": [
    {
     "data": {
      "text/html": [
       "<div>\n",
       "<style scoped>\n",
       "    .dataframe tbody tr th:only-of-type {\n",
       "        vertical-align: middle;\n",
       "    }\n",
       "\n",
       "    .dataframe tbody tr th {\n",
       "        vertical-align: top;\n",
       "    }\n",
       "\n",
       "    .dataframe thead th {\n",
       "        text-align: right;\n",
       "    }\n",
       "</style>\n",
       "<table border=\"1\" class=\"dataframe\">\n",
       "  <thead>\n",
       "    <tr style=\"text-align: right;\">\n",
       "      <th>Sex</th>\n",
       "      <th>female</th>\n",
       "      <th>male</th>\n",
       "    </tr>\n",
       "    <tr>\n",
       "      <th>Title</th>\n",
       "      <th></th>\n",
       "      <th></th>\n",
       "    </tr>\n",
       "  </thead>\n",
       "  <tbody>\n",
       "    <tr>\n",
       "      <th>Capt</th>\n",
       "      <td>0</td>\n",
       "      <td>1</td>\n",
       "    </tr>\n",
       "    <tr>\n",
       "      <th>Col</th>\n",
       "      <td>0</td>\n",
       "      <td>2</td>\n",
       "    </tr>\n",
       "    <tr>\n",
       "      <th>Countess</th>\n",
       "      <td>1</td>\n",
       "      <td>0</td>\n",
       "    </tr>\n",
       "    <tr>\n",
       "      <th>Don</th>\n",
       "      <td>0</td>\n",
       "      <td>1</td>\n",
       "    </tr>\n",
       "    <tr>\n",
       "      <th>Dr</th>\n",
       "      <td>1</td>\n",
       "      <td>6</td>\n",
       "    </tr>\n",
       "    <tr>\n",
       "      <th>Jonkheer</th>\n",
       "      <td>0</td>\n",
       "      <td>1</td>\n",
       "    </tr>\n",
       "    <tr>\n",
       "      <th>Lady</th>\n",
       "      <td>1</td>\n",
       "      <td>0</td>\n",
       "    </tr>\n",
       "    <tr>\n",
       "      <th>Major</th>\n",
       "      <td>0</td>\n",
       "      <td>2</td>\n",
       "    </tr>\n",
       "    <tr>\n",
       "      <th>Master</th>\n",
       "      <td>0</td>\n",
       "      <td>40</td>\n",
       "    </tr>\n",
       "    <tr>\n",
       "      <th>Miss</th>\n",
       "      <td>182</td>\n",
       "      <td>0</td>\n",
       "    </tr>\n",
       "    <tr>\n",
       "      <th>Mlle</th>\n",
       "      <td>2</td>\n",
       "      <td>0</td>\n",
       "    </tr>\n",
       "    <tr>\n",
       "      <th>Mme</th>\n",
       "      <td>1</td>\n",
       "      <td>0</td>\n",
       "    </tr>\n",
       "    <tr>\n",
       "      <th>Mr</th>\n",
       "      <td>0</td>\n",
       "      <td>517</td>\n",
       "    </tr>\n",
       "    <tr>\n",
       "      <th>Mrs</th>\n",
       "      <td>125</td>\n",
       "      <td>0</td>\n",
       "    </tr>\n",
       "    <tr>\n",
       "      <th>Ms</th>\n",
       "      <td>1</td>\n",
       "      <td>0</td>\n",
       "    </tr>\n",
       "    <tr>\n",
       "      <th>Rev</th>\n",
       "      <td>0</td>\n",
       "      <td>6</td>\n",
       "    </tr>\n",
       "    <tr>\n",
       "      <th>Sir</th>\n",
       "      <td>0</td>\n",
       "      <td>1</td>\n",
       "    </tr>\n",
       "  </tbody>\n",
       "</table>\n",
       "</div>"
      ],
      "text/plain": [
       "Sex       female  male\n",
       "Title                 \n",
       "Capt           0     1\n",
       "Col            0     2\n",
       "Countess       1     0\n",
       "Don            0     1\n",
       "Dr             1     6\n",
       "Jonkheer       0     1\n",
       "Lady           1     0\n",
       "Major          0     2\n",
       "Master         0    40\n",
       "Miss         182     0\n",
       "Mlle           2     0\n",
       "Mme            1     0\n",
       "Mr             0   517\n",
       "Mrs          125     0\n",
       "Ms             1     0\n",
       "Rev            0     6\n",
       "Sir            0     1"
      ]
     },
     "execution_count": 318,
     "metadata": {},
     "output_type": "execute_result"
    }
   ],
   "source": [
    "def get_title(name):\n",
    "    title_search = re.search(' ([A-Za-z]+)\\.', name)\n",
    "    # If the title exists, extract and return it.\n",
    "    if title_search:\n",
    "        return title_search.group(1)\n",
    "    return \"\"\n",
    "\n",
    "for dataset in full_data:\n",
    "    dataset['Title'] = dataset['Name'].apply(get_title)\n",
    "\n",
    "pd.crosstab(train['Title'], train['Sex'])"
   ]
  },
  {
   "cell_type": "code",
   "execution_count": 319,
   "metadata": {},
   "outputs": [
    {
     "data": {
      "text/html": [
       "<div>\n",
       "<style scoped>\n",
       "    .dataframe tbody tr th:only-of-type {\n",
       "        vertical-align: middle;\n",
       "    }\n",
       "\n",
       "    .dataframe tbody tr th {\n",
       "        vertical-align: top;\n",
       "    }\n",
       "\n",
       "    .dataframe thead th {\n",
       "        text-align: right;\n",
       "    }\n",
       "</style>\n",
       "<table border=\"1\" class=\"dataframe\">\n",
       "  <thead>\n",
       "    <tr style=\"text-align: right;\">\n",
       "      <th></th>\n",
       "      <th>Title</th>\n",
       "      <th>Survived</th>\n",
       "    </tr>\n",
       "  </thead>\n",
       "  <tbody>\n",
       "    <tr>\n",
       "      <th>0</th>\n",
       "      <td>Master</td>\n",
       "      <td>0.575</td>\n",
       "    </tr>\n",
       "    <tr>\n",
       "      <th>1</th>\n",
       "      <td>Miss</td>\n",
       "      <td>0.703</td>\n",
       "    </tr>\n",
       "    <tr>\n",
       "      <th>2</th>\n",
       "      <td>Mr</td>\n",
       "      <td>0.157</td>\n",
       "    </tr>\n",
       "    <tr>\n",
       "      <th>3</th>\n",
       "      <td>Mrs</td>\n",
       "      <td>0.794</td>\n",
       "    </tr>\n",
       "    <tr>\n",
       "      <th>4</th>\n",
       "      <td>Rare</td>\n",
       "      <td>0.348</td>\n",
       "    </tr>\n",
       "  </tbody>\n",
       "</table>\n",
       "</div>"
      ],
      "text/plain": [
       "    Title  Survived\n",
       "0  Master     0.575\n",
       "1    Miss     0.703\n",
       "2      Mr     0.157\n",
       "3     Mrs     0.794\n",
       "4    Rare     0.348"
      ]
     },
     "execution_count": 319,
     "metadata": {},
     "output_type": "execute_result"
    }
   ],
   "source": [
    "for dataset in full_data:\n",
    "    dataset['Title'] = dataset['Title'].replace(['Lady', 'Countess','Capt', 'Col',\n",
    "                        'Don', 'Dr', 'Major', 'Rev', 'Sir', 'Jonkheer', 'Dona'], 'Rare')\n",
    "\n",
    "    dataset['Title'] = dataset['Title'].replace('Mlle', 'Miss')\n",
    "    dataset['Title'] = dataset['Title'].replace('Ms', 'Miss')\n",
    "    dataset['Title'] = dataset['Title'].replace('Mme', 'Mrs')\n",
    "\n",
    "train[['Title', 'Survived']].groupby(['Title'], as_index=False).mean()"
   ]
  },
  {
   "cell_type": "markdown",
   "metadata": {},
   "source": [
    "## <font color='brawn'>8. Cabin</font>\n",
    "\n",
    "-> plenty of missing values"
   ]
  },
  {
   "cell_type": "code",
   "execution_count": 320,
   "metadata": {},
   "outputs": [
    {
     "data": {
      "text/plain": [
       "list"
      ]
     },
     "execution_count": 320,
     "metadata": {},
     "output_type": "execute_result"
    }
   ],
   "source": [
    "type(full_data)"
   ]
  },
  {
   "cell_type": "code",
   "execution_count": 321,
   "metadata": {},
   "outputs": [
    {
     "data": {
      "text/plain": [
       "pandas.core.frame.DataFrame"
      ]
     },
     "execution_count": 321,
     "metadata": {},
     "output_type": "execute_result"
    }
   ],
   "source": [
    "type(train)"
   ]
  },
  {
   "cell_type": "code",
   "execution_count": 322,
   "metadata": {},
   "outputs": [
    {
     "data": {
      "text/html": [
       "<div>\n",
       "<style scoped>\n",
       "    .dataframe tbody tr th:only-of-type {\n",
       "        vertical-align: middle;\n",
       "    }\n",
       "\n",
       "    .dataframe tbody tr th {\n",
       "        vertical-align: top;\n",
       "    }\n",
       "\n",
       "    .dataframe thead th {\n",
       "        text-align: right;\n",
       "    }\n",
       "</style>\n",
       "<table border=\"1\" class=\"dataframe\">\n",
       "  <thead>\n",
       "    <tr style=\"text-align: right;\">\n",
       "      <th></th>\n",
       "      <th>Has_Cabin</th>\n",
       "      <th>Survived</th>\n",
       "    </tr>\n",
       "  </thead>\n",
       "  <tbody>\n",
       "    <tr>\n",
       "      <th>0</th>\n",
       "      <td>0</td>\n",
       "      <td>0.300</td>\n",
       "    </tr>\n",
       "    <tr>\n",
       "      <th>1</th>\n",
       "      <td>1</td>\n",
       "      <td>0.667</td>\n",
       "    </tr>\n",
       "  </tbody>\n",
       "</table>\n",
       "</div>"
      ],
      "text/plain": [
       "   Has_Cabin  Survived\n",
       "0          0     0.300\n",
       "1          1     0.667"
      ]
     },
     "execution_count": 322,
     "metadata": {},
     "output_type": "execute_result"
    }
   ],
   "source": [
    "for dataset in full_data:\n",
    "    dataset['Has_Cabin'] = dataset['Cabin'].fillna(0)\n",
    "    dataset.loc[dataset['Has_Cabin'] != 0, 'Has_Cabin'] = 1\n",
    "    \n",
    "train[['Has_Cabin', 'Survived']].groupby(['Has_Cabin'], as_index=False).mean()\n",
    "#train['Has_Cabin'].value_counts()"
   ]
  },
  {
   "cell_type": "code",
   "execution_count": 323,
   "metadata": {},
   "outputs": [],
   "source": [
    "#columns = [x[0:] for x in full_data[0]]\n",
    "#columns"
   ]
  },
  {
   "cell_type": "code",
   "execution_count": 324,
   "metadata": {},
   "outputs": [
    {
     "data": {
      "text/html": [
       "<div>\n",
       "<style scoped>\n",
       "    .dataframe tbody tr th:only-of-type {\n",
       "        vertical-align: middle;\n",
       "    }\n",
       "\n",
       "    .dataframe tbody tr th {\n",
       "        vertical-align: top;\n",
       "    }\n",
       "\n",
       "    .dataframe thead th {\n",
       "        text-align: right;\n",
       "    }\n",
       "</style>\n",
       "<table border=\"1\" class=\"dataframe\">\n",
       "  <thead>\n",
       "    <tr style=\"text-align: right;\">\n",
       "      <th></th>\n",
       "      <th>Has_Cabin</th>\n",
       "      <th>Survived</th>\n",
       "    </tr>\n",
       "  </thead>\n",
       "  <tbody>\n",
       "    <tr>\n",
       "      <th>0</th>\n",
       "      <td>0</td>\n",
       "      <td>687</td>\n",
       "    </tr>\n",
       "    <tr>\n",
       "      <th>1</th>\n",
       "      <td>1</td>\n",
       "      <td>204</td>\n",
       "    </tr>\n",
       "  </tbody>\n",
       "</table>\n",
       "</div>"
      ],
      "text/plain": [
       "   Has_Cabin  Survived\n",
       "0          0       687\n",
       "1          1       204"
      ]
     },
     "execution_count": 324,
     "metadata": {},
     "output_type": "execute_result"
    }
   ],
   "source": [
    "train[['Has_Cabin', 'Survived']].groupby(['Has_Cabin'], as_index=False).count()"
   ]
  },
  {
   "cell_type": "markdown",
   "metadata": {},
   "source": [
    "# <font color='orange'>Data Cleaning</font>\n",
    "\n",
    "-> cleaning data \n",
    "\n",
    "-> map features into numerical values"
   ]
  },
  {
   "cell_type": "code",
   "execution_count": 325,
   "metadata": {},
   "outputs": [],
   "source": [
    "for dataset in full_data:\n",
    "    # Mapping Sex\n",
    "    dataset['Sex'] = dataset['Sex'].map( {'female': 0, 'male': 1} ).astype(int)\n",
    "    \n",
    "    # Mapping titles\n",
    "    title_mapping = {\"Mr\": 1, \"Miss\": 2, \"Mrs\": 3, \"Master\": 4, \"Rare\": 5}\n",
    "    dataset['Title'] = dataset['Title'].map(title_mapping)\n",
    "    dataset['Title'] = dataset['Title'].fillna(0)\n",
    "    \n",
    "    # Mapping Embarked\n",
    "    dataset['Embarked'] = dataset['Embarked'].map( {'S': 0, 'C': 1, 'Q': 2} ).astype(int)\n",
    "    \n",
    "    # Mapping Fare\n",
    "    dataset.loc[ dataset['Fare'] <= 7.91, 'Fare']                               = 0\n",
    "    dataset.loc[(dataset['Fare'] > 7.91) & (dataset['Fare'] <= 14.454), 'Fare'] = 1\n",
    "    dataset.loc[(dataset['Fare'] > 14.454) & (dataset['Fare'] <= 31), 'Fare']   = 2\n",
    "    dataset.loc[ dataset['Fare'] > 31, 'Fare']                                  = 3\n",
    "    dataset['Fare'] = dataset['Fare'].astype(int)\n",
    "    \n",
    "    # Mapping Age\n",
    "    dataset.loc[ dataset['Age'] <= 16, 'Age']                          = 0\n",
    "    dataset.loc[(dataset['Age'] > 16) & (dataset['Age'] <= 32), 'Age'] = 1\n",
    "    dataset.loc[(dataset['Age'] > 32) & (dataset['Age'] <= 48), 'Age'] = 2\n",
    "    dataset.loc[(dataset['Age'] > 48) & (dataset['Age'] <= 64), 'Age'] = 3\n",
    "    dataset.loc[ dataset['Age'] > 64, 'Age']                           = 4"
   ]
  },
  {
   "cell_type": "code",
   "execution_count": 326,
   "metadata": {},
   "outputs": [
    {
     "data": {
      "text/html": [
       "<div>\n",
       "<style scoped>\n",
       "    .dataframe tbody tr th:only-of-type {\n",
       "        vertical-align: middle;\n",
       "    }\n",
       "\n",
       "    .dataframe tbody tr th {\n",
       "        vertical-align: top;\n",
       "    }\n",
       "\n",
       "    .dataframe thead th {\n",
       "        text-align: right;\n",
       "    }\n",
       "</style>\n",
       "<table border=\"1\" class=\"dataframe\">\n",
       "  <thead>\n",
       "    <tr style=\"text-align: right;\">\n",
       "      <th></th>\n",
       "      <th>Survived</th>\n",
       "      <th>Pclass</th>\n",
       "      <th>Sex</th>\n",
       "      <th>Age</th>\n",
       "      <th>Fare</th>\n",
       "      <th>Embarked</th>\n",
       "      <th>IsAlone</th>\n",
       "      <th>Title</th>\n",
       "      <th>Has_Cabin</th>\n",
       "    </tr>\n",
       "  </thead>\n",
       "  <tbody>\n",
       "    <tr>\n",
       "      <th>0</th>\n",
       "      <td>0</td>\n",
       "      <td>3</td>\n",
       "      <td>1</td>\n",
       "      <td>1</td>\n",
       "      <td>0</td>\n",
       "      <td>0</td>\n",
       "      <td>0</td>\n",
       "      <td>1</td>\n",
       "      <td>0</td>\n",
       "    </tr>\n",
       "    <tr>\n",
       "      <th>1</th>\n",
       "      <td>1</td>\n",
       "      <td>1</td>\n",
       "      <td>0</td>\n",
       "      <td>2</td>\n",
       "      <td>3</td>\n",
       "      <td>1</td>\n",
       "      <td>0</td>\n",
       "      <td>3</td>\n",
       "      <td>1</td>\n",
       "    </tr>\n",
       "    <tr>\n",
       "      <th>2</th>\n",
       "      <td>1</td>\n",
       "      <td>3</td>\n",
       "      <td>0</td>\n",
       "      <td>1</td>\n",
       "      <td>1</td>\n",
       "      <td>0</td>\n",
       "      <td>1</td>\n",
       "      <td>2</td>\n",
       "      <td>0</td>\n",
       "    </tr>\n",
       "    <tr>\n",
       "      <th>3</th>\n",
       "      <td>1</td>\n",
       "      <td>1</td>\n",
       "      <td>0</td>\n",
       "      <td>2</td>\n",
       "      <td>3</td>\n",
       "      <td>0</td>\n",
       "      <td>0</td>\n",
       "      <td>3</td>\n",
       "      <td>1</td>\n",
       "    </tr>\n",
       "    <tr>\n",
       "      <th>4</th>\n",
       "      <td>0</td>\n",
       "      <td>3</td>\n",
       "      <td>1</td>\n",
       "      <td>2</td>\n",
       "      <td>1</td>\n",
       "      <td>0</td>\n",
       "      <td>1</td>\n",
       "      <td>1</td>\n",
       "      <td>0</td>\n",
       "    </tr>\n",
       "    <tr>\n",
       "      <th>5</th>\n",
       "      <td>0</td>\n",
       "      <td>3</td>\n",
       "      <td>1</td>\n",
       "      <td>2</td>\n",
       "      <td>1</td>\n",
       "      <td>2</td>\n",
       "      <td>1</td>\n",
       "      <td>1</td>\n",
       "      <td>0</td>\n",
       "    </tr>\n",
       "    <tr>\n",
       "      <th>6</th>\n",
       "      <td>0</td>\n",
       "      <td>1</td>\n",
       "      <td>1</td>\n",
       "      <td>3</td>\n",
       "      <td>3</td>\n",
       "      <td>0</td>\n",
       "      <td>1</td>\n",
       "      <td>1</td>\n",
       "      <td>1</td>\n",
       "    </tr>\n",
       "    <tr>\n",
       "      <th>7</th>\n",
       "      <td>0</td>\n",
       "      <td>3</td>\n",
       "      <td>1</td>\n",
       "      <td>0</td>\n",
       "      <td>2</td>\n",
       "      <td>0</td>\n",
       "      <td>0</td>\n",
       "      <td>4</td>\n",
       "      <td>0</td>\n",
       "    </tr>\n",
       "    <tr>\n",
       "      <th>8</th>\n",
       "      <td>1</td>\n",
       "      <td>3</td>\n",
       "      <td>0</td>\n",
       "      <td>1</td>\n",
       "      <td>1</td>\n",
       "      <td>0</td>\n",
       "      <td>0</td>\n",
       "      <td>3</td>\n",
       "      <td>0</td>\n",
       "    </tr>\n",
       "    <tr>\n",
       "      <th>9</th>\n",
       "      <td>1</td>\n",
       "      <td>2</td>\n",
       "      <td>0</td>\n",
       "      <td>0</td>\n",
       "      <td>2</td>\n",
       "      <td>1</td>\n",
       "      <td>0</td>\n",
       "      <td>3</td>\n",
       "      <td>0</td>\n",
       "    </tr>\n",
       "  </tbody>\n",
       "</table>\n",
       "</div>"
      ],
      "text/plain": [
       "   Survived  Pclass  Sex  Age  Fare  Embarked  IsAlone  Title Has_Cabin\n",
       "0         0       3    1    1     0         0        0      1         0\n",
       "1         1       1    0    2     3         1        0      3         1\n",
       "2         1       3    0    1     1         0        1      2         0\n",
       "3         1       1    0    2     3         0        0      3         1\n",
       "4         0       3    1    2     1         0        1      1         0\n",
       "5         0       3    1    2     1         2        1      1         0\n",
       "6         0       1    1    3     3         0        1      1         1\n",
       "7         0       3    1    0     2         0        0      4         0\n",
       "8         1       3    0    1     1         0        0      3         0\n",
       "9         1       2    0    0     2         1        0      3         0"
      ]
     },
     "execution_count": 326,
     "metadata": {},
     "output_type": "execute_result"
    }
   ],
   "source": [
    "# Feature Selection\n",
    "drop_elements = ['PassengerId', 'Name', 'Ticket', 'Cabin', 'SibSp', 'Parch', 'FamilySize']\n",
    "train = train.drop(drop_elements, axis = 1)\n",
    "train = train.drop(['CategoricalAge', 'CategoricalFare'], axis = 1)\n",
    "\n",
    "test  = test.drop(drop_elements, axis = 1)\n",
    "\n",
    "train.head(10)"
   ]
  },
  {
   "cell_type": "markdown",
   "metadata": {},
   "source": [
    "# <font color='orange'>Visualising Processed Data</font>"
   ]
  },
  {
   "cell_type": "markdown",
   "metadata": {},
   "source": [
    "### <font color='orange'>Pearson Correlation Heatmap</font> "
   ]
  },
  {
   "cell_type": "code",
   "execution_count": 269,
   "metadata": {},
   "outputs": [
    {
     "data": {
      "text/plain": [
       "<matplotlib.axes._subplots.AxesSubplot at 0x13306e850>"
      ]
     },
     "execution_count": 269,
     "metadata": {},
     "output_type": "execute_result"
    },
    {
     "data": {
      "image/png": "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\n",
      "text/plain": [
       "<Figure size 864x864 with 2 Axes>"
      ]
     },
     "metadata": {
      "needs_background": "light"
     },
     "output_type": "display_data"
    }
   ],
   "source": [
    "#colormap = plt.cm.viridis\n",
    "colormap = plt.cm.RdBu\n",
    "plt.figure(figsize=(12,12))\n",
    "plt.title('Pearson Correlation of Features', y=1.05, size=15)\n",
    "sns.heatmap(train.astype(float).corr(),linewidths=0.1,vmax=1.0, square=True, cmap=colormap, linecolor='white', annot=True)"
   ]
  },
  {
   "cell_type": "markdown",
   "metadata": {},
   "source": [
    "### <font color='orange'>Pairplots</font> "
   ]
  },
  {
   "cell_type": "code",
   "execution_count": 270,
   "metadata": {},
   "outputs": [],
   "source": [
    "#sns.distplot(train['Survived']);"
   ]
  },
  {
   "cell_type": "code",
   "execution_count": 219,
   "metadata": {},
   "outputs": [
    {
     "data": {
      "image/png": "iVBORw0KGgoAAAANSUhEUgAABdsAAAWqCAYAAAAHkrnBAAAABHNCSVQICAgIfAhkiAAAAAlwSFlzAAALEgAACxIB0t1+/AAAADh0RVh0U29mdHdhcmUAbWF0cGxvdGxpYiB2ZXJzaW9uMy4xLjMsIGh0dHA6Ly9tYXRwbG90bGliLm9yZy+AADFEAAAgAElEQVR4nOzdfZBlaV0n+O+Teasqyy6kmq7saaZfhB2Y6EHUZalFXSNm2dHZbcCAXVdLIOgdXWMICRnH1dgIxtlBlgkj1J11RwcWpmNFoRh0y5dwO7BdNHx3YmApEF9oYOxgmKYCsbL6Ba2mblXezGf/yKyq7MrMrpt58uR9TtXnE3Gi7z333Hu//ZzfPXXuL889p9RaAwAAAAAA7N7crAMAAAAAAMDQabYDAAAAAEBHmu0AAAAAANCRZjsAAAAAAHSk2Q4AAAAAAB1ptgMAAAAAQEeDbLbfd999NYnJNIupE7VrmvG0a2rXNOOpE/VrmuHUido1zXDqRO2aZjztmto1zXjaNbVrmvHEBoNstp87d27WEWBX1C5DpXYZMvXLUKldhkrtMlRql6FSu9COQTbbAQAAAACgJZrtAAAAAADQkWY7AAAAAAB0pNkOAAAAAAAdabYDAAAAAEBHoz5fvJSykOT3kxxaf69fqrX+yDXLHEryviQvTfJYku+stX6uz1zQqsl4nPnxUrI6SeZGWVlYzGhhYdaxaFCLtdJKplZytJbl4ng5GZ/L/OqlrMwdTBaO5dDCgZlkWV5eydnzFzNZrRnNldx+5FAOHJifSZakrfW0E0PNnQw3e2u5W8vTCuOyWWtj0loe2tVarbSUR5b2s7TG2DAttdJNr832JBeT/L1a6/lSyoEkf1hK+fVa64c3LPM9SZ6otb6glPLaJD+e5Dt7zgXNmYzHmX/80ymn7k+efDQ5ek/mT5zM5Dn32qjxNC3WSiuZWsnRWpaL4+XMP/7pjE69Pnny0YyO3pPJiQ/k4nPu3feG+/LySj599nze9P6P5cwTF3LXrYfzrje8NPfefmQmDfeW1tNODDV3MtzsreVuLU8rjMtmrY1Ja3loV2u10lIeWdrP0hpjw7TUSne9nkamrjm/fvfA+lSvWew1Sd67fvuXknxzKaX0mQtaND9euroxS5InH005df/aXxNhgxZrpZVMreRoLUvG56402i9nGZ16fTI+t+9Rzp6/eKXRniRnnriQN73/Yzl7/uK+Z0kaW087MNTcyXCzt5a7tTytMC6btTYmreWhXa3VSkt5ZGk/S2uMDdNSK931fs72Usp8KeUTSc4m+c1a60euWeTOJJ9PklrrJMmXkty2xeu8sZRyupRyemnJCmY4pq7d1cnVjdllTz66Nh822qda2dF2t5X6bSVHY1nmVy9tmWVudXnfs0xW65VG+2VnnriQyeq1f4vv5obf9g41dzLc7K1te4c6jn0zLpupXYZK7coy5Cz7YJDf12ifWums92Z7rXWl1vqfJrkryctKKS++ZpGtjmLf9I271vpArfV4rfX44uJiH1GhF1PX7twoOXrP0+cdvWdtPmy0T7Wyo+1uK/XbSo7GsqzMHdwyy+rc/p+zfTRXcteth582765bD2c0t7c/arvht71DzZ0MN3tr296hjmPfjMtmapehUruyDDnLPhjk9zXap1Y6673Zflmt9ckkv5vkvmseOpPk7iQppYySPDvJ4/uVC1qxsrCYeuLk1Y3a0XtST5zMyoI/LvF0LdZKK5laydFaliwcy+TEB56WZXLiA8nCsX2PcvuRQ3nXG156peF++Zzttx85tO9ZksbW0w4MNXcy3Oyt5W4tTyuMy2atjUlreWhXa7XSUh5Z2s/SGmPDtNRKd6XWvf3Z9tNevJTFJMu11idLKYeT/EaSH6+1fnDDMt+X5Gtqrd+7foHUb6u1nnim1z1+/Hg9ffp0b7nhGXQ69PJ6teuKz0xrl7Wy6/qdZrvbSv22kqO1LBfHy8n4XOZWl9eOaF84tu8XR71seXklZ89fzGS1ZjRXcvuRQ9e7OKpt7xaGmjsZbvZd5Fa7M2BcNlO7DFVr+7wt1a4s7WfZhZvi+xrt2+/9hhtN378BeG6S95ZS5rN2FP2pWusHSylvT3K61vpgkp9JcrKU8kjWjmh/bc+ZoFmjhYVk4e6r92eYhba1WCutZGolR2tZDi0cSBaeO8MEVx04MJ87b/2KWce4oqX1tBNDzZ0MN3truVvL0wrjsllrY9JaHtrVWq20lEeW9rO0xtgwLbXSTa/jVWv9kyQv2WL+WzfcHif5jj5zAAAAAABAn/btnO0AAAAAAHCj0mwHAAAAAICONNsBAAAAAKAjzXYAAAAAAOhIsx0AAAAAADrSbAcAAAAAgI402wEAAAAAoCPNdgAAAAAA6EizHQAAAAAAOtJsBwAAAACAjjTbAQAAAACgI812AAAAAADoSLMdAAAAAAA60mwHAAAAAICONNsBAAAAAKAjzXYAAAAAAOhIsx0AAAAAADrSbAcAAAAAgI402wEAAAAAoCPNdgAAAAAA6EizHQAAAAAAOtJsBwAAAACAjjTbAQAAAACgI812AAAAAADoSLMdAAAAAAA60mwHAAAAAICONNsBAAAAAKCjXpvtpZS7Sym/U0r5VCnlk6WUf7zFMi8vpXyplPKJ9emtfWYCAAAAAIC9Nur59SdJfqjW+vFSyrOSfKyU8pu11oevWe4Paq3f2nMWbgLPe8uv7ep5n/uxV+1xEgAAAADgZtLrke211r+otX58/fZfJ/lUkjv7fE8AAAAAANhv+3bO9lLK85K8JMlHtnj4G0spf1xK+fVSylfvVyYAAAAAANgL+9JsL6UcSfLLSX6g1vpX1zz88SRfVWv9uiT/KsmvbvMabyylnC6lnF5aWuo3MOwhtctQqV2GTP0yVGqXoVK7DJXaZajULrSp92Z7KeVA1hrt/6bW+ivXPl5r/ata6/n12w8lOVBKObbFcg/UWo/XWo8vLi72HRv2jNplqNQuQ6Z+GSq1y1CpXYZK7TJUahfa1GuzvZRSkvxMkk/VWn9ym2XuWF8upZSXrWd6rM9cAAAAAACwl0Y9v/43Jbk/yZ+WUj6xPu+Hk9yTJLXWdyf59iRvKqVMklxI8tpaa+05FwAAAAAA7Jlem+211j9MUq6zzDuSvKPPHAAAAAAA0Kd9uUAqAAAAAADcyDTbAQAAAACgI812AAAAAADoSLMdAAAAAAA60mwHAAAAAICONNsBAAAAAKAjzXYAAAAAAOhIsx0AAAAAADrSbAcAAAAAgI402wEAAAAAoCPNdgAAAAAA6EizHQAAAAAAOtJsBwAAAACAjjTbAQAAAACgI812AAAAAADoSLMdAAAAAAA60mwHAAAAAICONNsBAAAAAKCjqZvtpZS/VUo5tH775aWU7y+lHO0vGgAAAAAADMNOjmz/5SQrpZQXJPmZJM9P8oFeUgEAAAAAwIDspNm+WmudJPnvkvzLWuv/lOS5/cQCAAAAAIDh2EmzfbmU8rok/yDJB9fnHdj7SAAAAAAAMCw7abZ/d5JvTPKjtdb/UEp5fpL39xMLAAAAAACGYzTtgrXWh5N8f5KUUm5N8qxa64/1FQwAAAAAAIZi6iPbSym/W0r5ylLKc5L8cZKfLaX8ZH/RAAAAAABgGHZyGpln11r/Ksm3JfnZWutLk3xLP7EAAAAAAGA4dtJsH5VSnpvkRK5eIBUAAAAAAG56O2m2vz3Jh5I8Umv9aCnlP0ny5/3EAgAAAACA4djJBVJ/Mckvbrj/2ST//TM9p5Ryd5L3JbkjyWqSB2qtP3XNMiXJTyV5ZZIvJ/muWuvHp80FN5LJeJz58VKyOknmRllZWMxoYWHWsWhQi7UyuTjO/IUNmQ4vZnRo/zO1NDaybJNlspqz5y9meWU1B+bncvuRQxmNdvL3/701Hk/y2IVLmazWjOZKbjt8MAsLU+8izUxL63Snhpq9tdyt5WmFcdlsdTJJzn8xZXU5de5AcuSOzI1mt52zjphWa7XSUp7JZJz58xuyHFnMaDSjLJfGmf/yhixfsZjRwRmtp8k42TAuObKYzGBcWty/bKl+adtkeZz5pzbUyi2LGR1QK9Oa+pNeSllI8j1JvjrJlRGutf6Pz/C0SZIfqrV+vJTyrCQfK6X8Zq314Q3LvCLJC9enr0/yrvX/wk1lMh5n/vFPp5y6P3ny0eToPZk/cTKT59zrH0CepsVamVwcZ/6xLTLddu++NtxbGhtZtskyWc2n//Kv873v/1jOPHEhd916OO9+w0tz79941kwa7uPxJH/+2FN504Y873rDS/PC226Z+ReiZ9LSOt2poWZvLXdreVphXDZbnUxSzv7ZlTEpR+9JPXEyq7e/eCYNd+uIabVWKy3lmUzGmT+7RZbb7933hvvk0jjz57bIcuze/W+4T8bJ2U8nG7LkxMnk9nv3teHe4v5lS/VL2ybL48wvbVEri/dquE9pJ99qT2btCPX/JsnvJbkryV8/0xNqrX9x+Sj1WutfJ/lUkjuvWew1Sd5X13w4ydH1c8PDTWV+vHR1Y5asfRk6df/aX55hgxZrZf7CNpku7G+mlsZGlq2dPX/xSqM9Sc48cSHf+/6P5ez5i/ueJUkeu3Dpyhehy3ne9P6P5bELl2aSZ1otrdOdGmr21nK3lqcVxmUL57+45Zjk/BdnEsc6Ylqt1UpLeebPb5Pl/AyyfHmbLF+ewXo6v3S10b6eJafuX5u/j1rcv2ypfmnb/FPb1MpTamVaO2m2v6DW+s+SPFVrfW+SVyX5mmmfXEp5XpKXJPnINQ/dmeTzG+6fyeaGfEopbyylnC6lnF5asoIZjqlrd3VydWN22ZOPrs2HjfapVna03W2lflvJIcu2lldWr3zxuOzMExcyWVnd0/eZtn4nq3XrPKt1T/PsuYbW6Y4NNXtr296hjmPfjMsmZXV5yzEpq8t7+z5ql71muyvLQLPs1/7lIL+v0T610tlOmu2X98aeLKW8OMmzkzxvmieWUo4k+eUkP1Br/atrH97iKZu2QLXWB2qtx2utxxcXF6dPDTM2de3OjdZ+5rbR0XvW5sNG+1QrO9rutlK/reSQZVsH5udy162HnzbvrlsPZzS/t6eQmbZ+R3Nl6zxzW+2eNKShdbpjQ83e2rZ3qOPYN+OySZ07sOWY1LkDe/s+ape9Zrsry0Cz7Nf+5SC/r9E+tdLZTr7ZPlBKuTXJP0vyYJKHk/zE9Z5USjmQtUb7v6m1/soWi5xJcveG+3cl+cIOcsENYWVhMfXEyasbtfXzaa4s+OMST9dirawc3ibT4f3N1NLYyLK1248cyrvf8NIrX0Aun7P99iOH9j1Lktx2+GDedU2ed73hpbnt8MGZ5JlWS+t0p4aavbXcreVphXHZwpE7thyTHLljJnGsI6bVWq20lGflyDZZjswgy1dsk+UrZrCejiyunaN9Q5acOLk2fx+1uH/ZUv3StpVbtqmVW9TKtEqt/f1MupRSkrw3yeO11h/YZplXJXlzkldm7cKoP11rfdkzve7x48fr6dOn9zouN4DnveXXdvW8z/3Yq6ZdtNOfoq9Xu64OzrR2WSu7rt9ptruTi+O1c7RfznR4cV8vjnolR0OfI1m2yTJZzdnzFzNZWc1ofi63Hzl0vYuj9rrtHY8neezCpUxWa0ZzJbcdPtj0xVEva2md7tRQs+8it/2GGTAum61OJmvnbl9dXjui/cgd17s4qtqlCa3t87ZUu5PJeO0c7ZezHFnc94ujXslyabx2jvbLWb5icf8vjnolzHjtHO3rWXJkcV8vjnrZLvcv+/2+1lD90rbJ8njtHO2Xa+WWxetdHLXxnwXvr+t/0kv5wWd6vNb6k8/w8DcluT/Jn5ZSPrE+74eT3LP+3HcneShrjfZHknw5yXdfPzbcmEYLC8nC1R96tN/qYVZarJXRoYXk0OwztTQ2smyTZTSXv3n08PUX3CcLC6PcOYDm+rVaWqc7NdTsreVuLU8rjMtmc6NRcvSuJG18G7aOmFZrtdJSntFoITnaSJaDC8nBNrLkmnGZlRb3L1uqX9o2OtDO9mWIphmvZ+32xWutf5jr7M/VtUPrv2+37wEAAAAAALN23WZ7rfV/3Y8gAAAAAAAwVFNfILWU8t5SytEN928tpbynn1gAAAAAADAcUzfbk3xtrfXJy3dqrU8kecneRwIAAAAAgGHZSbN9rpRy6+U7pZTnxDnyAQAAAABgR83y/z3Jvyul/GKSmuREkh/tJRUAAAAAAAzI1M32Wuv7Simnk/y9JCXJt9VaH+4tGQAAAAAADMR1m+2llIUk35vkBUn+NMm7a62TvoMBAAAAAMBQTHPO9vcmOZ61RvsrkvyLXhMBAAAAAMDATHMamRfVWr8mSUopP5Pk/+s3EgAAAAAADMs0R7YvX77h9DEAAAAAALDZNEe2f10p5a/Wb5ckh9fvlyS11vqVvaUDAAAAAIABuG6zvdY6vx9BAAAAAABgqKY5jQwAAAAAAPAMNNsBAAAAAKAjzXYAAAAAAOhIsx0AAAAAADrSbAcAAAAAgI402wEAAAAAoCPNdgAAAAAA6EizHQAAAAAAOtJsBwAAAACAjjTbAQAAAACgI812AAAAAADoSLMdAAAAAAA60mwHAAAAAICONNsBAAAAAKAjzXYAAAAAAOio12Z7KeU9pZSzpZQ/2+bxl5dSvlRK+cT69NY+8wAAAAAAQB9GPb/+zyV5R5L3PcMyf1Br/daecwAAAAAAQG96PbK91vr7SR7v8z0AAAAAAGDWWjhn+zeWUv64lPLrpZSvnnUYAAAAAADYqVk32z+e5KtqrV+X5F8l+dXtFiylvLGUcrqUcnppaWnfAkJXapehUrsMmfplqNQuQ6V2GSq1y1CpXWjTTJvttda/qrWeX7/9UJIDpZRj2yz7QK31eK31+OLi4r7mhC7ULkOldhky9ctQqV2GSu0yVGqXoVK70Ka+L5D6jEopdyT5y1prLaW8LGvN/8f27A3e9uxdPu9LexYBAAAAAIAbX6/N9lLKzyd5eZJjpZQzSX4kyYEkqbW+O8m3J3lTKWWS5EKS19Zaa5+ZAAAAAABgr/XabK+1vu46j78jyTv6zAAAAAAAAH2b9QVSAQAAAABg8DTbAQAAAACgo5leIBX22ucWXr/LZ7ooLgAAAACwe45sBwAAAACAjjTbAQAAAACgI812AAAAAADoSLMdAAAAAAA60mwHAAAAAICONNsBAAAAAKAjzXYAAAAAAOhoNOsA7L/nveXXdvW8z/3Yq/Y4CQAAAADAjcGR7QAAAAAA0JFmOwAAAAAAdOQ0Mjehzy28fpfP/NKe5gAAAAAAuFE4sh0AAAAAADrSbAcAAAAAgI402wEAAAAAoCPNdgAAAAAA6EizHQAAAAAAOtJsBwAAAACAjjTbAQAAAACgI812AAAAAADoSLMdAAAAAAA60mwHAAAAAICONNsBAAAAAKAjzXYAAAAAAOhIsx0AAAAAADrqtdleSnlPKeVsKeXPtnm8lFJ+upTySCnlT0op/1mfeQAAAAAAoA+jnl//55K8I8n7tnn8FUleuD59fZJ3rf8XbkqT5XHmn1pKVifJ3CgrtyxmdGBh1rFo0GQ8zvx4Q60sLGa0MNtaWZ2MU85fzVSPLGZutP+ZWhobWbZ26eJy6oVzmV+9lJW5gymHj+XgoQMzyZIk4/Ekj124lMlqzWiu5LbDB7Ow0Pcu0s2tpXrcidZyt5anFcZls9WVlaycX0pZuZg6fyjzRxYzNz8/szzWEdNqrVZayjOZjDO/Yd975chiRjPY907a+R6QJJksJ+e/eCVLjtyRjPZ/P7OlWmk5E21SK930+k2y1vr7pZTnPcMir0nyvlprTfLhUsrRUspza61/0WcuaNFkeZz5pU+nnLo/efLR5Og9mT9xMpPFezXceZrJeJz5x7eolefcO7N/AFcn45SzT8+UEyezevu9+7qj3dLYyLK1SxeXM/fYpzM69frkyUczOnpPJic+kEu33TuThvt4PMmfP/ZU3vT+j+XMExdy162H8643vDQvvO0WDfeetFSPO9Fa7tbytMK4bLa6spLVv3w4B9a3u1nf7uZvvGgmDXfriGm1Vist5ZlMxpk/u0WW2+/d94Z7K98Dkqw12s9+MrkmS27/6n1tuLdUKy1nok1qpbtZn7P9ziSf33D/zPo8uOnMP7V0dWOWJE8+mnLq/rUj3WGD+fE2tTKeXa2U81tnKuf3N1NLYyPL1uqFc1ca7ZezjE69PvXCuX3PkiSPXbh0pdGeJGeeuJA3vf9jeezCpZnkuRm0VI870Vru1vK0wrhstnJ+acvt7so+/xt9mXXEtFqrlZbyzG+z7z0/g891K98Dkqwd0X5Nlpy6f23+PmqpVlrORJvUSnezbraXLebVLRcs5Y2llNOllNNLS1YwwzF17a5Orm7MLnvy0bX5sNE+1cqOtrut1G8rOWTZ1vzqpS2zzK0u7+n7TFu/k9V6pdF+2ZknLmSyuuXuCHuhoXrckda2vUMdx74Zl03KysUtx6Ss7O0fFdUue852V5ahZmmtdvcxEzcAtdLZrJvtZ5LcveH+XUm+sNWCtdYHaq3Ha63HFxcX9yUc7IWpa3dutPYzt42O3rM2Hzbap1rZ0Xa3lfptJYcs21qZO7hlltW5vf1p77T1O5oruevWw0+bd9ethzOa2+p4APZEQ/W4I61te4c6jn0zLpvU+UNbjkmdP7i376N22Wu2u7IMNUtrtbuPmbgBqJXOZt1sfzDJ/1DWfEOSLzlfOzerlVsWU0+cvLpRO3pP6omTWbnFH5d4upWFbWplYXa1Uo9snake2d9MLY2NLFsrh4+tnSt4Q5bJiQ+kHD6271mS5LbDB/OuN7z0SsP98jnbbzu8t00ormqpHneitdyt5WmFcdls/sjiltvd+X3+N/oy64hptVYrLeVZ2Wbfe2UGn+tWvgckWbsY6jVZcuLk2vx91FKttJyJNqmV7sratUl7evFSfj7Jy5McS/KXSX4kyYEkqbW+u5RSkrwjyX1Jvpzku2utp6/3usePH6+nT193seRtz95d8Ld9aXfPG4obeVz6/3/rdKjj9Wp3sjxeO0f75Ss+37Lo4qhsaZdXB991/U6z3V2djNfOzbieqR5Z3P+LIqWtK6fLsrVLF5dTL5zL3OpyVucOpBw+dr2Lo/a67R2PJ3nswqVMVmtGcyW3HT7o4qg9a6ked2IXufvdbxjoOPbNuGy2urKSlfNLKSuXUucPZv7I4vUujqp2aUJr+7wt1e5kMl47R/vlLEcW9/3iqJe18j0gydpFUs9/8UqWHLljXy+OeiVGY7XbIRM3of3e573R9PpNstb6uus8XpN8X58ZYEhGBxaSo1fPrKTVw3ZGCwvJQlu1Mjd6ev3O6l/blsZGlq0dPHQgOfTcGSZ4uoWFUe7UXN9XLdXjTrSWu7U8rTAum83Nz2fu2ft7ZOczsY6YVmu10lKe0aid746tfA9IstZYP3r39ZfrO0ZDtXJZi5lok1rpZtankQEAAAAAgMHTbAcAAAAAgI402wEAAAAAoCPNdgAAAAAA6EizHQAAAAAAOtJsBwAAAACAjkqtddYZdqyUspTkP06x6LEk53qOMy1ZNmslRzJ9lnO11vt2+yZqtzNZNttJjl3X7w5qd6eZ+tRKjkSW7dj27o2h5k6Gm13tbk+WzVrJkajdZyLL1lrJ0to+byvjksiynVaytFa7O83Up1ZyJLJsZ1/2G240g2y2T6uUcrrWenzWORJZWs6RtJUlaSuPLFtrJUsrOTZqJVMrORJZttNSlqS9PNMaau5kuNlby91SHlnazZG0lSVpK48sW2slSys5LmspjyxbayVLKzk2aiVTKzkSWbbTUpYhcRoZAAAAAADoSLMdAAAAAAA6utGb7Q/MOsAGsmzWSo6krSxJW3lk2VorWVrJsVErmVrJkciynZayJO3lmdZQcyfDzd5a7pbyyLJZKzmStrIkbeWRZWutZGklx2Ut5ZFla61kaSXHRq1kaiVHIst2WsoyGDf0OdsBAAAAAGA/3OhHtgMAAAAAQO802wEAAAAAoCPNdgAAAAAA6EizHQAAAAAAOhpks/2+++6rSUymWUydqF3TjKddU7umGU+dqF/TDKdO1K5phlMnatc042nX1K5pxtOuqV3TjCc2GGSz/dy5c7OOALuidhkqtcuQqV+GSu0yVGqXoVK7DJXahXYMstkOAAAAAAAt0WwHAAAAAICONNsBAAAAAKAjzXYAAAAAAOhIsx0AAAAAADoa9fnipZT3JPnWJGdrrS/e4vGS5KeSvDLJl5N8V631413fdzIeZ368lKxOkrlRVhYWM1pY6Pqyg2dcNjMmsHda+Ty1kkOW7V0cLyfjc5lfvZSVuYPJwrEcWjgwkyxJW2OzE0PNnQw3e2u5W8vTCuOy2fL4Ykbjs1fGZLJwew4sHJpZHuuIabVWK63lYbNW1lErOVrPRJvUSje9NtuT/FySdyR53zaPvyLJC9enr0/yrvX/7tpkPM78459OOXV/8uSjydF7Mn/iZCbPufemLgzjspkxgb3TyueplRyybO/ieDnzj386o1OvT558NKOj92Ry4gO5+Jx7Z9Jwb2lsdmKouZPhZm8td2t5WmFcNlseX8zo8U89bUxGJ05m+Tl/ZyYNd+uIabVWK63lYbNW1lErOVrPRJvUSne9nkam1vr7SR5/hkVek+R9dc2HkxwtpTy3y3vOj5euFkSSPPloyqn71/4icxMzLpsZE9g7rXyeWskhyzMYn7vSaL+cZXTq9cn43P5nSWNjswNDzZ0MN3truVvL0wrjstlofHbLMRmNz84kj3XEtFqrldbysFkr66iVHK1nok1qpbtZn7P9ziSf33D/zPq8TUopbyylnC6lnF5aeoYVvDq5WhCXPfno2vybmXHZbJ/GZOrahcbsqHZb2ca0kkOWbc2vXtoyy9zq8p6+zw2/3zDU3Mlws7e23zDUceybcdlM7TJUapedamUdtVa7+5iJG4Ba6WzWzfayxby61YK11gdqrcdrrccXFxe3f8W5UXL0nqfPO3rP2vybmXHZbJ/GZOrahcbsqHZb2ca0kkOWba3MHdwyy+rc3p5C5obfbxhq7mS42Vvbb+B8SQwAACAASURBVBjqOPbNuGymdhkqtctOtbKOWqvdfczEDUCtdDbrZvuZJHdvuH9Xki90ecGVhcXUEyevFsbRe1JPnMzKws3d5DQumxkTWvO8t/zajqdWtPJ5aiWHLM9g4VgmJz7wtCyTEx9IFo7tf5Y0NjY7MNTcyXCzt5a7tTytMC6bTRZu33JMJgu3zySPdcS0WquV1vKwWSvrqJUcrWeiTWqlu1LrlgeS790blPK8JB+stb54i8deleTNSV6ZtQuj/nSt9WXXe83jx4/X06dPb/u4q+Zuzbhstosx2erXGFO7Xu1yc9tN8/xzP/aqnSy+6/qdpnZb2ca0kkOW7V0cLyfjc5lbXV47on3h2PUujtrrtrelsdmJoeZOhpu9tf2GoY5j34zLZsvji2vnaF8fk8nC7de7OKrapQm7rJXe9nnVbvtaWUet1W6HTNyE9nuf90bT628ASik/n+TlSY6VUs4k+ZEkB5Kk1vruJA9lrdH+SJIvJ/nuvXjf0cJCsnD1gHk/dFhjXDYzJrB3Wvk8tZJDlu0dWjiQLHS6HvqeamlsdmKouZPhZm8td2t5WmFcNjuwcOhpY7K3J+7aOeuIabVWK63lYbNW1lErOTZqMRNtUivd9DpetdbXXefxmuT7+swAAAAAAAB9m/U52wEAAAAAYPA02wEAAAAAoCPNdgAAAAAA6EizHQAAAAAAOtJsBwAAAACAjjTbAQAAAACgI812AAAAAADoSLMdAAAAAAA60mwHAAAAAICONNsBAAAAAKAjzXYAAAAAAOhIsx0AAAAAADrSbAcAAAAAgI402wEAAAAAoCPNdgAAAAAA6EizHQAAAAAAOtJsBwAAAACAjjTbAQAAAACgI812AAAAAADoSLMdAAAAAAA66r3ZXkq5r5TymVLKI6WUt2zx+D2llN8ppfxRKeVPSimv7DsTAAAAAADspV6b7aWU+STvTPKKJC9K8rpSyouuWex/SXKq1vqSJK9N8n/2mQkAAAAAAPZa30e2vyzJI7XWz9ZaLyX5hSSvuWaZmuQr128/O8kXes4EAAAAAAB7qu9m+51JPr/h/pn1eRu9LckbSilnkjyU5B9t9UKllDeWUk6XUk4vLS31kRV6oXYZKrXLkKlfhkrtMlRql6FSuwyV2oU29d1sL1vMq9fcf12Sn6u13pXklUlOllI25aq1PlBrPV5rPb64uNhDVOiH2mWo1C5Dpn4ZKrXLUKldhkrtMlRqF9rUd7P9TJK7N9y/K5tPE/M9SU4lSa313yVZSHKs51wAAAAAALBn+m62fzTJC0spzy+lHMzaBVAfvGaZR5N8c5KUUv5O1prtfv8CAAAAAMBg9Npsr7VOkrw5yYeSfCrJqVrrJ0spby+lvHp9sR9K8g9LKX+c5OeTfFet9dpTzQAAAAAAQLNGfb9BrfWhrF34dOO8t264/XCSb+o7BwAAAAAA9KXv08gAAAAAAMANT7MdAAAAAAA60mwHAAAAAICONNsBAAAAAKAjzXYAAAAAAOhIsx0AAAAAADrSbAcAAAAAgI402wEAAAAAoCPNdgAAAAAA6EizHQAAAAAAOtJsBwAAAACAjjTbAQAAAACgI812AAAAAADoSLMdAAAAAAA60mwHAAAAAICONNsBAAAAAKAjzXYAAAAAAOhIsx0AAAAAADrSbAcAAAAAgI402wEAAAAAoKPem+2llPtKKZ8ppTxSSnnLNsucKKU8XEr5ZCnlA31nAgAAAACAvTTq88VLKfNJ3pnk7yc5k+SjpZQHa60Pb1jmhUn+SZJvqrU+UUq5vc9MAAAAAACw1/o+sv1lSR6ptX621nopyS8kec01y/zDJO+stT6RJLXWsz1nAgAAAACAPdV3s/3OJJ/fcP/M+ryN/naSv11K+bellA+XUu7b6oVKKW8spZwupZxeWlrqKS7sPbXLUKldhkz9MlRql6FSuwyV2mWo1C60qe9me9liXr3m/ijJC5O8PMnrkvxfpZSjm55U6wO11uO11uOLi4t7HhT6onYZKrXLkKlfhkrtMlRql6FSuwyV2oU29d1sP5Pk7g3370ryhS2W+X9qrcu11v+Q5DNZa74DAAAAAMAg9N1s/2iSF5ZSnl9KOZjktUkevGaZX03yXyVJKeVY1k4r89mecwEAAAAAwJ7ptdlea50keXOSDyX5VJJTtdZPllLeXkp59fpiH0ryWCnl4SS/k+R/rrU+1mcuAAAAAADYS6O+36DW+lCSh66Z99YNt2uSH1yfAAAAAABgcPo+jQwAAAAAANzwNNsBAAAAAKCjqZvtpZR/XkoZbbj/laWUn+0nFgAAAAAADMdOjmwfJflIKeVrSyn/dZKPJvlYP7EAAAAAAGA4pr5Aaq31n5RSfivJR5I8keTv1lof6S0ZAAAAAAAMxE5OI/N3k/xUkrcn+d0k7yil/M2ecgEAAAAAwGBMfWR7kn+R5DtqrQ8nSSnl25L8dpJ7+wgGAAAAAABDsZNm+zfWWlcu36m1/kop5fd6yAQAAAAAAIOykwukHiul/Ewp5f9NklLKi5L8t/3EAgAAAACA4dhJs/3nknwoyXPX7//7JD+w14EAAAAAAGBodnRke631VJLVJKm1TpKsPPNTAAAAAADgxreTZvtTpZTbktQkKaV8Q5Iv9ZIKAAAAAAAGZCcXSP3BJA8m+VullH+bZDHJt/eSCgAAAAAABuS6R7aXUv7zUsodtdaPJ/kvk/xwkotJfiPJmZ7zAQAAAABA86Y5jcy/TnJp/fZ/keSfJnlnkieSPNBTLgAAAAAAGIxpTiMzX2t9fP32dyZ5oNb6y0l+uZTyif6iwU3sbc/e5fNcRgEAAAAAZmGaI9vnSymXm/LfnOS3Nzy2k3O+AwAAAADADWmaZvnPJ/m9Usq5JBeS/EGSlFJekMRhtAAAAAAA3PSu22yvtf5oKeW3kjw3yW/UWuv6Q3NJ/lGf4QAAAAAAYAimOg1MrfXDW8z793sfBwAAAAAAhmeac7Z3Ukq5r5TymVLKI6WUtzzDct9eSqmllON9ZwIAAAAAgL3Ua7O9lDKf5J1JXpHkRUleV0p50RbLPSvJ9yf5SJ95AAAAAACgD30f2f6yJI/UWj9ba72U5BeSvGaL5f55kp9IMu45DwAAAAAA7Lm+m+13Jvn8hvtn1uddUUp5SZK7a60f7DkLAAAAAAD0ou9me9liXr3yYClzSf6PJD903Rcq5Y2llNOllNNLS0t7GBH6pXYZKrXLkKlfhkrtMlRql6FSuwyV2oU29d1sP5Pk7g3370ryhQ33n5XkxUl+t5TyuSTfkOTBrS6SWmt9oNZ6vNZ6fHFxscfIsLfULkOldhky9ctQqV2GSu0yVGqXoVK70Ka+m+0fTfLCUsrzSykHk7w2yYOXH6y1fqnWeqzW+rxa6/OSfDjJq2utp3vOBQAAAAAAe6bXZnutdZLkzUk+lORTSU7VWj9ZSnl7KeXVfb43AAAAAADsl1Hfb1BrfSjJQ9fMe+s2y7687zwAAAAAALDX+j6NDAAAAAAA3PA02wEAAAAAoCPNdgAAAAAA6EizHQAAAAAAOtJsBwAAAACAjjTbAQAAAACgI812AAAAAADoSLMdAAAAAAA60mwHAAAAAICONNsBAAAAAKAjzXYAAAAAAOhIsx0AAAAAADrSbAcAAAAAgI402wEAAAAAoCPNdgAAAAAA6EizHQAAAAAAOtJsBwAAAACAjjTbAQAAAACgI812AAAAAADoSLMdAAAAAAA66r3ZXkq5r5TymVLKI6WUt2zx+A+WUh4upfxJKeW3Silf1XcmAAAAAADYS70220sp80nemeQVSV6U5HWllBdds9gfJTlea/3aJL+U5Cf6zAQAAAAAAHut7yPbX5bkkVrrZ2utl5L8QpLXbFyg1vo7tdYvr9/9cJK7es4EAAAAAAB7qu9m+51JPr/h/pn1edv5niS/3msiAAAAAADYY30328sW8+qWC5byhiTHk/xv2zz+xlLK6VLK6aWlpT2MCP1SuwyV2mXI1C9DpXYZKrXLUKldhkrtQpv6brafSXL3hvt3JfnCtQuVUr4lyT9N8upa68WtXqjW+kCt9Xit9fji4mIvYaEPapehUrsMmfplqNQuQ6V2GSq1y1CpXWhT3832jyZ5YSnl+aWUg0lem+TBjQuUUl6S5F9nrdF+tuc8AAAAAACw50Z9vnitdVJKeXOSDyWZT/KeWusnSylvT3K61vpg1k4bcyTJL5ZSkuTRWuur+8wF0KLPLbx+F8/60p7nAAAAAGDnem22J0mt9aEkD10z760bbn9L3xkAAAAAAKBPfZ9GBgAAAAAAbnia7QAAAAAA0JFmOwAAAAAAdKTZDgAAAAAAHWm2AwAAAABAR5rtAAAAAADQkWY7AAAAAAB0pNkOAAAAAAAdabYDAAAAAEBHmu0AAAAAANCRZjsAAAAAAHSk2Q4AAAAAAB1ptgMAAAAAQEea7QAAAAAA0JFmOwAAAAAAdKTZDgAAAAAAHWm2AwAAAABAR5rtAAAAAADQkWY7AAAAAAB0pNkOAAAAAAAd9d5sL6XcV0r5TCnlkVLKW7Z4/FAp5f9ef/wjpZTn9Z0JAAAAAAD20qjPFy+lzCd5Z5K/n+RMko+WUh6stT68YbHvSfJErfUFpZTXJvnxJN/Z5X0ny+PMP7WUrE6SuVFWblnM6MBCl5e8IUzG48yPN4zLwmJGCzf3uBgT2DutfJ5aydFclsk48+c3ZDmymNHI9i5paz3txFBzJ8PN3lru1vK0wrhs1tqYtJaHdqmV7bU0Ni1lacZkOTn/xStjkiN3JKMDs41kPTEltdJNr832JC9L8kit9bNJUkr5hSSvSbKx2f6aJG9bv/1LSd5RSim11rqbN5wsjzO/9OmUU/cnTz6aHL0n8ydOZrJ4703dcJ+Mx5l/fItxec69N+0HxpjA3mnl89RKjuayTMaZP7tFltvvvekb7i2tp50Yau5kuNlby91anlYYl81aG5PW8tAutbK9lsampSzNmCwnZz+ZbBiTnDiZ3P7VM2u4W09MS6101/dpZO5M8vkN98+sz9tymVrrJMmXkty22zecf2rpakEkyZOPppy6f+1I95vY/HibcRnfvONiTGDvtPJ5aiVHc1nOb5PlvO1dS+tpJ4aaOxlu9tZyt5anFcZls9bGpLU8tEutbK+lsWkpSzPOf/Fqoz1Z+++p+9fmz4j1xLTUSnd9N9vLFvOuPWJ9mmVSSnljKeV0KeX00tIzrODVydWCuOzJR9fm38yMy2b7NCZT1y40Zke128o2ppUcsszcDb/fMNTcyXCzt7bfMNRx7Jtx2UztMlSt1W5LWvoctZSlFS3WrvXEtNRKZ303288kuXvD/buSfGG7ZUopoyTPTvL4tS9Ua32g1nq81np8cXFx+3ecG639RGejo/eszb+ZGZfN9mlMpq5daMyOareVbUwrOWSZuRt+v2GouZPhZm9tv2Go49g347KZ2mWoWqvdlrT0OWopSytarF3riWmplc76brZ/NMkLSynPL6UcTPLaJA9es8yDSf7B+u1vT/Lbuz1fe5Ks3LKYeuLk1cI4ek/qiZNZuWUg/2j2ZGVhm3FZuHnHxZjA3mnl89RKjuayHNkmyxHbu5bW004MNXcy3Oyt5W4tTyuMy2atjUlreWiXWtleS2PTUpZmHLlj7RztG8YkJ06uzZ8R64lpqZXuSoe+9nRvUMork/zLJPNJ3lNr/dFSytuTnK61PlhKWUhyMslLsnZE+2svX1B1O8ePH6+nT5/e9vHJ8njtHO2Xr5p7y+JNfXHUy1xNeLNdjMlWpz2a2vVq94q3PXt3b/C2L+3uebRhN+t9Z+t81/U7Te22so1pJUdzWSbjtXO0X85yZHFIF0ftddvb0nraiaHmToabvbX9hqGOY9+My2Zql6HaZa30us/bipY+Ry1lacZkee0c7etjkiN3THNx1Jvi+xrt2+/9hhtN778BqLU+lOSha+a9dcPtcZLv2Mv3HB1YSI5ePXuNHzqsGS0sJAvGZSNjAnunlc9TKzmayzLyb+N2WlpPOzHU3Mlws7eWu7U8rTAum7U2Jq3loV1qZXstjU1LWZoxOvC0fe8WWE9MS6100/dpZAAAAAAA4Ian2Q4AAAAAAB1ptgMAAAAAQEea7QAAAAAA0JFmOwAAAAAAdFRqrbPOsGOllKUk/3GKRY8lOddznGnJslkrOZLps5yrtd632zdRu53JstlOcuy6fndQuzvN1KdWciSybMe2d28MNXcy3Oxqd3uybNZKjkTtPhNZttZKltb2eVsZl0SW7bSSpbXa3WmmPrWSI5FlO/uy33CjGWSzfVqllNO11uOzzpHI0nKOpK0sSVt5ZNlaK1laybFRK5layZHIsp2WsiTt5ZnWUHMnw83eWu6W8sjSbo6krSxJW3lk2VorWVrJcVlLeWTZWitZWsmxUSuZWsmRyLKdlrIMidPIAAAAAABAR5rtAAAAAADQ0Y3ebH9g1gE2kGWzVnIkbWVJ2sojy9ZaydJKjo1aydRKjkSW7bSUJWkvz7SGmjsZbvbWcreUR5bNWsmRtJUlaSuPLFtrJUsrOS5rKY8sW2slSys5NmolUys5Elm201KWwbihz9kOAAAAAAD74UY/sh0AAAAAAHqn2Q4AAAAAAB1ptgMAAAAAQEea7QAAAAAA0NEgm+333XdfTWIyzWLqRO2aZjztmto1zXjqRP2aZjh1onZNM5w6UbumGU+7pnZNM552Te2aZjyxwSCb7efOnZt1BNgVtctQqV2GTP0yVGqXoVK7DJXaZajULrRjkM12AAAAAABoiWY7AAAAAAB0pNkOAAAAAAAdabYDAAAAAEBHmu0AAAAAANBRM832Usp8KeWPSikfnHUWAAAAAADYidGsA2zwj5N8KslXdn2hSxeXUy+cy/zqpazMHUw5fCwHDx3onnDgJpPVnD1/McsrqzkwP5fbjxzKaNTM31tmYnl5JWfPX8xktWY0V3L7kUM5cGB+1rHgui6Ol5Px1e1cFo7l0ILtHOzGUP8tGPK/66srK1k5v5SycjF1/lDmjyxmbr79Mb90aZKlpy5dqZXFWw7m4MHZ7U7b593aUD/TfWpte9FaHtrV2j5va3lo1+pqzWNPXcqlyUoOjuZz2y0HM/f/s3f/QZLmd33Y39/p3tnZ25W1p93Zk6zT5pxYsJZVtrG2hF12lQnEKRnJkBiyiItOsYtIhcpUjO38kP0HYKqcEvnDFRxhKZIhcCtkvAbsKEiUQ2ITjFNg9ojAIJ1shZyPLdDtj7sV2h89Mz39zR+zP+Z2enZn5+me/vbO61U1dTs93U+/7/N8nqef/kzP8yyUmWYaDIa5cvPuccyxQ4tZWmppLEgr1lbXMrpxd1+38NjxHFi0r9upJraqUsqTSd6Z5G8n+WtdlrW6spaFK8+nf+7p5OqL6R89meGZT2b12Kl9/eZjOBzl+Ze+ku/8xHO58MrNPPn4oXz0PW/LqSdes28PbNfW1vP8xWv5wKaafOQ9b8upE0f2/Rsy2rYyWEvv5a37uZXXnXKwDw9pXl8L5vl1fbS+ntFLn8uBW/uw3NqH5Ym3ND1wX10d5guXrm/pla9ePjyTgbtj3vHmdZueptb2F63loV2tHfO2lod2jUY1X3jpK3nfs+fv7Oc+/t7T+eonXjOzgftgMMy/vbL1OObNxw4buPMqa6trKZefz8F79nVrx08ZuO9QK0cz/2OS/zbJqOuC6s3Ld178kmw0xrmnU29e7rrouXbx2sqdA9okufDKzXznJ57LxWsrM042Oxevrdx5oUk2avKBfV4T5sRg/H4ug/29n4PdmNfXgnl+XV+/dmnsPmz92qXZBnuAS9dXx/bKpeurM8njmHe8ed2mp6m1/UVreWhYa8e8reWhWVeur94ZtCcb+7n3PXs+V2Z0zJAkV26OP465cnN2mWjT6Mb4fd3ohn3dTs182F5KeVeSi7XW5x5wv/eXUs6XUs5furT9m7HeaPVuQ9x29cUsjNYmEXdura2P7uxUb7vwys0M1zv/fmNuDUd1fE1GdaLPs9PehZ3aq/2c3mWe7bR/9+q1YNLm+XW9rK+M3YeV9bbf7LV23OCYd7x53aanaa/2Fzvt3Xnef7G3Wjvmtd9lp1aH62P3c6vD9Yk+z8O8X/P6yE7Z13U382F7kj+V5JtKKS8k+YkkX19K+cS9d6q1fqzWerrWenp5eXnbha0vLCZHT776xqMnM1rY33/qcKC3kCcfP/Sq2558/FD6vRZaYDb6C2V8TSb8Z1077V3Yqb3az+ld5tlO+3evXgsmbZ5f12vv4Nh9WO0tzibQDrV23OCYd7x53aanaa/2Fzvt3Xnef7G3Wjvmtd9lpxb7vbH7ucX+ZE9n9jDv17w+slP2dd3N/Iim1vo3aq1P1lqfSvLuJP+s1vqe3S6vHDq+cd7P241x69xC5dDxieSdVyeOHMxH3/O2OzvX2+dGPHHk4IyTzc6JIwfzkXtq8pF9XhPmxNL4/VyW9vd+DnZjXl8L5vl1vXdkeew+rHek7V/qLR9eHNsry4dn80sCx7zjzes2PU2t7S9ay0PDWjvmbS0PzTp2eDEff+/pV+3nPv7e0zk2o2OGJDl2aPxxzLFDbX/Ygb238Nj4fd3CY/Z1O1VqbedPRkopX5fkv661vut+9zt9+nQ9f/78tj9fXVlLvXk5C6O1jBYOpBw6vq8vFHXbcDjKxWsrGa6P0u8t5MSRg/v+IkRra+sbNbl1Ne4TRw4+6OJZnX7t+6DehZ1aGawlg7v7uSwd38mFmXbdv3qXGZvqvncXrwVNmOfX9dH6etavXUpZX03tLaZ3ZLnpi6Petro6zKXrq3d6Zfnw4oMujjrV3nXMO968btPTtIv9xVR7d573X+yt1o55d5mHfWg0qrlyfTWrw/Us9ns5dnhxJxdHner7tcFgmCs37x7HHDu06OKojLW2upbRjbv7uoXHjj/o4qj+RGKTpraqWuvPJ/n5rstZPHggOfiGznkeNf3+Qn7/0UMPvuM+cuBAL298/LFZx4CHdnDpQLJkPweTMK+vBfP8ur7Q62Xhta+fdYyHtrjYzxvvP1zfU455x5vXbXqaWttftJaHdrV2zNtaHtq1sFCy/Jq2/mJnaamfNxquswMHFg8ki/Z1u+XjAwAAAAAA0JFhOwAAAAAAdGTYDgAAAAAAHRm2AwAAAABAR4btAAAAAADQkWE7AAAAAAB0ZNgOAAAAAAAdGbYDAAAAAEBHhu0AAAAAANCRYTsAAAAAAHRk2A4AAAAAAB0ZtgMAAAAAQEeG7QAAAAAA0JFhOwAAAAAAdGTYDgAAAAAAHRm2AwAAAABAR4btAAAAAADQkWE7AAAAAAB0ZNgOAAAAAAAdGbYDAAAAAEBHhu0AAAAAANCRYTsAAAAAAHRk2A4AAAAAAB0ZtgMAAAAAQEeG7QAAAAAA0JFhOwAAAAAAdGTYDgAAAAAAHRm2AwAAAABAR/1ZByilLCX5hSQHs5HnJ2ut39tlmcPBIL3BpWQ0TBb6WV9aTn9paRJx55q6bLUyWEsGl9MbrWZ9YTFZOp6DSwdmlmc4HKR3bdM6OrKcfn9/ryPGsz3D5KysDHP5xmqGo5r+QsnxxxZz8ODMD5EeaJ73A/OavbXcreVphbpsNRrVXLm+mtXhehb7vRw7vJiFhTKzPNYRO9Var7SUZzQcpGx671iPLGdhRu8dW8rSiuHKIL2bm3rl0HL6B2dbk5b6l7bplW5aeCe5kuTra63XSikHkvxiKeVna62/tJuFDQeD9F5+PuXcM8nVF5OjJ9M7czbD153a142hLlutDNbSe/n59M89nVx9Mf2jJzM888msvO7UTAbuw+EgvYtj1tGJUwbuvIrtGSZnZWWYf3P5ej7wiedy4ZWbefLxQ/nIe96Wrzp+uOmB+zzvB+Y1e2u5W8vTCnXZajSq+cJLX8n7nj1/Zz/38feezlc/8ZqZDNytI3aqtV5pKc9oOEi5571jzpzN6MSpPR9yt5SlFcOVQXpXxvTKsVMzG7i31L+0Ta90N/PTyNQN1259e+DWV93t8nqDS3cbIkmuvphy7pmN38jsY+oyxuDynUF7ko2B+7mnk8HlmcTpXdtmHV3bx+uIsWzPMDmXb6zeGbQnyYVXbuYDn3gul2+szjjZ/c3zfmBes7eWu7U8rVCXra5cX70zaE829nPve/Z8rlyfzX7OOmKnWuuVlvKUbd47lhm8d2wpSyt6N7fplZuzq0lL/Uvb9Ep3Mx+2J0kppVdK+WySi0l+rtb6y2Pu8/5SyvlSyvlLl+6zgkfDuw1x29UXN27fz9Rli95odWxNFkZrE30evcvE7VGv7Lh3oUE77d/hqN4ZQN124ZWbGY52/Xv/vTHPrxnzmr21fe+81nHa1GWL1eH62P3c6nB9os+jd5k4+11Z5lVrvbuHmXgE6JXOmhi211rXa61/LMmTSd5eSnnrmPt8rNZ6utZ6enl5efuFLfQ3/mxps6MnN27fz9Rli/WFxbE1GS1M9hQyepeJ26Ne2XHvQoN22r/9hZInHz/0qtuefPxQ+jM8l/GOzPNrxrxmb23fO691nDZ12WKx3xu7n1vs9yb6PHqXibPflWVetda7e5iJR4Be6ayJYftttdarSX4+yTt2u4z1peXUM2fvNsbRk6lnzmZ9aX8PitRljKXjGZ755KtqMjzzyWTp+EzirB/ZZh0d2cfriLFszzA5xx9bzEfe87Y7g6jb52w//tjijJPd3zzvB+Y1e2u5W8vTCnXZ6tjhxXz8vadftZ/7+HtP59jh2eznrCN2qrVeaSlP3ea9Y53Be8eWsrRi/dA2vXJodjVpqX9pm17prtQ62z+TLqUsJ1mrtV4tpRxK8r8n+YFa689s95jTp0/X8+fPb7tMV80dT122WhmsJYPLWRitbXyifen4gy6O2umjjg/s3eFg4xztt9fRkWUXR2WsXW7Pu+7fB/UuTNlUB9JEhwAAIABJREFU970rK8NcvrGa4aimv1By/LHFpi+Oets8v67Pa/Zd5J7uccOc1nHa1GWr0ajmyvXVrA7Xs9jv5djhxQddHFXv0oTWjnlb6t3RcLBxXvRbWeqR5ZldkLSlLK0Yrgw2ztF+u1cOLe/k4qhTfb/WUv/Str0+5n3UtPBO8g1JfqyU0svGJ+3P3W/QvhP9paVk6U13v++W75GhLlsdXDqQLL1h1jHu6PeXkqPWEQ9me4bJOXiwnzfOwXD9XvO8H5jX7K3lbi1PK9Rlq4WFkuXXHJx1jDusI3aqtV5pKc/CPe8dZznpailLK/oHl5KDbfTKbS31L23TK93MvF611l9P8jWzzgEAAAAAALvV1DnbAQAAAABgHhm2AwAAAABAR4btAAAAAADQkWE7AAAAAAB0ZNgOAAAAAAAdGbYDAAAAAEBHhu0AAAAAANCRYTsAAAAAAHRk2A4AAAAAAB0ZtgMAAAAAQEeG7QAAAAAA0JFhOwAAAAAAdGTYDgAAAAAAHRm2AwAAAABAR4btAAAAAADQkWE7AAAAAAB0ZNgOAAAAAAAd9WcdAAB266kPfnpXj3vhQ++ccBIAAABgv/PJdgAAAAAA6MiwHQAAAAAAOjJsBwAAAACAjgzbAQAAAACgI8N2AAAAAADoyLAdAAAAAAA6muiwvZTyRCnlh0spP3vr+7eUUr5jks8BAAAAAACtmfQn2380yT9N8vtvff9vknz3hJ8DAAAAAACaMulh+/Fa67kkoySptQ6TrE/4OQAAAAAAoCmTHrZfL6UcS1KTpJTyJ5J8+X4PKKW8qZTyz0spny+l/GYp5a9MOBMAAAAAAExVf8LL+2tJPpXkPyil/Msky0m+9QGPGSb567XWXy2lvCbJc6WUn6u1fm63IYaDQXqDS8lomCz0s760nP7S0m4X98hQl61aq0lreWiXXoHJmdftaV5zJ/ObvbXcreVphbps1VpNWstDu1rrlZbyyDLeaDhMrn0pZbSWunAgOfL6LPQnPfp6sLWV1fRuXryTY/3QiRw4uLjnOTZraT3RNr3SzUT3OLcG5n8myVcnKUm+UGtde8BjfjfJ797691dKKZ9P8sYkuxq2DweD9F5+PuXcM8nVF5OjJ9M7czbD153a142hLlu1VpPW8tAuvQKTM6/b07zmTuY3e2u5W8vTCnXZqrWatJaHdrXWKy3lkWW80XCYcvE37mQpR0+mnjmb0Ym37unAfW1lNf0rn3tVjnLmbNaOvWVmA/eW1hNt0yvdTfQ0MqWUv5Dkm7IxbP+qJH++lPINpZQTO3z8U0m+Jskv7zZDb3DpbkMkGzu2c89s/EZmH1OXrVqrSWt5aJdegcmZ1+1pXnMn85u9tdyt5WmFumzVWk1ay0O7WuuVlvLIso1rXxqbJde+tKcxejcvjq/JzYt7muNVmVpaTzRNr3Q36XO2f0eSv5/kP7/19fFsnFrmX5ZSnrnfA0spR5L8VJLvrrX+3pifv7+Ucr6Ucv7Spfus4NHwbkPcdvXFjdv3M3XZao9qoneZuNZ6Fxr0yO975zV3Mr/ZW9v3zmsdp01dttK7zCu9K8tDKqO1sVnK6L4nXJjbHA/1fq2h9UTj9Epnkx62j5L8oVrrt9RavyXJW5KsJPnaJP/ddg8qpRzIxqD9x2utPz3uPrXWj9VaT9daTy8vL2+fYKGfHD356tuOnty4fT9Tl632qCZ6l4lrrXehQY/8vndecyfzm721fe+81nHa1GUrvcu80ruyPKS6cGBslrpw4JHM8VDv1xpaTzROr3Q26WH7U7XWlzZ9fzHJV9VaX04y9ld4pZSS5IeTfL7W+ne6BlhfWk49c/ZuY9w6R9f60v4eFKnLVq3VpLU8tEuvwOTM6/Y0r7mT+c3eWu7W8rRCXbZqrSat5aFdrfVKS3lk2caR14/NkiOv39MY64dOjK/JoR2dYXk6mVpaTzRNr3RXaq2TW1gpfy/JyST/6NZN35LkQpL/JsnP1Fr/wzGP+dNJ/kWSf52NT8Ynyd+stX5mu+c5ffp0PX/+/LY5XDV3PHXZahc1KV2eT+8yKbvslV3374N6d1ae+uCnd/W4Fz70zgknYcrse8eY19zJ/GZ33DAf1GUrvcu8au2Yt6XelWW80XC4ce720drGJ8mPvH5PL45629rK6sa522/lWD90YicXR53q+7WW1hNt2+vjhkfNpPc4fznJX0jyp299/6+SvKHWej3JlkF7ktRafzETXin9paVk6U13v5/kwueYumzVWk1ay0O79ApMzrxuT/OaO5nf7K3lbi1PK9Rlq9Zq0loe2tVar7SUR5bxFvr95OiTSWY7/TtwcDE5eDfHpE8rsRstrSfaple6mej2Xjc+Jv//ZuOUMf9pkm9I8vlJPgcAAAAAALRmIr+cKKV8VZJ3J/n2JFeS/MNsnKJm7KfZAQAAAADgUTKpvwR4PhvnXf/ztdYvJkkp5a9OaNkAAAAAANC0SZ1G5luSfCnJPy+lfLyU8g1xcnwAAAAAAPaJiQzba63/uNb6bUlOJfn5JH81yROllI+UUv7jSTwHAAAAAAC0atIXSL1ea/3xWuu7kjyZ5LNJPjjJ5wAAAAAAgNZMdNi+Wa315Vrr/1xr/fppPQcAAAAAALRgasN2AAAAAADYLwzbAQAAAACgI8N2AAAAAADoyLAdAAAAAAA6MmwHAAAAAICODNsBAAAAAKAjw3YAAAAAAOjIsB0AAAAAADoybAcAAAAAgI4M2wEAAAAAoCPDdgAAAAAA6MiwHQAAAAAAOjJsBwAAAACAjgzbAQAAAACgI8N2AAAAAADoyLAdAAAAAAA6MmwHAAAAAICODNsBAAAAAKAjw3YAAAAAAOioP+sAALBbLyw9vctHfnmiOQAAAAB8sh0AAAAAADpq4pPtpZQfSfKuJBdrrW/turzhYJDe4FIyGiYL/awvLae/tNQ96JxTl61aq0lreWiXXpkvT33w07t63AsfeueEkzDOvG5P85o7md/sreVuLU8r1GWr1mrSWh7a1VqvtJRHlvFGo5or11ezOlzPYr+XY4cXs7BQ9jzH2upaRjcupzdazfrCYhYeO54Diwf2PMdmLa0n2qZXumli2J7kR5N8OMmzXRc0HAzSe/n5lHPPJFdfTI6eTO/M2Qxfd2pfN4a6bNVaTVrLQ7v0CkzOvG5P85o7md/sreVuLU8r1GWr1mrSWh7a1VqvtJRHlvFGo5ovvPSVvO/Z87nwys08+fihfPy9p/PVT7xmTwfua6trKZefz8FzTydXX0z/6MkMz3wya8dPzWzg3tJ6om16pbsmTiNTa/2FJC9PYlm9waW7DZEkV19MOffMxm9k9jF12aq1mrSWh3bpFZiced2e5jV3Mr/ZW8vdWp5WqMtWrdWktTy0q7VeaSmPLONdub56Z9CeJBdeuZn3PXs+V66v7mmO0Y3L6d8atCfZGLifezqjG5f3NMdmLa0n2qZXumti2L4TpZT3l1LOl1LOX7p0nxU8Gt5tiNuuvrhx+36mLlvtUU30LhPXWu9Cgx75fe+85k7mN3tr+955reO0qctWepd5pXdleUirw/U7g/bbLrxyM6vD9T3N0Rutjq3Jwmhtos/zUO/XGlpPNE6vdDY3w/Za68dqradrraeXl5e3v+NCPzl68tW3HT25cft+pi5b7VFN9C4T11rvQoMe+X3vvOZO5jd7a/veea3jtKnLVnqXeaV3ZXlIi/1ennz80Ktue/LxQ1ns9/Y0x/rC4tiajBYmewqZh3q/1tB6onF6pbO5Gbbv1PrScuqZs3cb4+jJ1DNns760vwdF6rJVazVpLQ/t0iswOfO6Pc1r7mR+s7eWu7U8rVCXrVqrSWt5aFdrvdJSHlnGO3Z4MR9/7+k7A/fb52w/dnhxT3MsPHY8wzOffFVNhmc+mYXHju9pjs1aWk+0Ta90V2qts86QJCmlPJXkZ2qtb33QfU+fPl3Pnz+/7c9dNXc8ddlqFzXpdFUVvcuk7LJXdt2/D+rdmfm+1+7ycV+ebI4HeOqDn97V41740DsnnGRu2feOMa+5k/nN7rhhPqjLVnqXedXaMW9LvSvLeKNRzZXrq1kdrmex38uxw4t7enHU29ZW1zK6cTkLo7WMFg5k4bHjO7k46lTfr7W0nmjbXh83PGqa+BuAUso/SPJ1SY6XUi4k+d5a6w/vdnn9paVk6U13v++c8NGgLlu1VpPW8tAuvQKTM6/b07zmTuY3e2u5W8vTCnXZqrWatJaHdrXWKy3lkWW8hYWS5dccnGGCDQcWDySLb5h1jFdpaT3RNr3STRP1qrV++6wzAAAAAADAbj1y52wHAAAAAIC9ZtgOAAAAAAAdGbYDAAAAAEBHhu0AAAAAANCRYTsAAAAAAHRk2A4AAAAAAB0ZtgMAAAAAQEeG7QAAAAAA0FF/1gEA4FH3wtLTu3zklyeaAwAAAJgen2wHAAAAAICODNsBAAAAAKAjw3YAAAAAAOjIsB0AAAAAADoybAcAAAAAgI4M2wEAAAAAoCPDdgAAAAAA6MiwHQAAAAAAOjJsBwAAAACAjgzbAQAAAACgI8N2AAAAAADoyLAdAAAAAAA6MmwHAAAAAICODNsBAAAAAKCj/qwDAPCI+b7X7vJxX55sDgAAAIA95JPtAAAAAADQkWE7AAAAAAB0ZNgOAAAAAAAdNTFsL6W8o5TyhVLKF0spH5x1HgAAAAAAeBgzv0BqKaWX5IeS/NkkF5L8SinlU7XWz+12maPhIOXapWQ0TBb6qUeWs9BfmlTkuTVcGaR3825d1g8tp39wf9dlOBikN9hUk6Xl9JdmV5PW8tAuvcL9PPXBT+/qcS986J0TTjIf5nV7mtfcyfxmby13a3laMVwdpHdjU10eW05/cX/XZW2wkv7g4p2aDJdO5MDSwZnl0bvsVGu9sjJYSwaX0xutZn1hMVk6noNLB2aSpanarA+Ta19K1teS3oHkyOuT3mzGTU3VpTFqw04Nh4P0Ns1V148sp2+uumMzH7YneXuSL9ZafytJSik/keSbk+xq2D4aDlIuPp9y7pnk6ovJ0ZPJmbMZnTi1rwfuw5VBeldeXZfembMZHju1bwfuw8EgvZfH1OR1p2bygtNaHtqlV2By5nV7mtfcyfxmby13a3laMVwdpHd5TF2On9q3A/e1wUr6L3/+VTXpnzmbtdf9oZkM3PUuO9Var6wM1tJ7+fn0zz2dXH0x/aMnMzzzyay87tSeD9ybqs36MHnpN5J7ZjB54q17PnBvqi6NURt2ajgcpHdxTK+cOGXgvkMtnEbmjUl+e9P3F27dtivl2qW7DZEkV19MOffMxifd97HezfF16d3cv3XpDbapyWA2NWktD+3SKzA587o9zWvuZH6zt5a7tTyt6N3Ypi439m9d+oOLY2vSH1ycSR69y0411yuDy3cG7bfz9M89nQwu73mUpmpz7Ut3B+23suTcMxu377Gm6tIYtWGnetvMVXv7fK76MFr4ZHsZc1vdcqdS3p/k/Uly8uTJ7Zc2Gt5tiNuuvrhx+36mLlvtUU30LhPXWu/SnBeWnt7lI7880Ryz9Mjve+c1dzK/2Vvb985rHadNXbbSu8yrxnq3N1odm2dhtDbRPDvS0na0vjY+y/o+r8seeKj3a/usNnSgVzpr4ZPtF5K8adP3Tyb5nXvvVGv9WK31dK319PLy8vZLW+hv/NnSZkdPbty+n6nLVntUE73LxLXWu9CgR37fO6+5k/nN3tq+d17rOG3qspXeZV411rvrC4tj84wWZnDO9pa2o96B8Vl6+7wue+Ch3q/ts9rQgV7prIVh+68keXMp5Q+UUhaTvDvJp3a7sHpkOfXM2buNcfRk6pmzqUf296Bo/dD4uqwf2r91WV/apiZLs6lJa3lol16ByZnX7Wlecyfzm7213K3lacX6Y9vU5bH9W5fh0omxNRkunZhJHr3LTjXXK0vHMzzzyVflGZ75ZLJ0fM+jNFWbI6/fOEf7piw5c3bj9j3WVF0aozbs1Po2c9X1fT5XfRil1i1nbNn7EKV8Y5L/MUkvyY/UWv/2/e5/+vTpev78+W1/PhoONs7RfuuqufXI8r6+OOptw5XBxjnab19N+NDyvr046m27uBr3uNMe7diDetfVwdmpXfbKrvv3Qb37Kt/32t09yfft4hQme/lcXex1znmpy87Z944xr7mT+c3uuGE+DFcHG+dov12Xx5b37cVRb1sbrGyco/1WTYZLJx50cVS9SxNaO+ZdGawlg8tZGK1tfKJ96fieXxz1tqa2o/Xhxjna19c2PtF+5PV7fnHU25qqy8Ob6vu1Oa8Ne2g4HGyco/12rxxZftDFUTsdNzxqmvgbgFrrZ5J8ZlLLW+gvJUfvnpnGGt/QP7iUHLxblyZW/oz1l5aSpXZq0loe2qVXYHLmdXua19zJ/GZvLXdreVrRX1xKFtVlswNLB1/VK7MZDd6ld9mp1nrl4NKBZOkNM06xoana9PrJa5+cZYI7mqpLY9SGnerfM1fVKw+nhdPIAAAAAADAXDNsBwAAAACAjvwlAADQyVMf/PSuHvfCh9454SQAAAAwOz7ZDgAAAAAAHRm2AwAAAABAR6XWOusMD62UcinJv9vBXY8nuTzlODsly1at5Eh2nuVyrfUdu30SvduZLFs9TI5d9+9D9O7DZpqmVnIksmzHvncy5jV3Mr/Z9e72ZNmqlRyJ3r0fWcZrJUtrx7yt1CWRZTutZGmtdx820zS1kiORZTt7ctzwqJnLYftOlVLO11pPzzpHIkvLOZK2siRt5ZFlvFaytJJjs1YytZIjkWU7LWVJ2suzU/OaO5nf7K3lbimPLO3mSNrKkrSVR5bxWsnSSo7bWsojy3itZGklx2atZGolRyLLdlrKMk+cRgYAAAAAADoybAcAAAAAgI4e9WH7x2YdYBNZtmolR9JWlqStPLKM10qWVnJs1kqmVnIksmynpSxJe3l2al5zJ/ObvbXcLeWRZatWciRtZUnayiPLeK1kaSXHbS3lkWW8VrK0kmOzVjK1kiORZTstZZkbj/Q52wEAAAAAYC886p9sBwAAAACAqTNsBwAAAACAjgzbAQAAAACgI8N2AAAAAADoaC6H7e94xztqEl++ZvHVid71NeOvXdO7vmb81Yn+9TXDr070rq8ZfnWid33N+GvX9K6vGX/tmt71NeMvNpnLYfvly5dnHQF2Re8yr/Qu80z/Mq/0LvNK7zKv9C7zSu9CO+Zy2A4AAAAAAC0xbAcAAAAAgI4M2wEAAAAAoCPDdgAAAAAA6MiwHQAAAAAAOprqsL2UslRK+VellF8rpfxmKeVvjbnPwVLKPyylfLGU8sullKemmQkAAAAAACatP+XlryT5+lrrtVLKgSS/WEr52VrrL226z3ckeaXW+gdLKe9O8gNJvq3Lkw4Hg/QGl5LRMFnoZ31pOf2lpS6LfCSoy1at1aS1PLSrxV5pJVMrOWTZ3urqMJeur2Y4qukvlCwfXszi4rQPSeDR09J23RJ12Wq0vp71a5dS1ldSewfTO7KchV5vZnmsI3aqtV5pKU9TWVYG6d3clOXQcvoH93ddhquD9G5syvHYcvqL3q8xH/RKN1N9Z1trrUmu3fr2wK2ves/dvjnJ9936908m+XAppdx67EMbDgbpvfx8yrlnkqsvJkdPpnfmbIavO7WvG0NdtmqtJq3loV0t9kormVrJIcv2VleH+cKl6/nAJ57LhVdu5snHD+Uj73lbvnr5sIE7PISWtuuWqMtWo/X1jF76XA6ce/pOTYZnPpk88ZaZDNytI3aqtV5pKU9TWVYG6V0Zk+XYqT0fuLdSl+HqIL3LY3IcPzWzgXsrtaF9eqW7qZ+zvZTSK6V8NsnFJD9Xa/3le+7yxiS/nSS11mGSLyc5ttvn6w0u3W2IJLn6Ysq5ZzZ+I7OPqctWrdWktTy0q8VeaSVTKzlk2d6l66t3Bu1JcuGVm/nAJ57Lpeure54F5llL23VL1GWr9WuX0r89aE+Sqy+mf+7prF9zzEvbWuuVlvI0leXmNllu7t+69G5sk+OG92u0T690N/Vhe611vdb6x5I8meTtpZS33nOXMu5h995QSnl/KeV8KeX8pUv3WcGj4d2GuO3qixu372fqstUe1UTvMnGt9e4eZnqgVnLIsq3hqN4ZtN924ZWbGY529Qdt23qo/oWGOG7oSF22KOsrY2tS1if7S069y8S1dszbUu/K0naW1np3DzPxCNArnU192H5brfVqkp9P8o57fnQhyZuSpJTST/LaJC+PefzHaq2na62nl5eXt3+ihX5y9OSrbzt6cuP2/UxdttqjmuhdJq613t3DTA/USg5ZttVfKHny8UOvuu3Jxw+lvzDud++791D9Cw1x3NCRumxRewfH1qT2Fif7PHqXSWvtmLel3pWl7Syt9e4eZuIRoFc6m+qwvZSyXEo5euvfh5L8R0mev+dun0ryX9z697cm+We7PV97kqwvLaeeOXu3MY6eTD1zNutL+/uNtrps1VpNWstDu1rslVYytZJDlu0tH17MR97ztjsD99vnbF8+PNmhDzzqWtquW6IuW/WOLG+co31TTYZnPpneEce8tK21XmkpT1NZDm2T5dD+rcv6Y9vkeMz7NdqnV7orHebaD154KX8kyY8l6WVjsH+u1vr9pZTvT3K+1vqpUspSkrNJviYbn2h/d631t+633NOnT9fz589v+3NXzR1PXbbaRU06ffRS7zIpu+yVXffvg3q3Q6aJayWHLNtbXR3m0vXVDEc1/YWS5cOLD7o46lT3vTBFjhtmQF22Gq2vZ/3apZT11dTeYnpHlh90cVS9SxNaO+ZtqXebyrIy2DhH++0sh5b3/OKod7I0Upfh6mDjHO23czy2vJOLo+6L92u0b69nZY+aqf4NQK3117MxRL/39u/Z9O9Bkv9sks/bX1pKlt509/tJLnyOqctWrdWktTy0q8VeaSVTKzlk2d7iYj9vvP9wHdiBlrbrlqjLVgu9XhZe+/pZx7jDOmKnWuuVlvI0leXgUnKwkSyN1KW/uJQszj7HZq3UhvbplW727JztAAAAAADwqDJsBwAAAACAjgzbAQAAAACgI8N2AAAAAADoyLAdAAAAAAA6MmwHAAAAAICODNsBAAAAAKAjw3YAAAAAAOjIsB0AAAAAADoybAcAAAAAgI4M2wEAAAAAoCPDdgAAAAAA6MiwHQAAAAAAOjJsBwAAAACAjgzbAQAAAACgo6kO20spbyql/PNSyudLKb9ZSvkrY+7zdaWUL5dSPnvr63ummQkAAAAAACatP+XlD5P89Vrrr5ZSXpPkuVLKz9VaP3fP/f5FrfVdU84CAAAAAABTMdVPttdaf7fW+qu3/v2VJJ9P8sZpPicAAAAAAOy1PTtneynlqSRfk+SXx/z4T5ZSfq2U8rOllD+8V5kAAAAAAGAS9mTYXko5kuSnknx3rfX37vnxryb592qtfzTJ/5Tkn2yzjPeXUs6XUs5funRpuoFhgvQu80rvMs/0L/NK7zKv9C7zSu8yr/QutGnqw/ZSyoFsDNp/vNb60/f+vNb6e7XWa7f+/ZkkB0opx8fc72O11tO11tPLy8vTjg0To3eZV3qXeaZ/mVd6l3mld5lXepd5pXehTVMdtpdSSpIfTvL5Wuvf2eY+r791v5RS3n4r05Vp5gIAAAAAgEnqT3n5fyrJM0n+dSnls7du+5tJTiZJrfWjSb41yQdKKcMkN5O8u9Zap5wLAAAAAAAmZqrD9lrrLyYpD7jPh5N8eJo5AAAAAABgmvbkAqkAAAAAAPAoM2wHAAAAAICODNsBAAAAAKAjw3YAAAAAAOjIsB0AAAAAADoybAcAAAAAgI4M2wEAAAAAoCPDdgAAAAAA6MiwHQAAAAAAOjJsBwAAAACAjgzbAQAAAACgI8N2AAAAAADoyLAdAAAAAAA6MmwHAAAAAICODNsBAAAAAKAjw3YAAAAAAOioP82Fl1LelOTZJK9PMkrysVrrD95zn5LkB5N8Y5IbSf5irfVXuzzvcDBIb3ApGQ2ThX7Wl5bTX1rqsshHgrps1VpNWstDu1rslVYytZJDlu2N1tezfu1SyvpKau9gekeWs9DrzSQLzLOWtuuWqMtWrdWktTy0q7VeaSmPLG1nGa6upHfj4t0cj51If/Hgnud4VaZGakP79Eo3Ux22Jxkm+eu11l8tpbwmyXOllJ+rtX5u033+XJI33/r62iQfufXf3T3hYJDey8+nnHsmufpicvRkemfOZvi6U/u6MdRlq9Zq0loe2tVir7SSqZUcsmxvtL6e0Uufy4FzT9/JMjzzyeSJtxi4w0Noabtuibps1VpNWstDu1rrlZbyyNJ2luHqSnqXP781x/E/NLOBeyu1oX16pbupnkam1vq7tz+lXmv9SpLPJ3njPXf75iTP1g2/lORoKeUNu33O3uDS3YZIkqsvppx7ZuM3MvuYumzVWk1ay0O7WuyVVjK1kkOW7a1fu5T+7UH7rSz9c09n/Zp9HTyMlrbrlqjLVq3VpLU8tKu1XmkpjyxtZ+nduDg+x42Le5rjVZkaqQ3t0yvd7dk520spTyX5miS/fM+P3pjktzd9fyFbB/Ippby/lHK+lHL+0qX7rODR8G5D3Hb1xY3b9zN12WqPaqJ3mbjWencPMz1QKzlk2VZZXxmbpayvTvZ5HqZ/oSGOGzpSl61aO26wjtgpvSvLvGZprXf3MBOPAL3S2Z4M20spR5L8VJLvrrX+3r0/HvOQuuWGWj9Waz1daz29vLy8/ZMt9JOjJ19929GTG7fvZ+qy1R7VRO8yca317h5meqBWcsiyrdo7ODZL7S1O9nkepn+hIY4bOlKXrVo7brCO2Cm9K8u8Zmmtd/cwE48AvdLZ1IftpZQD2Ri0/3it9afH3OVCkjdt+v7JJL+z2+dbX1pOPXP2bmMcPZl65mzWl/b3G2112aq1mrSWh3a12CutZGolhyzb6x3BC7MzAAAgAElEQVRZ3jhH+6YswzOfTO+IfR08jJa265aoy1at1aS1PLSrtV5pKY8sbWdZf+zE+ByPndjTHK/K1EhtaJ9e6a7UuuVD5JNbeCklyY8lebnW+t3b3OedSb4ryTdm48Kof7fW+vb7Lff06dP1/Pnz2/7cVXPHU5etdlGTcX+JsWN6l0nZZa/sun8f1LsdMk1cKzlk2d5ofT3r1y6lrK+m9hbTO7L8oIujTnXfC1PkuGEG1GUrx7zMq9aOeVvqXVnazjJcXdk4R/vtHI+d2MnFUffF+zXat9fHDY+aaf8NwJ9K8kySf11K+eyt2/5mkpNJUmv9aJLPZGPQ/sUkN5L8pa5P2l9aSpbufljeHzpsUJetWqtJa3loV4u90kqmVnLIsr2FXi8Lr339DBPAo6Gl7bol6rJVazVpLQ/taq1XWsojS9tZ+osHk8XZ59isldrQPr3SzVTrVWv9xTzgtxt146P1f3maOQAAAAAAYJr25AKpAAAAAADwKDNsBwAAAACAjgzbAQAAAACgI8N2AAAAAADoyLAdAAAAAAA6MmwHAAAAAICODNsBAAAAAKAjw3YAAAAAAOjIsB0AAAAAADoybAcAAAAAgI52PGwvG95TSvmeW9+fLKW8fXrRAAAAAABgPjzMJ9v/XpI/meTbb33/lSQ/NPFEAAAAAAAwZ/oPcd+vrbX+8VLK/5MktdZXSimLU8oFAAAAAABz42E+2b5WSuklqUlSSllOMppKKgAAAAAAmCMPM2z/u0n+cZITpZS/neQXk/z3U0kFAAAAAABzZMenkam1/ngp5bkk35CkJPlPaq2fv99jSik/kuRdSS7WWt865udfl+R/TfL/3brpp2ut37/TTAAAAAAA0IIdDdtLKQtJfv3WwPz5h1j+jyb5cJJn73Off1FrfddDLBMAAAAAAJqyo9PI1FpHSX6tlHLyYRZea/2FJC/vJhgAAAAAAMyLhzln+xuS/GYp5f8spXzq9tcEMvzJUsqvlVJ+tpTyh7e7Uynl/aWU86WU85cuXZrA08Le0LvMK73LPNO/zCu9y7zSu8wrvcu80rvQplJr3dkdS/kz426vtf5fD3jcU0l+Zptztv++JKNa67VSyjcm+cFa65sflOX06dP1/PnzO8oNE1a6PFjvMmO77l+9y4zZ9zKv9C7zSu8yzxzzMq/0LvOq03HDo+ZhLpB636H6btRaf2/Tvz9TSvl7pZTjtdbLk34uAAAAAACYlh2fRqaU8idKKb9SSrlWSlktpayXUn7vwY+87zJfX0opt/799lt5rnRZJgAAAAAA7LUdf7I9yYeTvDvJP0pyOsl7k9z3lC+llH+Q5OuSHC+lXEjyvUkOJEmt9aNJvjXJB0opwyQ3k7y77vS8NgAAAAAA0IiHGban1vrFUkqv1rqe5H8ppfzfD7j/tz/g5x/OxhAfAAAAAADm1sMM22+UUhaTfLaU8j8k+d0kh6cTCwAAAAAA5seOz9me5Jlb9/+uJNeTvCnJt0wjFAAAAAAAzJMHfrK9lHKy1vpirfXf3bppkORvTTcWAAAAAADMj518sv2f3P5HKeWnppgFAAAAAADm0k6G7WXTv//9aQUBAAAAAIB5tZNhe93m3wAAAAAAQHZwzvYkf7SU8nvZ+IT7oVv/zq3va631900tHQAAAAAAzIEHDttrrb29CAIAAAAAAPNqJ6eRAQAAAAAA7sOwHQAAAAAAOjJsBwAAAACAjgzbAQAAAACgI8N2AAAAAADoyLAdAAAAAAA6MmwHAAAAAICOpjpsL6X8SCnlYinlN7b5eSml/N1SyhdLKb9eSvnj08wDAAAAAADT0J/y8n80yYeTPLvNz/9ckjff+vraJB+59V+mYDgYpDe4lIyGyUI/60vL6S8tzTrWTLVWk9by0K4We6WVTK3kkOU+WYajXLy2krX1UQ70FnLiyMH0+/7YDh5WS9t1S4Zrg/Sub6rL4eX0D+zvugzXVtO7/tKmmjyR/oHF2eXRu+xQa73SUp6msqwM0ru5Kcuh5fQPzmg9DVeTa3f3dznyRNLf+/3dYDDMlZurGY5q+gslxw4tZmlp2iO4+2upZ2jbcHWQ3o1NvfLYcvqLemWnprql11p/oZTy1H3u8s1Jnq211iS/VEo5Wkp5Q631d6eZaz8aDgbpvfx8yrlnkqsvJkdPpnfmbIavO7Vvd66t1aS1PLSrxV5pJVMrOWS5T5bhKM+/9JV85yeey4VXbubJxw/lo+95W0498RoDd3gILW3XLRmuDdK7NKYuy6f27cB9uLaa3qXPjanJW2YycNe77FRrvdJSnqayrAzSuzImy7FTez9wH64mFz+XbMqSM2eTE2/Z04H7YDDMv71yPR/YdLz7kfe8LW8+dnhmA/eWeoa2DVcH6V0e0yvHTxm479Cs39W+Mclvb/r+wq3bmLDe4NLdDSVJrr6Ycu6Zjd9q7lOt1aS1PLSrxV5pJVMrOWTZ3sVrK3cG7Uly4ZWb+c5PPJeL11b2PAvMs5a265b0rm9Tl+v7ty696y9tU5OXZpNH77JDrfVKS3maynJzmyw3Z7Cerr10d9B+K0vOPbNx+x66cnP1zqA92Tje/cAnnsuVm6t7mmOzlnqGtvVubNMrN/TKTs32b1iSMua2OvaOpbw/yfuT5OTJk9PM9GgaDe9uKLddfXHj9v1qj2qy4961jtip1np3DzM9UCs5ZNnW2vrozhuP2y68cjPD9dFEn2c3xw1PffDTu3quFz70zl09DsZx3NCRumzV2nGDdcRO6V1Z5jTLcFTHH++Oxo67dm0u36/RPr3S2aw/2X4hyZs2ff9kkt8Zd8da68dqradrraeXl5f3JNwjZaG/8SdUmx09uXH7frVHNdlx71pH7FRrvbuHmR6olRyybOtAbyFPPn7oVbc9+fih9HuTPSRx3MC8ctzQkbps1dpxg3XETuldWeY0S3+hjD/eXRj3edPdm8v3a7RPr3Q262H7p5K8t2z4E0m+7Hzt07G+tJx65uzdDeboydQzZ7O+tH8HEK3VpLU8tKvFXmklUys5ZNneiSMH89H3vO3OG5Db52w/ceTgnmeBedbSdt2S9cPb1OXw/q3L+uEntqnJE7PJo3fZodZ6paU8TWU5tE2WQzNYT0ee2DhH+6YsOXN24/Y9dOzQYj5yz/HuR97zthw7NLsLU7fUM7Rt/bFteuUxvbJTZePapFNaeCn/IMnXJTme5KUk35vkQJLUWj9aSilJPpzkHUluJPlLtdbzD1ru6dOn6/nzD7wb93Dl6a12UZNOv4p+UO9aR+zULntl1/27k/1uK/3bSg5Z7pNlOMrFaysZro/S7y3kxJGDD7o46lT3vbc5jQxT4LhhBoZrg41ztN+uy+HlfXtx1NuGa6sb52i/U5MnHnRxVL1LE1o75m2pd5vKsjLYOEf77SyHlvf+4qh3wqxunKP9VpYceWJPL45622AwzJWbqxmOavoLJccOLe7k4qj74v0a7RuuDjbO0X67Vx5bftDFUSf7Zxtzbqp/A1Br/fYH/Lwm+cvTzMBd/aWlZOnuWXv8AUh7NWktD+1qsVdaydRKDlnuk6W/kN9/9NCD7wjcV0vbdUv6B5aSo+qyWf/AYlM10bvsVGu90lKeprIcXEoOtpEl/Vfv72ZlaamfNz54uL6nWuoZ2tZfXEoW9cpuzfo0MgAAAAAAMPcM2wEAAAAAoCPDdgAAAAAA6MiwHQAAAAAAOnKOewCAOfLUBz/90I954UPvnEISAAAANvPJdgAAAAAA6MiwHQAAAAAAOjJsBwAAAACAjgzbAQAAAACgI8N2AAAAAADoyLAdAAAAAAA66s86AAAAzMT3vXaXj/vyZHMAAACPBMN2AAAm6qkPfnpXj3vhQ++ccBIAAIC94zQyAAAAAADQkWE7AAAAAAB0NPVheynlHaWUL5RSvlhK+eCYn//FUsqlUspnb339l9POBAAAAAAAkzTVc7aXUnpJfijJn01yIcmvlFI+VWv93D13/Ye11u+aZhYAAAAAAJiWaX+y/e1Jvlhr/a1a62qSn0jyzVN+TgAAAAAA2FPTHra/Mclvb/r+wq3b7vUtpZRfL6X8ZCnlTVPOBAAAAAAAEzXtYXsZc1u95/v/LclTtdY/kuT/SPJjYxdUyvtLKedLKecvXbo04ZgwPXqXeaV3mWf6l3mld5lXepd5pXeZV3oX2jTVc7Zn45Psmz+p/mSS39l8h1rrlU3ffjzJD4xbUK31Y0k+liSnT5++d2APzdK7zCu9yzzTv7P1wtLTu3zklyeaYx7pXeaV3mVe6V3mld6FNk37k+2/kuTNpZQ/UEpZTPLuJJ/afIdSyhs2fftNST4/5UwAAAAAADBRU/1ke611WEr5riT/NEkvyY/UWn+zlPL9Sc7XWj+V5L8qpXxTkmGSl5P8xWlmAgAAAACASZv2aWRSa/1Mks/cc9v3bPr330jyN6adAwAAAAAApmXap5EBAAAAAIBHnmE7AAAAAAB0ZNgOAAAAAAAdGbYDAAAAAEBHhu0AAAAAANCRYTsAAAAAAHRk2A4AAAAAAB0ZtgMAAAAAQEf9WQcAAGDnXlh6eheP+vLEcwAAAPBqPtkOAAAAAAAdGbYDAAAAAEBHhu0AAAAAANCRYTsAAAAAAHRk2A4AAAAAAB0ZtgMAAAAAQEf9WQcAAGjBC0tP7/KRX55oDgAAAObT1IftpZR3JPnBJL0kf7/W+qF7fn4wybNJ3pbkSpJvq7W+0OU5B4NhrtxczXBU018oOXZoMUtLfq+gLlsNB4P0BpeS0TBZ6Gd9aTn9pSV5aF6LvdJKplZytJZlZWWYyzfuvgYcf2wxBw/O5jVgbW09F6+t3Mly4sjBHDjQm0kWmGct7WNaoi5btVaT1cFq+oOLKaO11IUDGS6dyOLS4szy0K7WerelPC1lyfowufalZH0t6R1Ijrw+6e3vWcNoVHPl+mpWh+tZ7Pdy7PBiFhbKTDM11TM0zfywm6lWqpTSS/JDSf5skgtJfqWU8qla6+c23e07krxSa/2DpZR3J/mBJN+22+ccDIb5t1eu5wOfeC4XXrmZJx8/lI+8521587HD+7ox1GWr4WCQ3svPp5x7Jrn6YnL0ZHpnzmb4ulOzGxA2lId2tdgrrWRqJUdrWVZWhvk3l7e+BnzV8cN7PnBfW1vP8xevbcly6sQRA3d4CC3tY1qiLlu1VpPVwWoOvPy5O3nK0ZM5cOZsVl/3FgN3XqW13m0pT0tZsj5MXvqNZFOWnDmbPPHWfTtwH41qvvDSV/K+Z8/fOd79+HtP56ufeM3MBu5N9QxNMz/sbtrnbH97ki/WWn+r1rqa5CeSfPM99/nmJD92698/meQbSim73vtcubl6pyGS5MIrN/OBTzyXKzdXd7vIR4K6bNUbXLr7QpNsHOyfe2bjN73y0LAWe6WVTK3kaC3L5RvjXwMu39j714CL11bGZrl4bWXPs8A8a2kf0xJ12aq1mvQHF8fm6Q8uziQP7Wqtd1vK01KWXPvS3UH7rSw598zG7fvUleurdwbtycbx7vuePZ8r12c3f2mqZ2ia+WF30x62vzHJb2/6/sKt28bep9Y6zMaJT4/du6BSyvtLKedLKecvXdp+ZzAc1TsNcedJX7mZ4aju6n/gUaEuY4yGd19obrv64sbtE7TT3t2rPDwCWuvdPcz0QK3kaCxLS68Be5XlofoX/n/27j/MsryuD/z7U1XdXcM00kBXA5mZzqA7CiOJUTpjiNkVN3F3BBf2SbQdJmBw2Yy6kl8Ss7DuowQ3u64JuyEBIcOGVYYgzmM22VFGidmIGkWgIf7ilzuLOHT40d0Mg/RA/7hV3/2jqmdqum5N/bh1q76n+/V6nvt03XPPPfdd3/rc0+d+6tT3dMRxw4SMy1qdHTfU0sWxeWrp4o7m4QrQWe12tX/pKcvi+Pd0Fq/e9/SF0eLY490Lo8UdfZ1Bfl6jez19dhyqaTfbx52hfvlPZzPrpLV2Z2vtWGvt2MLCwrovODdTuf6J1zxq2fVPvCZzezw31l4zLmPMzC3/idtqh44uL99Bm63d3crDFaC32t3FTBvqJUdnWXr6P2C3smypfqEjjhsmZFzW6uy4oc3sG5unzezb0TxcATqr3a72Lz1lmR3/ns7s1fue3j83O/Z4d//czk6ZOMjPa3Svp8+OQzXtZvvJJDesun99kk+tt05VzSV5QpIHtvuCT75mf9744mc/XBiX5hZ68jVX9/x/xmWtxfmFtON3PfIfzqGjacfvyuL83jRlestDv3qslV4y9ZKjtyyHHzf+/4DDj9v9/wOOHDwwNsuRgwd2PQsMWU/7mJ4Yl7V6G5PR/JGxeUbzR/YkD/3qrXZ7ytNTlhx86vIc7auy5Phdy8uvUk++dn/e/N3HHnW8++bvPpYnX7t3/Zeuaoau6R9Orlqb3p8BrDTP/yDJX0zyH5O8P8ntrbUPrVrnB5L8qdba961cIPUvt9aOP9Z2jx071k6cOLHu466aO55xWWsbV+Oe6Fd5G9Wuq4OzWduslW3X70a1O0GmHddLjt6ynD8/ypkvPfJ/wOHH7d/1i6NecvHiYk6dPf9wliMHD2x0cdSp7nsf9uonbO8FXv2F7T1vu7aTcwgZkysxp+OGPWBc1urtmPfCuQvLc7cvXUyb2ZfR/BEXR2Ws3o55e9q/9JQli6PlOdoXLy6f0X7wqVftxVEvWVpq+dxDF3JhtJj9c7N58rX7N3Nx1Kvi8xr920b/0Gnvq0x179daG1XVy5O8K8lskre01j5UVa9JcqK1dk+Sf57krqq6L8tntN826evOz8/luqu8iTyOcVlrbn4+mX/kjy/2enR6y0O/eqyVXjL1kqO3LAcOzOW6PWquX27fvtlc98TH7XUMGLye9jE9MS5r9TYm++f3J/PXJ1n+dK7Nznp6q92e8vSUJbNzyROu38sE3ZmZqSw8vq+/3OyqZuia/uFkpj5yrbV7k9x72bIfWfX1uSTfOe0cAAAAAAAwLdOesx0AAAAAAK54mu0AAAAAADAhzXYAAAAAAJiQZjsAAAAAAExIsx0AAAAAACZUrbW9zrBlVXU6yR9tYtXDSc5MOc5mybJWLzmSzWc501q7dbsvonYnJstaW8mx7frdQu1uNdM09ZIjkWU99r07Y6i5k+FmV7vrk2WtXnIkavexyDJeL1l6O+btZVwSWdbTS5beanermaaplxyJLOvZleOGK80gm+2bVVUnWmvH9jpHIkvPOZK+siR95ZFlvF6y9JJjtV4y9ZIjkWU9PWVJ+suzWUPNnQw3e2+5e8ojS785kr6yJH3lkWW8XrL0kuOSnvLIMl4vWXrJsVovmXrJkciynt3OUlU/nOT2JItJlpJ8b2vtvRNu8wVJbm6t/fgO5DvbWju40Xpzk74QAAAAAABsR1U9J8m3J/mG1tr5qjqcZP8mnzvXWhuNe6y1dk+Se3Yu6cbM2Q4AAAAAwF55WpanozmfJK21M621T1XVJ1Ya76mqY1X17pWvX11Vd1bVv0ny1qp6b1V97aWNVdW7q+rZVfXSqnp9VT1hZVszK48/rqo+WVX7quqrquqXquoDVfXrVfWMlXWeXlXvqar3V9WPbfYbudKb7XfudYBVZFmrlxxJX1mSvvLIMl4vWXrJsVovmXrJkciynp6yJP3l2ayh5k6Gm7233D3lkWWtXnIkfWVJ+sojy3i9ZOklxyU95ZFlvF6y9JJjtV4y9ZIjkWU9u5nl3yS5oar+oKp+sqq+eRPPeXaSF7bWbk/yjiTHk6SqnpbkT7TWPnBpxdbaF5L8TpJL2/2vkryrtXYxy9/n32itPTvJ303ykyvrvC7JG1trfzbJZzb7jVzRc7YDAAAAANC3qppN8p8m+ZYk35vklUleneRYa+1MVR1L8o9aa8+tqlcnaa21v7/y3OuS/HJr7eaq+ltJjrTWfriqXrry/JdX1e1J/rPW2vdV1b/KclP9PUlOJ/nYqigHWmvPrKrPJXlqa+1iVX1Fkk+Zsx0AAAAAgK611haTvDvJu6vq95L8tSSjPDIzy/xlT3lo1XP/Y1V9rqr+dJLvynKz/nL3JPlfqupJWT4r/t8luTbJg621P7NerK1+H1f6NDIAAAAAAHSqqr6mqm5atejPJPmjJJ/IcmM8Sf7KBpt5R5K/l+QJrbXfu/zB1trZJO/L8vQwv9BaW2yt/XGSP6yq71zJUVX1dStP+Y0kt618/Vc3+71otgMAAAAAsFcOJvnpqvpwVf1ukpuzPIXM30/yuqr69SSLG2zj57LcHL/7Mdb52SQvXvn3kr+a5GVV9TtJPpTkhSvL/1aSH6iq9yd5wma/EXO2AwAAAADAhAZ5Zvutt97asjxnjpvbbt8monbd9vi2bWrXbY9vE1G/bnt4m4jaddvD20TUrtse37ZN7brt8W3b1K7bHt9YZZDN9jNnzux1BNgWtctQqV2GTP0yVGqXoVK7DJXaZajULvRjkM12AAAAAADoiWY7AAAAAABMSLMdAAAAAAAmpNkOAAAAAAAT0mwHAAAAAOCqVVW3VtXHquq+qnrldrczt5OhLldVNyR5a5KnJllKcmdr7XWXrVNJXpfkeUm+lOSlrbUPTvK6S4uLWTx7OrV4Pm32QGYPLmRmdnaSTV4Rlkaj5OxnUksX02b2JQefmpm5qZZA90bnzmX23OlkaZTMzGVxfiFz8/Py0L2L585n7typh2tlNH8k++YPyJS+3kc9ZVlaavncQxdyYbSY/XOzefK1+zMzU3uSZTRayqmz53NxcSn7Zmdy5OCBzM3t3e//e/o5bcXo4oXMPvTZR3Jf+5TM7du/17E2Zahj7hgTdsZQ9wHsvt5qpZfj3aSvsRmNRlk6ezozSxeyNLM/MwcXMrdHvYYLF0Y5/dCFjJZa5mYqC9fuz/79u5+lt+PdpK+aoW+j0cXMnP3sw/3DpYNPydzcvr2ONVVVNZvkDUm+NcnJJO+vqntaax/e6ramvccZJXlFa+2DVfX4JB+oql++LOi3Jblp5faNSd648u+2LC0uZumzH86+u29PHrw/OXQ0o+NvT55y81X9YWhpNEqd+v3U3S9JHrw/deho2vG7snTkWVdtw3107lxmH/jow2OSQ0cze/yujJ70jD35D6e3PPTr4rnzmXvgI4+qlbnjd+Xik565Zwf7vWTq6X3UU5alpZaPffaL+etvPZGTn/9yrn/iNXnzdx/L1zzl8bvecB+NlvLRz34x3/e2Dzyc5U0vfnae8ZTH78kHkJ5+Tlsxunghs6c/vDb3ws3dN9yHOuaOMWFnDHUfwO7rrVZ6Od5N+hqb0WiUnPpI9l/2/+PoyDN3veF+4cIoHzv9UL5/1XHmG1/87HzNwrW72nDv7Xg36atm6NtodDGzpz70qP5hHb8royNf21XD/fxo8TlnvnjhtaOlpafNzcx8+vDj97/iwNzseybY5C1J7mutfTxJquodSV6YZMvN9qm+y1trn750lnpr7YtJPpLkustWe2GSt7Zlv5XkUFU9bbuvuXj2dOYu7eST5MH7M3f37Vk8e3q7m7wynP3MIzvVZPkNc/dLkrOf2dtce2j23OmxYzJ7bm9qpbc89Gvu3KmxtTJ37tRVn6mn91FPWT730IWHG+1JcvLzX85ff+uJfO6hC7ue5dTZ8w9/8LiU5fve9oGcOnt+17Mkff2ctmL2oc+Oz/3QZ/c22CYMdcwdY8LOGOo+gN3XW630cryb9DU2S+v8/7i0B/8/nn7owsON9mT5OPP73/aBnN7lY97ejneTvmqGvs2cHf85Y+ZsP58zzo8Wn/MHnz17z3fd+Z7nfPM/fPeN33Xne57zB589e8/50eJzJtjsdUk+uer+yaztYW/Krv1KrapuTPL1Sd572UOb+maq6o6qOlFVJ06fXn9nUIvnHymISx68P7W4+w2FntTSxfHjsnRxbwL1YGk0dkyyNNrRl9ls7e5WHq4AvdXuLmbaUC85OstyYbT48MH+JSc//+VcGC3uepaLi0tjs4wWl3b0da74fe9QcyeDzb5bx5hb2vdCR674/S67r7dj3p5qt6MsM0sXxmaZ2YNew2ipjT/OXGq7mqO7492kq5qhb0PoH5754oXXfv/bPnD4sl+sHT7zxQuvnWCz4/7ke1s7j11ptlfVwST/Msnfbq398eUPj3nKmm+mtXZna+1Ya+3YwsLCuq/VZg8kh44+euGho2mzff9J9bS1mX3jx2Wmnz8B2XUzc2PHJDM7++dlm63d3crDFaC32t3FTBvqJUdnWfbPzeb6J17zqGXXP/Ga7J/b/akv9s3OjM0yN7uzhyRX/L53qLmTwWbfrWPMLe17oSNX/H6X3dfbMW9PtdtRlqWZ/WOzLO1Br2FupsYfZ+7ytIndHe8mXdUMfRtC/3C0tPS08b9YW9r2TClZPvn7hlX3r0/yqe1saOrN9qral+VG+79orf1fY1bZsW8mSWYPLizPn3mpMFbmC5s9eJV/WDn41LTjdz1qXNrxu5KDT93bXHtocX5h7Jgszu9NrfSWh36N5o+MrZXR/JGrPlNP76Oesjz52v1583cfe/ig/9Kc7U++dvd/EX3k4IG86cXPflSWN7342TlycG+uN9DTz2krFq99yvjc1z5lb4NtwlDH3DEm7Iyh7gPYfb3VSi/Hu0lfYzOzzv+PM3vw/+PCtfvzxsuOM9/44mdnYZePeXs73k36qhn6tnRw/OeMpYP9fM6Ym5n59PhfrM18eoLNvj/JTVX19Kran+S2JPdsZ0PV2vT+nKaqKslPJ3mgtfa311nn+UlenuR5Wb4w6j9prd3yWNs9duxYO3HixLqPLy0uZvHs6dTihbTZ/Zk9uODCVVm+SGrOfubhqwnn4FOv2oujXrKNq3FP9CvxjWrX1cHZrIvnzi/PD7lSK6P5I5u5MNO263ej2p0g047r6X3UU5alpZbPPXQhF0aL2T83mydfu3/XL456yWi0lFNnz2e0uJS52TcGD7EAACAASURBVJkcOXhgo4tF2feOMbp4YXmO9ku5r31K9xdHvWSoY76NY8yp1i5Mkf0uXdhmrUztmLeX492kr/fRaDTK0tnTmVm6mKWZfZk5uLDrF0e95MKFUU4/dCGjpZa5mcrCtft39eKol2zjeDeZ8ue1nmqGvo1GF5fnbl/pHy4dfMpGF0fd1Q+Wl+ZsvzSVzMov1s589VMOvmCSi6RW1fOS/OMks0ne0lr7B9vZzrT3ON+U5CVJfq+qfntl2f+Q5GiStNbelOTeLDfa70vypSTfM+mLzszOZuYJV+8Z2+uZmZtLDl2fZJffBR2bm59P5h/5w4q9/tVDb3no1775A4+qlR7+oKuXTD29j3rKMjNTWXj83p1Ns9rc3Ez+xKFrNl5xl/T0c9qKuX37k0PDy50Md8wdY8LOGOo+gN3XW630cryb9DU2c3NzyaFJZm/YOfv3z+W6PWiuX663492kr5qhb3Nz+x7VP9y1C35u0oG52fd89VMOvuBn73jOa0dLS0+bm5n59OHH73/FJI32JGmt3ZvlPvVEpvreaq39+2zQ123Lp9b/wDRzAAAAAAAwfAfmZt9z3ROv+fN7nWOc3n45AQAAAAAAg6PZDgAAAAAAE9JsBwAAAACACWm2AwAAAADAhDTbAQAAAABgQprtAAAAAABctarqLVV1qqp+f5LtaLYDAAAAAHA1+6kkt066Ec12AAAAAACGYXT+OXnwk7+ZB/7wD/PgJ38zo/PPmXSTrbVfS/LApNuZm3QDAAAAAAAwdaPzz8mpj9yTu19yOA/enxw6emOO33VPjjzzBZk78J69jufMdgAAAAAA+nf21GsfbrQnyYP3J3e/5HDOnnrt3gZb5sx2AAAYsBtf+c5tPe8TP/78HU4CAABTtjR62sON9ksevH95eQec2Q4AAAAAQP9m5j6dQ0cfvezQ0eXlHdBsBwAAAACgfwePvCLH7zrzcMP90NHk+F1ncvDIKybZbFX9TJL3JPmaqjpZVS/bznZMIwMAAAAAQP/mDrwnR575grz03tdmafS0zMx9OgePvGLSi6O21l60I/F2YiMAAAAAADB1cwfek0M3/Pm9jjGOaWQAAAAAAGBCmu0AAAAAADAhzXYAAAAAAJiQZjsAAAAAAExIsx0AAAAAACak2Q4AAAAAABPSbAcAAAAAgAlptgMAAAAAwIQ02wEAAAAAYEKa7QAAAAAAMCHNdgAAAAAAmJBmOwAAAAAATGiqzfaqektVnaqq31/n8edW1Req6rdXbj8yzTwAAAAAADANc1Pe/k8leX2Stz7GOr/eWvv2KecAAAAAAICpmeqZ7a21X0vywDRfAwAAAAAA9loPc7Y/p6p+p6p+saq+dq/DAAAAAADAVu11s/2DSf5ka+3rkvzTJP96vRWr6o6qOlFVJ06fPr1rAWFSapehUrsMmfplqNQuQ6V2GSq1y1CpXejTnjbbW2t/3Fo7u/L1vUn2VdXhdda9s7V2rLV2bGFhYVdzwiTULkOldhky9ctQqV2GSu0yVGqXoVK70Kc9bbZX1VOrqla+vmUlz+f2MhMAAAAAAGzV3DQ3XlU/k+S5SQ5X1ckkP5pkX5K01t6U5DuSfH9VjZJ8OcltrbU2zUwAAAAAALDTptpsb629aIPHX5/k9dPMAAAAAAAA07bXF0gFAAAAAIDB02wHAAAAAIAJabYDAAAAAMCENNsBAAAAAGBCmu0AAAAAADAhzXYAAAAAAJiQZjsAAAAAAExIsx0AAAAAACak2Q4AAAAAABOa22iFqvr5JG29x1trL9jRRAAAAAAAMDAbNtuT/KOVf/9ykqcmedvK/Rcl+cQUMgEAAAAAwKBs2Gxvrf1qklTVj7XW/rNVD/18Vf3a1JIBAAAAAMBAbGXO9oWq+spLd6rq6UkWdj4SAAAAAAAMy2amkbnk7yR5d1V9fOX+jUm+d8cTAQAAAADAwGy62d5a+6WquinJM1YWfbS1dn46sQAAAAAAYDg2PY1MVT0uyQ8leXlr7XeSHK2qb59aMgAAAAAAGIitzNn+fya5kOQ5K/dPJvmfdjwRAAAAAAAMzFaa7V/VWvuJJBeTpLX25SQ1lVQAAAAAADAgW2m2X6iqa5K0JKmqr0piznYAAAAAAK56m75AapIfTfJLSW6oqn+R5JuSvHQaoQAAAAAAYEg23Wxvrf1yVX0wyZ/L8vQxf6u1dmZqyQAAAAAAYCA2PY1MVb2mtfa51to7W2u/kOSBlTPcAQAAAADgqraVOduPVtWrkqSqDiT510n+36mkAgAAAACAAdlKs/17kvyplYb7zyf5ldbaq6eSCgAAAAAABmTDOdur6htW3X1dkn+W5DeS/GpVfUNr7YPTCgcAAAAAAEOwmQukvvay+59PcvPK8pbkP9/pUAAAAAAAMCQbNttba99SVTNJvrO19rO7kAkAAAAAAAZlU3O2t9aWkvzAlLMAAAAAAMAgbWYamUt+uar+bpKfTfLQpYWttQfWe0JVvSXJtyc51Vp71pjHK8vzwD8vyZeSvHQn5oAfnTuX2XOnk6VRMjOXxfmFzM3PT7rZwTMua/U2Jr3loV891srowrnMfmlVpsctZG7/7mfqaWxkGe/ixcWcOns+o6WWuZnKkYMHsm/f7J5kSfoam60YXTyX2YdW5b52IXP7+s+dDHjMB5obeuO9xGb1Vis95ekqS0/HJKPzydlTD2fJwSPJ3IHdjzE6n9lVORYPHsncHuR4VKaOaoa+qZXJbKXZ/t+s/Lv6DPeW5Csf4zk/leT1Sd66zuPfluSmlds3Jnnjyr/bNjp3LrMPfDR190uSB+9PDh3N7PG7MnrSM67qwjAua/U2Jr3loV891srowrnMnhmT6fAzdrXh3tPYyDLexYuL+eips/n+t30gJz//5Vz/xGvyxhc/O884cnBPGu49jc1WjC6ey+zpMbkXntF9w32wYz7Q3NAb7yU2q7da6SlPV1l6OiYZnU9OfSRZlSXH70qOPHNXG+6j0fnMnvrI2jE58sw9a7j3VDP0Ta1MblPTyCRJa+3pY26P1WhPa+3Xkqx75nuSFyZ5a1v2W0kOVdXTNptpnNlzpx8piCR58P7U3S9Z/o3MVcy4rNXbmPSWh371WCuzX1on05d2N1NPYyPLeKfOnn+40Z4kJz//5Xz/2z6QU2fP73qWpK+x2YrZh9bJ/VDfuZMBj/lAc0NvvJfYrN5qpac8XWXp6Zjk7KlHGu0rWXL3S5aX76LZs6fGj8ku53hUpo5qhr6plclt5cz2VNWzktyc5OFfZbTW1jtrfTOuS/LJVfdPriz79JjXviPJHUly9OjR9be4NHqkIC558P7l5Vcz47LWLo2J2mXH9Va7u5hpQ73kkGVdo6X2cKP9kpOf/3JGS21HX+eK3/cONXcy3Ow97nuhI1f8fpfd19t+t6falaXvLL3V7i5m4gqgVia26TPbq+pHk/zTldu3JPmJJC+Y8PVrzLKxn7Zba3e21o611o4tLCysv8WZueU/FVrt0NHl5Vcz47LWLo2J2mXH9Va7u5hpQ73kkGVdczOV6594zaOWXf/EazI3M+6QYPuu+H3vUHMnw83e474XOnLF73fZfb3td3uqXVn6ztJb7e5iJq4AamVim262J/mOJH8xyWdaa9+T5OuSTDrZ1MkkN6y6f32ST02ywcX5hbTjdz1SGIeOph2/K4vzV/eHFeOyVm9j0lse+tVjrSw+bp1Mj9vdTD2NjSzjHTl4IG988bMfbrhfmrP9yMG9mb+yp7HZisVr18l9bd+5kwGP+UBzQ2+8l9is3mqlpzxdZenpmOTgkeU52ldlyfG7lpfvosWDR8aPyS7neFSmjmqGvqmVyVVrm/uz7ap6X2vtlqr6QJbPbP9ikt9vrX3tBs+7MckvtNaeNeax5yd5eZLnZfnCqP+ktXbLRlmOHTvWTpw4se7jrpo7nnFZaxtjMtGpl2qXnbLNWtl2/W5Uu8nKRVK/tCrT4xZ29eKoD+fo6H0ky3gXLy7m1NnzGS21zM1Ujhw8sNHFUe17xxhdPLc8H+ql3NcudH9x1EsGO+adHTdccuMr37mt7X/ix5+/redxVbDfpQu9HfP2VLtdZenpmGR0fnmO9pUsOXhkVy+O+nCM0fnlOdovjcnBI5u5OOp0P691VDP0bbePea80W/kbgBNVdSjJm5N8IMnZJO97rCdU1c8keW6Sw1V1MsmPJtmXJK21NyW5N8uN9vuSfCnJ92wx/1hz8/PJ/CMnzPtDh2XGZa3exqS3PPSrx1qZ2z+f7N/7TD2NjSzj7ds3m+ue+Lg9TPBoPY3NVsztm08ODS93MuAxH2hu6I33EpvVW630lKerLD0dk8wdeFSWPYtxWY69rt2kr5qhb2plMpser9baf7fy5Zuq6peSfEVr7Xc3eM6LNni8JfmBzWYAAAAAAIAebemXE1X1l5P8hSxfxPTfJ3nMZjsAAAAAAFwNNn2B1Kr6ySTfl+T3kvx+ku+tqjdMKxgAAAAAAAzFVs5s/+Ykz1qZ+iVV9dNZbrwDAAAAAMBVbdNntif5WJKjq+7fENPIAAAAAADAxme2V9XPZ3mO9ick+UhVvW/l/jcm+c3pxgMAAAAAgP5tZhqZfzT1FAAAwLZ8Yv72bT7zCzuaAwAArnYbNttba7+6+n5VfcVmngcAAAAAAFeLTTfNq+qOJD+W5MtJlpJUlqeT+crpRAMAAAAAgGHYyhnqP5Tka1trZ6YVBgAAAAAAhmhmC+v+f0m+NK0gAAAAAAAwVFs5s/1VSX6zqt6b5Pylha21v7njqQAAAAAAYEC20mz/Z0n+XZLfy/Kc7QAAAAAAQLbWbB+11n5wakkAAAAAAGCgtjJn+69U1R1V9bSqetKl29SSAQAAAADAQGzlzPbbV/591aplLclX7lwcAAAAAAAYnk0321trT59mEAAAAAAAGKoNp5Gpqr+36uvvvOyx/3kaoQAAAAAAYEg2M2f7bau+ftVlj926g1kAAAAAAGCQNtNsr3W+HncfAAAAAACuOptptrd1vh53HwAAAAAArjqbuUDq11XVH2f5LPZrVr7Oyv35qSUDAAAAAICB2LDZ3lqb3Y0gAAAAAAAwVJuZRgYAAAAAAHgMmu0AAAAAADAhzXYAAAAAAJiQZjsAAAAAAExIsx0AAAAAACY09WZ7Vd1aVR+rqvuq6pVjHn9pVZ2uqt9euf23084EAAAAAAA7aW6aG6+q2SRvSPKtSU4meX9V3dNa+/Blq/5sa+3l08wCAAAAAADTMu0z229Jcl9r7eOttQtJ3pHkhVN+TQAAAAAA2FXTbrZfl+STq+6fXFl2ub9SVb9bVT9XVTdMORMAAAAAAOyoaTfba8yydtn9n09yY2vtTyf5t0l+euyGqu6oqhNVdeL06dM7HBOmR+0yVGqXIVO/DJXaZajULkOldhkqtQt9mnaz/WSS1WeqX5/kU6tXaK19rrV2fuXum5M8e9yGWmt3ttaOtdaOLSwsTCUsTIPaZajULkOmfhkqtctQqV2GSu0yVGoX+jTtZvv7k9xUVU+vqv1Jbktyz+oVquppq+6+IMlHppwJAAAAAAB21Nw0N95aG1XVy5O8K8lskre01j5UVa9JcqK1dk+Sv1lVL0gySvJAkpdOMxMAAAAAAOy0qTbbk6S1dm+Sey9b9iOrvn5VkldNOwcAAAAAAEzLtKeRAQAAAACAK55mOwAAAAAATEizHQAAAAAAJqTZDgAAAAAAE9JsBwAAAACACWm2AwAAAADAhDTbAQAAAABgQprtAAAAAAAwIc12AAAAAACYkGY7AAAAAABMSLMdAAAAAAAmNLfXAQAAAHbcq5+wjed8YedzAABw1XBmOwAAAAAATEizHQAAAAAAJqTZDgAAAAAAE9JsBwAAAACACWm2AwAAAADAhDTbAQAAAABgQprtAAAAAAAwIc12AAAAAACYkGY7AAAAAABMSLMdAAAAAAAmpNkOAAAAAAAT0mwHAAAAAIAJabYDAAAAAMCENNsBAAAAAGBCc3sdAAAAgM278ZXv3NbzPvHjz9/hJAAArDb1M9ur6taq+lhV3VdVrxzz+IGq+tmVx99bVTdOOxMAAAAAAOykqZ7ZXlWzSd6Q5FuTnEzy/qq6p7X24VWrvSzJ51tr/0lV3Zbkf03yXZO87ujcucyeO50sjZKZuSzOL2Rufn6STV4RjMtavY1Jb3noV4+10kumXnLIsr4L5y+mfflMZpcuZHFmf+qaw9l/YN+eZEn6GputGGruZLjZh5obeuO9xGb1Vis95ZGl7yy95Og9E31SK5OZ9jQytyS5r7X28SSpqnckeWGS1c32FyZ59crXP5fk9VVVrbW2nRccnTuX2Qc+mrr7JcmD9yeHjmb2+F0ZPekZV3VhGJe1ehuT3vLQrx5rpZdMveSQZX0Xzl/MzOc+mrm7b08evD9zh45mdPztufDkZ+xJw72nsdmKoeZOhpt9qLmhN95LbFZvtdJTHln6ztJLjt4z0Se1MrlpTyNzXZJPrrp/cmXZ2HVaa6MkX0jy5O2+4Oy5048URJI8eH/q7pcs/0bmKmZc1uptTHrLQ796rJVeMvWSQ5b1tS+febjRfinL3N23p335zK5nSfoam60Yau5kuNmHmht6473EZvVWKz3lkaXvLL3k6D0TfVIrk5t2s73GLLv8jPXNrJOquqOqTlTVidOnH+MHvDR6pCAuefD+5eVXM+Oy1i6Nidplx/VWu7uYaUO95JBlXbNLF8ZmmVm6uKOvc8Xve4eaOxlu9h73vdCRK36/y+7rbb/bU+3K0neW3mp3FzNxBVArE5t2s/1kkhtW3b8+yafWW6eq5pI8IckDl2+otXZna+1Ya+3YwsLC+q84M5ccOvroZYeOLi+/mhmXtXZpTNQuO6632t3FTBvqJYcs61qc2T82y9LMzk4hc8Xve4eaOxlu9h73vVy1PjF/+7Zu03TF73fZfb3td3uqXVn6ztJb7e5iJq4AamVi0262vz/JTVX19Kran+S2JPdcts49Sf7aytffkeTfbXe+9iRZnF9IO37XI4Vx6Gja8buyOH91f1gxLmv1Nia95aFfPdZKL5l6ySHL+uqawxkdf/ujsoyOvz11zeFdz5L0NTZbMdTcyXCzDzU39MZ7ic3qrVZ6yiNL31l6ydF7JvqkViZXE/S1N/cCVc9L8o+TzCZ5S2vtH1TVa5KcaK3dU1XzSe5K8vVZPqP9tksXVF3PsWPH2okTJ9Z93FVzxzMua21jTMZNe7Rpapedss1a2Xb9blS7E2Tacb3kkGV9F85fTPvymcwsXczSzL7UNYc3ujiqfe8YQ82dDDd7b8cND3v1E7b3Aq/+wvaeNxTbGZehjMn0f+b2u3Sht2PenmpXlr6z9Fa7E2TiKrTbx7xXmqn/DUBr7d4k91627EdWfX0uyXfu5GvOzc8n84/MXuMPHZYZl7V6G5Pe8tCvHmull0y95JBlffsP7EsOPG0PEzxaT2OzFUPNnQw3+1BzQ2+8l9is3mqlpzyy9J2llxyr9ZiJPqmVyUx7GhkAAAAAALjiabYDAAAAAMCENNsBAAAAAGBCmu0AAAAAADAhzXYAAAAAAJiQZjsAAAAAAEyoWmt7nWHLqup0kj/axKqHk5yZcpzNkmWtXnIkm89yprV263ZfRO1OTJa1tpJj2/W7hdrdaqZp6iVHIst67Ht3xlBzJ8PNrnbXJ8taveRI1O5jkWW8XrL0dszby7gksqynlyy91e5WM01TLzkSWdazK8cNV5pBNts3q6pOtNaO7XWORJaecyR9ZUn6yiPLeL1k6SXHar1k6iVHIst6esqS9Jdns4aaOxlu9t5y95RHln5zJH1lSfrKI8t4vWTpJcclPeWRZbxesvSSY7VeMvWSI5FlPT1lGRLTyAAAAAAAwIQ02wEAAAAAYEJXerP9zr0OsIosa/WSI+krS9JXHlnG6yVLLzlW6yVTLzkSWdbTU5akvzybNdTcyXCz95a7pzyyrNVLjqSvLElfeWQZr5csveS4pKc8sozXS5ZecqzWS6ZeciSyrKenLINxRc/ZDgAAAAAAu+FKP7MdAAAAAACmTrMdAAAAAAAmpNkOAAAAAAAT0mwHAAAAAIAJDbLZfuutt7Ykbm57cZuI2nXb49u2qV23Pb5NRP267eFtImrXbQ9vE1G7bnt82za167bHt21Tu257fGOVQTbbz5w5s9cRYFvULkOldhky9ctQqV2GSu0yVGqXoVK70I9BNtsBAAAAAKAnmu0AAAAAADAhzXYAAAAAAJiQZjsAAAAAAExIsx0AAAAAACY0N82NV9Vbknx7klOttWeNebySvC7J85J8KclLW2sfnPR1R+fOZfbc6WRplMzMZXF+IXPz85NudvCMy1q9jUlveehXj7XSS6ZecsiyvvPnLibnzmR26UIWZ/Yn84dzYH7fnmRJ+hqbrRhq7mS42XvL3VueXhiXtYwJ7Iye3ktdZRmdy+zZVVkOLmRu7urex/T08+k5E31SK5OZarM9yU8leX2St67z+LcluWnl9o1J3rjy77aNzp3L7AMfTd39kuTB+5NDRzN7/K6MnvSMq7owjMtavY1Jb3noV4+10kumXnLIsr7z5y5m9oGPZu7u25MH78/coaMZHX97zj/pGXvScO9pbLZiqLmT4WbvLXdveXphXNYyJrAzenovdZVldC6zp8ZkOfKMq7bh3tPPp+dM9EmtTG6q08i01n4tyQOPscoLk7y1LfutJIeq6mmTvObsudOPFESSPHh/6u6XLP9G5ipmXNbqbUx6y0O/eqyVXjL1kkOWx3DuzMON9ktZ5u6+PTl3ZvezpLOx2YKh5k6Gm7233L3l6YVxWcuYwM7o6b3UVZaz62Q5e/XuY3r6+fSciT6plcnt9Zzt1yX55Kr7J1eWrVFVd1TViao6cfr0Y/yAl0aPFMQlD96/vPxqZlzW2qUxUbvsuN5qdxczbaiXHLKsa3bpwtgsM0sXd/R1rvh971BzJ8PN3tu+d6jjOG3GZa3eahc6M8j9rix963G/6+fEZqmVie11s73GLGvjVmyt3dlaO9ZaO7awsLD+FmfmkkNHH73s0NHl5Vcz47LWLo2J2mXH9Va7u5hpQ73kkGVdizP7x2ZZmtnZKWSu+H3vUHMnw83e2753qOM4bcZlrd5qFzozyP2uLH3rcb/r58RmqZWJ7XWz/WSSG1bdvz7JpybZ4OL8Qtrxux4pjENH047flcX5q/uAz7is1duY9JaHfvVYK71k6iWHLI9h/nBGx9/+qCyj429P5g/vfpZ0NjZbMNTcyXCz95a7tzy9MC5rGRPYGT29l7rKcnCdLAev3n1MTz+fnjPRJ7UyuWpt7InkO/cCVTcm+YXW2rPGPPb8JC9P8rwsXxj1n7TWbtlom8eOHWsnTpxY93FXzR3PuKy1jTEZ99cYm6Z22SnbrJVt1+9GtTtBph3XSw5Z1nf+3MXk3JnMLF1cPqN9/vBGF0e17x1jqLmT4WZ33DAMxmWt3moXpmxqx7w97V+6yjI6tzxH+6UsBxeu2oujXuLzGkO228cNV5qp/g1AVf1MkucmOVxVJ5P8aJJ9SdJae1OSe7PcaL8vyZeSfM9OvO7c/Hwy/8gJ8/7QYZlxWau3MektD/3qsVZ6ydRLDlnWd2B+XzI/0fXQd1RPY7MVQ82dDDd7b7l7y9ML47KWMYGd0dN7qassc/PJoT6y9KKnn88lPWaiT2plMlMdr9baizZ4vCX5gWlmAAAAAACAadvrOdsBAAAAAGDwNNsBAAAAAGBCmu0AAAAAADAhzXYAAAAAAJiQZjsAAAAAAExIsx0AAAAAACak2Q4AAAAAABPSbAcAAAAAgAlptgMAAAAAwIQ02wEAAAAAYEKa7QAAAAAAMCHNdgAAAAAAmJBmOwAAAAAATEizHQAAAAAAJqTZDgAAAAAAE9JsBwAAAACACWm2AwAAAADAhDTbAQAAAABgQprtAAAAAAAwIc12AAAAAACY0NSb7VV1a1V9rKruq6pXjnn8aFX9SlX9h6r63ap63rQzAQAAAADATppqs72qZpO8Icm3Jbk5yYuq6ubLVvsfk9zdWvv6JLcl+clpZgIAAAAAgJ027TPbb0lyX2vt4621C0nekeSFl63TknzFytdPSPKpKWcCAAAAAIAdNe1m+3VJPrnq/smVZau9OsmLq+pkknuT/I1xG6qqO6rqRFWdOH369DSywlSoXYZK7TJk6pehUrsMldplqNQuQ6V2oU/TbrbXmGXtsvsvSvJTrbXrkzwvyV1VtSZXa+3O1tqx1tqxhYWFKUSF6VC7DJXaZcjUL0OldhkqtctQqV2GSu1Cn6bdbD+Z5IZV96/P2mliXpbk7iRprb0nyXySw1POBQAAAAAAO2bazfb3J7mpqp5eVfuzfAHUey5b5/4kfzFJquqZWW62+/sXAAAAAAAGY26aG2+tjarq5UnelWQ2yVtaax+qqtckOdFauyfJK5K8uar+TpanmHlpa+3yqWYAAACAAbvxle/c1vM+8ePP3+EkADAdU222J0lr7d4sX/h09bIfWfX1h5N807RzAAAAAADAtEx7GhkAAAAAALjiabYDAAAAAMCENNsBAAAAAGBCmu0AAAAAADAhzXYAAAAAAJiQZjsAAAAAAExIsx0AAAAAACak2Q4AAAAAABPSbAcAAAAAgAlptgMAAAAAwIQ02wEAAAAAYEKa7QAAAAAAMCHNdgAAAAAAmJBmOwAAAAAATEizHQAAAAAAJqTZDgAAAAAAE9JsBwAAAACACWm2AwAAAADAhDTbAQAAAABgQprtAAAAAAAwoak326vq1qr6WFXdV1WvXGed41X14ar6UFW9fdqZAAAAAABgJ81Nc+NVNZvkDUm+NcnJJO+vqntaax9etc5NSV6V5Jtaa5+vqiPTzAQAAAAAADtt2me235Lkvtbax1trF5K8I8kLL1vnryd5Q2vt80nSWjs15UwAAAAAQdy7IgAAIABJREFUALCjNt1sr6qnVNU/r6pfXLl/c1W9bIOnXZfkk6vun1xZttpXJ/nqqvqNqvqtqrp1nde/o6pOVNWJ06dPbzY27Dm1y1CpXYZM/TJUapehUrsMldplqNQu9GkrZ7b/VJJ3JfkTK/f/IMnf3uA5NWZZu+z+XJKbkjw3yYuS/B9VdWjNk1q7s7V2rLV2bGFhYQuxYW+pXYZK7TJk6pehUrsMldplqNQuQ6V2oU9babYfbq3dnWQpSVproySLGzznZJIbVt2/Psmnxqzzf7fWLrbW/jDJx7LcfAcAAAAAgEHYSrP9oap6clbOTK+qP5fkCxs85/1Jbqqqp1fV/iS3JbnnsnX+dZJvWdnm4SxPK/PxLeQCAAAAAIA9NbeFdX8wy43yr6qq30iykOQ7HusJrbVRVb08y9PPzCZ5S2vtQ1X1miQnWmv3rDz2X1TVh7N8pvwPtdY+t43vBQAAAAAA9sSmm+2ttQ9W1Tcn+Zosz8X+sdbaxU08794k91627EdWfd2y3Mj/wc1mAQAAAACAnmzlzPYkuSXJjSvP+4aqSmvtrTueCgAAAAAABmTTzfaquivJVyX57TxyYdSWRLMdAAAAAICr2lbObD+W5OaVaV8AAAAAAIAVM1tY9/eTPHVaQQAAAAAAYKi2cmb74SQfrqr3JTl/aWFr7QU7ngoAAAAAAAZkK832V08rBAAAAAAADNmmm+2ttV+tqqck+bMri97XWjs1nVgAAAAAADAcm56zvaqOJ3lfku9McjzJe6vqO6YVDAAAAAAAhmIr08j8cJI/e+ls9qpaSPJvk/zcNIIBAAAAAMBQbPrM9iQzl00b87ktPh8AAAAAAK5IWzmz/Zeq6l1Jfmbl/ncluXfnIwEAAAAAwLBs5QKpP1RVfyXJNyWpJHe21v7V1JIBAAAAAMBAbOXM9rTW/mWSfzmlLAAAAAAAMEgbNtur6otJ2riHkrTW2lfseCoAAAAAABiQDZvtrbXH70YQAAAAAAAYqpntPKmqrq2qv1pV79zpQAAAAAAAMDSbbrZX1f6q+q+r6u4kn07yl5K8aWrJAAAAAABgIDYzZ/u3JnlRkv8yya8kuSvJLa2175lyNgAAAAAAGIQNm+1J3pXk15P8hdbaHyZJVb1uqqkAAAAAAGBANtNsf3aS25L826r6eJJ3JJmdaioAAAAAABiQDedsb639h9baf99a+6okr07y9Un2V9UvVtUdGz2/qm6tqo9V1X1V9crHWO87qqpV1bGtfAMAAAAAALDXNn2B1CRprf1Ga+3lSa5L8r8nec5jrV9Vs0nekOTbktyc5EVVdfOY9R6f5G8mee9W8gAAAAAAQA823Wyvqm+qqmtX7t6e5NYsn+n+WG5Jcl9r7eOttQtZnoLmhWPW+7EkP5Hk3GbzAAAAAABAL7ZyZvsbk3ypqr4uyd9L8kdJ3rrBc65L8slV90+uLHtYVX19khtaa7+whSwAAAAAANCNrTTbR621luUz01/XWntdksdv8Jwas6w9/GDVTJano3nFRi9eVXdU1YmqOnH69OktxIa9pXYZKrXLkKlfhkrtMlRql6FSuwyV2oU+baXZ/sWqelWSFyd558p87Ps2eM7JJDesun99kk+tuv/4JM9K8u6q+kSSP5fknnEXSW2t3dlaO9ZaO7awsLCF2LC31C5DpXYZMvXLUKldhkrtMlRql6FSu9CnrTTbvyvJ+SQva619JsvTwfzDDZ7z/iQ3VdXTq2p/ktuS3HPpwdbaF1prh1trN7bWbkzyW0le0Fo7sZVvAgAAAAAA9tLcZldcabD/b6vu358N5mxvrY2q6uVJ3pVkNslbWmsfqqrXJDnRWrvnsZ4PAAAAAABDsGGzvaq+mFXzrK9+KElrrX3FYz2/tXZvknsvW/Yj66z73I3yAAAAAABAbzZstrfWNroIKgAAAAAAXNW2Mmc7AAAAAAAwhmY7AAAAAABMSLMdAAAAAAAmtOGc7QAAALDjXv2EbT7vCzubAwBghzizHQAAAAAAJqTZDgAAAAAAE9JsBwAAAACACWm2AwAAAADAhDTbAQAAAABgQnN7HQAAAAC48n1i/vZtPvMLO5oDAKbFme0AAAAAADAhzXYAAAAAAJiQZjsAAAAAAExIsx0AAAAAACak2Q4AAAAAABPSbAcAAAAAgAlptgMAAAAAwIQ02wEAAAAAYEKa7QAAAAAAMKGpN9ur6taq+lhV3VdVrxzz+A9W1Yer6ner6v+pqj857UwAAAAAALCTptpsr6rZJG9I8m1Jbk7yoqq6+bLV/kOSY621P53k55L8xDQzAQAAAADATpv2me23JLmvtfbx1tqFJO9I8sLVK7TWfqW19qWVu7+V5PopZwIAAAAAgB017Wb7dUk+uer+yZVl63lZkl+caiIAAAAAANhh026215hlbeyKVS9OcizJP1zn8Tuq6kRVnTh9+vQORoTpUrsMldplyNQvQ6V2GSq1y1CpXYZK7UKfpt1sP5nkhlX3r0/yqctXqqq/lOSHk7ygtXZ+3IZaa3e21o611o4tLCxMJSxMg9plqNQuQ6Z+GSq1y1CpXYZK7TJUahf6NO1m+/uT3FRVT6+q/UluS3LP6hWq6uuT/LMsN9pPTTkPAAAAAADsuKk221troyQvT/KuJB9Jcndr7UNV9Zr6/9m7/yBJ8/su7O/vdO/s7O3KWuluVjK62zpTET7bwsFoy4YylZhfqbPlyBUgG0vRGRNilV0YMDihRJKyhROqFAIJxDZyyfywtUJ2NiSAQAqGSmwZYnC0R4yRpXOsEuJ82NLune5k7d31zvT0N3/Mzu7cTs9u9zw9099n5/Wq6rqdnv7xrk9/+vs8/bme5ynlrTdv9j8kOZPkfy2l/EIp5UP7PBwAAAAAADRpeNhPUGv9SJKP3HHd9+369+877AwAAAAAAHCYDvswMgAAAAAAcN8zbAcAAAAAgI4M2wEAAAAAoCPDdgAAAAAA6MiwHQAAAAAAOjJsBwAAAACAjgzbAQAAAACgI8N2AAAAAADoyLAdAAAAAAA6MmwHAAAAAICODNsBAAAAAKAjw3YAAAAAAOjIsB0AAAAAADoybAcAAAAAgI4M2wEAAAAAoCPDdgAAAAAA6MiwHQAAAAAAOjJsBwAAAACAjgzbAQAAAACgI8N2AAAAAADo6NCH7aWUx0spv1xK+VQp5V1Tfn+ylPK/3Pz9z5dSHj3sTAAAAAAAsEjDw3zwUsogyQ8n+f1JnknysVLKh2qtn9h1sz+a5Pla679TSvnWJP99kv+ky/OOR6MMRteSyThZGWZrbT3DtbUuD3lfUJe9WqtJa3loV4u90kqmVnLIcpcs40muXr+Rza1JTgxWcu7MyQyHy/tju43RRoajqymTzdSVExmvncvq2urS8syqpdd0Xn3N3lru1vK0Ql32UhNYjJbeS7K0nWW8cSODl67ezvHAuQxXTx55jldkaqQ2tE+vdHOow/YkX5vkU7XWTydJKeUnk3xLkt3D9m9J8u6b//7bSX6olFJqrfUgTzgejTL4/FMpl59IXng6OXs+g4uXMn7tY8e6MdRlr9Zq0loe2tVir7SSqZUcstwly3iSpz73xXznB57MM8+/nIdfcyo/8o4357HXvWopA/eN0UZOfP4Tt2pTzp7PiYuXsvHar2x64N7SazqvvmZvLXdreVqhLnupCSxGS+8lWdrOMt64kcGzn9yb46GvWNrAvZXa0D690t1hf6p9Q5Jf3fXzMzevm3qbWus4yReSPHjQJxyMrt1uiGT7g/PlJ7b/j8wxpi57tVaT1vLQrhZ7pZVMreSQZX9Xr9+4NWhPkmeefznf+YEnc/X6jSPPkmT7G+1TajMcXV1Knlm19JrOq6/ZW8vdWp5WqMteagKL0dJ7SZa2swxemr5/OXhpefuXrdSG9umV7g572F6mXHfnN9ZnuU1KKe8spVwppVy5du0uL/BkfLshdrzw9Pb1x5m67HVENdG7LFxrvXuEme6plRyy7Gtza3Jr0L7jmedfznhrstDnmbV/y2Rzam3KZHOheRauodd0bn3N3tra29c6HjZ12au13oXG9HLdlaXtLC2uu63Uhvbplc4Oe9j+TJJHdv38cJJf2+82pZRhklcn+fydD1RrfV+t9UKt9cL6+vr+z7gyTM6ef+V1Z89vX3+cqcteR1QTvcvCtda7R5jpnlrJIcu+TgxW8vBrTr3iuodfcyrDwWJ3SWbt37pyYmpt6sqJheZZuIZe07n1NXtra29f63jY1GWv1noXGtPLdVeWtrO0uO62Uhvap1c6O+xh+8eSvLGU8mWllNUk35rkQ3fc5kNJ/vDNf/+hJP/XQY/XniRba+upFy/dboyz51MvXsrW2vHe4VOXvVqrSWt5aFeLvdJKplZyyLK/c2dO5kfe8eZbA/edY7afO7Ok41eunZtam/HauaXkmVVLr+m8+pq9tdyt5WmFuuylJrAYLb2XZGk7y9YD0/cvtx5Y3v5lK7WhfXqlu9Jhrj3bE5TyTUn+cpJBkr9Ra/3zpZQfSHKl1vqhUspakktJvibb32j/1p0Tqu7nwoUL9cqVK/v+3llzp1OXvQ5Qk2mHPZqZ3mVRDtgrB+7fe/Vuh0wL10oOWe6SZTzJ1es3Mt6aZDhYybkzJ+91ctRDXXs3Rhvbx26fbKaunMh47VzTJ0fd0dJrOq++Zrff0A/qsldrvXvLu199sCd49xcOdj+W72he80Pb521pfZGl7SzjjRvbx2jfyfHAuVlOjnosPq/RvqPeb7jfHPrfANRaP5LkI3dc9327/j1K8h8v8jmHa2vJ2u2j1/hDh23qsldrNWktD+1qsVdaydRKDlnukmW4kt909tS9b3hEVtdWk7WHk2zvJbY/Zt/W0ms6r75mby13a3laoS57qQksRkvvJVnazjJcPZmsLj/Hbq3UhvbplW4O+zAyAAAAAABw3zNsBwAAAACAjgzbAQAAAACgI8N2AAAAAADoyLAdAAAAAAA6KrXWZWeYWynlWpJ/M8NNH0ry7CHHmZUse7WSI5k9y7O11scP+iR6tzNZ9ponx4H7d47enTfTYWolRyLLfqy9i9HX3El/s+vd/cmyVys5Er17N7JM10qW1vZ5W6lLIst+WsnSWu/Om+kwtZIjkWU/R7LfcL/p5bB9VqWUK7XWC8vOkcjSco6krSxJW3lkma6VLK3k2K2VTK3kSGTZT0tZkvbyzKqvuZP+Zm8td0t5ZGk3R9JWlqStPLJM10qWVnLsaCmPLNO1kqWVHLu1kqmVHIks+2kpS584jAwAAAAAAHRk2A4AAAAAAB3d78P29y07wC6y7NVKjqStLElbeWSZrpUsreTYrZVMreRIZNlPS1mS9vLMqq+5k/5mby13S3lk2auVHElbWZK28sgyXStZWsmxo6U8skzXSpZWcuzWSqZWciSy7KelLL1xXx+zHQAAAAAAjsL9/s12AAAAAAA4dIbtAAAAAADQkWE7AAAAAAB0ZNgOAAAAAAAd9XLY/vjjj9ckLi7LuHSid12WfDkwveuy5Esn+tdliZdO9K7LEi+d6F2XJV8OTO+6LPlyYHrXZckXdunlsP3ZZ59ddgQ4EL1LX+ld+kz/0ld6l77Su/SV3qWv9C60o5fDdgAAAAAAaIlhOwAAAAAAdGTYDgAAAAAAHRm2AwAAAABAR4btAAAAAADQ0XDZAZKklPKZJF9MspVkXGu9sNxEAAAAAAAwuyaG7Tf97lrrs4t4oPFolMHoWjIZJyvDbK2tZ7i2toiH7rXRaJznXt7IeFIzXCl58NRq1tZaagEy3kyuf/ZW7+bM65PhiWWnokHWuf1tbmxm8tKzGUw2srWympUHHsqJ1eW8jzZvbGTw8tWUyWbqyolsnTqXEydXl5JlfGOUwcu7eubUeoYnl9Mzk0nNcy9uZGO8ldXhIA+eXs3KSllKlhbzzKrP2/Xxxo0MXrp6ux8fOJfh6sllx7qn8cYog5d2vY8eWM9wdXlrr23BdOPxjQyu7+qvM+cyHLbfX4dpPJ7k6vUb2dya5MRgJefOnMxwuLw/cu7rGsDRs87B4twYbSaj25+TsvZQTq6ZN7DXeHOUwYu71t7T6xmesPbOqh+fyOYwHo0y+PxTKZefSF54Ojl7PoOLlzJ+7WPHeqM8Go3zK8+9mO/6wJN55vmX8/BrTuW973hz3vjg6d58ML/vjTeTq7+U7OrdXLyUnPsqA3dewTq3v82NzZRnn8rJy29PXng6w7PnM774wWw+9NiRD9w3b2xk+Nwnbr1O5ez5lIuXsvngVx75wH18Y5TBc1N65sHHjnzgPpnU/PLnvpjveP+VW9ujH/22C/ny171qKQPu1vLMqs/b9fHGjQye/eTefnzoK5oeto03Rhk8O+V99NBjSxm42xZMNx7fyODqlP469xXHduA+Hk/y1Oe+mO/ctV78yDvenMde96qlDNz7ugZw9KxzsDg3RpsZfP6pDO/4nHTjtY8ZuPMK481RBtemrL3rjxm4z6iVY7bXJP+olPJkKeWdXR5oMLp2uyGS7QHH5Se2/2/4Mfbcyxu3PpAnyTPPv5zv+sCTee7ljSUn45brn709aE+2/3v5ie3rYRfr3P4mLz17awcyyfaO5OW3Z/LSQv5wai6Dl69Of51evrqELPv0zMtH3zPPvbhxa7CdbG+PvuP9V/Lci8vZHrWWZ1Z93q4PXtrnvfHS0b835jF4aZ/30UvLWXttC6YbXN+nv6633V+H6er1G7cG7cn2evGdH3gyV6/fWEqevq4BHD3rHCzQaPrnpIyO/nMSbRu8uM/a+6K1d1atDNu/vtb625N8Y5I/Vkr59+68QSnlnaWUK6WUK9eu3eUFnoxvN8SOF57evv4YG0/qrR3sHc88/3LGk7qkRMeH3mXhjqhXZu7dhgwmG1NrszLZPPIsZbI5NUtZQpaW1peN8dbU7dHGeGuhzzNr/x5VnkXr9Xa9oX6cS2trb1/reNjUZY/Nrcn09WJrstDn0bssXGvrLjRmnt5t6XMSjbOd7qyJYXut9ddu/vdqkr+T5Gun3OZ9tdYLtdYL6+vr+z/YynD78Bu7nT2/ff0xNlwpefg1p15x3cOvOZVhw38if7/QuyzcEfXKzL3bkK2V1am1mawc/Z9G1pUTU7PUJWRpaX1ZHQ6mbo9Wh4OFPs+s/XtUeRat19v1hvpxLq2tvX2t42FTlz1ODFamrxeDxX4U1LssXGvrLjRmnt5t6XMSjbOd7mzpw/ZSyulSyqt2/p3kP0jy8YM+3tbaeurFS7cb4+z51IuXsrV2vDeaD55azXvf8eZbO9o7x3Z98NRyTtTHFGdev32M9l29m4uXtq+HXaxz+1t54KGML37wFbUZX/xgVh546MizbJ06N/11OnVuCVn26ZlTR98zD55ezY9+24VXbI9+9Nsu5MHTy9ketZZnVn3erm89sM9744Gjf2/MY+uBfd5HDyxn7bUtmG7rzD79dabt/jpM586czI/csV78yDvenHNnlnN89L6uARw96xws0Nr0z0lZO/rPSbRt6/Q+a+9pa++sSq3L/XPjUspvzva32ZPtE7Z+sNb65+92nwsXLtQrV67s+3tnLJ9uNBrnuZc3Mp7UDFdKHjy12vxJ1BrU6SuD9+rdjDe3j9F+s3dz5vVOjspUB1znDty/9+zdhmxubGby0rNZmWxmsnIiKw88dOQnR72V5cbG9rHbJ5upKyeyderckZ8cdcf4xmj7GO07PXNq/chPjrpjMql57sWNbIy3sjoc5MHTq/c6Gemhrr0HyNOEPm/Xxxs3to/PvNOPD5zrxYkRxxuj7WO038q9fq+Tox5q79rnnW48vrF9jPadupw5d2xPjrpjPJ7k6vUbGW9NMhys5NyZk/c6Oerh9m5P1wCOnn1ejplD7d0bo81kdPtzUtYecnJUphpvjraP0b6z9p5ev9fJUdv/8HSElv6JrNb66ST/7iIfc7i2lqw9cvvnRT54j62tDfOGnnwIP7aGJ5Kzj9z7dhx71rn9nVg9kax+6bJjJMn2YP3kw0m29z6W+edkw5Nryck2emZlpWT9Ve0MVVrLM6s+b9eHqyeT1Tb6cR7D1bWmctsWTDccnnzF/pS6JMPhSn7T2VP3vuER6esawNGzzsHinFw7kay18TmJtg1PrNmX6mDph5EBAAAAAIC+M2wHAAAAAICODNsBAAAAAKAjw3YAAAAAAOjIsB0AAAAAADoybAcAAAAAgI4M2wEAAAAAoKPhsgMAAAAA9MWj7/rwge73mfe8ZcFJAGiNb7YDAAAAAEBHhu0AAAAAANCRYTsAAAAAAHRk2A4AAAAAAB0ZtgMAAAAAQEeG7QAAAAAA0JFhOwAAAAAAdGTYDgAAAAAAHRm2AwAAAABAR4btAAAAAADQkWE7AAAAAAB0ZNgOAAAAAAAdGbYDAAAAAEBHhu0AAAAAANCRYTsAAAAAAHRk2A4AAAAAAB0ZtgMAAAAAQEeG7QAAAAAA0JFhOwAAAAAAdGTYDgAAAAAAHQ2XHWBHKWWQ5EqSf1tr/eZODzbeTK5/NpmMk5Vhcub1yfDEQnL22niUXL+2qy7ryXBt2amWajwaZTC6XZOttfUM1453TeiHFnu3lUyTSc1zL25kY7yV1eEgD55ezcpKOfIcSTIZj5Prn02ZbKaunEjOvD4rw2Y2vfTdeCO5/rld2/XXJcPVZaeaSSvrxbxay91anmaMbyTXr+56b5xLhieXnWqpNjbGufbiRsaTmuFKyfrp1ayuLm97pHcBjp61l5mZH3bS0if+P5nkk0m+pNOjjDeTq7+UXH4ieeHp5Oz55OKl5NxXHe+B+3iUXH1qSl0eO7ZvmPFolMHnn0rZVZPBxUsZv/YxGxya1mLvtpJpMqn55c99Md/x/it55vmX8/BrTuVHv+1Cvvx1rzrygftkPE65+vFbNSlnz6devJTJuTcZuNPdeCO5+okp2/WvbH7g3sp6Ma/WcreWpxnjG8nVT055b3zFsR24b2yM88vXXsx3feDJW9vG977jzfny9dNLGbjrXYCjZ+1lZuaHnTVxGJlSysNJ3pLkr3V+sOufvd0QyfZ/Lz+xff1xdv3aPnW5ttxcSzQYXbu9oUm2h2GXn9j+P73QsBZ7t5VMz724cWvQniTPPP9yvuP9V/LcixtHmiPJ9jfap9Tk2G+PWIzrn9tnu/655eaaQSvrxbxay91anmZcv7rPe+PqcnMt0bUXN24N2pPtbeN3feDJXFvGtjF6F2AZrL3MzPywsyaG7Un+cpI/k2Sy3w1KKe8spVwppVy5du0uL/BkfLshdrzw9Pb1x5m67HVENZm5d2FWLfZuI2vMxnjr1jBhxzPPv5yN8daR5kiSMtmcWpMy2TzyLMfRfb/2NvKeO5C+Zm9t7e1rHQ+buuwxntSp28bxpC70efQufXXf7zNw3+rj5zV6QK90tvRheynlm5NcrbU+ebfb1VrfV2u9UGu9sL6+vv8NV4bbf+Kw29nz29cfZ+qy1xHVZObehVm12LuNrDGrw0Eefs2pV1z38GtOZXU4ONIcSbaP0T6lJnXlGB/S7Ajd92tvI++5A+lr9tbW3r7W8bCpyx7DlTJ12zhc8OHV9C59dd/vM3Df6uPnNXpAr3S29GF7kq9P8tZSymeS/GSS31NK+cCBH+3M67ePJbTTGDvHFjrz+gVE7bEz6/vU5fjuTGytrafeUZN68VK21o5vTeiHFnu3lUwPnl7Nj37bhVtDhZ1jtj94egnHsD7z+qk1OfbbIxbjzOv22a6/brm5ZtDKejGv1nK3lqcZZ87t8944t9xcS7R+ejXvfcebX7FtfO873pz1ZWwbo3cBlsHay8zMDzsrtS72zwe7KKV8Q5L/otb6zXe73YULF+qVK1f2v8F4c/uYuLfOmvv6431y1B3OJrzHAc7G3ekrQPfsXZjRAc8kf+D+naV3Wzm7/WRS89yLG9kYb2V1OMiDp1eP/OSot7KMx9vHbp9sbn+j/czrnRz1YKy904w3to/Rfmu7/rrmT466o5X1Yl6t7Tf0tY6Hbnxj+xjtt94b547tyVF3bGyMc+3FjYwnNcOVkvXTq/c6Oarepc8OdZ83SR5914cP9Pifec9bDnQ/jo1j8XmNHph/fricD9yNuj8/8Q9PJGcfWXaK9gzX1OUOw7W1ZO12Te7PNwT3oxZ7t5VMKysl669qY6iyMhwmZx9OYu+DQzBc7e12vZX1Yl6t5W4tTzOGJ3v73jgsq6vDvOHuw/UjpXcBjp61l5mZH3bS1Hur1vozSX5myTEAAAAAAGAuLRyzHQAAAAAAes2wHQAAAAAAOjJsBwAAAACAjgzbAQAAAACgI8N2AAAAAADoyLAdAAAAAAA6MmwHAAAAAICODNsBAAAAAKAjw3YAAAAAAOjIsB0AAAAAADoybAcAAAAAgI4M2wEAAAAAoCPDdgAAAAAA6MiwHQAAAAAAOjJsBwAAAACAjgzbAQAAAACgI8N2AAAAAADoyLAdAAAAAAA6MmwHAAAAAICODNsBAAAAAKAjw3YAAAAAAOho4cP2UsqpUsqXL/pxAQAAAACgVQsdtpdS/sMkv5DkH978+beVUj60yOcAAAAAAIDWLPqb7e9O8rVJXkiSWusvJHl0wc8BAAAAAABNWfSwfVxr/cKCHxMAAAAAAJo2XPDjfbyU8vYkg1LKG5P8iSQ/t+DnAAAAAACApiz6m+1/PMlXJbmR5CeS/EaS71nwcwAAAAAAQFMW+s32WutLSf7rm5eZlFLWkvxskpM38/ztWuv3LzIXAAAAAAAcpoUM20spfz9J3e/3tda33uXuN5L8nlrr9VLKiST/tJTyf9Ra//lB80zGo5Tr15LJOFkZpp5Zz8pw7aAPd98Yb4wyeOl2XbYeWM9w9XjXZTwaZTDaVZO19QzXlleT1vLAXLbGyfXPJlubyeBEcub1yWDRRyu7t5beRy1lsW28i0Z6d17jG6MMXt7VX6cwhIzPAAAgAElEQVTWMzzZj9e0pffGPFqreV/reNjGm6MMXtxVl9PrGZ443nUZj8eZXL+WlclGJiurWTmznuFweeuc3mVW4/Eog137L1tn1jO0/wIHYu1lVvalulnUHtZfPOgda601yfWbP564edl3cH8vk/Eo5epTKZefSF54Ojl7Prl4KZNzjx3rocJ4Y5TBs6+sy+DipYwfeuzYDtzHo1EGn59Sk9c+tpQNTmt5YC5b4+RzH0/uWHvzujcd6dCypfdRS1lsG++ikd6d1/jGKIPnpvTXg481P3Bv6b0xj9Zq3tc6Hrbx5iiDa1Pqsv7Ysf2QOB6Pk6ufzOrlt9+qyfjiBzM+9xVLGbjrXWY1Ho8yuDqlV849ZuAOc7L2Miv7Ut0t5JjttdaP1lo/muS37fx793X3un8pZVBK+YUkV5P841rrzx80S7l+7XZDJMkLT6dcfmL723zH2OCl6XUZvHR86zIY7VOT0XJq0loemMv1z94eVibb/738xPb1R6il91FLWWwb76KR3p3X4OV9+uvl9l/Tlt4b82it5n2t42EbvLhPXV48vnWZXL+W4c6gPUleeDrDy2/PZEnbAL3LrAb77L8M7L/A3Ky9zMq+VHeLPkHqH55y3bff60611q1a629L8nCSry2lvOnO25RS3llKuVJKuXLt2l1e4Mn4dkPseOHp7euPM3XZ64hqonfpq5l7N9k+/Ma0/t3aPLyA07T0PpJlqWbu31Z6d159fk37mt1+Qz+oyx4rk42pNVmZLHad07ssXGvrLjRmrt619jIrvdLZQobtpZS33Txu+5eVUj606/LTSZ6b9XFqrS8k+Zkkj0/53ftqrRdqrRfW19f3f5CV4fafgO929vz29ceZuux1RDXRu/TVzL2bbB/nelr/Dk4cXsBpWnofybJUM/dvK707rz6/pn3Nbr+hH9Rlj8nK6tSaTFYWu87pXRautXUXGjNX71p7mZVe6WxR32z/uSR/KclTN/+7c/neTBmc71ZKWS+lnL3571NJft/NxzmQemY99eKl241x9nzqxUupZ473RnPrgel12Xrg+NZla22fmqwtpyat5YG5nHn99nGud/VvLl7avv4ItfQ+aimLbeNdNNK789o6tU9/nWr/NW3pvTGP1mre1zoetq3T+9Tl9PGty8qZ9YwvfvAVNRlf/GBWlrQN0LvMamuf/Zct+y8wN2svs7Iv1V3ZPj/pEgOU8tVJfjzJINvD/8u11h+4230uXLhQr1y5su/vJ+PR9nFob541t55ZdwK43DxJ6ku7zib8wPqxPTnqjgOcjbt0eb579a6zg3PIDty/9+rdJNsnmrz+2e3DbwxObA8rl3CCyZbeRy1l6fm28VDX3lZ6d17jG6Pt44Xv9Nep9eZPjrqjpffGPA5Qc/sNSzDeHG0fV3SnLqfXj/0JvcbjcSbXr2VlspnJyomsnFm/18lR9S5NGI9H28do3+mVM+uznBz1cPd5kzz6rg8f6PE/8563HOh+HBuH2rvWXmZ1gH2pTvsN95uFfJIspfzTWuvvKqV8Mcnu6X1JUmutX7LffWutv5jkaxaRY8fKcC05+8grQpDtwfrq7bq0P0Y4fMO1tWStnZq0lgfmMhgmr3542Smaeh+1lMW28S4a6d15DU+uJSfb6K95tfTemEdrNe9rHQ/b8MQr1zt1yfZg/eyXLjvGLXqXWQ2H3s+wKNZeZmVfqptF1et0ktRaX7WgxwMAAAAAgN5Y1DHbl3ssGgAAAAAAWKJFfbP9XCnlT+/3y1rr/7ig5wEAAAAAgOYsatg+SHImDgELAAAAAMAxtKhh+6/XWn9gQY8FAAAAAAC9sqhjtvtGOwAAAAAAx9aihu2/d0GPAwAAAAAAvbOQYXut9fOLeBwAAAAAAOijRX2zHQAAAAAAji3DdgAAAAAA6MiwHQAAAAAAOjJsBwAAAACAjgzbAQAAAACgI8N2AAAAAADoyLAdAAAAAAA6MmwHAAAAAICODNsBAAAAAKAjw3YAAAAAAOjIsB0AAAAAADoybAcAAAAAgI4M2wEAAAAAoCPDdgAAAAAA6MiwHQAAAAAAOjJsBwAAAACAjgzbAQAAAACgI8N2AAAAAADoyLAdAAAAAAA6MmwHAAAAAICOhssOUEp5JMn7k7w+ySTJ+2qtf6XLY47HowyuX0sm42RlmK0z6xkO1xYRt9fUZa/xaJTBaFdN1tYzXFteTVrLA/NopX9bydFalsl4lLJrG1DPrGflmG8DdrT0Os2jr7mT/mZvLXdreVqhLnu1VpPW8tAuvQKL4/3ErMabowxe3NUrp9czPKFXZrX0YXuScZLvrbX+i1LKq5I8WUr5x7XWTxzowcajDK4+lXL5ieSFp5Oz5zO4eCnjc48d68Gyuuw1Ho0y+PyUmrz2seUNCBvKA/NopX9bydFalsl4lHLHNiAXL2Vy7rFjP3Bv6XWaR19zJ/3N3lru1vK0Ql32aq0mreWhXXoFFsf7iVmNN0cZXJvSK+uPGbjPaOmHkam1/nqt9V/c/PcXk3wyyRsO+niD69duN0SSvPB0yuUntr/RfYypy16D0T41GS2nJq3lgXm00r+t5GgtS9lnG1CO8TZgR0uv0zz6mjvpb/bWcreWpxXqsldrNWktD+3SK7A43k/MavDiPr3yol6Z1dKH7buVUh5N8jVJfn7K795ZSrlSSrly7dpdXuDJ+HZD7Hjh6e3rjzN12euIaqJ36auZezdpp39bySHL0t33a29fcyf9zW6/oR/UZS+9S1+11rvQmF5+XqN9eqWzZobtpZQzSf63JN9Ta/2NO39fa31frfVCrfXC+vr6/g+0Mtz+8/jdzp7fvv44U5e9jqgmepe+mrl3k3b6t5Ucsizdfb/29jV30t/s9hv6QV320rv0VWu9C43p5ec12qdXOmti2F5KOZHtQfvfqrX+710ea+vMeurFS7cb4+z51IuXsnXmeG801WWvrbV9arK2nJq0lgfm0Ur/tpKjtSx1n21APcbbgB0tvU7z6GvupL/ZW8vdWp5WqMterdWktTy0S6/A4ng/Maut0/v0ymm9MqtSa11ugFJKkh9P8vla6/fMcp8LFy7UK1eu7Pv78Xi0fSzynbPmnlk/ticB3U1d9jrA2bhLl+e7Z+86OziH68D9e6/eTdrp31ZytJZlMh5tH6P9ZpZ6Zr1PJ0e19k7R19xJf7Pbb+gHddlL79JXB+yVQ93nTZJH3/XhAz3+Z97zlgPdj2PjWHxeo33jzdH2Mdp3euX0+r1Ojtppv+F+08LfAHx9kieS/KtSyi/cvO6/qrV+5KAPOByuJWcfuf1zt3z3DXXZa7i2lqy1U5PW8sA8WunfVnK0lmXljm2AvaHbWnqd5tHX3El/s7eWu7U8rVCXvVqrSWt5aJdeuendrz7g/b6w2Bz0mvcTsxqeMD/sYun1qrX+0/jMDwAAAABAjzVxzHYAAAAAAOgzw3YAAAAAAOjIsB0AAAAAADoybAcAAAAAgI4M2wEAAAAAoCPDdgAAAAAA6MiwHQAAAAAAOjJsBwAAAACAjobLDgAAAABAz7371Qe83xcWmwNgiXyzHQAAAAAAOjJsBwAAAACAjgzbAQAAAACgI8N2AAAAAADoyLAdAAAAAAA6Gi47AAAAAEBffGbt7Qe85xcWmgOA9vhmOwAAAAAAdGTYDgAAAAAAHRm2AwAAAABAR4btAAAAAADQkWE7AAAAAAB0ZNgOAAAAAAAdGbYDAAAAAEBHhu0AAAAAANCRYTsAAAAAAHRk2A4AAAAAAB0ZtgMAAAAAQEeG7QAAAAAA0FETw/ZSyt8opVwtpXx82VkAAAAAAGBew2UHuOnHkvxQkvcv4sHGo1EGo2vJZJysDLO1tp7h2toiHrrX1GUvNaGvWuzdG6PNZPRsBpONbK2sJmsP5eTaiSPP0VJtZJmulV7Z0VJt5tHX3El/s7eWu7U8rVCXvTZHNzIcXb1Vk/HauZxYO7m0PF4jZqVXYHG8n5iVXummiWF7rfVnSymPLuKxxqNRBp9/KuXyE8kLTydnz2dw8VLGr33sWDeGuuylJvRVi717Y7SZweefyvDy25MXns7w7PmML34wN1772JEOUVuqjSzTtdIrO1qqzTz6mjvpb/bWcreWpxXqstfm6EaGn//kK2oyvHgpm6/9iqUM3L1GzEqvwOJ4PzErvdJdE4eRWaTB6NrthkiSF55OufzE9v+ROcbUZS81oa+a7N3Rs7eGpzuZhpffnoyePdIYLdVGln000is7mqrNHPqaO+lv9tZyt5anFeqy13B0dWpNhqOrS8njNWJWegUWx/uJWemV7nozbC+lvLOUcqWUcuXatbu8wJPx7YbY8cLT29cfZ+qy1xHVZObehVk12LuDycbUTCuTzYVmuqeW1jpZpjqqXrnv9xv6mjvpb/bW1t6+1vGwqcteepe+aq13oTFz9a61l1nplc56M2yvtb6v1nqh1nphfX19/xuuDJOz51953dnz29cfZ+qy1xHVZObehVk12LtbK6tTM01WjviwIC2tdbJMdVS9ct/vN/Q1d9Lf7K2tvX2t42FTl730Ln3VWu9CY+bqXWsvs9IrnfVm2D6rrbX11IuXbjfG2fOpFy9la+14bzTVZS81oa+a7N21hzK++MFXZBpf/GCy9tCRxmipNrLso5Fe2dFUbebQ19xJf7O3lru1PK1Ql73Ga+em1mS8dm4pebxGzEqvwOJ4PzErvdJdqbUuO0NKKT+R5BuSPJTkc0m+v9b61/e7/YULF+qVK1f2fTxnzZ1OXfY6QE1Kl+e7V+/CrA74fj5w/87SuzdGm8no2axMNre/pbz20PJOeNnIWifLdAfolUNde1uqzTz6mjvpb/bW9hv6WsfDpi57bY5ubB+j/WZNxmvn7nVyVL1LE1rc502SvPvVB3uCd3/hgPc74uc7KHXp6lB719rLrI56n/d+08TfANRa37bIxxuurSVrj9z+eZEP3mPqspea0Fct9u7JtRPJ2pcuO0ZTtZFlulZ6ZUdLtZlHX3Mn/c3eWu7W8rRCXfY6sXbyFTU5+v8V/kpeI2alV2BxvJ+YlV7pRr0AAAAA4C4efdeH577PZ97zlkNIArTsvjtmOwAAAAAAHDXfbAcAAACAu/jM2tsPcK9mjw8PHBLfbAcAAAAAgI4M2wEAAAAAoKNSa112hrmVUq4l+Tcz3PShJM8ecpxZybJXKzmS2bM8W2t9/KBPonc7k2WveXIcuH/n6N15Mx2mVnIksuzH2rsYfc2d9De73t2fLHu1kiPRu3cjy3StZGltn7eVuiSy7KeVLK317ryZDlMrORJZ9nMk+w33m14O22dVSrlSa72w7ByJLC3nSNrKkrSVR5bpWsnSSo7dWsnUSo5Elv20lCVpL8+s+po76W/21nK3lEeWdnMkbWVJ2sojy3StZGklx46W8sgyXStZWsmxWyuZWsmRyLKflrL0icPIAAAAAABAR4btAAAAAADQ0f0+bH/fsgPsIstereRI2sqStJVHlulaydJKjt1aydRKjkSW/bSUJWkvz6z6mjvpb/bWcreUR5a9WsmRtJUlaSuPLNO1kqWVHDtayiPLdK1kaSXHbq1kaiVHIst+WsrSG/f1MdsBAAAAAOAo3O/fbAcAAAAAgENn2A4AAAAAAB0ZtgMAAAAAQEeG7QAAAAAA0FEvh+2PP/54TeLisoxLJ3rXZcmXA9O7Lku+dKJ/XZZ46UTvuizx0onedVny5cD0rsuSLwemd12WfGGXXg7bn3322WVHgAPRu/SV3qXP9C99pXfpK71LX+ld+krvQjt6OWwHAAAAAICWGLYDAAAAAEBHhu0AAAAAANCRYTsAAAAAAHRk2A4AAAAAAB0d6rC9lPI3SilXSykf3+f3pZTyP5dSPlVK+cVSym8/zDwAAAAAAHAYhof8+D+W5IeSvH+f339jkjfevHxdkvfe/G8n49Eog9G1ZDJOVobZWlvPcG2t68P23nhzlMGLu+pyej3DE8e7Lq31Smt5aFeLvTIejzK4vivTmfUMh0efqaXayDLd5sZmJi89m8FkI1srq1l54KGcWD2xlCxJMhqN89zLGxlPaoYrJQ+eWs3a2mHvInU33hhl8NKu1/SB9QxX+7HNaKkf59Fa7tbytEJd9hqPN7Ny/XMpk83UlROZnHldhsPlrbteI2bVWq+0lKelz/ctZcl4lOz6TJIz68kyPpO0VJM7PPquDx/ofp95z1sWnATuT4f6SbLW+rOllEfvcpNvSfL+WmtN8s9LKWdLKV9aa/31gz7neDTK4PNPpVx+Innh6eTs+QwuXsr4tY8d6x248eYog2tT6rL+WDML/lFrrVday0O7WuyV8XiUwdUpmc49dqQD95ZqI8t0mxubKc8+lZOX35688HSGZ89nfPGD2XzosaUM3EejcX7luRfzXR94Ms88/3Iefs2pvPcdb84bHzzd9MB9vDHK4Nkpr+lDjzU/cG+pH+fRWu7W8rRCXfYajzczuPpLt2pSzp5PuXgp43NftZSBu9eIWbXWKy3laenzfUtZMh4lV59KdmXJxUvJuceOdODeVE2AI7fsY7a/Icmv7vr5mZvXHdhgdO32gpZs71BefmL7/z4fY4MX96nLi8e3Lq31Smt5aFeLvTK4vk+m60ebqaXayDLd5KVnM7w5aN/JMrz89kxeevbIsyTJcy9v3Bq0J8kzz7+c7/rAk3nu5Y2l5JnV4KV9XtOX2t9mtNSP82gtd2t5WqEue61c/9zUmqxc/9xS8niNmFVrvdJSnpY+37eUJdev3R6038ySy09sX3+EmqoJcOSWPWwvU66rU29YyjtLKVdKKVeuXbvLAjUZ317Qdrzw9Pb1x5m67HVENdG7LFxrvXuEme6plRyy7Gsw2ZiaZWWyudDnmbV/x5N6a9C+45nnX854MnV3pB0NvaZz62v21tbevtbxsKnLHmWyObUmZUnrrteImVl3ZelrltZ6FzhSyx62P5PkkV0/P5zk16bdsNb6vlrrhVrrhfX19f0fcWW4/adCu509v339caYuex1RTfQuC9da7x5hpntqJYcs+9paWZ2aZbKy2EMZzNq/w5WSh19z6hXXPfyaUxmuTPs+QEMaek3n1tfsra29fa3jYVOXPerKiak1qUtad71GzMy6K0tfs7TWu8CRWvaw/UNJvq1s+x1JvtDleO1JsrW2nnrx0u2F7ez51IuXsrV2vBeerdP71OX08a1La73SWh7a1WKvbJ3ZJ9OZo83UUm1kmW7lgYcyvvjBV2QZX/xgVh546MizJMmDp1bz3ne8+dbAfeeY7Q+eWl1KnlltPbDPa/pA+9uMlvpxHq3lbi1PK9Rlr8mZ102tyeTM65aSx2vErFrrlZbytPT5vqUsObO+fYz2XVly8dL29UeoqZoAR65sn5v0kB68lJ9I8g1JHkryuSTfn+REktRaf6SUUpL8UJLHk7yU5I/UWq/c63EvXLhQr1zZ/2YtnSG8JS2fDXtZDtArnb7qqHdZlAP2yoH79169m9w8Ser1XZnOrB/pyVFv5WjofSTLdJsbm5m89GxWJpuZrJzIygMP3evkqIe69o5G4zz38kbGk5rhSsmDp1abPjnqjvHGaPsY7Tuv6QPrzZ8cdUdL/TgP+w39oC57jceb28dun2ymrpzI5Mzr7nVyVL1LE1rb522pd1v6fN9SloxH28dov5klZ9aP9OSot2IcrCaH+nltx6Pv+vCBnuMz73nLge7HsdD4nwUfrUP9JFlrfds9fl+T/LFFP+9wbS1Zu310mvY/Lh+N4Ym15Ky67NZar7SWh3a12CvDYRtrTEu1kWW6E6snktUvXWKCV1pbG+YNPRiu32m4upastvGazqulfpxHa7lby9MKddlrODyRnH04yfan4WX/ebPXiFm11ist5Wnp831LWXLHZ5KlxWipJsCRWvZ+FgAAAAAA9J5hOwAAAAAAdGTYDgAAAAAAHRm2AwAAAABAR4btAAAAAADQkWE7AAAAAAB0ZNgOAAAAAAAdGbYDAAAAAEBHhu0AAAAAANCRYTsAAAAAAHRk2A4AAAAAAB0ZtgMAAAAAQEeG7QAAAAAA0JFhOwAAAAAAdGTYDgAAAAAAHRm2AwAAAABAR4btAAAAAADQkWE7AAAAAAB0ZNgOAAAAAAAdGbYDAAAAAEBHhz5sL6U8Xkr55VLKp0op75ry+/OllJ8upfy/pZRfLKV802FnAgAAAACARTrUYXspZZDkh5N8Y5KvTPK2UspX3nGz/ybJ5Vrr1yT51iR/9TAzAQAAAADAoh32N9u/Nsmnaq2frrVuJPnJJN9yx21qki+5+e9XJ/m1Q84EAAAAAAALNTzkx39Dkl/d9fMzSb7ujtu8O8k/KqX88SSnk/y+Q84EAAAAAAALddjfbC9Trqt3/Py2JD9Wa304yTcluVRK2ZOrlPLOUsqVUsqVa9euHUJUOBx6l77Su/SZ/qWv9C59pXfpK71LX+ldaNNhD9ufSfLIrp8fzt7DxPzRJJeTpNb6z5KsJXnozgeqtb6v1nqh1nphfX39kOLC4uld+krv0mf6l77Su/SV3qWv9C59pXehTYc9bP9YkjeWUr6slLKa7ROgfuiO2zyd5PcmSSnlK7I9bPe/5AAAAAAA6I1DHbbXWsdJvjvJTyX5ZJLLtdZfKqX8QCnlrTdv9r1JvqOU8i+T/ESSb6+13nmoGQAAAAAAaNZhnyA1tdaPJPnIHdd9365/fyLJ1x92DgAAAAAAOCyHfRgZAAAAAAC47xm2AwAAAABAR4btAAAAAADQkWE7AAAAAAB0ZNgOAAAAAAAdGbYDAAAAAEBHhu0AAAAAANCRYTsAAAAAAHRk2A4AAAAAAB0ZtgMAAAAAQEeG7QAAAAAA0JFhOwAAAAAAdGTYDgAAAAAAHRm2AwAAAABAR4btAAAAAADQ0XDWG5ZSTib5g0ke3X2/WusPLD4WAAAAAAD0x8zD9iR/L8kXkjyZ5MbhxAEAAAAAgP6ZZ9j+cK318UNLAgAAAAAAPTXPMdt/rpTyWw8tCQAAAAAA9NQ832z/XUm+vZTyr7N9GJmSpNZav/pQkgEAAAAAQE/MM2z/xoM8QSnl8SR/JckgyV+rtb5nym0uJnl3kprkX9Za336Q5wIAAAAAgGW457C9lPIltdbfSPLFeR+8lDJI8sNJfn+SZ5J8rJTyoVrrJ3bd5o1J/mySr6+1Pl9KOTfv8wAAAAAAwDLN8s32Dyb55iRPZvub52XX72qS33yX+35tkk/VWj+dJKWUn0zyLUk+ses235Hkh2utzydJrfXqzOkBAAAAAKAB9xy211q/+eZ/v+wAj/+GJL+66+dnknzdHbf5LUlSSvm/s32omXfXWv/hAZ4LAAAAAACWYp5jtqeU8geyfaLUmuSf1Fr/7r3uMuW6OiXDG5N8Q5KHk/yTUsqbaq0v3PHc70zyziQ5f/78PLFhqfQufaV36TP9S1/pXfpK79JXepe+0rvQppVZb1hK+atJvjPJv0ry8STfWUr54Xvc7Zkkj+z6+eEkvzblNn+v1rpZa/3XSX4528P3V6i1vq/WeqHWemF9fX3W2LB0epe+0rv0mf6lr/QufaV36Su9S1/pXWjTPN9s//eTvKnWWpOklPLj2R68383HkryxlPJlSf5tkm9N8vY7bvN3k7wtyY+VUh7K9mFlPj1HLgAAAAAAWKqZv9me7W+c7/67lEeS/OLd7lBrHSf57iQ/leSTSS7XWn+plPIDpZS33rzZTyV5rpTyiSQ/neS/rLU+N0cuAAAAAABYqnt+s72U8vezfZz1Vyf5ZCnl/7n589cl+bl73b/W+pEkH7njuu/b9e+a5E/fvAAAAAAAQO/MchiZv3joKQAAAAAAoMfuOWyvtX70KIIAAAAAAEBfzXzM9lLK7yilfKyUcr2UslFK2Sql/MZhhgMAAAAAgD6Y5wSpP5TkbUl+JcmpJP/5zesAAAAAAOBYm+WY7bfUWj9VShnUWreS/M1Syj1PkAoAAAAAAPe7eYbtL5VSVpP8QinlLyT59SSnDycWAAAAAAD0xzyHkXni5u2/O8mLSR5J8gcPIxQAAAAAAPTJPb/ZXkpZT7Jea/3EzatGSf5cKeVNSb5wmOEAAAAAAKAPZvlm+w8mWZ9y/RuS/JXFxgEAAAAAgP6ZZdj+W2utH73zylrrTyX56sVHAgAAAACAfpll2H7igL8DAAAAAIBjYZZh+6+UUr7pzitLKd+Y5NOLjwQAAAAAAP1yzxOkJvlTSf5BKeVikidvXnchye9M8s2HFQwAAAAAAPrint9sr7X+f0l+a5KPJnn05uWjSb765u8AAAAAAOBYm+Wb7am13kjyN+92m1LKP6u1/s6FpAIAAAAAgB6Z5Zjts1pb4GMBAAAAAEBvLHLYXhf4WAAAAAAA0BuLHLYDAAAAAMCxtMhhe1ngYwEAAAAAQG/MPGwvpZwupazc/PdvKaW8tZRyYtdNnlh4OgAAAAAA6IF5vtn+s0nWSilvSPJ/JvkjSX5s55e11o9Pu1Mp5fFSyi+XUj5VSnnXfg9eSvlDpZRaSrkwRyYAAAAAAFi6eYbtpdb6UpI/kOQHa63/UZKvvOsdShkk+eEk33jztm8rpey5TynlVUn+RJKfnyMPAAAAAAA0Ya5heynldyb5T5N8+OZ1w3vc52uTfKrW+ula60aSn0zyLVNu998m+QtJRnPkAQAAAACAJswzbP+TSf5skr9Ta/2lUspvTvLT97jPG5L86q6fn7l53S2llK9J8kit9R/MkQUAAAAAAJpxr2+m31Jr/dlsH7d95+dPZ/vQL3dTpj3UrV9un3D1f0ry7fd6/lLKO5O8M0nOnz9/78DQCL1LX+ld+kz/0ld6l77Su/SV3qWv9C60aeZheyllPcmfSfJVSdZ2rq+1/p673O2ZJI/s+vnhJL+26+dXJXlTkp8ppSTJ65N8qJTy1lrrld0PVGt9X5L3JcmFCxdqoCf0Lj8rTg0AAB6wSURBVH2ld+kz/Utf6V36Su/SV3qXvjpo735m7e0HfMYvHPB+cLzMcxiZv5XkqSRfluTPJflMko/d4z4fS/LGUsqXlVJWk3xrkg/t/LLW+oVa60O11kdrrY8m+edJ9gzaAQAAAACgZfMM2x+stf71JJu11o/WWv+zJL/jbneotY6TfHeSn0ryySSXbx7v/QdKKW89cGoAAAAAAGjIzIeRSbJ587+/Xkp5S7YPB/Pwve5Ua/1Iko/ccd337XPbb5gjDwAAAAAANGGeYft/V0p5dZLvTfKDSb4kyZ86lFQAAAAAANAjMw/ba63/4OY/v5Dkdx9OHAAAAAAA6J97DttLKT+YZN+zGtda/8RCEwEAAAAAQM/M8s32K7v+/eeSfP8hZQEAAAAAgF6657C91vrjO/8upXzP7p8BAAAAAIBkZc7b73s4GQAAAAAAOK7mHbYDAAAAAAB3mOUEqV/M7W+0P1BK+Y2dXyWptdYvOaxwAAAAAADQB7Mcs/1VRxEEAAAAAAD6ymFkAAAAAACgI8N2AAAAAADoyLAdAAAAAAA6MmwHAAAAAICODNsBAAAAAKAjw3YAAAAAAOjIsB0AAAAAADoybAcAAAAAgI4M2wGA/7+9O4+WqyzzPf59khBONDZDyO3mGiZHGhEFIq3iEBUVhwbbgenqlXuxudjqstvrctmLviza7r6NzbrONg4tS0UBEaUX2tiICuIUIAgBAoKIqHGCMDlxEpI894+9D6mcU3VOnVNVu97K+X7WqpWqXXvX/p03737r3W/tQZIkSZIk9cjBdkmSJEmSJEmSerRo2AEkSZIkSZIkSQNw+i5zXO6B/uaYJzyyXZIkSZIkSZKkHg18sD0ijoyIWyPi9oh4Z5v33xYRN0fEDRHx9YjYZ9CZJEmSJEmSJEnqp4EOtkfEQuDDwEuAA4DjI+KASbNdB6zMzIOAC4F/GWQmSZIkSZIkSZL6bdBHth8G3J6Zd2TmJuB84OjWGTLz8sz8Q/1yNbBiwJkkSZIkSZIkSeqrQQ+2Pxr4Wcvr9fW0Tk4CvtLujYg4OSLWRMSau+++u48RpcGy7mpUWXc1yqy/GlXWXY0q665GlXVXo8q6K5Vp0IPt0WZatp0x4rXASuDMdu9n5scyc2Vmrly+fHkfI0qDZd3VqLLuapRZfzWqrLsaVdZdjSrrrkaVdVcq06IBf/56YK+W1yuAX0yeKSKOAE4FnpuZGwecSZIkSZIkSZKkvhr0ke3XAI+PiP0iYjFwHHBx6wwRcTDwUeCozLxrwHkkSZIkSZIkSeq7gQ62Z+Zm4M3ApcAtwAWZuS4i3hURR9WznQksBT4fEddHxMUdPk6SJEmSJEmSpCIN+jIyZOYlwCWTpp3W8vyIQWeQJEmSJEmSJGmQBn0ZGUmSJEmSJEmSdngOtkuSJEmSJEmS1CMH2yVJkiRJkiRJ6pGD7ZIkSZIkSZIk9cjBdkmSJEmSJEmSeuRguyRJkiRJkiRJPXKwXZIkSZIkSZKkHjnYLkmSJEmSJElSjxxslyRJkiRJkiSpRw62S5IkSZIkSZLUIwfbJUmSJEmSJEnqkYPtkiRJkiRJkiT1yMF2SZIkSZIkSZJ65GC7JEmSJEmSJEk9crBdkiRJkiRJkqQeOdguSZIkSZIkSVKPHGyXJEmSJEmSJKlHDrZLkiRJkiRJktQjB9slSZIkSZIkSeqRg+2SJEmSJEmSJPVo0aBXEBFHAu8HFgL/lplnTHp/Z+DTwKHAPcCxmXlnL+vcPD7OwvG7YetmWLCILWPLWTQ21stH7hAsl6lKK5PS8qhcJdaVUjKVksMsnY2Pb+aeBzexeWuyaEGwbMlixsYG3iXpqKSymY1RzQ2jm7203KXlKYXlMlVpZVJaHpWrtLpSUh6zlJ1l4/hDML6BhVs3sWXBYhjbg53Hdmo8h6TmDXTPNiIWAh8GXgisB66JiIsz8+aW2U4C7svMx0XEccC7gWPnus7N4+MsvPcHxAWvg/t/CrvuzcJjzmHz7vvP6w6c5TJVaWVSWh6Vq8S6UkqmUnKYpbPx8c388J7f88bPXMv6+x5kxW5LOOu1h/L4ZY8cyoB7SWUzG6OaG0Y3e2m5S8tTCstlqtLKpLQ8KldpdaWkPGYpO8vG8YdYeO8PWHTBCXD/T1m0695sPuZcNu6+vwPu0jww6MvIHAbcnpl3ZOYm4Hzg6EnzHA18qn5+IfCCiIi5rnDh+N3bGlaA+39KXPC66pfNecxymaq0Miktj8pVYl0pJVMpOczS2T0Pbnp4oB1g/X0P8sbPXMs9D25qPAuUVTazMaq5YXSzl5a7tDylsFymKq1MSsujcpVWV0rKY5bCs4xveHigfSLHogtOgPENzeaQNBSDHmx/NPCzltfr62lt58nMzcADwLLJHxQRJ0fEmohYc/fd0zSUWzdva9Am3P/Tavp8ZrlM1VCZWHfVd6XV3QYzzaiUHGbpaPPWfHigfcL6+x5k89bs63p2+LZ3VHPD6GYvre0d1XIcNMtlKuuuRpV11ywjmmXh1k1tcyzY+lBf1zOr/TVJjRn0YHu7I9Qn7013Mw+Z+bHMXJmZK5cvX955jQsWwa57bz9t172r6fOZ5TJVQ2Vi3VXflVZ3G8w0o1JymKWjRQuCFbst2W7ait2WsGjBnE9qa2uHb3tHNTeMbvbS2t5RLcdBs1ymsu5qVFl3zTKiWbYsWNw2x9YF/b2EzKz21yQ1ZtCD7euBvVperwB+0WmeiFgE7ALcO9cVbhlbTh5zzraGbde9yWPOYcvY/G54LJepSiuT0vKoXCXWlVIylZLDLJ0tW7KYs1576MMD7hPXbF+2ZHHjWaCsspmNUc0No5u9tNyl5SmF5TJVaWVSWh6Vq7S6UlIesxSeZWwPNh9z7nY5Nh9zLozt0WwOSUMRmf09bXu7D68Gz28DXgD8HLgGOCEz17XM8ybgyZl5Sn2D1Fdm5jHTfe7KlStzzZo1Hd8v5e7TpbFcpppDmfR06KV1V/0yx7oy5/o7U93tIVPflZLDLJ2Nj2/mngc3sXlrsmhBsGzJ4plujmrb28ao5obRzW6/YTRYLlNZdzWqSuvzllR3zVJ2lo3jD8H4BhZsfag6on1sj25ujjrQ/bWHnb7L3FZy+gNzW07DN/j/8/6epjziBnouTWZujog3A5cCC4GzM3NdRLwLWJOZFwOfAM6JiNupjmg/rtf1Lhobg7FtB9R7QmLFcpmqtDIpLY/KVWJdKSVTKTnM0tnY2CIePf3geqNKKpvZGNXcMLrZS8tdWp5SWC5TlVYmpeVRuUqrKyXlMUvZWXYe2wnG9hzS2iUN08Dbncy8BLhk0rTTWp6PA68ZdA5JkiRJkiRJkgZl0NdslyRJkiRJkiRph+dguyRJkiRJkiRJPXKwXZIkSZIkSZKkHjnYLkmSJEmSJElSjxxslyRJkiRJkiSpR5GZw84waxFxN/CTLmbdA9gw4DjdMstUpeSA7rNsyMwj57oS627PzDLVbHLMuf7Oou7ONtMglZIDzNKJbW9/jGpuGN3s1t3OzDJVKTnAujsds7RXSpbS+ryllAuYpZNSspRWd2ebaZBKyQFm6aSRfsOOZiQH27sVEWsyc+Wwc4BZSs4BZWWBsvKYpb1SspSSo1UpmUrJAWbppKQsUF6ebo1qbhjd7KXlLimPWcrNAWVlgbLymKW9UrKUkmNCSXnM0l4pWUrJ0aqUTKXkALN0UlKWUeJlZCRJkiRJkiRJ6pGD7ZIkSZIkSZIk9WhHH2z/2LADtDDLVKXkgLKyQFl5zNJeKVlKydGqlEyl5ACzdFJSFigvT7dGNTeMbvbScpeUxyxTlZIDysoCZeUxS3ulZCklx4SS8pilvVKylJKjVSmZSskBZumkpCwjY4e+ZrskSZIkSZIkSU3Y0Y9slyRJkiRJkiRp4EZ+sD0izo6IuyLipg7vR0R8ICJuj4gbIuKQIWZZFREPRMT19eO0AWbZKyIuj4hbImJdRLy1zTwDL5suczRSLhExFhFXR8TaOsvft5ln54j4XF0mV0XEvgPIcWRE3Fqv452zyRARf1tPvzUiXtxAlrdFxM11/fh6ROzT8t6Wlv+ziwec48SIuLtlfW9oee/1EfHD+vH6XnJ0meW9LTlui4j7W97rW5nUnzfn9q3f5dJl3mnLrikzlVvDWWZsAxvMMmMb2HCehRFxXUR8eZg56ixF1N3ZKqmuz0ZJ28VslLAN9dKHaDhHx+/tAWQpYl+gixzzcT/APu/sc8y7Pm8v23C/y6QfeZvUzbbeYJahf0dOylNEPzMi7oyIG+ttZU0D67PdnVuWRtreUtrd+vNGqu0dOZk50g/gOcAhwE0d3n8p8BUggKcDVw0xyyrgyw2Vy57AIfXzRwG3AQc0XTZd5mikXOq/c2n9fCfgKuDpk+b5K+Aj9fPjgM/1OcNC4EfAY4DFwNo25dE2A3BAPf/OwH715ywccJbnAY+on7+xtTyA3zVYJicCH2qz7O7AHfW/u9XPdxtklknzvwU4u99l0vJ5c2rf+l0ugyi7AWeZttwazjJjG9hglhnbwIbzvA04t4n2f4YcxdTdOWQvpq7PMncx28Uscw91G+ry+3Kg/ZhZ5Gj7vT2gciliX6CLHKuaau+62cYGXS691Ffs886rPu9ct+F+l0m/8jb56GZbbzCL/cz2Oe4E9mhoXba7c88y8La3pHa3/ryRantH7THyR7Zn5pXAvdPMcjTw6aysBnaNiD2HlKUxmfnLzPx+/fy3wC3AoyfNNvCy6TJHI+q/83f1y53qx+SbFhwNfKp+fiHwgoiIPsY4DLg9M+/IzE3A+fU6u8lwNHB+Zm7MzB8Dt9efN7AsmXl5Zv6hfrkaWNHD+uacYxovBi7LzHsz8z7gMuDIBrMcD5zXw/qm1UP71u9y6UYv/499NYJtcVNZumkDGxERK4CXAf82jPVPUkzdna2S6vpslLRdzEYB21AvfYimczSmlH2BkrbHQvYD7PPOIcc0dtg+74j1d0dxW28qy7C/Ix9WWD+zSba7c8wyjX62M8W0uzB6be+oGfnB9i48GvhZy+v1DHeH7hn1qVVfiYgnNbHC+tSgg6l+XW7VaNlMkwMaKpf6dLLrgbuoGoiOZZKZm4EHgGV9jNBNmXfK0O//r9l+3klUv2xOGIuINRGxOiJe0UCOV9WnL10YEXvNctl+Z6E+zW0/4Bstk/tVJt3qlHcY7V5pbW1xZmgDm8owUxvYlPcB7wC2Dmn9ray7Q1TCdjEbQ96GeulDNJ0D2n9vD0NJ2/h82g+wzzv3HPZ5t1dSf7dYJXyf2s9sK4GvRsS1EXHygNdlu9tblkG3vaPU7oJtb0/mw2B7u6N5hvILK/B9YJ/MfArwQeDfB73CiFgKfAH468z8zeS32ywykLKZIUdj5ZKZWzLzqVS/mh4WEQdOjtpusT5G6ObzO83T72xdf15EvBZYCZzZMnnvzFwJnAC8LyIeO8AcXwL2zcyDgK+x7df4oZUJ1Wl3F2bmlpZp/SqTbjVVV3rJImZsAxvTRRs4cBHxcuCuzLy26XV3YN0dklK2i9kY8jbUSx+i6RydvreHoZRtfL7tB9jnnVsO+7xTldTfLVIp36f2M9s6PDMPAV4CvCkinjPAddnuzj1LE23vKLW7YNvbk/kw2L4eaD2aZgXwi2EEyczfTJxalZmXADtFxB6DWl9E7ET1pfvZzPxim1kaKZuZcjRdLvV67geuYOrpLg+XSUQsAnahv6cJdlPmnTL0+/+rq8+LiCOAU4GjMnPjxPTM/EX97x1UZXnwoHJk5j0t6/44cOhs/oZ+ZmlxHJNO6+pjmXSrU95htHvFtLWl6aItbtw0bWATDgeOiog7qU6ffH5EfGYIOSZYd4egxO1iNoa0DfXSh2g0xzTf28NQxDY+D/cD7PPOIYd93rZK6u8Wp8TvU/uZ27RsK3cBF9HbpVlmYrs7xywNtb2j1O6CbW9vsoALx/f6APal80X9X8b2F/W/eohZ/gSI+vlhwE8nXg8gRwCfBt43zTwDL5suczRSLsByYNf6+RLgW8DLJ83zJra/YcgFfc6wiOoGEvux7aYYT+omA/Aktr9pyR30dtOSbrIcTHUTj8dPmr4bsHP9fA/gh8zxZjxd5tiz5flfAKvr57sDP67z7FY/332QZVLP90Sqm91Ey7S+lcmkdU3XprTdhvtdLv0su6Ye05VbwzlmbAMbzDJjGziETKsY/o2riqq7c8hfRF2fZeZitotZ5h7qNtTl9+VA+zGzyNH2e3uAZTPr78oh5JhX+wG91Ffs807ZdtjB+7xz2Yb7XSb9ytvko5ttvcEs9jOnrv+RwKNann8XOHKA67PdnXuWgbe9pbW79WeNVNs7So+hB+hD5TgP+CXwENUvLCcBpwCn1O8H8OF6I74RWDnELG8G1tUb1WrgmQPM8iyqUzluAK6vHy9tumy6zNFIuQAHAdfVWW4CTqunv4vql1SAMeDzVDcEuRp4zAByvJTqTvE/Ak6dTQaqX31/BNwKvKSBLF8Dft3yf3dxPf2ZdZ1ZW/970oBz/HNLHbkc2L9l2f9Zl9XtwP8YdJnUr08Hzpi0XF/LpP7MObdv/S6XuZbdMB7tym2IWdq2gUPK0rYNHOaDAgbb6xxF1N055C6mrs8ydzHbxSxzD30b6uL7cuD9mC5zdPzeHkCWIvYFusgxH/cD7PP2cdthB+3z9rIN97tM5pq3ifV2yFLM9ykFfEe2ybSK4Q62P6beTtbW2/XA+5i2u3PO0kjbW0q7W3/mSLW9o/aYOLpCkiRJkiRJkiTN0Xy4ZrskSZIkSZIkSQPlYLskSZIkSZIkST1ysF2SJEmSJEmSpB452C5JkiRJkiRJUo8cbJckSZIkSZIkqUcOto+oiNgSEddHxE0R8fmIeMQ0854eEW9vMp80FxFxakSsi4gb6vr9Z8POJHUrIv4iIjIi9h92FmkmLf2Iice+w86k+aVNHXznLJZdFRFf7nH9V0TEyjku2/P6teOKiN91Mc/BdZ/hxbNdVmpaRCxraat/FRE/b3n93XqefSPihJZlbCclzVsOto+uBzPzqZl5ILAJOGXYgaReRMQzgJcDh2TmQcARwM+Gm0qaleOBbwPHDTuI1IWJfsTE485uFoqIhQPOpfljch08o6kVW49VgIk+w/HDDiLNJDPvmWirgY8A721pu59Zz7YvcELHD5F6MPmHyIg4MSI+1MfPf0JEXBIRt0fELRFxQUT88TTzd/wxqf6cXfuVTaPJwfYdw7eAxwFExH+vjwpeGxHnTJ4xIv4yIq6p3//CxBHxEfGa+ij5tRFxZT3tSRFxdf2L9Q0R8fhG/yrNN3sCGzJzI0BmbsjMX0TEoRHxzYi4NiIujYg9I2JRXY9XAUTEP0fEPw0zvOa3iFgKHA6cRD3YHhELIuJf67M1vlx3vF5dvzelXg8xvgQ8fFTatyLi+/XjmfX0VRFxeUScC9xYT3ttSx/how5eql8i4s6I+L8R8b2IWBMRh9Tt5I8iovXgkj+KiIsi4uaI+EhELKiXP6tebl1E/P2kzz0tIr4NvKZl+oKI+FRE/GP9+kX1ur8f1dmjS+vpR0bED+rlX9lIYWik1X3WK2Pb2cjPrqcH8GrgROBFETHWZtmIiDPr5W6MiGPr6auiOivjwro+frb+PPsWGoqWQdAzgGfX9f1vJs3zyIg4u95/uy4ijm4+qdRe3Qb/B3BWZj4uM/8UOAtYPpfPy8yXZub9/cyo0eNg+4iLiEXAS4AbI+JJwKnA8zPzKcBb2yzyxcx8Wv3+LVQDQwCnAS+upx9VTzsFeH/9C/ZKYP0A/xTpq8BeEXFbPUD53IjYCfgg8OrMPBQ4G/inzNxMtYNyVkS8EDgS+PtOHyw14BXAf2bmbcC9EXEI1WDMvsCTgTcAzwDoVK+HEVrz2pLYdgr4RfW0u4AXZuYhwLHAB1rmPww4NTMPiIg/rd8/vO4jbAH+W5PhtUNorYPXTwwm1n6Wmc+gOqDkk1QDk08H3tUyz2HA/6ZqYx/LtgHwUzNzJXAQ8NyIOKhlmfHMfFZmnl+/XgR8FrgtM/8uIvYA/g44ot4O1gBvq3fEPw78OfBs4E/6VAbasZ0AXFq3k08Brq+nHw78ODN/BFwBvLTNsq8EJpY7AjizZfD8YOCvgQOAxwCH27dQAd4JfKs+2v29k947FfhGZj4NeB5VfX5k4wm1Q4qIP4+Iq+ofcr4W9RHp9XjCRB/juoh4VIePOAH4XmZ+aWJCZl6emTd1OhCl1ulH/zsjYo962Vsi4uP1AQBfjYglAysIFWXRsANozpZExESH7VvAJ4D/BVyYmRsAMvPeNssdWB+5syuwFLi0nv4d4JMRcQHwxXra94BTI2IF1SD9Dwfzp0iQmb+LiEOpdmKfB3wO+EfgQOCy+qCdhcAv6/nXRXX2xpeAZ2TmpqEElyrHA++rn59fv94J+HxmbgV+FRGX1+8/kQ71WmrQg/UAUKudgA9FxMQA+hNa3rs6M39cP38BcChwTV2Hl1AN1Euz0a4OTri4/vdGYGlm/hb4bUSMx7ZTs6/OzDsAIuI84FnAhcAxEXEy1X7OnlQDkjfUy3xu0no+ClyQmRODkk+v5/9OXbcXU/WH96caHP1hvb7PACfP7c/WPHINcHY9EP7vmTmx73Y8VV+B+t/XsW3/a8KzgPMycwvw64j4JvA04DdUdX89QL0/uC9wP/YtVK4XAUfFtvvIjQF7Ux38J3WjdfwLYHe29RW+DTw9MzMi3gC8g+rH+LcDb8rM79RnqY13+OwDgWs7vDdxIMp4VFd6OI/qQFSofvQ/APgJ8J9UP5JeOGn5xwPHZ+Zf1mNtrwI+09VfrJHmYPvomrKDUp9CmDMs90ngFZm5NiJOBFYBZOYpUd2M8mXA9RHx1Mw8NyKuqqddGhFvyMxv9PnvkB5W71BcAVwRETcCbwLW1Ue3tfNkqp2LjtdTkwYtIpYBz6f6MTOpdnATuKjTIkxfr6Vh+Rvg11RHUi5g+52S37c8D+BTmfm3DWbT/LKx/ndry/OJ1xP7L5P7vBkR+1HtXD8tM++LiE9SDepM+P2kZb4LPC8i/l9mjlPV7csyc7vraNc/QM3Ux5a2k5lXRsRzqPalzomIM6nOpHgV1cDjqVR1bllEPKr+UWlCTPPRrdvEFqptwr6FShbAqzLz1mEH0cjabvyrHsuaGPReAXyuPvtnMTBxcMh3gPdExGepDh6dy5UaZjoQpd2P/q1+3PJD67VUP45qHvAyMjuWr1MdzbMMICJ2bzPPo4Bf1kdYPHzKd0Q8NjOvyszTgA1Ul/N4DHBHZn6A6lfDg9p8ntQXEfHE2P6+AE+lOtpheVQ3TyUidqovl0REvBJYBjwH+EB4ExINz6uBT2fmPpm5b2buRdXJ2wC8KqrrAf8x9Y+bwK10qNfSkO0C/LI+G+N1VD8ctfN14NUR8V+g6m9ExD4NZZQmHBYR+9WnbR9LdWTbH1ENqD9Qt7svmeEzPgFcAny+vjTjaqpLckzcC+kREfEE4AfAfhHx2Ho5b2qpGdXt4l2Z+XGqunYI1SVh1mbmXnWfYR/gC1SXo2t1JXBsRCyMiOVU/d2rp1mdfQsN22+pxhrauRR4S31wIBFxcGOpNB98EPhQZj6Z6moPYwD1jdffQHUG5uqI2L/D8uuozthsp/VAlJVUg/kTpvzo32b5dj+Oah5wsH0HkpnrqK7N982IWAu8p81s/we4CriMasdhwplR3XznJqrO3VqqHZeb6tN19gc+Pcj8mveWAp+qr3l2A9UpWadRDWS+u67T1wPPjOqaqmcAJ9XXyP4Q8P4h5ZaOZ+pR7F8A/ivVvS5uorpUwVXAA/Ulj6bU6+biSh39K/D6iFhNdeTO5KOAAcjMm6mua/3Vur2+jOpyHdJsTL5m+xmzXP57VH2Bm6h+4LwoM9cC11HtOJ9NdVTbtDLzPcD3gXOAe6juCXNeXbdXA/vXR72fDPxHVDdI/ckss2p+WkV1xvB1VEezv5/OfYYTJk27iOryR2uBbwDvyMxfdVqRfQsV4AZgc0SsjUk3SAX+geoI4Rvq8YZ/aDyddmS7AD+vn79+YmJ9QOmNmfluqnuwdBpsP5dqjOFlLcseGRFPZvoDUdr96C8BEJmeESlJ0iBExNL6fgTLqI5IO3y6nWVJkiRJ0jYR8bvMXNry+kRgZWa+OSKOBt5LNeC+mupScqsi4oNU94LbAtwMnJiZG6d+OtRHvb+P6obrD1H9ePRWqjPmvgD8AbgceEtmLo2IVVQHBt5NdWnbK4G/ysytEXEn1VHwS4EvZ+aB9TreTnUfmtP7VS4ql4PtkiQNSERcQXVD6sXAv2TmJ4caSJIkSZIkDYyD7ZIkSZIkSZIk9ciL80uSJEmSJEnaIdXXYD9n0uSNmflnw8ijHZtHtkuSJEmSJEmS1KMFww4gSZIkSZIkSdKoc7BdkiRJkiRJkqQeOdguSZIkSZIkSVKPHGyXJEmSJEmSJKlHDrZLkiRJkiRJktSj/w+7Z51FmfzxsQAAAABJRU5ErkJggg==\n",
      "text/plain": [
       "<Figure size 1491.88x1440 with 72 Axes>"
      ]
     },
     "metadata": {
      "needs_background": "light"
     },
     "output_type": "display_data"
    }
   ],
   "source": [
    "#g = sns.pairplot(train[[u'Survived', u'Pclass', u'Sex', u'Age', u'Fare', u'Embarked', \n",
    " #                       u'IsAlone', u'Title', 'Has_Cabin']], \n",
    "  #               palette = 'seismic', size=1.2, hue='Survived', diag_kind = 'kde',\n",
    "   #              diag_kws=dict(shade=True), plot_kws=dict(s=10) )\n",
    "\n",
    "g = sns.pairplot(train[[u'Survived', u'Pclass', u'Sex', u'Age', u'Fare', u'Embarked',\n",
    "                        u'IsAlone', u'Title', 'Has_Cabin']],\n",
    "                 hue='Survived', diag_kind = 'hist')\n",
    "#g.set(xticklabels=[])"
   ]
  },
  {
   "cell_type": "markdown",
   "metadata": {},
   "source": [
    "# <font color='darkred'>The best tree depth with the help of Cross Validatione</font>"
   ]
  },
  {
   "cell_type": "code",
   "execution_count": 271,
   "metadata": {},
   "outputs": [
    {
     "data": {
      "text/html": [
       "<div>\n",
       "<style scoped>\n",
       "    .dataframe tbody tr th:only-of-type {\n",
       "        vertical-align: middle;\n",
       "    }\n",
       "\n",
       "    .dataframe tbody tr th {\n",
       "        vertical-align: top;\n",
       "    }\n",
       "\n",
       "    .dataframe thead th {\n",
       "        text-align: right;\n",
       "    }\n",
       "</style>\n",
       "<table border=\"1\" class=\"dataframe\">\n",
       "  <thead>\n",
       "    <tr style=\"text-align: right;\">\n",
       "      <th></th>\n",
       "      <th>Max Depth</th>\n",
       "      <th>Average Accuracy</th>\n",
       "    </tr>\n",
       "  </thead>\n",
       "  <tbody>\n",
       "    <tr>\n",
       "      <th>2</th>\n",
       "      <td>3</td>\n",
       "      <td>0.806</td>\n",
       "    </tr>\n",
       "    <tr>\n",
       "      <th>4</th>\n",
       "      <td>5</td>\n",
       "      <td>0.797</td>\n",
       "    </tr>\n",
       "    <tr>\n",
       "      <th>3</th>\n",
       "      <td>4</td>\n",
       "      <td>0.793</td>\n",
       "    </tr>\n",
       "    <tr>\n",
       "      <th>1</th>\n",
       "      <td>2</td>\n",
       "      <td>0.789</td>\n",
       "    </tr>\n",
       "    <tr>\n",
       "      <th>7</th>\n",
       "      <td>8</td>\n",
       "      <td>0.789</td>\n",
       "    </tr>\n",
       "    <tr>\n",
       "      <th>6</th>\n",
       "      <td>7</td>\n",
       "      <td>0.785</td>\n",
       "    </tr>\n",
       "    <tr>\n",
       "      <th>0</th>\n",
       "      <td>1</td>\n",
       "      <td>0.782</td>\n",
       "    </tr>\n",
       "    <tr>\n",
       "      <th>5</th>\n",
       "      <td>6</td>\n",
       "      <td>0.780</td>\n",
       "    </tr>\n",
       "  </tbody>\n",
       "</table>\n",
       "</div>"
      ],
      "text/plain": [
       "  Max Depth  Average Accuracy\n",
       "2         3             0.806\n",
       "4         5             0.797\n",
       "3         4             0.793\n",
       "1         2             0.789\n",
       "7         8             0.789\n",
       "6         7             0.785\n",
       "0         1             0.782\n",
       "5         6             0.780"
      ]
     },
     "execution_count": 271,
     "metadata": {},
     "output_type": "execute_result"
    }
   ],
   "source": [
    "cv = KFold(n_splits=10)           \n",
    "accuracies = []\n",
    "test_array = test.values\n",
    "max_attributes = len([col for col in test.columns])\n",
    "depth_range = range(1, max_attributes + 1)\n",
    "\n",
    "for depth in depth_range:\n",
    "    fold_accuracy = []\n",
    "    tree_model = tree.DecisionTreeClassifier(max_depth = depth)\n",
    "    for train_fold, valid_fold in cv.split(train):\n",
    "        f_train = train.loc[train_fold] # Extract train data with cv indices\n",
    "        f_valid = train.loc[valid_fold] # Extract valid data with cv indices\n",
    "\n",
    "        model = tree_model.fit(X = f_train.drop(['Survived'], axis=1), \n",
    "                               y = f_train[\"Survived\"]) \n",
    "        valid_acc = model.score(X = f_valid.drop(['Survived'], axis=1), \n",
    "                                y = f_valid[\"Survived\"])\n",
    "        fold_accuracy.append(valid_acc)\n",
    "\n",
    "    avg = sum(fold_accuracy)/len(fold_accuracy)\n",
    "    accuracies.append(avg)\n",
    "    \n",
    "df_acc = pd.DataFrame({\"Max Depth\": depth_range, \"Average Accuracy\": accuracies})\n",
    "df_acc = df_acc[[\"Max Depth\", \"Average Accuracy\"]]\n",
    "df_acc=df_acc.astype({'Max Depth': 'category'})\n",
    "df_acc.sort_values(by=['Average Accuracy'], ascending=False, inplace=True)\n",
    "df_acc"
   ]
  },
  {
   "cell_type": "code",
   "execution_count": 272,
   "metadata": {},
   "outputs": [
    {
     "data": {
      "text/plain": [
       "<matplotlib.axes._subplots.AxesSubplot at 0x1308fa750>"
      ]
     },
     "execution_count": 272,
     "metadata": {},
     "output_type": "execute_result"
    },
    {
     "data": {
      "image/png": "iVBORw0KGgoAAAANSUhEUgAAAbAAAAE9CAYAAABqYDcsAAAABHNCSVQICAgIfAhkiAAAAAlwSFlzAAALEgAACxIB0t1+/AAAADh0RVh0U29mdHdhcmUAbWF0cGxvdGxpYiB2ZXJzaW9uMy4xLjMsIGh0dHA6Ly9tYXRwbG90bGliLm9yZy+AADFEAAAXiklEQVR4nO3debRlZX3m8e9DFbMgWKBGIBYoYoRFxJQuDLYRNUo0cWiJUkaDBrta24h2Ytt2m15q7MF00lGixu6KohgDDjgbZyIxDgy3ELAAtRUwDHZUHJgUBX/9x96F1+sd9i1qn3Nf7vez1ln3DPvs/ZzD5T717rPPu1NVSJLUmp2mHUCSpO1hgUmSmmSBSZKaZIFJkppkgUmSmmSBSZKatHbaAWbbb7/9av369dOOIUlaIbZs2fKdqtp/vsdWVIGtX7+emZmZaceQJK0QSb6x0GPuQpQkNSkraSaO3XfZsw7e//7TjiFJuoMuvWbLDllPki1VtWG+xxyBSZKaZIFJkppkgUmSmmSBSZKaZIFJkppkgUmSmmSBSZKaZIFJkppkgUmSmjRagSXZLcl5SS5KckmSV461LUnS6jPmZL63AI+sqhuT7Ax8NslHq+qcEbcpSVolRiuw6iZZvLG/uXN/WTkTL0qSmjbq6VSSrAG2APcF3lBV5y607AEHHPDa27iVG7luzEiSpAk4/vjjd8h61qxZc9BCj416EEdV3VZVDwQOBB6S5Ii5yyTZlGTm5ptv3sgKmhlfkrSyTex0KkleDtxUVX+x0DKeTkWS7hyaPp1Kkv2T7NNf3x14NPDlsbYnSVpdxvwM7JeA0/rPwXYC3lVVHx5xe5KkVWTMoxAvBo4aa/2SpNXNmTgkSU2ywCRJTbLAJElNssAkSU2ywCRJTbLAJElNssAkSU2ywCRJTbLAJElNGvV0Kst1+JG/wszMzLRjSJIa4AhMktQkC0yS1CQLTJLUJAtMktQkC0yS1KRU1bQz3G6f3e5av/HLx0w7hiRpGT7w1Y+Mtu4kW6pqw3yPOQKTJDXJApMkNckCkyQ1yQKTJDXJApMkNckCkyQ1yQKTJDXJApMkNckCkyQ1adTzgSW5ErgBuA24daFvU0uStFyTOKHlsVX1nQlsR5K0irgLUZLUpLELrIBPJNmSZNPI25IkrSJj70I8pqquTXJ34JNJvlxVn5m9QF9smwB2X7vbyHEkSXcWo47Aqura/ue3gPcBD5lnmc1VtaGqNuyyZpcx40iS7kRGK7AkeybZa9t14DHA1rG2J0laXcbchXgP4H1Jtm3n9Kr62IjbkyStIqMVWFVdDvzqWOuXJK1uHkYvSWqSBSZJapIFJklqkgUmSWqSBSZJapIFJklqkgUmSWqSBSZJapIFJklq0iROaDnYfY84lA/MfGTaMSRJDXAEJklqkgUmSWqSBSZJapIFJklqkgUmSWrSijoK8ZpLLuelR2ycdgxJ0kCv3nrG1LbtCEyS1CQLTJLUJAtMktQkC0yS1CQLTJLUJAtMktQkC0yS1CQLTJLUJAtMktSk0QssyZokX0zy4bG3JUlaPSYxAnshcNkEtiNJWkVGLbAkBwKPB9405nYkSavP2COw1wIvAX468nYkSavMaAWW5LeBb1XVliWW25RkJsnMzbfdMlYcSdKdzJgjsGOAJyS5EngH8Mgkb5+7UFVtrqoNVbVhjzW7jhhHknRnMlqBVdV/qqoDq2o9cALwD1X1jLG2J0laXfwemCSpSRM5I3NVnQ2cPYltSZJWB0dgkqQmWWCSpCZZYJKkJllgkqQmWWCSpCZZYJKkJllgkqQmWWCSpCZZYJKkJk1kJo6hDjj8EF49c8a0Y0iSGuAITJLUJAtMktQkC0yS1CQLTJLUJAtMktSkFXUU4nWXXMFph3vSZkla6U685O3TjuAITJLUJgtMktQkC0yS1CQLTJLUpEEHcSQ5ALj37OWr6jNjhZIkaSlLFliSPwOeBlwK3NbfXYAFJkmamiEjsCcBh1XVLWOHkSRpqCGfgV0O7Dx2EEmSlmPBEViS19HtKrwZuDDJWcDto7CqOnn8eJIkzW+xXYgz/c8twAfnPFZLrTjJQcDbgHsCPwU2V9Up2xNSkqS5FiywqjoNIMkL5xZPkhcOWPetwB9X1QVJ9gK2JPlkVV16hxJLksSwz8BOnOe+Zy31pKr6ZlVd0F+/AbgMOGBZ6SRJWsBin4FtBJ4OHJxk9i7EvYHrlrORJOuBo4Bzlx9RkqRftNhnYJ8HvgnsB/yvWfffAFw8dANJ7gK8B3hRVV0/z+ObgE0A63beY+hqJUmr3IK7EKvqG1V1dlU9FPgKcFe60de1VXXrkJUn2ZmuvP6uqt67wHY2V9WGqtqw15rdlv8KJEmr0pKfgSU5CTgP+NfA8cA5Sf5gwPMCvBm4rKr+8o4GlSRptiEzcbwEOKqqrgNIso5u9+KpSzzvGOCZwJeSXNjf95+r6iPbG1aSpG2GFNjVdJ97bXMDcNVST6qqzwLZzlySJC1qSIFdA5yb5AN0X2B+InBekj8CcPegJGkahhTY1/vLNh/of+614+NIkjTMkgVWVa8ESLJnVd00fiRJkpY25CjEhya5lG4mDZL8apK/Hj2ZJEmLGDKV1GuBx9LPvlFVFwEPHzOUJElLGVJgVNXcow5vm3dBSZImZMhBHFcl+XWgkuwCnEy/O1GSpGkZMgJ7LvB8upnkrwYe2N+WJGlqhhyF+B3g9yaQRZKkwRYtsCTHAi8ADuvvugx4fVWdPUaYdYcfzIkzbx9j1ZKkO5kFdyEmeTzdfIcfojsv2O8BHwFOTfK4ycSTJGl+i43A/gPwpP6w+W0uTDIDvI6uzCRJmorFDuK455zyAqCqLgbuMV4kSZKWtliBLTZtlFNKSZKmarFdiPdJ8sF57g9wyEh5JEkaZLECe+Iij/3Fjg4CcNNXL+ecRz11jFVLknago89617QjLFxgVfWPkwwiSdJyDJoLUZKklcYCkyQ1acj5wHab5779xokjSdIwQ0Zg5yc5etuNJE8BPj9eJEmSljbkdCpPp5s+6mzgXsA64JFjhpIkaSlDZqP/UpL/BvwtcAPw8Kq6evRkkiQtYskCS/Jm4D7AkcD9gA8leX1VvWHscJIkLWTIZ2BbgWOr6oqq+jhwNPCgcWNJkrS4JQusql5TVTXr9g+q6qQhK0/y75NckmRrkjPmO6JRkqTtMeQw+kOTnJnk0iSXb7sMeN4BwMnAhqo6AlgDnHDHI0uSNGwX4luANwK3AscCb6M7oGOItcDuSdYCewDXbk9ISZLmGlJgu1fVWUCq6htV9QoGHEZfVdfQTfr7z8A3gR9U1SfuSFhJkrYZUmA/SrIT8H+T/GGSJwN3X+pJSfalm9H+YLrvj+2Z5BnzLLcpyUySme//+JZlxpckrVZDCuxFdLv/TgZ+DXgmcOKA5z0auKKqvl1VPwHeC/z63IWqanNVbaiqDfvssuvw5JKkVW3IF5nP76/eCDx7Gev+Z+DoJHsAPwQeBcwsO6EkSfNYsMAWOBvz7arqCUs8fm6SM4EL6A4A+SKweXtCSpI012IjsIcCVwFnAOcCWe7Kq+rlwMu3L5okSQtbrMDuCfwmsJFuQt+/B86oqksmEUySpMUseBBHVd1WVR+rqhPppo/6GnB2khdMLJ0kSQtY9CCOJLsCj6cbha0H/oruaEJJkqZqsYM4TgOOAD4KvLKqtk4slSRJS1hsBPZM4Ca6U6icnNx+DEeAqqq9R84mSdKCFiywqhryJWdJkqbCkpIkNckCkyQ1acmppCZpz/sdwtFnvWvaMSRJDXAEJklqkgUmSWqSBSZJapIFJklqkgUmSWqSBSZJatKKOoz+lquu4GsvfPq0Y0iSFnDfU06fdoTbOQKTJDXJApMkNckCkyQ1yQKTJDXJApMkNckCkyQ1yQKTJDXJApMkNckCkyQ1abQCS3JYkgtnXa5P8qKxtidJWl1Gm0qqqr4CPBAgyRrgGuB9Y21PkrS6TGoX4qOAr1fVNya0PUnSndykCuwE4IwJbUuStAqMXmBJdgGeALx7gcc3JZlJMvPdH/5o7DiSpDuJSYzAfgu4oKr+Zb4Hq2pzVW2oqg132323CcSRJN0ZTKLANuLuQ0nSDjZqgSXZA/hN4L1jbkeStPqMekbmqroZWDfmNiRJq5MzcUiSmmSBSZKaZIFJkppkgUmSmmSBSZKaZIFJkppkgUmSmmSBSZKaNOoXmZdr14MO5r6nnD7tGJKkBjgCkyQ1yQKTJDXJApMkNckCkyQ1yQKTJDXJApMkNWlFHUb/k+9cyzVv+i/TjiFJmscBz3nVtCP8HEdgkqQmWWCSpCZZYJKkJllgkqQmWWCSpCZZYJKkJllgkqQmWWCSpCZZYJKkJo1WYElOTfKtJFvH2oYkafUacwT2VuC4EdcvSVrFRiuwqvoM8N2x1i9JWt38DEyS1KSpF1iSTUlmksxcd8NN044jSWrE1AusqjZX1Yaq2rBurz2nHUeS1IipF5gkSdtjzMPozwC+AByW5OokJ421LUnS6jPaGZmrauNY65YkyV2IkqQmWWCSpCZZYJKkJllgkqQmWWCSpCZZYJKkJllgkqQmWWCSpCaN9kXm7bHzfvfigOe8atoxJEkNcAQmSWqSBSZJapIFJklqkgUmSWqSBSZJapIFJklq0oo6jP7WG7/HdZ9997RjSJLmWPew3512hF/gCEyS1CQLTJLUJAtMktQkC0yS1CQLTJLUJAtMktQkC0yS1CQLTJLUJAtMktSkUQssyT5Jzkzy5SSXJXnomNuTJK0eY08ldQrwsao6PskuwB4jb0+StEqMVmBJ9gYeDjwLoKp+DPx4rO1JklaXMXchHgJ8G3hLki8meVOSPUfcniRpFRmzwNYCDwLeWFVHATcBL527UJJNSWaSzFz3/etHjCNJujMZs8CuBq6uqnP722fSFdrPqarNVbWhqjas22fvEeNIku5MRiuwqvp/wFVJDuvvehRw6VjbkyStLmMfhfgC4O/6IxAvB5498vYkSavEqAVWVRcCG8bchiRpdXImDklSkywwSVKTLDBJUpMsMElSkywwSVKTLDBJUpMsMElSkywwSVKTxp6JY1nW3mVf1j3sd6cdQ5LUAEdgkqQmWWCSpCZZYJKkJqWqpp3hdkluAL4y7RzbYT/gO9MOsR3MPVnmnrxWs5v7Z+5dVfvP98CKOogD+EpVNTd7fZIZc0+OuSer1dzQbnZzD+MuRElSkywwSVKTVlqBbZ52gO1k7sky92S1mhvazW7uAVbUQRySJA210kZgkiQNMvECS3Jckq8k+VqSl87z+K5J3tk/fm6S9ZPOOJ8BuR+e5IIktyY5fhoZFzIg+x8luTTJxUnOSnLvaeSca0Du5yb5UpILk3w2yQOmkXOupXLPWu74JJVkRRxtNuD9flaSb/fv94VJnjONnHMNeb+TPLX/Hb8kyemTzjifAe/3a2a9119N8v1p5JzPgOy/nOTTSb7Y/1153ChBqmpiF2AN8HXgEGAX4CLgAXOW+XfA/+6vnwC8c5IZ70Du9cCRwNuA46edeZnZjwX26K8/r6H3fO9Z158AfKyF3P1yewGfAc4BNrSQG3gW8PppZ92O3IcCXwT27W/fvYXcc5Z/AXDqtHMv4z3fDDyvv/4A4Moxskx6BPYQ4GtVdXlV/Rh4B/DEOcs8ETitv34m8KgkmWDG+SyZu6qurKqLgZ9OI+AihmT/dFXd3N88BzhwwhnnMyT39bNu7gmshA90h/yOA7wK+J/AjyYZbhFDc680Q3L/G+ANVfU9gKr61oQzzme57/dG4IyJJFvakOwF7N1fvytw7RhBJl1gBwBXzbp9dX/fvMtU1a3AD4B1E0m3sCG5V6rlZj8J+OioiYYZlDvJ85N8na4MTp5QtsUsmTvJUcBBVfXhSQZbwtDfk6f0u4TOTHLQZKItakju+wH3S/K5JOckOW5i6RY2+P/Lfpf+wcA/TCDXEEOyvwJ4RpKrgY/QjSB3uEkX2Hwjqbn/ah6yzKStxExDDc6e5BnABuDPR000zKDcVfWGqroP8B+BPxk91dIWzZ1kJ+A1wB9PLNEwQ97vDwHrq+pI4FP8bE/JNA3JvZZuN+Ij6EYyb0qyz8i5lrKcvyknAGdW1W0j5lmOIdk3Am+tqgOBxwF/2//u71CTLrCrgdn/ajuQXxxa3r5MkrV0w8/vTiTdwobkXqkGZU/yaOBlwBOq6pYJZVvMct/zdwBPGjXRMEvl3gs4Ajg7yZXA0cAHV8CBHEu+31V13azfjb8Bfm1C2RYz9G/KB6rqJ1V1Bd18q4dOKN9ClvP7fQIrZ/chDMt+EvAugKr6ArAb3TyJO9aEP/xbC1xONxze9uHf4XOWeT4/fxDHu1bAh5ZL5p617FtZWQdxDHnPj6L7UPbQaeddZu5DZ13/HWCmhdxzlj+blXEQx5D3+5dmXX8ycE4juY8DTuuv70e3+2vdSs/dL3cYcCX9d3ZXwmXge/5R4Fn99V+hK7gd/hqm8eIfB3y1/4P5sv6+P6X7lz90Tf1u4GvAecAh0/4PNjD3g+n+ZXITcB1wybQzLyP7p4B/AS7sLx+cduaBuU8BLukzf3qxolhJuecsuyIKbOD7/T/69/ui/v2+/7QzD8wd4C+BS4EvASdMO/PQ3xO6z5JePe2s2/GePwD4XP+7ciHwmDFyOBOHJKlJzsQhSWqSBSZJapIFJklqkgUmSWqSBSZJapIFplUjyZP72d/vP+0sQyU5Jck1Y8xiILXO/ym0mmwEPkv3Bfk7LMmaHbGeRda/E90Xhq8CHj7idmJBqkX+0mpVSHIX4Bi6KW5OmHX/O2efqyjJW5M8JcmaJH+e5Px+8tp/2z/+iP48R6fTfSmWJO9PsqU/19SmWes6qT+P09lJ/ibJ6/v790/ynn7d5yc5ZoHYxwJbgTfSle/tryXJW/pzoV2c5Cn9/celOyfdRUnO6u97RZIXz3ru1iTr+8tlSf4auAA4KMkbk8z0r+OVs57z4CSf79d7XpK9kvxTkgfOWuZzSY5c7n8X6Q6Z9je6vXiZxAV4BvDm/vrngQf115/Mz6YZ2oVutLM7sAn4k/7+XYEZuqlzHkE328rBs9Z9t/7n7nSFsw64F90UQHcDdgb+if5cWsDpwMP6678MXLZA5jcBz6Q7LcU1wM79/X8GvHbWcvsC+/fZD56T6RXAi2ctu5Xu3HXr6U79c/Q8r2MN3QwhR/bvyeXAg/vH9qabSujEbRnoZnuf+jReXlbfxRGYVouNdBP+0v/cNqL5KPDIJLsCvwV8pqp+CDwG+P0kFwLn0pXStglgz6tuUthtTk5yEd251A7ql3sI8I9V9d2q+gnd9GjbPBp4fb/uDwJ7J9lrdtgku9BN1/P+6s57dm6fadvz37Bt2erOc3V0n/2K/r4hE2B/o6rOmXX7qUkuoDv54+F00wEdBnyzqs7v13t9dac5ejfw20l2Bv6Abg5QaaLWTjuANLYk64BHAkckKboRRiV5SVX9KMnZwGOBp/GzWb8DvKCqPj5nXY+gG4HNvv1o4KFVdXO/rt2Y/5QT2+zUL//DRZY5ju5MDF/qz+e6B3Az8Pf9uuc7DdF888Ldys9/VLDbrOuzX8fBwIvpRlrfS/LWWa9jvtPY3Jzkk3QnMnwq3Wl4pIlyBKbV4HjgbVV176paX1UHAVcAD+sffwfwbOBfAdsK6+PA8/oRBknul2TPedZ9V+B7/R/0+9ONhKCbiPo3kuzbnxboKbOe8wngD7fdmP1Z0iwbgef0edfT7b58TJI95nn+vsAX+u0d3N93t/7hK4EH9fc9qF/PfPamK7QfJLkH3WgU4MvAvZI8uF/HXv3rgW4X518B5w8c8Uk7lAWm1WAj8L45970HeHp//RN0R/l9qrpTpEP3x/lS4IIkW4H/w/x7LD4GrE1yMfAqut2IVNU1wH+n2/X3qX5dP+ifczKwoT8A41LgubNX2JfUY+lGW/Tru4nuCMrfAf4rsG9/QMZFwLFV9W26z+3e29/3zlmv82797srn0c0g/guq6iK6XYeXAKfSzSRO/348DXhdv95P0o/iqmoLcD3wlvnWKY3N2eilkSS5S1Xd2I9Y3gecWlVzi7RZSe5Fd7DH/avqp1OOo1XIEZg0nlf0I5+tdLss3z/lPDtMkt+nG12+zPLStDgCkyQ1yRGYJKlJFpgkqUkWmCSpSRaYJKlJFpgkqUkWmCSpSf8fePGHgb/RPhUAAAAASUVORK5CYII=\n",
      "text/plain": [
       "<Figure size 504x360 with 1 Axes>"
      ]
     },
     "metadata": {
      "needs_background": "light"
     },
     "output_type": "display_data"
    }
   ],
   "source": [
    "order = []\n",
    "for i in df_acc['Max Depth']:\n",
    "    order.append(int(i))\n",
    "\n",
    "f, ax1 = plt.subplots(1, 1, figsize=(7, 5), sharex=True)\n",
    "\n",
    "ax1.axhline(0, color=\"k\", clip_on=False)\n",
    "ax1.set_ylabel(\"Sequential\")\n",
    "sns.barplot(x='Average Accuracy', y='Max Depth', data=df_acc, palette=\"rocket\", \n",
    "            ax=ax1, order=order)"
   ]
  },
  {
   "cell_type": "markdown",
   "metadata": {},
   "source": [
    "# <font color='darkred'>Hyperparameter tuning with GridSearchCV</font>"
   ]
  },
  {
   "cell_type": "code",
   "execution_count": 578,
   "metadata": {},
   "outputs": [],
   "source": [
    "from sklearn.model_selection import cross_val_score\n",
    "from sklearn import tree\n",
    "from sklearn.model_selection import GridSearchCV\n",
    "from sklearn.model_selection import train_test_split\n",
    "\n",
    "y = train['Survived']\n",
    "x = train.drop(['Survived'], axis=1)\n",
    "\n",
    "y = pd.get_dummies(y)\n",
    "x = pd.get_dummies(x)\n",
    "\n",
    "X_train, X_test, y_train, y_test = train_test_split(x, y, test_size=0.2, random_state=2)"
   ]
  },
  {
   "cell_type": "code",
   "execution_count": 579,
   "metadata": {},
   "outputs": [
    {
     "data": {
      "text/html": [
       "<div>\n",
       "<style scoped>\n",
       "    .dataframe tbody tr th:only-of-type {\n",
       "        vertical-align: middle;\n",
       "    }\n",
       "\n",
       "    .dataframe tbody tr th {\n",
       "        vertical-align: top;\n",
       "    }\n",
       "\n",
       "    .dataframe thead th {\n",
       "        text-align: right;\n",
       "    }\n",
       "</style>\n",
       "<table border=\"1\" class=\"dataframe\">\n",
       "  <thead>\n",
       "    <tr style=\"text-align: right;\">\n",
       "      <th></th>\n",
       "      <th>Pclass</th>\n",
       "      <th>Sex</th>\n",
       "      <th>Age</th>\n",
       "      <th>Fare</th>\n",
       "      <th>Embarked</th>\n",
       "      <th>IsAlone</th>\n",
       "      <th>Title</th>\n",
       "      <th>Has_Cabin_0</th>\n",
       "      <th>Has_Cabin_1</th>\n",
       "    </tr>\n",
       "  </thead>\n",
       "  <tbody>\n",
       "    <tr>\n",
       "      <th>0</th>\n",
       "      <td>3</td>\n",
       "      <td>1</td>\n",
       "      <td>1</td>\n",
       "      <td>0</td>\n",
       "      <td>0</td>\n",
       "      <td>0</td>\n",
       "      <td>1</td>\n",
       "      <td>1</td>\n",
       "      <td>0</td>\n",
       "    </tr>\n",
       "    <tr>\n",
       "      <th>1</th>\n",
       "      <td>1</td>\n",
       "      <td>0</td>\n",
       "      <td>2</td>\n",
       "      <td>3</td>\n",
       "      <td>1</td>\n",
       "      <td>0</td>\n",
       "      <td>3</td>\n",
       "      <td>0</td>\n",
       "      <td>1</td>\n",
       "    </tr>\n",
       "    <tr>\n",
       "      <th>2</th>\n",
       "      <td>3</td>\n",
       "      <td>0</td>\n",
       "      <td>1</td>\n",
       "      <td>1</td>\n",
       "      <td>0</td>\n",
       "      <td>1</td>\n",
       "      <td>2</td>\n",
       "      <td>1</td>\n",
       "      <td>0</td>\n",
       "    </tr>\n",
       "  </tbody>\n",
       "</table>\n",
       "</div>"
      ],
      "text/plain": [
       "   Pclass  Sex  Age  Fare  Embarked  IsAlone  Title  Has_Cabin_0  Has_Cabin_1\n",
       "0       3    1    1     0         0        0      1            1            0\n",
       "1       1    0    2     3         1        0      3            0            1\n",
       "2       3    0    1     1         0        1      2            1            0"
      ]
     },
     "execution_count": 579,
     "metadata": {},
     "output_type": "execute_result"
    }
   ],
   "source": [
    "x.head(3)"
   ]
  },
  {
   "cell_type": "code",
   "execution_count": 592,
   "metadata": {},
   "outputs": [],
   "source": [
    "parameters = {'criterion':('gini', 'entropy'), \n",
    "              'min_samples_split':[10, 15], \n",
    "              'max_depth': np.arange(1, 10),\n",
    "              #'class_weight':('balanced', None),\n",
    "              'min_samples_leaf': [20, 40, 100],\n",
    "              'max_leaf_nodes': [3, 5, 10, 50]\n",
    "             }"
   ]
  },
  {
   "cell_type": "code",
   "execution_count": 600,
   "metadata": {},
   "outputs": [
    {
     "data": {
      "text/plain": [
       "DecisionTreeClassifier(ccp_alpha=0.0, class_weight=None, criterion='gini',\n",
       "                       max_depth=3, max_features=None, max_leaf_nodes=5,\n",
       "                       min_impurity_decrease=0.0, min_impurity_split=None,\n",
       "                       min_samples_leaf=40, min_samples_split=10,\n",
       "                       min_weight_fraction_leaf=0.0, presort='deprecated',\n",
       "                       random_state=None, splitter='best')"
      ]
     },
     "execution_count": 600,
     "metadata": {},
     "output_type": "execute_result"
    }
   ],
   "source": [
    "tr = tree.DecisionTreeClassifier()\n",
    "\n",
    "gsearch = GridSearchCV(tr, parameters, cv=5)\n",
    "gsearch.fit(X_train, y_train)\n",
    "model = gsearch.best_estimator_\n",
    "model\n",
    "#model.fit(X_train, y_train)"
   ]
  },
  {
   "cell_type": "code",
   "execution_count": 594,
   "metadata": {},
   "outputs": [
    {
     "name": "stdout",
     "output_type": "stream",
     "text": [
      "R-Squared::0.8202107751403526\n",
      "Best Hyperparameters::\n",
      "{'criterion': 'gini', 'max_depth': 3, 'max_leaf_nodes': 5, 'min_samples_leaf': 40, 'min_samples_split': 10}\n"
     ]
    }
   ],
   "source": [
    "print(\"R-Squared::{}\".format(gsearch.best_score_))\n",
    "print(\"Best Hyperparameters::\\n{}\".format(gsearch.best_params_))\n",
    "#gsearch.cv_results_\n",
    "#scores = cross_val_score(model, X_train, y_train, cv=5, scoring='f1_macro')\n",
    "#scores"
   ]
  },
  {
   "cell_type": "code",
   "execution_count": 595,
   "metadata": {},
   "outputs": [
    {
     "data": {
      "text/html": [
       "<div>\n",
       "<style scoped>\n",
       "    .dataframe tbody tr th:only-of-type {\n",
       "        vertical-align: middle;\n",
       "    }\n",
       "\n",
       "    .dataframe tbody tr th {\n",
       "        vertical-align: top;\n",
       "    }\n",
       "\n",
       "    .dataframe thead th {\n",
       "        text-align: right;\n",
       "    }\n",
       "</style>\n",
       "<table border=\"1\" class=\"dataframe\">\n",
       "  <thead>\n",
       "    <tr style=\"text-align: right;\">\n",
       "      <th></th>\n",
       "      <th>mean_fit_time</th>\n",
       "      <th>std_fit_time</th>\n",
       "      <th>mean_score_time</th>\n",
       "      <th>std_score_time</th>\n",
       "      <th>param_criterion</th>\n",
       "      <th>param_max_depth</th>\n",
       "      <th>param_max_leaf_nodes</th>\n",
       "      <th>param_min_samples_leaf</th>\n",
       "      <th>param_min_samples_split</th>\n",
       "      <th>params</th>\n",
       "      <th>split0_test_score</th>\n",
       "      <th>split1_test_score</th>\n",
       "      <th>split2_test_score</th>\n",
       "      <th>split3_test_score</th>\n",
       "      <th>split4_test_score</th>\n",
       "      <th>mean_test_score</th>\n",
       "      <th>std_test_score</th>\n",
       "      <th>rank_test_score</th>\n",
       "    </tr>\n",
       "  </thead>\n",
       "  <tbody>\n",
       "    <tr>\n",
       "      <th>0</th>\n",
       "      <td>0.005</td>\n",
       "      <td>0.002</td>\n",
       "      <td>0.003</td>\n",
       "      <td>0.002</td>\n",
       "      <td>gini</td>\n",
       "      <td>1</td>\n",
       "      <td>3</td>\n",
       "      <td>20</td>\n",
       "      <td>10</td>\n",
       "      <td>{'criterion': 'gini', 'max_depth': 1, 'max_lea...</td>\n",
       "      <td>0.762</td>\n",
       "      <td>0.797</td>\n",
       "      <td>0.789</td>\n",
       "      <td>0.796</td>\n",
       "      <td>0.768</td>\n",
       "      <td>0.782</td>\n",
       "      <td>0.015</td>\n",
       "      <td>385</td>\n",
       "    </tr>\n",
       "    <tr>\n",
       "      <th>1</th>\n",
       "      <td>0.003</td>\n",
       "      <td>0.001</td>\n",
       "      <td>0.002</td>\n",
       "      <td>0.001</td>\n",
       "      <td>gini</td>\n",
       "      <td>1</td>\n",
       "      <td>3</td>\n",
       "      <td>20</td>\n",
       "      <td>15</td>\n",
       "      <td>{'criterion': 'gini', 'max_depth': 1, 'max_lea...</td>\n",
       "      <td>0.762</td>\n",
       "      <td>0.797</td>\n",
       "      <td>0.789</td>\n",
       "      <td>0.796</td>\n",
       "      <td>0.768</td>\n",
       "      <td>0.782</td>\n",
       "      <td>0.015</td>\n",
       "      <td>385</td>\n",
       "    </tr>\n",
       "    <tr>\n",
       "      <th>2</th>\n",
       "      <td>0.003</td>\n",
       "      <td>0.000</td>\n",
       "      <td>0.002</td>\n",
       "      <td>0.000</td>\n",
       "      <td>gini</td>\n",
       "      <td>1</td>\n",
       "      <td>3</td>\n",
       "      <td>40</td>\n",
       "      <td>10</td>\n",
       "      <td>{'criterion': 'gini', 'max_depth': 1, 'max_lea...</td>\n",
       "      <td>0.762</td>\n",
       "      <td>0.797</td>\n",
       "      <td>0.789</td>\n",
       "      <td>0.796</td>\n",
       "      <td>0.768</td>\n",
       "      <td>0.782</td>\n",
       "      <td>0.015</td>\n",
       "      <td>385</td>\n",
       "    </tr>\n",
       "  </tbody>\n",
       "</table>\n",
       "</div>"
      ],
      "text/plain": [
       "   mean_fit_time  std_fit_time  mean_score_time  std_score_time  \\\n",
       "0          0.005         0.002            0.003           0.002   \n",
       "1          0.003         0.001            0.002           0.001   \n",
       "2          0.003         0.000            0.002           0.000   \n",
       "\n",
       "  param_criterion param_max_depth param_max_leaf_nodes param_min_samples_leaf  \\\n",
       "0            gini               1                    3                     20   \n",
       "1            gini               1                    3                     20   \n",
       "2            gini               1                    3                     40   \n",
       "\n",
       "  param_min_samples_split                                             params  \\\n",
       "0                      10  {'criterion': 'gini', 'max_depth': 1, 'max_lea...   \n",
       "1                      15  {'criterion': 'gini', 'max_depth': 1, 'max_lea...   \n",
       "2                      10  {'criterion': 'gini', 'max_depth': 1, 'max_lea...   \n",
       "\n",
       "   split0_test_score  split1_test_score  split2_test_score  split3_test_score  \\\n",
       "0              0.762              0.797              0.789              0.796   \n",
       "1              0.762              0.797              0.789              0.796   \n",
       "2              0.762              0.797              0.789              0.796   \n",
       "\n",
       "   split4_test_score  mean_test_score  std_test_score  rank_test_score  \n",
       "0              0.768            0.782           0.015              385  \n",
       "1              0.768            0.782           0.015              385  \n",
       "2              0.768            0.782           0.015              385  "
      ]
     },
     "execution_count": 595,
     "metadata": {},
     "output_type": "execute_result"
    }
   ],
   "source": [
    "df = pd.DataFrame(data=gsearch.cv_results_)\n",
    "df.head(3)"
   ]
  },
  {
   "cell_type": "code",
   "execution_count": 609,
   "metadata": {},
   "outputs": [
    {
     "data": {
      "text/plain": [
       "[Text(0.5, 1.0, 'Effect of Depth and Leaf Nodes on Model Performance')]"
      ]
     },
     "execution_count": 609,
     "metadata": {},
     "output_type": "execute_result"
    },
    {
     "data": {
      "image/png": "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\n",
      "text/plain": [
       "<Figure size 720x288 with 1 Axes>"
      ]
     },
     "metadata": {
      "needs_background": "light"
     },
     "output_type": "display_data"
    }
   ],
   "source": [
    "fig,ax = plt.subplots(figsize=(10,4))\n",
    "sns.pointplot(data=df[['mean_test_score', \n",
    "                       'param_criterion', \n",
    "                       'param_max_depth']],\n",
    "              y='mean_test_score',\n",
    "              x='param_max_depth',\n",
    "              hue='param_criterion',\n",
    "              ax=ax,\n",
    "              scale = 0.5)\n",
    "ax.set(title=\"Effect of Depth and Leaf Nodes on Model Performance\")"
   ]
  },
  {
   "cell_type": "code",
   "execution_count": 597,
   "metadata": {},
   "outputs": [
    {
     "data": {
      "text/plain": [
       "0.7877094972067039"
      ]
     },
     "execution_count": 597,
     "metadata": {},
     "output_type": "execute_result"
    }
   ],
   "source": [
    "score = model.score(X_test, y_test)\n",
    "score"
   ]
  },
  {
   "cell_type": "code",
   "execution_count": 598,
   "metadata": {},
   "outputs": [
    {
     "data": {
      "text/plain": [
       "['Pclass',\n",
       " 'Sex',\n",
       " 'Age',\n",
       " 'Fare',\n",
       " 'Embarked',\n",
       " 'IsAlone',\n",
       " 'Title',\n",
       " 'Has_Cabin_0',\n",
       " 'Has_Cabin_1']"
      ]
     },
     "execution_count": 598,
     "metadata": {},
     "output_type": "execute_result"
    }
   ],
   "source": [
    "feature_names = list(x.columns)\n",
    "feature_names"
   ]
  },
  {
   "cell_type": "code",
   "execution_count": 601,
   "metadata": {},
   "outputs": [
    {
     "data": {
      "image/png": "iVBORw0KGgoAAAANSUhEUgAAAzYAAAJBCAIAAAAbfbfbAAEAAElEQVR4nOzddVhUzRoA8HeXZenuUJDuElBUFAPsVixMbEXB7u5uxcRWbLFBQUVREOlSujuWjt29fxzvui6wgLTf+3t47rM7M2fmXeB+vM6ZM0NiMpmAEEIIIYQ6EnJ7B4AQQgghhDhhioYQQggh1OFgioYQQggh1OFQ2jsAhP5D8vPzIyIiCgoKKisr2zsW1AR8fHwSEhL6+vqSkpLtHQtC6L8CUzSEWl1ERMTly5efPXv248eP9o4FNYuWltbIkSNnz56tr6/f3rEghP5xJHyiE6HWExsbu3LlyqdPn2qoqY0dNdymbx8DPV1pKSk+Pmp7h4aaoLKyKjcvLzwyyueD76Onz2Pj40eNGnX48GENDY32Dg0h9M/CFA2hVlFRUbF9+/ajR49qqKvt37l18KABJBKpvYNCLYDJZL72erd28/bYuHgXF5etW7fy8/O3d1AIoX8QpmgItbzs7OwxY8ZERUZu37xuwZxZFAquKPjX1NTUuF5227pzn66e3uPHj2VlZds7IoTQvwZTNIRaWERExIgRIyhk8mP3Gzpamu0dDmpF0T9+jrF3qGEwnj17hqvTEEItC1M0hFpSSkpKjx491FRVHt6+KoVP//0H5OXnj5syMz4x6evXr126dGnvcBBC/w5M0RBqMWVlZTY2NiW0oo9eL8TFxNo7HNRGiktKrG2HU3ipHz9+FBYWbu9wEEL/CEzREGoxU6dOfevl9dn7tWrX9pxN8fL2SU5J49Jg3OgRH3w/V1ZWTRw3unbtyzdeNFrxpAljWy3Af1Bickqv/oMHDhp069at9o4FIfSPwBQNoZbh4+PTv39/j/u3h9oNat9IxkxyePbyNZcGof6+sxcszc/P/xkWCAB+XwPevf84d9Z0OVkZABgwbHR8QmJiVEgbhft/OiaW/ax7u548Wl8DBoPRvU9/eg2dvVClaxeP+7dbP7qGvXzjNXLCFG9vbxsbm/aOBSH0L8AHzRBqAXQ6ffny5SOGDm73/AwADu3duXndKuL1j9i46Y4LbQf037V1A6uBmqrqkgWO5eUVxNuPn/227to7YogdkaK1i6s378TGJ/Sz7s2lTWp6elh4pIG+rqSEBKuQ/XX7Gmo3aPgQu6VLlwYHB+MzvAih5sP/jiDUAm7fvh0VFXX36oX2DgQAQEOtG+s1L4UXACQlxbubmrC3mTF1chtHVafUtPSd+w4GfA8KDYtosHFcXAIAXDt/1siwgz47eWjvTiPLPnfu3HFwcGjvWBBCnR4eo45QCzh37tzoEcM01dXaO5DGcl693nGREwAsXLbi/CU3AHBcssx59fo6GxcWFS1dscaoh7WSht6EabNevvFq0lhZ2Tlnzl/69j2odlVxScmP2DgxUVFzM9MG+/kZF08ikTQ11Js0elvSVFcbPWKYq6treweCEPoX4CwaQs2VmZnp5+f38Pa19g6kCfz8v+Xn5wOApoZ6eGR0YnKKloa6el0pZmpaus3gETm5edOnThITFX399t1o+2kH9+xYvngB9yFy8/IfPvG49+jJB9/PdDr93o0rtfMwXW0t75dPASA2PkHHxJJ7h3HxCV2VlUtKS9+9/5CVnaOrrWVpbsbDw9OEj936pk2aMH7qzKysLDk5ufaOBSHUuWGKhlBz+fj48PDwDLDp296B/I2Vy5bQ6fQv/gFrXZYbGxnUbrBh687E5JTP715ZmncHgK0b1gwfP3n9lh3Tp9jXuQ6soLDw0dPn9x4+8f7wsaamxshQf8Nql1HDh5oaGzUz1Nj4BFpxsbq+aVl5OVFiZmJ89cIZXW2tZvbcggb278fDw+Pj4zNp0qT2jgUh1LnhjU6Emis0NFRLU0NQQKC9A2l5+QUFt+89MDczJfIzAKBSqXNnTq+qqnr09DlH46zsnJETpiiq6y12XlVDrzm4Z0dcxPfvn3y2bljb/PwMAGLjE4pLSjavXx0V9PWj54t5s2eEhIWPmzy9tKys+Z23FEEBAS1NjbCwsPYOBCHU6eEsGkLNlZGR0UVZqb2jaBU/fsYymczS0tIps+ayCmm0YgCIT0jkaJyTk/vyjReFQlky33GWw1RDA72WDebKuZN8VKq+ni4AaKqrWfWwEBMVPXT81KOnzxwm27fsWM2hrKSYkZHR3lEghDo9nEVDqLnKysqEBP/BKTQAyMsvAAAqH5WXwsv6kpKUnGo/QU9Xm6Oxjramx/3bU+0nuN24bdqrn6Zh91XrN3/85Een0+vqu8nMTIyJ/IyF2OIkIjK6RfpvKcJCgiUlJe0dBUKo08NZNISai8lkkkik9o6iVXRTVQEATXW1axfPsgrpdHpxSUntG7sUCmWo3aChdoOqqg6/9np37+GTS1dvHDt9TlpKcvgQu41rV6mpqvx1JCmpaQGBQebdTboqK7MK4xOTAEBGRvqvu20NJBJuCY4QagE4i4YQqpeGWjcZaak3Xt7V1dWswn2Hj0t30QgIrGMTDQKVSh05bMi1i2cz4qPv3bgywKbv/UdPg0OatTyroKDQfvrsvQf/OHvA/cFjALDu1bM5PSOEUMeEs2gI/depdOkCABfcrs1ymMKxLwaVSt29bfP8pc4z5i1a47JMRETk6fOXew4eHtTfpldPzj0ycnLzrly/Wbt/EyNDLQ11RYUmb0Jx4cq1pSvWbFq7avO6VYYGej0tLS66XZeSlBw7ajiDwbh5557nO+9xo0dYdDdras8IIdTxYYqG0H/doAH9eliYn7t4JSrmx9vnjzlq58yYVlZevm7ztnsPnwAAhUJxnOmwc8uG2vd2s7KyN2zdWd8oRgZ17OjBHZPJpNPpxE1DEon08Pa1+Uud9x0+tu/wMaLBwrmzD+7e0dRuEUKoU8A1Ewg1l729PbOm8s7VS+0dSLOkZ2SKiAiLCAvXWVtcUhIcElZSWmqgp9u+j68mpaT8+BkrLiamo61VX7Tta/JMRxKFz93dvb0DQQh1bjiLhhACAFBUkOdSKyIsbN3bqs2C4UKlSxfizixCCP3b8HEBhBBCCKEOB1M0hBBCCKEOB1M0hBBCCKEOB1M0hBBCCKEOB1M0hP5lT5+/JDbLaMGWTcVgMJrUvrikJC8/v84qJpNZUFhY34XcaxFCqHPBFA2hf9nuA0c2bG3UzmGNb9lIP2LjXNZsUNc3k1XRGjVx6jufD425Ki8/X7+7lc3gkRzlBYWFC5xcROW7ynTVlFDsNmXW3Ny8/EbWIoRQZ4SbbiD0L1uywLG8vKJlWzZGeXnF2EkOaekZU+zHS0lKPnziMXrStBcP3RvcuWPeEuf0jEwxUVH2wqqqqhHjp/h/C5w9fWpPS4uAwO8XrlxLTUv/6PmiwVqEEOqkMEVD6F82Y+rkFm/ZGJt37I75GfvswZ0htgMBwGnRfLNe/eYsXPozLJDLVecuXnnt9VZSQoKj/Nqtu18Dvh3YvX2F02IAmDNjGolEOn/5amBQcHdTE+61LfihEEKoLeGNToQ6t7DwyAnTZmkYmI2dPP3arTtvvd9PmjGHtZbLefV6x0VOxOsFTi7LVq1Lz8h0mLNATc9Uy8h87uJlpWVltVs239WbdwwN9Ij8DADkZGXsBg5ISEr2/1ZvihYZFb1645a9O7bKy3Oe5nnz7j1ZGemlC+ayStatcnY7f1paWqrBWoQQ6qRwFg2hTuzjJ7/h4yYJCgoMHjSQh4dn2cp1ykqK0T9+HtqzU0oSAMDP/1v+/9O14NDwvLy8J89eqKp0nTRh7NdvgW43bhfRiu/duMLRsply8/ILCgtnOUxhL9TUUAeAb9+DLc27176koqJy6pz5faysnBbOu+h2naM2Ni5+iO0gKpUan5gUERmlpKhgZKDvMNm+MbUIIdRJYYqGUGfFYDCWr1nPx8f39YMXcSbSCqfFlv0GcbkkMTlljcuy3ds2kUgkBoPRo59tY1bx5+bln71wub7a8aNH6OnqsJf8+BkLAByTYdqaGgCQk5tbZydrN23LyMh6+ehe7dPZS0pLMzKz5GRlRttPe/7qDVGoo6V56eyJHhbm3Gsb/GgIIdRhYYqGUGcVHBoWGhaxdsVy1pmVBvq69uPG3LhT7wHeAgL8W9avIdIgMpncu6dlUEhoalq6spIil4FycnO379lfX62WhjpHihYbHw8AHEvKVLoqA0BhYVHtHp6/enP6/MX7N90Uat3iBIC4uAQAOHHWVV1N7fihvb16WH764r9+y/axk6cHf/mYkZHJpVZWRprL50IIoY4MUzSEOqu4+EQA0NLUYC/U09XmcomstAw/Px/rrYSEOACUlJZyH0hHS7M4K6W+WiqVl6OEj8oHAPkFBeyFpaVlrBHZZWRmOS5ycpzpMGbk8Dr7J/qprKxyv35ZR0sTAEyNjbKzs/ccPHr3wSMDXR0utU4L53H/aAgh1GHh4wIIdVbENq1Skn9MVtHp3PaJFRDgr13IZDK5D0QikQQE+Ov74uHh4WgvLycLAAmJSeyFRKYlLcW5hN/10pXcvPwiGs1xkRPxlZ6ekZ6R6bjIad/hYwCgqKgAAD0szIkMjDBi6GAAiI75wb2W++dCCKGODGfREOqsVFW6AsDnL/5ERkIIDg1t8YEys7J3HzhcX+3s6VPNTIzZSzQ11EkkUnxCInthaHgEAPSw4HxWQFpa2tjI4GdcPKuksqqSwWAEh4WTyWQA6KqsDADV1dXsVxFbuImJinKvbfRHRAihDgdTNIQ6K31dHQqF4vnOZ8/2zURJfGLSW+9GbeLfJIVFRZeu3qivtm/vXhwpmqKCvHVvq4+f/eISEtW7qQJAdXX1bfcHSooKHC0BYOmCuez7ZQCAhfXAioqKQF9v4q2AAH//ftbe7z/+jIvXVFcjCp88ewEAVj0suNc240MjhFA7wxudCHVWSooKyxbNDwoJnbPQ6ZXn25PnLowYN6k1BtLR0izLTavva+K40bUvWb/Kubq6ZvIMx0dPn/l88B1tPy0+Mcn15FHiSYULV67xScjv3HeokQHs3b6ZRCJNnun4yvNtRGTUyXMXzl+52tuqx8hhQxqsRQihTgpn0RDqxPZs3ywmJnbijOu1W3ekJCWn2o8XFxfbue+QqKhI+wZmO6D/1fNn5i91nugwGwDExcQO7d3J2smWyWTS6fQG18CxmJuZety/7bjIacT4X0cgjBw25NLZE42pRQihTorU+P9KIoTqZG9vz6ypvHP1UjvGUFBYKCEuDgDLV61//up1bPj3dgyGpaamJjAomMFgWpqb1X6qoKmqq6sjIqNz8nIN9PRqb8/BvbYtTZ7pSKLwubvXu/UJQgg1Bs6iIdRZlZdXDBoxtqdF98P7dhH5WWlZ2Zu374yNDNs7tF8oFEoL7h/Ly8trYlzvR+NeixBCnQ6maAh1VgIC/JIS4qdcLxbRaMOH2BUUFrnduJWWnnH+1LH2Dg0hhFBzYYqGUCd247LrvkPHPL19rt68IyQoaGpi9MT9pnVvq/aOCyGEUHNhioZQJyYmKrp3x5a9sKWIRhMRFiY2EkMIIfQPwBQNoX8BbtOKEEL/GPw3N0KIm5dvvO7ef9TeUbSkBs8kRQihjgBn0RBC3Bw8djI+IXHShLHtGMM7nw/OazbUWWVmYux2/jRHoY6JZT/r3q4nj7IXBoWEbti669v3oILCQjlZmVHDh+7ftU1UpJ03kEMIofrgLBpCqKMjkUgUXgrHF51Oj4yOoRUXczS+evNObHwCR2FgUPCg4WO/B4dMsR+/ae1KMVHRC1eu2Y0cz2BwO3UeIYTaEc6iIYQ6uv79rL9/8uEoXL5qPa24+MyxX6dIpaal79x3MOB7UGhYRO0eTrteKq+o8Hv32tjIAAC2bVxnN2r8O58PD588mzB2VCuHjxBCfwNn0RDqoCoqKrfv2a9lZC4oraRjYrlo+crikhJW7fuPn5xWrtU17aGqazxtznzXS250Op2oWuDkMnvB0tj4hPlLnVV1jQeNGHvz7j0AOHrqrIX1QAU1neHjJv2Mi2d1NWXW3L2Hjvl9DZgya658N20jyz4Hjp6ob3qpsKho6Yo1Rj2slTT0Jkyb9fKNV+NjbkGvvd6dvXj52oWz8nKyRElxScmP2DgxUVFzM9Pa7f2++hsbGhD5GWGWwxQACAjsEMcwIIRQbTiLhlAHtXTF6uu33R0mTzQxNoqPT7h49XpYRJSv1wsA8PngO3j0BDFR0SkTx0tJSXp5+yxxWZ2QmLRv51YACA4NT0tPf+vzXlxMzMa6j/vDx+8/frrt/sDL+/1Qu0EqXbu8eO05eOT42PBAYpOOdz4fvweFHDp20qZvn3mzZ7x567Nh687YuPjaW+CmpqXbDB6Rk5s3feokMVHR12/fjbafdnDPjuWLFzQYcwvKy8+fu3iZ/bgx/ftZswp1tbW8Xz4FgNj4BB0TS/b21dXVdgMHWJj/kbqlpKYBgISEeMvGhhBCLQVTNIQ6osrKqpt37w8bbHvp7EmiRE2tm8uaDT9i47Q01O/cf0ih8PwIDRAXEwOANS7LNI26P3v5mkjRACAzK3vH5g0bVrsAwOSJ40aMn/ze91Oov6+WhjoAzFnodO3Wndj4BOItAMQlJB7au9N5yUIA2L5pvd2o8Veu31o4d7aZiTF7VBu27kxMTvn87pWleXcA2LphzfDxk9dv2TF9ir2khAT3mNn7yc3LP3vhcn2fffzoEXq6Oly+OU4r1xYWFe3ZsbmR30xeXt7jh/ayl2Tn5J69cJmXl3fEkMGN7AQhhNoYpmgIdUR0Bh0A3n/8FBwSRhw9uWS+45wZ0/j5+ADAeemipQvmEfkZAFRVV4mLiRXRaKzLeXh4Vi1fQrw2MtAHgP59rVl5Uj/r3tdu3YmKjmGViIuJsWbCyGTy+pXOPh9837z1Zk/R8gsKbt97YG5mSuRnAEClUufOnO79/uOjp88dZzpwj5ldTm7u9j376/vsWhrqXFK0yKjoew+frF/l3FVZmeu3sF7PX72Zt2R5Tm7ekf27DfR1/64ThBBqbZiiIdQRCQoIbF63esvOPebWA3S1tWz69hlqN8huYH8eHh4A0NHSzMvPP3LyzBf/gMSklNi4eFpxsaKCPOtyRQV5KpVKvObn5yNKWLU8PGQAqKqqZpVoqKuRSCTWWyJDik9IZA/px89YJpNZWlo6ZdZcViGNVsxqyT1mdjpamsVZKfV9diqVl8t35uCxU1Qqr/PSRVza1CcuIXHluk3PXr7WUOt2/eK5gf37/UUnCCHUNvBxAYQ6qA2rXWJCAjatXSkgIOB6yW3UxKlGln0ys7IB4NDxUyo6Rrv3H66urhnUv9/lcyd79fxj9ZWQoCBHb9zPhlKQl/vjciFBAODn52cvzMsvAAAqH5WXwsv6kpKUnGo/QU9Xu8GY2ZFIJAEB/vq+aqd0LMmpqbfvPRg9YpikhASXj1Onm3fvde9l8/7jp307t4Z89cX8DCHUweEsGkIdUVVVVVl5uWrXLts2rtu2cV1mVvbeg0dPn7942vXCssULN2zdKSMtFR3sLyIsTLTfc/Ao9w65i/tzI7GkpBQA0NLUYC/spqoCAJrqatcunmUV0un04pISQQEB7jHv3LKRvavMrOzdBw7XF8zs6VM51sCxXLxyraamZs6MaU39gM9fvZk1f0lPS/ObV87/9R1ShBBqSziLhlBH5P3BV7qLxp37D4m38nKyK52XAEBBYVFySgqDwRg7agQrP0tJTQsJC2/OcD9i49i34XC7cQsATAwN2NtoqHWTkZZ64+VdXf37Dum+w8elu2gEBAZxj5ljuMKioktXb9T3FRefWF+cb976SEpIDOjXt6kfcOP2XWKiou7Xr2B+hhDqLHAWDaGOqFdPS1kZ6V37DikrKpoYG8bFJxDzZMMG22ppaggLCbk/eDzEdqC2lubnL/5bd+0VFREpKSmN+Rmr/efUVyPR6fTxU2bs2LxeS0P94dPnJ89dmDhudJ9ePdnbUKnU3ds2z1/qPGPeojUuy0RERJ4+f7nn4OFB/W2I26xcYuYYTkdLsyw3ralBFhQWfg8OGTF0MPebtnVeGBEZbWJkePTkGY6qfta9hw+xa2okCCHUBjBFQ6gjEhEWvn7x3OyFSwcOH0OU8PPz7dyykUh3Lp45MXfxsjGTHABAUkLi8L6dQoJCsxcsMe5hXZGf8RfDDbDpq6SgYD99DrFjbT/r3qeOHKjdbM6MaWXl5es2b7v38AkAUCgUx5kOO7dsIB414B5z8/l88GUwGD0tzZt64ecv/kwmMygkNCgklKOKRCJhioYQ6phITCazvWNAqHOzt7dn1lTeuXqpxXsuKy8PC49ITkmTlpLU19OVlZFmVeXl5weHhCnIy+nqaBMZUl5+fkFhkYZat6aOIqeqbW5m8vzh3YLCwsCgYEUFBT0dbS7ti0tKgkPCSkpLDfR0uygrNT7m/4jJMx1JFD53d/f2DgQh1LnhLBpCHZeggEAPC/MeFnXMG0lJSnI8kyglKSklKdmc4STExQf1t2mwmYiwsHVvq/pqucSMEEKo8fBxAYQQQgihDgdTNIT+6+Tl5aSlpNo7CoQQQn/AG50I/deFfPnQ3iEghBDihLNoCCGEEEIdDs6iIdTRvXzjRaMVT5owtr0DAQC4cOVaTm4eAOhqa44dNYLjLXvLktJSYSGhOjthMpmFRUUS4uL1jVJTU0MikbicBNWg4pKSqqoqLs9P1NegpqaGh4eH/cRSAPB85x0QGAwAAgL8Ln91PChCCDUVzqIh1NEdPHZy7eZt7R3FLyfPnt936Oi1m7fff/xU+y0ABIWEDh1jL9NVU1xBVUlDb9HylbTiYtblBYWFC5xcROW7ynTVlFDsNmXW3Ny8fPb+b7nf7zNomLiiqpCMsn53q9PnLxJbtTVJXn6+fncrm8Ejm9Tg5Rsvc+sBYgoqiuq6U2fP+/jJj1X1NeD7tZu3Dx49sbd5B20hhFDj4SwaQqhprHtbPX94t863gUHBdiPHUyiUKfbjJSXE3R88vnDlWlBI2Od3r8hkclVV1YjxU/y/Bc6ePrWnpUVA4PcLV66lpqV/9HxBXH799t05C520NTWWLVpQXl7+8Omz5avWFxbSNq5Z0aQI5y1xTs/IFBMVbXyDO/cfTndcqNq1y6rlS9PSM+49fPLqzVs/nzfEaQ2b1q7ctHbl7AVLn79606RIEELor2GKhhBqMaddL5VXVPi9e21sZAAA2zausxs1/p3Ph4dPnk0YO+rarbtfA74d2L19hdNiAJgzYxqJRDp/+WpgUHB3UxMAOHLyjKa62mfv16IiIgCw2mWZhmH3sxcuNSlFO3fxymuvt5ISEo1vUFVVtXbTNiFBwQDfd+JiYgCwZ/sWFR2jqbPnBfp6/+X3AiGEmgdvdCLUFpavWt9v8IiMzCz2woXLVgwZPbGqqgoA3n/85LRyra5pD1Vd42lz5rtecqPT6XV2NWv+khlz/1gOtf/I8X6DR9TU1BBvC4uKlq5YY9TDWklDb8K0WS/feLXOZ6qD31d/Y0MDIj/7Fa3DFAAICPwOADfv3pOVkV66YC6rdt0qZ7fzp6WlpQCgiEaLiIweYjuQyM8AQFFBvn/fPvkFhewHt3MXGRW9euOWvTu2ysvLNb5BVPSPtPSMoYMHEfkZAMjKSNsOsAkJDS+i0Rr/8RFCqAVhioZQW1BX7/bJ7+ujp89YJekZmZev3ZSUFKdSqT4ffO1Gjb97/5HdwAFzZjikpKYtcVm9cduuOrv6HhzyPTiEvSQ2Lv6T31dizVZqWrp57/7Xb93t29tqlsPUxOTk0fbTjp9xbdVPR6iurrYbOGDJAkf2wpTUNACQkBAn4hxiO4hKpcYnJnm8ePU9OERRXt5hsr1Kly4AQKFQfF55rHZZxrq2iEYLi4i0HWDDy8vbmAAqKiqnzpnfx8rKaeG8JjVIz8wEAIvuZuyFxNvIqJjGDI0QQi0Ob3Qi1BamTBy/ZuPWB088Fs//lcHce/SEwWDMcpgKAHfuP6RQeH6EBhCzOGtclmkadX/28vW+nVubOtCGrTsTk1M+v3tlad4dALZuWDN8/OT1W3ZMn2LPce8vNy//7IXL9fUzfvQIPV2dJg3Ny8t7/NBe9pLsnNyzFy7z8vKOGDK4pLQ0IzNLTlZmtP001oouHS3NS2dPEKdFCQkK9uppSZQfP+OanJzy4rUnnU5ft9K5kQGs3bQtIyPr5aN7HM9jNthArZsqAHi//0jcgSVExcQAQERUtFUPi0YGgBBCLQhTNITagoy01BDbgS/feGXn5BIni9+9/0hJUWFQ/34A4Lx00dIF81h32aqqq8TFxP7iFlt+QcHtew/MzUyJ/AwAqFTq3JnTvd9/fPT0ueNMB/bGObm52/fsr68rLQ31pqZoHJ6/ejNvyfKc3Lwj+3cb6OuGhIYDwImzrupqascP7e3Vw/LTF//1W7aPnTw9+MtHjtPWN2/fXVZeDgB6ujoC/PyNHO70+Yv3b7op1HOLk0sDTXW17qYm795/uHT1hv34MQwG4+ade/cfPQWA+m43I4RQa8MUDaE2MmPq5GcvXz/2eD5/zszE5BT/b4HrVjqTyWQA0NHSzMvPP3LyzBf/gMSklNi4eFpxsaKCfFOH+PEzlslklpaWTpn1e70XjVYMAPEJiRyNdbQ0i7NS6uuKSm3UvcU6xSUkrly36dnL1xpq3a5fPEcc955fUAAAlZVV7tcv62hpAoCpsVF2dvaeg0fvPnjEceeRlpX8My7+k9/XTdt3WQ0YnBAZLC8ny2XEjMwsx0VOjjMdxowc/hcNyGTypTMnRttPW+Dk4rJmA4PJYDCYc2dNP3/5qn7z8lSEEPprmKIh1EaGD7GTEBd/8MRj/pyZ7g8eAcCMaZOJqkPHT23bvY+Pyte3T69B/fttWO1y5OSZxKTkRvacX1BIvMjLLwAAKh+Vl/I7wZKSlJxqP0FPV5vjKhKJJCDQqAmqJrl5994S59UkEmnfzq1OC+fz8VGJckVFBQDoYWFO5GeEEUMH7zl4NDrmBwAwmUwmk0nkrACgqa6mqa5GJpPmLHR6+cZr9vSpXAZ1vXQlNy+/iEZzXORElKSnZzCZTMdFTpoa6utWOjfYwEBfN/jrh3sPn0RFx8jLy9n2t/Hx/QQAtb9vCCHUNjBFQ6iN8PFR7cePuXT1Rl5+/t0Hj6x6WGhpqANATm7ehq07ZaSlooP9RYSFicZ7uGyRSiJx7Ob642cs8aKbqgoAaKqrXbt4llVLp9OLS0oEBQQ4usnMyt594HB9g8yePtXMxLhJHxAAnr96M2v+kp6W5jevnO+qrMxeRbzleDazvLwCAIj9yfYfOb5p+26P+7eH2g1iNSDOdyeeOeBCWlra2MjgZ1w8q6SyqpLBYASHhRM5H/cGVVVVCUnJ0lKSc2ZMYzXYf/S4grwcl807EEKoVWGKhlDbmTF1kuslt4NHT4aEhrue/JWEJaekMBiMsaNGsPKzlNS0kLBwOVmZOjtR7drFy/t9dXU18ZxjZFR0bHwCUaWh1k1GWuqNlzerFgD2HT6+ddfe96+f9bbqwd5PYVHRpas36gu1b+9ef5Gibdy+S0xU1P36ldrrvQQE+Pv3s/Z+//FnXLymuhpR+OTZCwAg1uMb6usBgNc7H/YU7aLbdQAwNtTnPu7SBXPZ9/IAAAvrgRUVFaxdzbg3KCwq0u9uNXnCuBuXfz36mpqW/vDJM+5Tdwgh1KowRUOo7fSwMNfSUD966qyggMDEcaOJQi1NDWEhIfcHj4fYDtTW0vz8xX/rrr2iIiIlJaUxP2OJ3e3ZWZp3f/Hac85Cp7mzpsfGJxw8ekJMVIQ4RolKpe7etnn+UucZ8xatcVkmIiLy9PnLPQcPD+pvw3pYkkVHS7Mst4HZqSYpKCyMiIw2MTI8evIMR1U/697Dh9jt3b7Zqv/gyTMdd2/d1EVJ8d0H3/NXrva26jFy2BAAGGo3yEBf95TrRTExscGD+qelZ95//OTZy9fmZqbDh9gBwLHT59Zu2rZp7arN61a1YNgAIC4m1r+f9YMnHgOv9xszclhcfMKCZSuUFRX279rWsgMhhFDjYYqGUJuaNtl+6669Y0eNYG3QKiIsfPHMibmLl42Z5AAAkhISh/ftFBIUmr1giXEP64r8DI4eVixb/MU/4Pa9B7fvPVBSVHCYbA8A+48cJ2rnzJhWVl6+bvO2ew+fAACFQnGc6bBzy4b69qFoQZ+/+DOZzKCQ0KCQUI4qEok0fIiduZmpx/3bjoucRoz/tQhv5LAhl86eIF6TyeSHt6/PmLtox94DO/YeIArHjhpx7MAeCoUCAAwGg06nM5nM1gj+4pnj02YvmLdk+bwlywHA1NjoxmVX1rwmQgi1PVIr/fcOof8Oe3t7Zk3lnauXmtNJXn5+cEiYgrycro42kU7l5ecXFBZpqHWrs31Obl56eoaRoX6duVdxSUlwSFhJaamBnm4XZaXmBMbByLJPF2Ul1qGcHG8bo7q6OiIyOicv10BPr/b9UAaDkZCUHPPjpwA/v5amhpKiAnvtnoNH1bqpTJ4wrpmfok5MJjM8Iio+MdHUxIhjIR2BOKMzO+kH934mz3QkUfjc3d1bI0iE0H8HzqIh1CFISUoSm1Owl0hJStbXXkZaSkZaqr5aEWFh695WLRlfy+Hl5TUxNqyvlkwmq3dTVe+mWrsqNj7B7frNty+etFJgJBLJ0EDP0ECvlfpHCKEmwQOgEEJNExIWPnmm47HT5+p823riExIfu99s2UnBRnK7cXvyTMcPvp/bfmiE0H8WzqIhhJrAdoBNSloag8Eg1khwvG1VdgP7t/YQ9WEymQwGo7uZMa5OQwi1GVyLhlBztchaNPTPwLVoCKEWgTc6EUIIIYQ6HLzRidA/4sKVazm5eQCgq605dtSI2g2KS0qqqqrqewShvtqamhoeHp7m7NlRUloqLCRUZxWTySwsKpIQF6/v2pqaGhKJxMPDwyrxfOcdEBgMAAIC/C5LF3G8/esgEUKoo8FZNIT+ESfPnt936Oi1m7fff/xUuzYvP1+/u5XN4JF1Xltn7cs3XubWA8QUVBTVdafOnvfxk1+T4gkKCR06xl6mq6a4gqqSht6i5StpxcWs2oLCwgVOLqLyXWW6akoodpsyay6x+y7LLff7fQYNE1dUFZJR1u9udfr8ReLYq68B36/dvH3w6Im9B4/WfosQQv8MTNEQ+ndY97aKDvY/dnBv7ap5S5zTMzLru7B27Z37D0dNnFpUWLRq+dLhQ+yev3wz2n5azP8PA21QYFDwoOFjvweHTLEfv2ntSjFR0QtXrtmNHE+kWVVVVSPGT7l87eaUiePPnzo2eeK4ew+fjJ3swLr8+u27M+ctLiwsXLZowaK5s0tKS5evWr/30DEA2LR2ZXSw/5iRw4mWHG8RQuifgTc6Efr3nbt45bXX2/pOBK9dW1VVtXbTNiFBwQDfd+JiYgCwZ/sWFR2jqbPnsU695O6066Xyigq/d6+NjQwAYNvGdXajxr/z+fDwybMJY0ddu3X3a8C3A7u3r3BaDABzZkwjkUjnL18NDArubmoCAEdOntFUV/vs/Zo4g2G1yzINw+5nL1zauGZFc78XCCHUSeAsGkL/uMio6NUbt+zdsVW+1lb+9dVGRf9IS88YOngQkZ8BgKyMtO0Am5DQ8CIarTGD+n31NzY0IPIzwiyHKQAQEPgdAG7evScrI81+rvm6Vc5u509LS0sBQBGNFhEZPcR2IOuMLEUF+f59++QXFFZXVzf14yOEUCeFKRpC/7KKisqpc+b3sbJyWjiv8bXpmZkAYNHdjL2QeBsZFdPgoNXV1XYDByxZ4MhemJKaBgASEuIAEBsXP8R2EJVKjU9M8njx6ntwiKK8vMNke5UuXQCAQqH4vPJY7bKMdW0RjRYWEWk7wIaXl7exnxwhhDo5vNGJ0L9s7aZtGRlZLx/dq/ORzPpq1bqpAoD3+4/EjUhCVEwMAERERVv1sOA+KC8v7/FDf6yHy87JPXvhMi8v74ghg0tKSzMys+RkZUbbT3v+6g3RQEdL89LZEz0szAFASFCwV09Lovz4Gdfk5JQXrz3pdPq6lc5N+/AIIdSZ4SwaQv+s56/enD5/0fXkkdqnlXOv1VRX625q8u79h0tXbxSXlBTRaGfOX7r/6CkA0On0vwjDpKd1WnrGgd3bDfR14+ISAODEWdeEpOTjh/YGfHx77ODepJSUsZOnZ+fkcly7efvu42dcf8bFS0lJCfDzN3VohBDqvDBFQ6i5+Pn5Kyur2jsKThmZWY6LnBxnOtT5tCP3WjKZfOnMCXlZuQVOLkrqekoaeqs2bJk7azoA6OvqND6GuITEMZMcRttPExURefX4HnE7Nb+gAAAqK6vcr19eMn+uqbHR0gVzXZYuys7JvfvgEUcPtKzkqKCvF8+cyM/PtxowODMru/Gjt5fy8goBAYH2jgIh1OnhjU6EmktSUvJnTHR7R8HJ9dKV3Lz8IhrNcZETUZKensFkMh0XOWlqqFdUVHCpXbfS2UBfN/jrh3sPn0RFx8jLy9n2t/Hx/QQAerrajQzg5t17S5xXk0ikfTu3Oi2cz8dHJcoVFRUAoIeFuY6WJqvxiKGD9xw8Gh3zAwCYTCaTySSTf/0DUlNdTVNdjUwmzVno9PKN1+zpU1vgu9OacvPyNXX02jsKhFCnhykaQs2lq6t75cplJpPZnC34W5y0tLSxkcHPuHhWSWVVJYPBCA4LJ5PJxkaGXGqrqqoSkpKlpSTnzJjGarD/6HEFebn6du7g8PzVm1nzl/S0NL955XxXZWX2KuItx7OZ5eUVACAmKgoA+48c37R9t8f920PtBv3+OFJS8P9nDjoyJpMZFRMz23Fuw00RQogrTNEQaq6ePXvSaMWBQcHmZqbtHctvSxfMZd/VAgAsrAdWVFSwNjbjUltYVKTf3WryhHE3LrsStalp6Q+fPGv8DNbG7bvEREXdr1+pvdBNQIC/fz9r7/cff8bFa6qrEYVPnr0AAOJBBEN9PQDweufDnqJddLsOAMaG+o0MoL0EBgXTaMVWVlbtHQhCqNPDFA2h5jIyMuratevDJ886VIrWHOJiYv37WT944jHwer8xI4fFxScsWLZCWVFh/65trDbHTp9bu2nbprWrNq9bxXF5QWFhRGS0iZHh0ZNnOKr6WfcePsRu7/bNVv0HT57puHvrpi5Kiu8++J6/crW3VY+Rw4YAwFC7QQb6uqdcL4qJiQ0e1D8tPfP+4yfPXr42NzMdPsSulT96cz147KGiomJkZNTegSCEOj1M0RBqLhKJNHv27LNnzmxat0rwX1knfvHM8WmzF8xbsnzekuUAYGpsdOOyq4iwMKsBg8Gg0+lMJrP2tZ+/+DOZzKCQ0KCQUI4qEok0fIiduZmpx/3bjoucRoyfTJSPHDbk0tkTxGsymfzw9vUZcxft2Htgx94DROHYUSOOHdhDoXTo/2SVlZe73bi9ZOnS9g4EIfQv6ND/vUOos1i8ePGxY8cOHDm+beO69o6lXgEf3za+VqVLl4+ez8MjouITE01NjDjWkwHACqfFFRWVat1Uanc1fIhdDS2HezBDbAcmRoVEREbn5OUa6Olx3A9VU1X58OZZQlJyzI+fAvz8WpoaSooK3DvsCA4cOV5VXb1o0aL2DgQh9C/AFA2hFiArK7tly5aNGzfOdJjaTaVre4fTMkgkkqGBnqFB3Q8nxsYnuF2/+fbFk7/un5eX18TYsL5aMpms3k1VvZvqX/ffxpJTU4+cPLNr125ZWdn2jgUh9C8g1XmfAiHUVNXV1UZGRgpyMi8e3m2Xc4qMLPvkFxT06dWzp6WF85KFrT3cm7feykqKejqN3YOjpbjduP3K0yvgW1BxSUl20g+Ot20cDEt1dfWwcZMysnJCQ0PxlCqEUIvAWTSEWgYvL+/9+/d79eq12HnVhdPH2z4A2wE2KWlpDAajbf7dZTewfxuMUhuTyWQwGN3NjImFcRxv24vzmg0BgUG+vr6YnyGEWgrOoiHUkjw8PMaMGbN1w9qNa1a0dyyojew+cGT7nv2PHz8eOXJke8eCEPp34CwaQi1p5MiRp06dcnJySklNPXl4P86p/Nuqq6udVq69cv3WqVOnMD9DCLUsnEVDqOV5eHhMnTrVorvphdPHVbt2ae9wUKtITE6Zt2R5QGDQrVu3MD9DCLU4PEYdoZY3cuRIX1/fjKwcQ4ve23bvKysvb++IUEsqKy/ftnufoUXvjKwcX19fzM8QQq0BZ9EQai3V1dUnT57csWMHlZd3lsOU8WNGdjc16VDneKImYTKZgUHBDx57uN24XVVdvWXLFicnJ7yXjRBqJZiiIdS6srOzz549e/ny5eTkZFFRET0dHWkpSX5+vjYLgMFgkEikfyk1ZDKZTCaTTG67mwAVFZU5uXlRMTE0WrGKisrs2bMXLVqE+58hhFoVpmgItZGQkJAvX75ERkYWFBRUVFS02bgRERHZ2dn9+7fPHhmtwdvbW1ZWVl+/7Y5U5+fnl5CQ0NPTs7KywvM3EUJtA1M0hP5lP3/+NDIy2rNnj4uLS3vH0mKOHDmyfv364OBgXV3d9o4FIYRaC6ZoCP2zmEymra1tTk7Ot2/f/qUlU3Q63dLSUkRExNvb+1+6gYsQQuzwiU6E/lnXrl3z9vZ2dXX9l/IzAODh4XF1dfX19b1+/Xp7x4IQQq0FZ9EQ+jfl5+fr6ura29ufPHmyvWNpFUuXLr1z5050dLS0tHR7x4IQQi0PUzSE/k2Ojo4vXryIiooSFxdv71haBY1G09PTGzJkyMWLF9s7FoQQanmYoiH09zw9PZOTk7k0GD9+fLtkSL6+vn379r179+7EiRPbfvQ24+7uPnny5Ldv33J5XjU6OvrTp091VgkJCU2ePLnBUV68eEGj0RrTEiGEWhCmaAj9vVGjRnl4eHBpEBERoaen12bxEKqqqkxNTbt27fry5cs2HrrtjRw58ufPnyEhIXx8dW815+rqunDhwjqrunTpwj3DJtjY2MTFxaWkpDQrUIQQaiI8Rh2hv3fkyJEtW7YQr3/8+DFt2jQ7O7vdu3ezGqipqbV9VAcPHkxISOCeO/4zTp06pa+vf/jw4Q0bNnBp5uLiMmrUKI5Cfn7+1gwNIYSaBVM0hP6ehoYG6zXx1KSkpKS5uXn7RQSJiYl79+7dunVru2SHbU9FRWXTpk07duyYNGmSurp6fc20tLRsbGzaMC6EEGou3HQDoda1bNkyR0fH1NTUJUuWyMjIEIUzZsxwcHBgb7Zv3z5ra+uamhribWFh4eLFiw0MDOTl5ceNG/fixYtGDrd06VJVVdUVK1a04Efo4FatWqWlpbV48eLmdOLj47NkyRItLa0uXbpMmTLl3LlzdDq9drOKioqtW7eqq6vz8fFpamouWLCguLiYvcFf/+AQQogDzqIh1LpCQ0MzMzOHDx8eGhpqZmZGFAYGBjIYDPZmP3/+9PX1JQpTU1Otra1zcnJmzJghJib2+vXrkSNHHj582NnZmftYd+7cefHixcePH/+xjdC4o1Aorq6uvXr1unv37qRJk/6iB29vb1tbWzExsalTp0pLS3t6ei5atCg+Pv7AgQMcLRcvXnzt2rXp06ebmprGxcVduHAhLCzs8+fPRO1f/+AQQqgOTIRQSwgODgaAyZMnc5T369cPAAYPHhwVFcUq1NPT09HRYW82Z84cAKisrGQymdOmTQOAL1++EFWVlZUDBgygUql5eXlcAigqKlJUVJw/f37LfJ7OZt68efLy8vn5+Rzl586dAwBjY+Mxf5owYQL7tXx8fAUFBcTb8vJyBQUF1g+oX79+ysrKTCazoqKCl5d31KhRrAuPHz8OADExMcTbv/vBIYRQnfBGJ0JtYefOnTo6Oo1pmZ+ff+vWLQsLix49ehAlVCp13rx5VVVVDx8+5HLh2rVrq6qq2B9W+E/Zv38/g8HYuHFjnbXx8fGf/+Tn58eqXbFiRUBAAGt7lKqqKnFxcRqNxtEJcevTx8cnKCiIKFm6dGlJSQmxBu6vf3AIIVQnvNGJUKuTkZGxsLBoZGNiSqakpIT9nh2RLsTFxdV3VUBAwPnz569du/af3WpfQkLi8OHDM2fOnD59upWVFUftgQMH6tt6AwB0dHTy8vIOHz7s5+eXmJj48+dPGo2mqKjI0UxQUHDr1q2bNm0yMzPT1dXt37//sGHDBg8ezMPDA3/7g0MIofrgLBpCra6+LbvY5efnEy/y8vKIS3jZSElJTZs2TV9fv85ra2pqFixYYG1tPXXq1BYMu9NxcHAYMGDAggULqqurm3ThwYMHlZWVd+7cWV1dPWjQIDc3t969e9fZcuPGjbGxsZs3bxYUFDx37tyIESP09fUzMzPhr35wCCHEBc6iIdQOSCQSx+MCMTExxAtiswxNTc0bN26waul0enFxsaCgYJ29HTt2LDIyMjg4mEQitVrIncOZM2eMjIxOnDixcuXKRl6Sk5Ozbt06GRmZnz9/ioiIEIV13i+uqqoqKytTVVXdsWPHjh07MjMzd+/eferUqZMnT+7evfsvfnAIIcQFzqIh1A5UVVUTExNZkz0RERGxsbHEaw0NDRkZmdevX7NPBe3du1dCQsLf3792V8nJydu3b9+wYUMj17r92zQ1NdetW7dly5aEhIRGXpKUlMRgMMaNG8fKz1JSUoiHPzi8e/dOQkLi9u3bxFt5efnVq1cDQEFBATT9B4cQQtxhioZQO+jRo0dVVdWsWbN8fHwuXrw4ZswYMTExoopKpe7du5dGozk4OHz//j02Nvbw4cO7du2ytbWt8+6bk5OToqLimjVr2vYTdFzr169XUVFZsmRJI9tra2sLCwvfvXvXw8Pj58+fbm5uvXr1EhUVLSkpYU1tEnr37i0rK7tjxw4fH5+ioqLAwEBiN43hw4dD039wCCHUgPZ+pBShfwSXTTeILRvYlZaWDh06lPj/oJKS0rp169atWwf/33SDyWSeOHGCdTwRhUJZuHBhnRs3PHjwgEQivX37tjU+Uef1/v17Eon08OFD5v833Th79iyX9u7u7sLCwsR3W1JS8urVq/fv3xcSEqJQKMw/f4Kenp7sjxHw8/Pv3r2bvatG/uAQQqhBeIw6Qu0mJycnLS3N2Ni4zjVkxcXFQUFBJSUlhoaGXbp0qbOBnp7ewIED3dzcWj3WzmbmzJmenp5RUVGs6Unu8vLygoKCFBQU9PT0iB9HXl5eQUEB+xlfhLKystDQ0OTkZGlpaQMDA1lZWY4GDf7gEEKoMTBFQ6izcnZ2vn79elRUVO0sAeXl5eno6Dg4OBw9erS9Y0EIob+Ba9EQ6pRCQkJOnz598OBBzM/qJCUltW/fvpMnTwYGBrZ3LAgh9DdwFg2hzofBYPTq1YtKpRKLrto7nA6KyWQOHDiQRqN9/fqV2F0WIYQ6EZxFQ6jzOXXqVFBQ0Llz5zA/44JEIp09ezY8PPzMmTPtHQtCCDUZzqIh1MlkZGTo6uouXbp0165d7R1LJ7Bx48aTJ09GRUUpKSm1dywIIdQEmKIh1MlMmDAhMDAwPDxcSEiovWPpBMrLyw0NDU1NTe/du9fesSCEUBPgjU6EOpOXL18+ePDg1KlTmJ81koCAwJkzZ+7fv+/h4dHesSCEUBPgLBpCnUZZWZmBgUHPnj1v3brV3rF0MlOmTPn8+XNERARri1qEEOrgcBYNoU5j27ZteXl5hw4dau9AOp9jx44VFxfv3LmzvQNBCKHGwhQNoc4hPDz82LFj+/fvZz+ACDWSnJzc7t27jxw5Uuf56Agh1AHhjU6EOgEGg2FtbV1dXf3lyxcyGf9l9TcYDEafPn3odLqfnx9+DxFCHR/+dwqhDodGo3GUnD9/3t/f39XVFXOLv0Ymk11dXYOCgi5cuMBRVfsbjhBC7Q7/c49Qh7Nz584RI0YkJSURb7OysjZs2ODi4mJqatq+gXV2hoaGy5cvX7t2bXp6OlGSlJQ0YsQIXKOGEOqAMEVDqMP58OHD8+fPtbW1Dx06VFNT4+LiIiIismXLlvaO61+wfft2SUnJ1atX19TUHDp0SEdH5/nz5+/fv2/vuBBCiBOuRUOoY6msrBQREamurgYAMpmsrKycnJz89OnTkSNHtndo/wgPD49Ro0apq6snJCQwGAwA4OXlLS4u5uPja+/QEELoN5xFQ6hjCQoKIvIzAGAwGGlpaQDg7u6el5fXrnH9I4qKijw9PUkkUmJiIpGfAUB1dTU+6YkQ6mgwRUOoY/Hz8+Pl5WW9pdPpAHDnzh1tbe1r1661X1z/Ag8PD21t7bNnzzKZTOIbS+Dl5fXz82vHwBBCqDZM0RDqWD5//sya3WGpqanJz8+fOXPm6NGja2pq2iWwTq2mpmb06NGjRo3Kzs6u/Q1kMBifPn1ql8AQQqg+uBYNoY5FXl4+KyurdjmFQpGQkHj69GnPnj3bPqp/wJcvX0aNGlVYWMi6j8xOTk4uMzOz7aNCCKH64CwaQh1Ienp6ffmZiYlJSEgI5md/rWfPnhEREZaWlhQKpXZtVlZWampq20eFEEL1wRQNoQ7E19eXRCJxFJJIpEmTJn348EFBQaFdovpnyMjIvHv3btasWbWrSCQSLkdDCHUomKIh1IFwPCvAw8NDJpP37t1748YNAQGBdgzsn0GlUi9cuODq6kqhUHh4eFjl+MQAQqijwbVoCHUg3bt3//79O/Gal5dXSEjo4cOH/fv3b9+o/kmfPn0aPXo0jUZjLU0zMzMLDAxs36gQQogFUzSEOgr2TWspFIqOjs6zZ89UVFTaO65/Vlpa2ujRo0NCQohnPHl5eWk0Gj8/f3vHhRBCAHijE6GOIzAwkMjPSCTS5MmTAwICMD9rVUpKSr6+vlOmTCHW/1VXV7OmMBFCqN1hioZQR/H582cAIBafXb9+Hadz2gA/P/+1a9fOnTtHrEvD5WgIoY4Db3Siv1RRUeHr6xsYGJiQkFBYWFh7t1XUVH5+fllZWb169ZKVlW3jofn5+SUkJPT09Hr27GlsbNzGo3MXEhLy5cuXiIiIgoKCysrKVholOzv78+fPcnJyVlZWrTTEv4dMJouLi6upqZmZmfXp0wf/UYFQy8IUDTVZQEDAyRMnHj58UFpWriQt1k1GRFyAQubcKQI12dfYLMMuUoJ8deza1doqa5gFZdVRafnFZRVdlZXmzJ23aNGits8U2WVnZ589e/bypUvJKSmiIsL6OlqS4mL8rXnSeXlFRVBYZC8Ls9Yb4h/DYDIKCmlxiUkpaRlCQoLjxo1ftmyZubl5e8eF0D8CUzTUBOnp6WvXrLl565ahioxDb3U7oy6KEkLtHdQ/gs5gVtXQBajtkJ+xMJkQkpzrEZh4xy++ikHesm2bk5MT+yYgbaO6uvrkyZM7dmzn4+WdOWnsuOGDzYz0a28X1xrKyiv4qLzsm3GgxkjLyHzm6X351oPg8Mhp06bt379fUVGxvYNCqNPDFA011rlz51avWiktTN02zmyYKS5j/5eVV9WceBl2xitCRUX1jvu9trz1GRISMnnypKTEpBULZ69eOl9QAO+ddSZPXnqt2XkgJy//4MFDCxcubO9wEOrcMEVDDaPT6S4uLqdOnVoxzNh5mBEfL84x/Cek5JU4X/sclFxw6/adkSNHtsGIHh4eU6dOsTAxPH9ol0oXpTYYEbW4isrK/Sdc9xw/t3Tp0qNHj+KUJEJ/DVM01ICqqqqxY0Z7v3t3albvkd1V2zsc1Kaq6Yx1t77c+vTz5KlTixYtatWxzp496+TkNGvy+BN7NvPWdYwm6kQePn89Z/l6m/42jx49plKp7R0OQp0SpmioAbNnzXpw7+695YPMusm0dyyofRx5HnLAI+jx4yetN5fm4eExZsyYLauWbljeuokgajMBwaFDJzuOGz/hypUr7R0LQp0SpmiIm717927etOnq4gF2Rl04qoIScyNT8230lJQkOZ8YeBuemllYNr6HOn9b3RL9npDzJTYrLCmvtKpGXU6st5b8IEPlxl9+7UOMooRQfZe8Ck6urKGPNu/WQsG2BQaTSW7R9fWrb/o9+Jbs++lza6xLi4iI6NXLatwwu/OHd7VszzGx8Z8DgthLeHjIKl2UzAz1RYQb9aTLy3cfiotL7EcPa9nAWklJaZmwkGB7R/HbGx/fMTMX7dy5c926de0dC0KdD6ZoqF6BgYGWlpY77S3mDdCrXbvz4beTr8JuLB1UO3sbf+TVx+iM8EOTZUVb/eTvGgZj18PAM2/CAUBckMoEKCqrAoAB+krn5tmICzbqDou2y60+OgqXFtR9FKbdbo/80spveya0YNgA0GPTg95a8kdm9G7BPuOyaJe9o16GJBeXV1mqyy201bfWUaivMYPJHLDzCZ3+x38BukgL33Kyrd24ms6YfMIrhy4YGh7Rss94VldXGxkZKkhLPLt5ocXvb164cXfJ2m21y2WkJM8e2DFqyMAGexg0YUZcYkrCN++WDaxlBYVFbtp75FtwWEERTU5GauTggfs2rRYVEa6zMYPBsLAbV0OvYS9UVVZ6ct21NWI7den6qm37/P39u3fv3hr9I/QPwwUfqG5MJtNl+TILdbm5/evIzzqOua4+L4KSemvLH5zWS0NerIbB8I/NvuH74/6XuKWXP1xfMqj5c0mOA3QrqmoabtcUdz7/TMim9daSb8E+K6rp0097ZRSUje+hJiHE9+x74rSTnned7aw06x4lvaAsMrVAV0lCQuj3ZmPiQnVvPMbLQz4xs3evrY9Pnjy5YsWKFgz7xIkTSYlJHm6nW2/92UbnRRNH/ZoGy8nPDwgK237wxEyn1d+9nnRT4fwHRqcTGBI+ZNIcCoVn8tgRkuJi7k9fXrzhHhwe5etxh0yu4/yYtIyssKgYAx0tSQkxVqGEhHgrhbfUcfrjl15OTks/ffrcNjunIPTPwBQN1e3mzZuf/b54bhzZkf+j+jE640VQUh9thfsrBhP39Shkci8teQt12ZDE3DehKV9js3pqyjVzlElWGi0RLABAekHpIY/goMTciNT8luqTZc+jwNjMotvLbAcaKAPA/IF6NjueOF3xrW/+LyGbBgBnHPvqK0s2pn8lSaHFg/R2bNvq4ODQUrvaZmdn79y5Y8XC2a36/KaCvKye9u8fYj8rSwaDsWnvkWee3k5zZ7C3JO4qdK5M4syVm+UVFZ+euxvr6wDA1tXLhkya/c73y6MXb8aPGFK7fWxiEgC4ndxvpKfTNhEe3r6+59AJN2/edHBwaJsREfo34BmdqG579+ye2FPdoEuj/ng36FNM5tpbfj03PTBZ677ggs/V99F0xq/7a5XV9ANPgyw23ldefLXHpgerbnwuqahuZLdHngcDwMax3TnWXfHykA9P721vpUHc9OQeAIt3RNrw/c9Vll7vveXhoWfBNf8/0mrDnS/L3HyJ1yuufVp3+0tmYdnCi+/N1rlbbLy//KpvWWVj59hKKqrjsmiiAlRTVelGXlJbDq38sndUUGIuR/mdzz/1lCWI/AwAZEQF+usrJecWf0/IqbOf+GwaiQTqcmJ11tZp2VBDKpl59uzZv4u8tjNnzvDx8q5eOr+lOmwkLTVVAEhJy2CVhEZGD5k0W0bXUkzdtPfwSa/efajzwvd+/ss27NDrM6SbeX+HxSvPX79Dp9NZtRWVlTsOndTuZSesaqTbe/DitVuLS0obrGqkrJy8s263vgWHcZT7fQsy1tcl8jPCzEnjACAgiLMlITYhiUQiaaqpNmn05jDW15k2ftT+ffvabESE/g04i4bq8PXr18io6OMbR7VIb74xGROPvhYVoI6zVJMU5n8flbb6pl9ibsnW8eYAsOaWn7tf7MSeGoZdJROzi69/jIlMLXixbnhjeg5LzpcW4e+uVsejpj015VjzZ9wDIHz9mfUqOHmEmUo/XcX3UekHngb9yCg8P88GAL7F5eSX/joaMjwlP6+k4mVQUldpkTEWat8Tcm5/+kkrr7qycEBjAtZSEH+yeigAJGTTemx60JhLWPJLKjy+Jz39lvD5RyadwbyycAB7npdfUlFYVjWltyb7JepyogAQnJhb59O4Cdk0JUnh0orqD1HpObRyLQVxs24yPFxP8hKgUiZbqV25dHHr1q1NCr5OTCbzyuXLMyeNbfv9ae88fg4Aaqpdibfv/fxHTpsvKSE+e/L4ouKSR8/fjJu9+O2D61bmpuxX+Xz+OnSyo5iI8OSxI6QkJd5++Lx03faEpNS9m1YRDZzW77hx/8m08aNMDHTjk1Iu3bwXHvXjw9Pb3Ku4y80vePTizf2nrz58CaDT6e4XTpibGLJqq2tq7Gz6WJgYsV+Skp4JABLidSffcQnJXZQUSkrL3vl+yc7J09FUszQ1au3dyxbNmmo1bKK/v7+lpWWrDoTQvwRTNFSHZ8+eqciKG6tINdhy5fXPtc+UzCj4Y3rgkX88D5nsv3uCmCAVAJYNMTTfcP9NSPLW8eZVNfT7X+JsDbucmNWHaKwqK7Lxzte4LBqRXnCRV1xBK69qzFYgXAJgtcmmlV9a0J/Y+G3lCJNJx988DkhYMFC/dv6XklfiNMRw01hzEgkYTKbdbo+PURnQagrLqp5/T3zyLdE3OqOGwdBXlnQZZjzEpKtR1z9+OrGZNACQE/vjaT4NOTEAyC2uqLPnhGxaSXmV2fp75f9faWesInV6Tl8tBXEu8YwwUz35Kiw0NNTIyIhLs8YIDQ1NTkkZN3xwM/tpUGp6ZnB4FPE6KSXtna/f09deEmKiE0cNBQAGg7Fyy14+KvXtg2vqql0BYOWiOUY2I85dvc2Rot19/JzCwxPt5ykuKgIAq5fM1e5p+8zTm0jRKquqbj14OnRgv4tH9xDt1VS6rNiy52d8Yldlxfqq6pvNKiiiPX7hed/jpfenLzU1dCM9nfXLFowcPNDU8I+1obwUyrFdm9hLsnPzzrrd4qVQhtva1NlzbGJScXGJZo+BZeW/fjHMjPTdTuzX0VRv7De06bobG6h0Ufbw8MAUDaHGwxQN1cHvk28vzUbtgiYlwiclzDkFUlBSUVH9++7PQluDuQP0xP7/cGUVnSEmSKWVVwEAcbfxU0xGWHKeYVcpAHDsrzutt1ZjDjAgEgtpkYYnYLgEwGLYVYq1MS8PmTTavNuHqPQP0em1UzR+Xp41I02JO6tkEslSQzY0OS+9oLTFjyvNoZUvv+r7PjKdyQQrLbnt9hZDjbsqS9X9mF5CDg1qLfYnGrPu9ta6pLikombDWLNhpip5xRV3/WJv+v6Ycfrtu82juRzlbqIiLSLI7+fn1/wUzc/PT1RE2MxIv5n9NGjfCdd9J/54XFFRXu7qqQNSEuIAEBweFRoZPX3iGPX/T6ppa6gd3bmR8f873SzO82ctmeNA5GcAUFVVLSYmWkQrJt7S6QwA+ODnHxweZWKgCwCLZ0+bPWUCPx+1sqq6vqra0Wbl5M1fscHrw2cmMK17WBzYsnbU4IFdlRt15OVzL58FKzfl5OUf3r7eQEerzjZxicnFpaU71rqMGTooJy//+r3HV24/GDd7ScCbR0KCrfgItk0vyy9+fq3XP0L/HkzRUB0ioyL7Wqs2puWGMd3r23SD9VZTXqygtPKMZ/i3uJyUvOL4LFpxRbW8uCAACFApq0aa7H38feCup1oK4r215QcZKvfXV+J+u42gKCnEx8uTWVjWYEsuAbBoyf9xV4jYqyI5t6R2b9KiAuwZpLggHwCUNno5WuPlFld4haVSyGTHAbpTemnqKUtwaUyl8ABA4f9vyBKIRXLiQnXvPHJyljUfhayjJAEAarKiFuqyIgLU06/DngclTexZ74QKiQTaihLR0dF/8Yk4REVF6WpptMHa/NlTxtv2+7W5CQ+Zp5tKFx1NNX6+X+lsXGIyABjo/pHQLJ49rXY/2hpqeQWFR12vfAkMTkpJi01IohWXKMj9enJCUIB/08olW/cftxw8TkdT3aaX5ZCB/ez69eHh4REU4KmvqvYoOXl5L999oFB4Fs+eNnPSOENd7cZ8xvik5JVb9z339FZX7Xr11MGB1lb1tbx0dC8flaqvowkAGt1UrMxNxUREDp+99PiF57QJLbO2oU76OppeF663Xv8I/XvwcQFUh/z8QplGzE410unXYUZr7h55FlJDZ/TVVTw529pS4/fzgC7DjP13T1g53ESAynP1fcy0k17WWx9l08ob7JZMIqnJiibmFFfTOWc7AMA/Nlvb5dauh4ENBkBg/LlBIIVMYv0vB4G6ZvhaY39BTQWxW06243uo3f7002bHY/MN97e4+/v9zKz9oAMAEFvQJeYUsxcSGVvtaU6CsYoUkZ+xDDJQBoCotALugUkJ8ebl5TXlo9QtLy9PRqplnkfhrruxwYSRQ4mvscPtTAx0WfkZAOTk5QOAknzDT/4ePnupW3ebPUfPVlfXDLS2unR0by8LM/YG65ctjP78eqPzIkEB/vPX746ZsdC4/4jM7FzuVRx0NNSfXHedMnbk1TuPug8ao2Vlu3rbvo9fvrE/l8Dh1oOn5rZjP/j57920Ktjbg0t+BgBmRvpEfsYyZGBfAIiI+dHgd6A5ZCQlc1vi1wah/w6cRUN1qKyq4qW0TPqeV1yx82GglAj/113jhfl/bXl69EUI8aKqhlFeVdNFSnjtaNO1o02zaeVHn4dc8o66+C5yw5iGN7o0UZWOSiu49yVu6p/L5AHghu+PgtJKU1Vp7gGw/MwsYn/7JTYLAFRkRJr+iVsMhUweZKg8yFC5qobxLiL16bfEG74/znlFSArz2xl1WTncmD08dTlREgmScv9I0YitPczqepwiLb80KDHHRFVGme1wCOJyadEGsnM+Crmiou71bU1SVVXF1wFObyT2+/APCmE/QuDG/ScMBmOG/VhWSU5e/sY9R2SkJCJ9X7NOJth74hyrQVV1dVl5hYqy0tbVy7auXpaZnbvvxLkzV26euXJj04ol9VXtWOvMEQ+FwjN0QN+hA/pWVVe/8f54z+PV5dv3j1+4Ki0pMWyQzUbnRRx7uT338pm9fF3P7iY3zhzuolTvTsWE1PTMgKBQcxND9pYJSSkAICPd8NrT5uDj462srGy4HULo/3AWDbWulPwSBpM53FSFlR6l5ZeGp/zaFcw3JkPT+eYj/3jirayowJLBhgBQWFr38ikO60ebiQlS9z/5Hv3nxM/7yPRHAfGa8mK2RsrcA2D5kVEYk1HIevspJpNEAtYGFu2LSiEPMe56xrFv1OEpVxYO6Kur8DQwISzljwkJeXFBK015vx+ZrIm0ajrjgX+8grigcdc6NvgoLKucc8772J+p6uOABADoqdHcneQ6F3NjQwF+fm/fr6ySqB9xjs7rP/gFsDdLTk1nMBhjhtqx8rPU9MyQiN83fL19v8jqWt59/Jx4Ky8rvXKRIwAUFNK4VHEJjMrLO8JuwNWTB9JCP7lfONG/T88Hz16xnntg2bz3qJiI8J0LxxvMzwAgv7Bw0vzl7JklANx7+hIA+vTA3f8R6lhwFg21Lg05MSE+3iffEgYaKGsqiPnHZu17EiTCz1taUR2bWWSpListwn/oWbCChJBhV8mE7GJifsvWqFG5kby44E57y2VuvkP3PZ/ZV9tQRYoEEBCXfe1DjACVcnK2NZXCwz0Ajd9L0Eizzrx1GWaspSj+Njz11qcfI8xUdZW4Lf9qbXnFFbc+/axdbthFSl1WjGMtHQA4DzOaesJrrqu3yzBjMSHqyVdhSTnFN51+na9w7UPM2lt+K0eYrBphAgB6SpLmarLXP8ZICPENN1NhMJj3v8b5RKaNMFNtzEOy/xI5Gall82bsP3l+ydptc6ZOiPoZd/TcFQoPz/wZk9mbaal3ExYSvPf0xZAB1toaap8Dvm89cEJUWKi0rOxHXIKWerdeFmay0lK7jp5RUpQ3MdCNS0gmMqGhg/pxqaodT05evtudh7XLTQz0tNRUFeT/uEdfUESLiPlpYqB77BznUeV9e1kOH2Rz8Ya704YdG10Wb3JZDACGuto9u5tcunlPSkJ8zFBbBpNx64GH5/tPY4fbcezcgRBqd5iiodYlzM97fFaf5W6+0097AYCEEN9Oe0tBPsrSKx/7bnucfm7mubn9ll75OPbwS6I9Hy/PhjHdbQ0beyzP5F6aMqICG+58PeMZTpSQSGCto3hsZh/iFl6DARBXTbJSr6imO1/9ROxYO6q76qk5fVv0O9Fk2bTynQ+/1Ver34UzfbTRUzrt2Nflmu/sc+8AQEyQusPekjURyASgM34vmSOR4NqSgS7XfI+/DD3+MpQonNVPZ4f9f3FPhG2rlzGZzMNnL1+4cRcAFGRlrp0+aGn6R8oiIix04cjueSs2jp21GAAkxcUObV8vJCAwx3mdyYCRZUnhIsJCV08dnLN8ne2EX79U/Hx8O9Y6DxvYDwC4VHHIysnduOdwfaFyHAnwOeA7k8kMCosMCovkaEkikYYPsmECk06ns37wJBLp/uVTC1Zt3n/y/P6T54nCBTOmHNi6prHfLIRQW8Fj1FEdSCTShfk2o827tVSHBaWVYcl5cmKCWgrixKROQWllYWllN1lRACivqolMLUjNL5EU5tdVkmjMPhocmExIzS/5kVEoKkDVVZJg3dNsZAAstPKq8JR8bQVxqZZ7WqKN1TAYIYl5DCazwX1oCal5JbFZRaICVC0F8drftzrNdfXmU7Nwd3dvZqj29vaM8uLbrkeb2U9LKS0rD4uKERUW1lBTodZzVHxeQWFweJSCrIyuljrxLGpeQWFhEY21YUdZeUVYVExKWrqUpIS+tqYs2wIvLlVtLzk1PSYuQVxMREdDnXXrtlXd93g5deEK/IuDUONhiobq0OIp2t9Zc5PbLkr2Vurmai1zUmRL6XQB/51/NUVDrQpTNISaCm90oo6rjw635c8cO+l3BJ0uYIQQQh0Wpmio4xr1/+3+O4tOFzBCCKEOCzfdQAghhBDqcDBFQwghhBDqcDBFQ53Sq+DkJ98SWqNx4zGauPC5tLKae4OSiuqC0rq3X2/wWtQcHq/f3vd42RqNG6/2qe0NKi4pzSsorF1eU0PnclpUYxoghDoCXIuGOqUjz0PySysb+cxpkxo3KC6Ldtk76mVIcnF5laW63EJbfWuuTwmEJuftehgYnJhTWFYlIyow1KTr1gkWInVtC9Jv+2NRAarv9rFNvRY1057j5/IKCieMHNrijRv0Mz7xrNutp6/f0mjFvSzMls2fNaBPz8ZcmFdQaDZwtJioSKjPM1bh7YceZ91uBYdH1dBr1FS6Lp49beHMKWQyufENEEIdB6ZoqFNyHKBbUVXTGo25q6imTz/tlVFQNr6HmoQQ37PvidNOet51trPSlK+zfXBS7oQjr3nIpHE91CUE+R5/i7/2ISYsOe/l+hFk0h+bli2/6ptZWCYqQP2La1EzLZ49rbzRp442qTF35RUVY2ctTs/Mmjx2hJSE+MPnb8bOXPTs5gXrnuYNXjt/5aaMrGwx0d/ntN64/8TReb2WejenudPLKyofPn/jvGlXIY22YfmiRjZACHUouC8aqkMH2RetA9ri7n/OK+L2Mlti1/4cWrnNjicCVMq3PRPqbO905eOjgPhX60cadJEkSsYfefUxOuPigv7sj3+6vY/edNdfiI8iIyrAmkVr5LVtD/dFaymrt+07fuHq0+uuQwb0BYCsnDxz29ECAgI//Dy5X+h67faqrfuEBAVkZaRZs2jdB42pqKz0e3FPVEQYADKysjV7DJKUEEsO+tjIBq0K90VDqKlwfht1XJGpBbPOvuu+/t6M02/v+sV+iEp3dPUmVmttuPNlmZsv0WzFtU/rbn/JLCxbePG92Tp3i433l1/1Lav8PW3G3riZ7nz+qacswTpVSUZUoL++UnJu8feEnDrbB8RlG3SRYuVYADCltyYAsLePSS/c4u6/Zby5rJhAU69FjRcWFTNxrpNmz0HjZi+5fu/x249+k+c7E2u5XDbvnuuygdVy4erNyzfuzMjKnr5klbrlAO1edvNWbCwtKydqORo3xzX3R4a62kR+BgByMlK2/fokJqf6B4VyuSoyJnbN9gN7Nq6Ul/t9mmpRcXFEzM8hA/oS6RcAKMjJ9u/TM7+gqLqmpjENEEIdDd7oRB2U38/Mycc9BaiUAQZKPCTSultfFCUEf2YW7ZhoKSHE9y0uJ///K+vDU/LzSipeBiV1lRYZY6H2PSHn9qeftPKqKwsHEA3YGzdHfklFYVkVkSexqMuJAkBwYm7t08er6Yz++koc5ekFpQAgIcRHvK2sps+/4NNTU37eAL3rH2OadC1qvI9fvo10mCcoIGDX35qHTF6+caeSgnxMbPyhbetAAr4EBrOvuw+JiM7NL3jy6m23rsqTRg/zDwq9evdhUXGx+4UTAJyN/1pufkFBEW3mpHHshZrqqgAQGBLOcUIoS0VlpcPilX16dF/qOP3SrXuscgoP5d3D691Ufh9uW1RcHBoZY9uvNy+F0pgGCKGOBv+fiToiBpO54fZXPgrZa+NIZSlhAFhsZ2C7+2l97VPySpyGGG4aa04iAYPJtNvt8TEqo8FR8ksqLvtE11c70kxVW1GcvSQ2kwa1DgnQkBMDgNziOhYn8fKQ9075Y+l3bnHFZe9oXh6yndGvv5Tb7gdkFpa5O9txrC5rzLWokRgMhsvm3XxU6peX97sqKwKAy8LZPYfUfW+akJSStnrJ3F3rV5BIJAaDYTVsovfHL9xHyc0vOHf1dn2144bZ6WlrsJf8iEsAAPaZMADQVu8GADm5efX1s27nwYys7Oe3L5L+/I0REhToZWFGvD5x4VpyWtoLr/cMBn2N0/xGNkAIdTSYoqGOKCw5PyI1f9kQIyI/AwBdJYnR5t3ufYmrsz0/L8+akabE3ywyiWSpIRuanJdeUKoowe186NziigNPg+qrVZcT40jREnJoACD+5yQWEWFRWVWDH+pNaIrzVd+8kopdk3roKkkQJZe8o9wWDWjwbKja16LGCw6PCo2MXrN0HpGfAYCBjtbE0UNv3q836Rfg59+8cimRBpHJ5F4WZkFhkWkZmUoKdT8XAgC5efk7Dp2sr1ZLTZUjRYtLTAYASXEx9sKuSooAUEgrrrOT514+Z67cvHfxpIIs55Qtuy37j5aVVwCAnraGAD//XzRACHUEmKKhjigxhwYAGvKi7IU6ivWmJtKiAny8PKy34oJ8AFBa2cAKG0158eTTM+qr5eXhXKlJpfAAQOGf90yJRW/iQlSoX2JO8Wb3r69DUrrJip6b26+vriIAZBWVLXPzdeijNcxUpanXoiaJT0oGAC31Px5/0dPSrKc5AICMtCQ/3+9cXEJMFABKSsu4XKKtoVYUV2/GT+Xl3CqFj0oFgPzCIvbC0vJy1nAcMrJz5rlsmDN1wuihg7iEAQCFsUGxCUmf/AM37zvae7h9XIC3vKx0kxoghDoCTNFQR1RYVgUAEkJ//Puezqj3WTABtvyMpcFnx0gk4K/rwvrIigoAQGLOHzMcRMYmJVzvVMT9L3Grb/qRSLB1vPm8gXpEngcAbj4x+SUVtPIq1qMMmYVlTCYsc/NVlxNdPtSIy7WoSQqKaAAgJSHOXsh979Y655a4/0aRSKQmzUjJyUoDQEJSKnthQUERAEhLSdZuf/7q7dz8giJaCethhfSMLCYT5rps0FRTXbN0HpPJZO1wptFNRaObCplMdnRe/+rd+1mTxzOZTO4NGh85QqhtYIqGOqKuUsIA4B+XNdj497qrsJR6F+j8nWxa+eFnwfXVTu2tZawixV6iLidKIkFS7h8pWkRqPgCYqdV94+lNaMqSKx/M1WRd59koS/5x11VKhN+gi2R8No1VUllNZzAhPCWPTGrgWtQkKspKAPA54Ptw2/6swuDwqJYdJTM7d8+xM/XVzpo83sxIn71ES02VRCIlJKewF4ZGRgNAnc8KSEtJGuvrxCYkskoqq6oZDEZIRBSZTD5w6sLmfUefXHcd+v/nQwFASlICAFLSMwGgwQYIoY4GUzTUEekoSVDI5PeR6Zv//7hbUk7xh6j0lh2lqKzqpu+P+mp7aclzpGjy4oJWmvJ+PzITc4pVZUQAoJrOeOAfryAuaNy17vtEux8FigpQLy/sX3u12dwBunMH6LKXDNr1tKKa/m7z6AavRU1ioKNJofB4ffi8e8NKoiQhKeXdx88tO0oRjXb51v36avtaWXCkaApystY9zT9++RaflKym0hUAqmtqbj96pigvx9GSsGSOw5I5DuwlPYaML6+oDHjzCACee/kAwNsPn9gzsEs37wGAsZ4OABjoanFvgBDqaDBFQx2Rgrjg/IF6ZzzDna58HGPRLT6bdtm7hec8AEBTXiz1zMwmXeI8zGjqCa+5rt4uw4zFhKgnX4Ul5RTfdBpEPKlw7UPM2lt+K0eYrBphAgCFZVXR6QWGXaTOvong6KeXtjz3BzObcy3ioCgv5+Q446jrFUfn9RNHDY1NSDrrdqvFR9HWUCtJ5LafWW1rnRaMnrFgygKX9csWiouLHjp9MSE59fHVs6ynNS/ecHfasGOjy+JNLou5dzV0QF8DHa3Tl2+KiYra2fRJz8i6/+zVc09vcxPDYYNsGtMAIdTRYIqGOqhN47uLClJdvSLu+sVKCPFN6KEuJkg99CxYRKA9T6i00VM67djX5Zrv7HPvAEBMkLrD3pK1ky0TgM74vWDJPzaLyYTQ5LzQ5Fq3aEnAPc1qzrWott0bVoqJiZy8cO36vcdSEuJTxo0UFxXZdfSMiEh73kG27dfb7cSBBas22c9bBgDioiIHt64dwjbLxQQmnU5vzI78ZDL5weVTM53W7Dx8aufhU0ThmGG2x3ZupFB4GtMAIdTR4AFQqA4d6gCowrIqcUEqAKy//eVNaErg3ontHRHUMBghiXkMJtOsmwwP+T93XGanPgCqoIhGPC/pvGnXcy+fn1+82nL0OtXU0ANDwxkMhqWpEQ9Ps7IlBoORmJIaHZsgwM+nrd5NUV6uqQ1aDx4AhVBT4Swa6ogqquljD780V5PdaW9J5GdllTXeEWnspyG1IwqZ3L2e5wNQB1ReUWE3cVaP7saHtq0n8rPSsvI3Pr7G+h1iDRaFwtPDzLhFuiKTyWoqXYmVbX/XACHUcWCKhjoifl4eCSG+i+8iaeVVdoZdCssqb3/+mVFYdnRm7/YODXU+Avz8kuJipy/fLKKVDB9kU1BEu3r3YXpmluuhXe0dGkII1QtTNNRBnZvb79iL0PdR6Xc+/xSk8hp1lbqxdJCVZr17uyPExbUzh/afcPX68Pma+yMhQQFTQ71HV89a9zRv77gQQqhemKKhDkpUgLplvDkA0MqrhPl5yaT/3JIv1ILERET2bFy1ZyMUFReLCAmxdnBFCKEOC1M01NGJCnA7WwmhJhETEWnvEBBCqFHwn5Lov8srLPVRQEJ7R8GppKK64M9jQBuvtLK6ZYNBjffy3Qf3Jy/aO4rfamro3A+5YjAY3HtosAFCqFVhiob+u069Dtt+P6C9o/hDQWllry0PRx6o+y99j00PVlz7VLs8NDnP/tgbLeeb3Zxu6K+6s+rG5+IKzNXa2uEzF9fuPNjeUQAA3H7o0XfUFEmt7iJqxgZ9h525cpM92foZn7hiyx6NHgPl9XuOmbHwne8XjssbbIAQahuYoiHUgSy/6ptZWFZn1Z3PPxPYDvRkCU7KHXf4VUhS7rge6iuHm4gK8F77EDPhyCsGbkD1n3Tj/pNZy9YWFNGc5k5fOHNqSWmZ86Zd+066ErXlFRVjZy12u/PAzqbPgplTfiYkjZ256OOXb6zLG2yAEGozuBYNoY7C7X30u/A0CSE+9sL0gtJDHsFBibnEee21XXoXVVFd82r9SGLTuLWjTccfefUxOuPZ96RR3VXbIGzUoRw9d0Wjm8qnZ3dFRYQBYPWSuZo9Bp1zu7Vh+SIA2LLv2I+4hKfXXYkzDJY6zjC3He3osv6HnydxeYMNEEJtBlM01NYqq+nHX4be+xqXUVCqJClsraOwbYKFMP+vY50+xWQ+DUx4H5leUU3voSHbS0vewVqbtYP/imufquiMlcONT7wK845IU5MVndpbc0JP9bOeEQ++xqUVlBp3ldozpaearCgAzDvvo68s2Vtb/vzbyI/RGTIi/PZWGksGG9T3cGhRWdXuR4F+PzPzSyot1GUd+mgNMlRuTMwtIia9cIu7/5bx5tc/xrDPf5VUVMdl0UQFqKaq0kGJubUvDIjLNugixb6p75Temh+jM74n5PwXUrSKysoDJ8/ffOiRlp7ZRUmhf5+e+zevERH+fazTez//Bx6vvD58Lq+o7G1p1tfKwnHqRGIT/4WrN1dVVW90WXzg1Pk3Pp80u6nMmjxu6vhRx8673X7okZqeaWakf3TnRo1uKkRXUxeuMNLT7tfL8uTF6z6fvshISzpMGLNy0Zw6nw8tpBVv3nv049eAvPyCnuamc6ZOZD+/vMGw/05RcXFEzM8lcxyI/AwAFORk+/fp6e37pbqmhpdCueb+yFBXm3XGlJyMlG2/PjfuP/EPCrU0NQKABhsghNoMpmiora255efuFzuxp4ZhV8nE7OLrH2MiUwterBsOAL4xGROPvhYVoI6zVJMU5n8flbb6pl9ibsnW8b/2rwpPyU8vKP0QlS4mQO2tLf/kW8KnHxkP/OPfR6YPMlRWlhL2CkuZcOTVt70TySTSh6j0kKTcU6/DemvLz+ir5RORvvPht/hs2tEZdex/m15QOvLAi7ySCvueGqICVO/INIdTXtsnWiwYpM895hZRWU2ff8Gnp6b8vAF61z/GsFdpKYg/WT0UABKyaT02PeC4sJrO6K+vZNbtj6MO0gtKAYBjNu5f5bR+x437T6aNH2VioBuflHLp5r3wqB8fnt4man0+fx062VFMRHjy2BFSkhJvP3xeum57QlLq3k2rACAkIjotI/PtRz9xMRGb3pb3nrx87+d/5/Fzrw+fhgzo11VZ8aXX+8GTZv/84kUkYd6+ft9DIw6fudSvt+VcB3vP95827jkcm5BYewvctIxMm7EOuXn5DhPGiIkKv/HxHTtz0YEta5fNm9GYsP8ahYfy7uH1biq/j3AtKi4OjYyx7debl0LJzS8oKKLNnDSO/RJNdVUACAwJtzQ1arBBM8NDCDUJpmioTVXV0O9/ibM17HJiVh+iRFVWZOOdr3FZNHU50Uf+8Txksv/uCWKCVABYNsTQfMP9NyHJrBQNALJp5evHmLkMMwaAcZZqU054forJ+Lh9rLqcKAA4Xfl41y82IbuYeJuYU7zD3nLhIH0AWDfabMKR17c+/ZjVT8dYRYojsF0PA1PySl6tH0GkO2tGmU458Wbnw2/2VhpCfBQuMXP0k19Scdknur6PP9JMVVtRvHb5tvsBmYVl7s52Td39jZeHvHdKT/aS3OKKy97RvDzk/8JR65VVVbcePB06sN/Fo3uIEjWVLiu27PkZn6ippgoAdx8/p/DwRPt5iouKAMDqJXO1e9o+8/QmUjQAyMzO3b52+fplCwFg0ujho6YveP/ZP8T7GXG5o/P66/cexyUmE28BID4p+eC2dcvnzQSAbauXDZk0x+3OwwUzppgZ6bMHtmHPkaSUNN9nd4m0Zssqp5HT5m/Yfchh4mhJcbEGw2bJzS84d7XevG3cMDs9bQ32EiFBgV4WZsTrExeuJaelvfB6z2DQ1zjNB4AfcQkAIC/3R0Kvrd4NAHJy8xrTACHUljBFQ22KzmACwKeYjLDkPMOuUgDg2F93Wm8tPl4eAFhoazB3gB6RnwFAFZ0hJkillVex98BDJi2xMyRe6ytLAoC1jiIrVeqtLX/XL/ZHRiFRIiZIXTDw199OMonkPMzINybDJzKNI0UrKK184B9nqirNmo6iUsgO1tofozOeByWNt1TjEjOH3OKKA0+D6vv46nJitVO0N6Epl7yj3BYNkBMTbODb15A3oSnOV33zSip2TeqhqyTRzN46PjqdAQAf/PyDw6NMDHQBYPHsabOnTODn+/Ur5Dx/1pI5DkR+BgBVVdViYqJFtGJWDzw8PCsXORKviSM7+/fuwcqT+vWyvH7vcdSPOFaJuKjIsrm/ZsLIZPLaZQt8Pn/1fP+JPUXLLyy68+iZuYkha9qJysvrOG2i96cvj194zpk6ocGwWXLz8nccOlnfx9dSU+VI0dht2X+0rLwCAPS0NQT4+QEgLjEZACTFxdibdVVSBIBCWnFjGiCE2hKmaKhNCVApq0aa7H38feCup1oK4r215QcZKvfXVyJWm2nKixWUVp7xDP8Wl5OSVxyfRSuuqJYX/yNxkRcXpFJ+Lf0hkiR5cQFWLQ+ZDABVNb+2g1KTFWWflyLSo8Qczj82cVlFTCaUVtbMO+/DKiwurwKAxOxi7jFz0JQXTz49o76Pz8vDuWgpq6hsmZuvQx+tYaYq9V3VGIk5xZvdv74OSekmK3pubr++uorN6a2zEBTg37Ryydb9xy0Hj9PRVLfpZTlkYD+7fn2IpWYAoK2hlldQeNT1ypfA4KSUtNiEJFpxiYKcLKsHBTkZKu+vNYV8fHwAoCD/u5aHzAMAVdW//5GgoaZKYvuVIjKk+KRk9qh+xCUwmcyS0rKpC1ewCotLSlgtGwybRVtDrSiu3oyfFXmdCmODYhOSPvkHbt53tPdw+7gAbz4qFQDyC4vYm5WWlwMAcbp8gw0QQm0JUzTU1lyGGY+1ULv7OdYrPOXq+5grPtHqcqJPVg+TFRU4/Tps39MgPgpPLy35vrqKLsOMz3iGJ+eWsF8uSOX8peVyNhTHvJQgHy/8P7Fjl19SCQBUCpk9hZIU5p/QQ11HUZx7zBxdkUjAX9fsWn3cfGLySypo5VXL3HyJkszCMiYTlrn5qsuJLh/aqNU/97/Erb7pRyLB1vHm8wbqUSlNCKCzW79s4aTRw667P3757sP563fPXb2tqab69sF1eVlpADh89tL2gyf5qFRrK4uB1lbrly086nolITmVdbmQIOfMJZnEbSsiedk/bgIKCQgAAD/fH8v+8goKAYCPysvL+/t3VVJCfMq4kXpaGo0Jm4VEIhETYI3EZDKZTCbr8QWNbioa3VTIZLKj8/pX794Ta9QSklLZLykoKAIAaSlJAJCTlebeACHUljBFQ22qqoZRXlXTRUp47WjTtaNNs2nlR5+HXPKOuvgucsFA/Z0PA6VE+L/uGs96WPLoi5DmDMexkVhKbgkAaMiJcTRTkREBADVZ0TOOv5+5ozOYJRXVAlQKl5g3jOnO0VU2rfzws+D64pnaW4vjHquUCL9BF8l4tjgrq+kMJoSn5NU1SVeHN6EpS658MFeTdZ1noyzZ3EcCO5eq6uqy8goVZaWtq5dtXb0sMzt334lzZ67cPHPlxo61zjl5+Rv3HJGRkoj0fc16WHLviXPNGTEuMYn9bVJqGgBoqXdjL1Tr2gUANLqpXj15gFVIp9OLS8sEBfgbDJu9q8zs3D3HztQXzKzJ4znWwB04dWHzvqNPrruyPz0qJSkBACnpmYP7W5NIpITkFPZLQiOjAYC4J6ulpsq9AUKoLWGKhtqUb0zG5ONvzszpO6GnOgDIigosGWx4yTuqsLQqJb+EwWQON1Vh5Wdp+aXhKfkytWaqGi8uixafTSP24ACA259/AgD7/hSEbjKiUiL83hFp1XQGayLt+MvQfU++e6wZVlpZU1/MtUcsKqu66fujvnh6aclzpGhzB+jOHaDLXjJo19OKavq7zaMb+Rl3PwoUFaBeXti/+UvZOh1v3y8jHea7ndg/dfwoAJCXlV65yPHMlZsFhTQASE5NZzAYY4basfKz1PTMkIhoWWnOh0Ua72d8YmxCEmsbjqt3HwKAsf4fP0H1bl1lpCQ93/sS+1wQhftPnd924IT3oxu9LbtzD5tdEY12+db9+oLpa2XBkaIZ6GoBwNsPn9hTtEs37wGAsZ6OgpysdU/zj1++xSclq6l0BYDqmprbj54pyssR/TTYACHUljBFQ23KUl1WWoT/0LNgBQkhw66SCdnFxDyZrZGyhpyYEB/vk28JAw2UNRXE/GOz9j0JEuHnLa2ojs0s0pDnnPpqDDqTMfP02/VjzNTlxJ4FJV54GznavFtPTTmOZlQKedPY7i7XPi2+9MFpiKEIP+/LkOQjz0P66SlaqsuVVlbXF3PtETXlxVLPzPyLUP9OYVlVdHqBYReps28iOKp6acv/8w919rIwk5WW2nX0jJKivImBblxCMjFJNnRQPwDQUu8mLCR47+mLIQOstTXUPgd833rghKiwUGlZ2Y+4BI6pr0ai0xnj5yzZscZZU0310UvPU5duTBg5tE+PPyZTqby8u9avWLBq08yla1YvmSsqIvz09du9x84N6tuLeNySe9jstDXUShJDGx/e0AF9DXS0Tl++KSYqamfTJz0j6/6zV889vc1NDIcNsgGAtU4LRs9YMGWBy/plC8XFRQ+dvpiQnPr46lnWArsGGyCE2gymaKhNCfPznpvbb+mVj2MPvyRK+Hh5NozpbmvYBQCOz+qz3M13+mkvAJAQ4ttpbynIR1l65WPfbY/Tz/1N3mOto6ggLjjnnDdxGlJvbfkD06zqbDmtj1Z5FX37g4An3xIAgEImT7PW2jDGjERqIOb25R+bxWRCaHJeaHKtPRFI8M+naCLCQldPHZyzfJ3thF+/Hvx8fDvWOg8b2I+ovXBk97wVG8fOWgwAkuJih7avFxIQmOO8zmTAyLKk8L8YcUCfnorycpPmLydOvexnZXly75bazWZPGV9WXr5+16H7Hi8BgELhmTNl4o51zkSiwz3s5iCTyQ8un5rptGbn4VM7D58iCscMsz22cyOFwgMAtv16u504sGDVJvt5ywBAXFTk4Na1Q9im3BpsgBBqMyQmHuSHaiGRSBfm24w2/5tphsYor6qJTC1IzS+RFObXVZKQFvm9ILqgtDIsOU9OTFBLQZz4d3tBaWVhaWU32SY/UKbtcstUVfrOcrvCsqqQxFx5CUFtBXHul5RUVIel5JVW1OgqSSj9ua6LS8z/NXNdvfnULNzd3ZvZj729PaO8+Lbr0Wb2U1ZeERYVk5KWLiUpoa+tyXEfM6+gMDg8SkFWRldLnciQ8goKC4to6qpdmzqQgoGVuYmhx43zBUW0wJBwJXk5XS11Lu2LS0qDw6NKysoMdbSUFeWbFHZzMBiMxJTU6NgEAX4+bfVuivKc08Y1NfTA0HAGg2FpalT7MdLGNPgL9z1eTl24Av/iINR4OIuG2oEAldJdTaa7mkztKgkhPo4NIySE+Jq5Ub64ILWfXqM2oRDm57XS5PxTSuASM2pfggL8PcyMe5gZ11krJSE+0NqKo0RKQrw5I0qIiQ7q26vBZiLCQtY9zeur5R52c5DJZDWVrsRisjpRKDzcx22wAUKoDXB7vBwhhBBCCLULTNHQP0tOXFDyP3w7ErU4eTkZYgMLhBBqA3ijE/2zPmwd094hoH9K0Nun7R0CQug/BGfREEIIIYQ6HJxFQx2IV1hqcUX1WIvWepK08a59iMkrqQAALXnx4WYqHG8b308Ng1FDZzbpSCiOy0lAqvMw0MYrqaiupjOIRy58ItOCEnMBgJ+Xssj2H9+M9OW7D8XFJfajh7V3IAAAF2+45+TnA4CuhvqYYbYcb9lblpSWCQvVuwsxg8Fgne/Usmpq6Dw85Cbtf+b5/tO3kDAAEODnd54/qzWiQui/DFM01IGceh2WmFPcEVK0C28jk/NK5MUFBxooDTdT4XgLAAwmc8DOJ3T6HzsIdJEWvuX068+tT2TazoeB0WkFNQyGsqTwYjuD2TY6XI4T5XD/a9xl7+iwlDw6nakqK+LYX5d1eYNDsysorey3/bGoANV3+1gACEzIcfeLy6GV8/KQ//kU7fCZi3GJKR0kRTt56VpSSpqCnOyQAX3HDLPleAsAQWGRm/Ye+RYcVlBEk5ORGjl44L5Nq0VFhInLf8YnnnW79fT1WxqtuJeF2bL5swb06cnqnMFgWNiNq6HXsI+oqqz05LprY2J7+e7D1v3Hon7EiYoI2/TusXDmVPYHUbl07h8UeuPe4+zcPF4KBVM0hFocpmgI1c1KU+7Ocrv63qYXlEWmFugqSbBvCCL+/9cfozMmHX8jJkCd0luTwkP2CExcf/tLXnHFmlGmjRna3S/Wye2jhpzY/IF6FVX0Z98T19/+UlRWtWK4cYNDc1h+1TezsExUgEq8XTncZOVwk6VXPnqGptTZHrUe654WHjfO1/k2MCR8yKQ5FArP5LEjJMXF3J++vHjDPTg8ytfjDplMLq+oGDtrcXpm1uSxI6QkxB8+fzN25qJnNy+wEqm0jKywqBgDHS1Jid+HcEg0bmORu4+fz1i6WqWL0spFjmmZWfc9Xr72/vj5uTvr9AUunW90XrTRedGc5eteePk04xuDEKobpmgI/Q3igPYzjn31lTlP/ASAw8+CmUx4s3GUqowIAGwa2914zd0znuErR5g05q7lGc9wNVnRVxtGivDzAoDTEEPzDfcue0cRKRr3odm5vY9+F57WzF3lUBs4c+VmeUXFp+fuxvo6ALB19bIhk2a/8/3y6MWb8SOGbNl37EdcwtPrrsQu/0sdZ5jbjnZ0Wf/Dz5O4PDYxCQDcTu430tNp0rhV1dVrdx4UEhTwf/1QXFQEAHZvWNGtu820RSsC3jxqZucIoWbCxwVQS1p/+8vIAy+yisrYC1de/zTx2OuqGgbx9lNM5tpbfj03PTBZ677ggs/V99F0Rh0bji+5/GHxpQ/sJSdehY488KKGwWCVFJVVrbnpZ73tkf6qO7POvvMKS22Fz1S3+GwaiQTqcnWfHJpWUKooIUTkZwAgzM9r2k2mhs6orKY32DOtvCo6rXCggbLI/4+TlxcX7KOtUFhWWU1nNDg0S0x64RZ3/y3jzWXF/v4c+nbnvGlX/7EOGdk57IWL1mwZNsWxqroaAN77+S/bsEOvz5Bu5v0dFq88f/0OnV73N3n28rUzndawlxw4daH/WIeaml/tC2nFTut3mAwY2cWkz8S5Ti/ffairm1bh9y3IWF+XyM8IMyeNA4CAoDAAuOb+yFBXm3UKk5yMlG2/PonJqf5Bv47vjE1IIpFImmqqTR036kdcembWkAH9iPwMAGSlpWz79Q6JiC4qLm5m5wihZsIUDbWkbrKiX2Oznn9PYpVkFpbd9P0pIcRHpZABwDcmY8LRV48DEvrrK03ro5VWULr6pt+uR4G1uwpNygtJymUvic+ifY3NYmVo6QWlA3Y+cf8Sa6UpP6WXZkpeicMpL1cvztPEW0lCNk1JUri0ovpNaMpN3x8BcdnsieZwE5X0glJWyhibWfQpJqO3toIgX8Pz1hQy+enqYU5DDFkltPKqyLQCGz0lXh5yg0MTKqvp8y/49NSUnzdArwU+bftRV+36yT/w8QtPVklGVvaV2w8kxMWovLw+n78OmTTH/ckLO5s+c6ZOSE3PXLpu+6a9dZ8o9T004nvoH78esQlJn/wDGUwGAKRlZFrYjb1x/7F1D4uZk8YlpaSNnbnoxIVrrfrpCNU1NXY2fRbPnsZemJKeCQAS4mK5+QUFRTSOAxI01VUBIDDk1zGjcQnJXZQUSkrLnnv5XLn9wO9bUH15Kof0rGwAsDA1ZC80NzUCgMiY2GZ2jhBqJrzRiVrSeEu1bfcCPL4nzumvS5Q8+ZbAYDKn9NIk3j7yj+chk/13TxATpALAsiGG5hvuvwlJ3jq+3nNy6rPrYWBKXsmr9SPMuskAwJpRplNOvNn58Ju9lQbHrb38korLPtH19TPSTFVbUbypoydk00rKq8zW3yuv+rWM2lhF6vScvloK4gAwd4Duh+j0aac8LdRl+Sg8n2Iy5cUFN4zp3pieBfkolhqyxGtXr4jU/FLP0BQ6g7l8qFFjhiZsux+QWVjm7mzXlOfzOqLJY0es3Xng4bPXi2ZNJUruPX3FYDCISaa7j59TeHii/TyJSaDVS+Zq97R95um9d9Oqpg60Yc+RpJQ032d3LU2NAGDLKqeR0+Zv2H3IYeJoSfE/Jixz8wvOXb1dXz/jhtnpaWs0aWheCuXYrk3sJdm5eWfdbvFSKMNtbX7EJQCAvNwfJ49pq3cDgJzcPOJtbGJScXGJZo+BZeUVRImZkb7bif06mtyOEAUAdZUuAODj+8VlwWxWYdSPWACIjIm1MjdtTucIoWbCFA21JCkR/oGGSl5hqbnFFcRB448CEhTEBVlHZC60NZg7QI/IzwCgis4QE6TSyquaOlBBaeUD/zhTVWkiPwMAKoXsYK39MTrjeVCSQx8t9sa5xRUHngbV15W6nNjfpGg5xSUVNRvGmg0zVckrrrjrF3vT98eM02/fbR4tyEcRFaQqSwmHp+QHJ+ZSeMgMJpOHTCqpqG7qKHsefyfyMG1FcdbOHdyHBoA3oSmXvKPcFg2QE6t374bOQkZKcnD/vq/efcjOzSMOGnd/8lxRXo44ItN5/qwlcxxYN+mqqqrFxESLaMVNHSW/sOjOo2fmJoZEfgYAVF5ex2kTvT99efzCc87UCeyNc/Pydxw6WV9XWmqqTU3RODz38lmwclNOXv7h7esNdLSu33sMABxpYlclRQAo/P8njUtMLi4t3bHWZczQQTl5+dfvPb5y+8G42UsC3jwSEuR2m1ujm0p3Y4N3vl8u37o/cdRQBpNx64HHg2evAYDOoDezc4RQM2GKhlrYJCuN1yEpz4OSZvbVTskr+Z6Qs3yoEWuzCU15sYLSyjOe4d/iclLyiuOzaMUV1fLiTc4k4rKKmEworayZd96HVVhcXgUAidmcf6E15cWTT8+oryvi7mFTnZxlzUch6yhJAICarKiFuqyIAPX067DnQUkTe6qPPPAiKq3gwDSrMRZq/Lw8b8NSV1z/NPWkp+/2sV2khBs/StKp6fHZtK8/s3Y/Chyy91nQfntZUQHuQ2cVlS1z83XoozXMtAn7t3VkMyaOee7p/eSV1zyHSUkpaf5BoWud5hN7g2lrqOUVFB51vfIlMDgpJS02IYlWXKIgJ9vUIX7EJTCZzJLSsqkLV7AKi0tKACA+KZmjsbaGWlFcvRk/lZe3qaOzxCclr9y677mnt7pq16unDhI3N/moVADILyxib1laXg4AEmKixNtLR/fyUan6OpoAoNFNxcrcVExE5PDZS49feE6bMIrLiGQy+cKR3WNmLlq4evOKLbsZDCaDwXCcOvHCjbt6WprN7Bwh1Ey4Fg21MDujLuKCVI/ARAB4HJAAAJP/f5cTAE6/DjNac/fIs5AaOqOvruLJ2dasm3oNKiitZL3OL6kEACqFzMvz+0tSmH9CD3WdWlNiJBLw8/LU9/V3G8Maq0gRSRLLIANlAIhKK/iRURiVVtBbW35WPx1xQSo/L89wM5XJvTTKq2qesa3Sqw+TCQzm77VlarKiU3prbh5vXk1nEIvbuAwNAG4+MfklFbTyqmVuvsRXZmFZZmHZMjff4y9D/+KTtrthtjYSYqIPn70GAPenLwFghv1Yourw2UvdutvsOXq2urpmoLXVpaN7e1mYNb7n/MJC4kVeQSEA8FF5eXkprC9JCfEp40bqaXFOiZFIJAF+/vq+eHj+cpviWw+emtuO/eDnv3fTqmBvD9biMzlZaQBISPrjUZiCgiIAkJb69UivmZE+kUKxDBnYFwAiYn40OK6BjlbQ26euh3bNnz5525pln1+462iqAQBrLrA5nSOEmgNn0VALo1J4Rluo3fz4o6C08lFAvIW6rLrcr3/r5xVX7HwYKCXC/3XXeOH/P6549EVI3R2RgPHnKvi4LBrrtYqMCACoyYqecezLKqQzmCUV1QJUzt/qbFr54WfB9QU8tbeWsYpUoz8fAEBafmlQYo6JqoyypBCrMCm3GACkRfkjUwsAoJeWPPsl/fSUznpGFJVVQkNOvArd/SjwlpPtIENlVqGkMB8xLvehAUBKhN+gi2R89u/vVWU1ncGE8JS85h1S0G74qNSJo4Zdvn0vr6DQ/clzK3NT4unCnLz8jXuOyEhJRPq+FhH+9d3Ye+Jcff2QSCQG44917j/iEokXal27AIBGN9WrJw+waul0enFpmaAAP0c/mdm5e46dqW+UWZPHmxk1eU/g514+s5ev69nd5MaZw12UFNirtNRUSSRSQvIf+9iFRkYDAHFbNjU9MyAo1NzEkP3ChKQUAJCRbuAXu6q6OjE5VUpSYvaU8azCA6cuKMjKELdWm9M5QqiZMEVDLW+ylcbV99EnXoWFp+QfmdGbVZ6SX8JgMoebqrDys7T80vCUfBnROla0dJUSeR+VVk1nEDciY9ILE9jSjm4yolIi/N4RvxsAwPGXofuefPdYM6yHhhx7V0VlVTd96/0Xfy8t+aamaIVllXPOec/oq33IoRerkJgy7KkhR+SITwMTV4/8vVHtk28JAKD75+xXnYg276PS2VO06x9/AIBBF0nuQwPA3AG6cwfosnc4aNfTimr6u82jm/QZO5Tp9mPOX79z6PTFkIjocwd3EoXJqekMBmPMUDtWfpaanhkSES1bT+qgqqzk9eFzdU0NL4UCAJExsXEJvyY11bt1lZGS9Hzvy6oFgP2nzm87cML70Y3eln8851FEo12+db++UPtaWfxFirZ571ExEeE7F44ryMpwVCnIyVr3NP/45Vt8UrKaSlcAqK6puf3omaK8HDFQfmHhpPnL5zrYn9m/nXXVvacvAaBPjwaeUCkrrzDoO2zSmOHXTx8iStIyMh89fzNr8q+MrTmdI4SaCVM01PK6q8moy4me8wwXoFJGm/8+zUlDTkyIj/fJt4SBBsqaCmL+sVn7ngSJ8POWVlTHZhZpyP+xINpMTdozLGXZlY8O1toJObSTr8JEBKj5Jb+eKaNSyJvGdne59mnxpQ9OQwxF+HlfhiQfeR7ST0/RUv2P/AwANOXFUs/MbMEPqKckaa4me/1jjIQQ33AzFQaDef9rnE9k2ggzVbNuMgwm00ZPyScybdLxNxN7qHeRFn4RlPTQP15bUXyoiQoAnPOK2H4/YOUIk1UjTGp3PshQWVdJ4uK7SFEB6gB9pYzC0qeBiW9CUkxVpW2NlHlIZC5Dt+Bn7FB6mBlrqqkeO+8mKMA/YeQQolBLvZuwkOC9py+GDLDW1lD7HPB964ETosJCpWVlP+ISWJvjs1iYGb94+97Reb3jtIlxCckHT18QExXJzS8AACov7671Kxas2jRz6ZrVS+aKigg/ff1277Fzg/r2qn3nVFtDrSSxJW8ZFxTRImJ+mhjoHjt3haOqby/L4YNs1jotGD1jwZQFLuuXLRQXFz10+mJCcurjq2eJ8zQNdbV7dje5dPOelIT4mKG2xJJ/z/efxg63szAxAoDjF66u23lwo8viTS6LOfoXFxXp37vnw2evB1pbjR5qG5eQtGjNFiVF+X2bVxMNGuwcIdR6MEVDrWJiT419T74PN1Nh7b8KAML8vMdn9Vnu5jv9tBcASAjx7bS3FOSjLL3yse+2x+nn/siiFtsafIvLeeAf/8A/XkFccGJPDQA48er3n8ZpfbTKq+jbHwQQE1QUMnmatdaGMWZtsM0EiQTXlgx0ueZ7/GUoa4HXrH46O+wtAYBMIrnO67fh9peHAfHeEWlErZWm/PFZfYjN4RhMJp3BZNaxXy8Ql19bPHDRpQ8HPYIOevxalj7cTGXP5J4UMhmA29D/sGkTRm07cGLMsOGsYytFhIUuHNk9b8XGsbMWA4CkuNih7euFBATmOK8zGTCyLCmcoweXBbO/BgbfefTszqNnivJyDhNGAcCBUxeI2tlTxpeVl6/fdei+x0sAoFB45kyZuGOdc5OOFf87nwO+M5nMoLDIoLBIjioSiTR8kI1tv95uJw4sWLXJft4yABAXFTm4dS1rJ1sSiXT/8qkFqzbvP3l+/8lfJ0otmDHlwNZf+/QyGAw6nV7fL9yFI7sdFq+cv3LT/JWbAMDUUO/66UOsickGO0cItR5SvX8o0H8YiUS6MN+GfQKsBRWUVoYl58mJCWopiBN//gpKKwtLK7vJitZunFdckVFYpq8sWd8fypKK6rCUvNKKGl0lCSW25VnNZL31kZKkEOtQTo63LKl5JbFZRaICVC0FcWF+zkf50gtKY9ILK6rpGvJiGnJi7B/h6IsQFWmRcZZq9QXAYDKTc0t+Zhby81I05MUUaj30yn1o7ogzOmOOTm3SVSxzXb351Czc3d3/7nIWe3t7Rnnxbde6d5ptpLyCwuDwKAVZGV0tdSKdyisoLCyiqat2rbN9Tl5+ema2kZ52nblXcUlpcHhUSVmZoY6WsqJ87QZ/zbj/iK5KiqxDOTneNkZNDT0wNJzBYFiaGtX5UEJyanpMXIK4mIiOhjorxyLsPXFOrWuXSWOG19kzk8kMj/6RkJRqaqjHsRKuMZ0TZ3RmRnzhHv99j5dTF67AvzgINR7OoqG2JiHE11dXkaOkvnMkpUT4pUQ412uzE+bntdJsyT+lTaIsJaxc/yYaihJCihJ1ZI0J2bRbn34+XjmUS89kEklVRoR1hFRTh/7vkJIQ59h5X0pCXKr+E8RlpCRl/v8gZG0iwkKss8k7GgqFp4eZMZcGXZUVuyor1i6PS0x2u/Pw7f16T0ogkUiGutqGutp/0TlCqPXgphsI1S08JX+uq/e5/58oxfG2ORJzim8sHdSCc36Nd/vTz7mu3p9/ZLb90CgkImrKApfjF67W+bb1xCUmP3Y727KTgoSrdx9OWeDy4UtAi/eMEAKcRUOoTjb6Smn5pQwmELdlON42U399pRbo5a8wARhMMFGRbuq9UdRMtv16p6RnMpi/FiFyvG1VdjZ9WqlnJpPJYDK6GxuICLXDvzcQ+udhioZQHXb+ufp+57+yGH9qb82pvTUbboda2qFt67m87aRmTR7P2p4DIdTi8EYnQgghhFCHg7NoqPO59iEmr6QCALTkxYeb/T6JsobBIAHp7w50YimpqK6mM+p7fOGv1TAYNXQm6yh0APCJTAtKzAUAfl7KIlv9OktQG7h4wz0nPx8AdDXUxwyzZa+qqaHz8JBbb9+NktIyYaF6D6hlMBjEUaSN5Pn+07eQMAAQ4Od3nj+L422zg0UItTVM0VDnc+FtZHJeiby44EADJSJFu/817rJ3dFhKHp3OVJUVceyvO9tGh3V2O4PJHLDzCZ3+x6KfLtLCt5xsOXouKK3st/2xqADVd/vYRgbTYOc+kWk7HwZGpxXUMBjKksKL7QyI2AITctz94nJo5bw8ZCIhq12C2sDJS9eSUtIU5GSHDOjLStFevvuwdf+xqB9xoiLCNr17LJw5lfWkJ4PBsLAbV0OvYe9EVVnpyXXXRo4YFBa5ae+Rb8FhBUU0ORmpkYMH7tu0mrXf28/4xLNut56+fkujFfeyMFs2f9aAPj0bM7R/UOiNe4+zc/N4KRTn+bM43v7ldwch1H7wRifqlKw05b7uGr9nck8AcPeLXXL5Q1FZ5fyBerNtdEorqtff/nLsxe9NbtMLyiJTC8hkErGFB/ElXtc82fKrvpmFZU2KhHvnH6MzJh1/k5JbPKW35mwb3Ypq+vrbXw55BAPAyuEmX3eNH2b6exawdglqG9Y9LaI+vT66cyPx9u7j52NmLCykFa9c5DhskM0LL5+xsxb9iEsgatMyssKiYnjIPMT+HcSXRP3bfHAIDAm3mzjre2jE5LEjNjovEhURuXjDfcjkOQwGAwDKKyrGzlrsdueBnU2fBTOn/ExIGjtz0ccv3xoz9EbnRVGfXo8eMqjOtwihTgdn0VCnd8YzXE1W9NWGkcRJBk5DDM033LvsHbVi+K9NpIjDPc849tVXrndDLABwex/9Ljytqbc4uXd++FkwkwlvNo4idjjbNLa78Zq7ZzzDV44waeYNWdRKqqqr1+48KCQo4P/6obioCADs3rCiW3ebaYtWBLx5BACxiUkA4HZyv5Gezl/0f+bKzfKKik/P3Y31dQBg6+plQybNfuf75dGLN+NHDNmy79iPuISn112JwwOWOs4wtx3t6LL+h59n84dGCHUuOIuGOjdaeVV0WuFAA2XWSVPy4oJ9tBUKyyqr6QyiJD6bRiKBupxY/d1ATHrhFnf/LePNZcXqONOdC+6dpxWUKkoIsXagFebnNe0mU0NnVFbTmzQKajNRP+LSM7OGDOhH5GcAICstZduvd0hEdFFxMQDEJiSRSCRNNdW/69/vW5Cxvi6RnxFmThoHAAFBYQBwzf2Roa4263AnORkp2359EpNT/YNCmz80QqhzwRQNdW4UMvnp6mFOQwxZJbTyqsi0Ahs9JV6eX7/eCdk0JUnh0orqN6EpN31/BMRl0xl/LB2rrKbPv+DTU1N+3gC9pgbAvfPhJirpBaVeYanE29jMok8xGb21FQT5cAK7g0rPygYAC1ND9kJzUyMAiIyJBYC4hOQuSgolpWXPvXyu3H7g9y2ITm9swl1dU2Nn02fx7GnshSnpmQAgIS6Wm19QUETjOCxBU10VAAJDwps5NEKo08G/E6hzE+SjWGrIEq9dvSJS80s9Q1PoDObyoUasNgnZtJLyKrP198qrfq2zNlaROj2nr5aCOPF22/2AzMIyd2e7v3h0j3vncwfofohOn3bK00Jdlo/C8ykmU15ccMOY7n/9eVFrU1fpAgA+vl9cFsxmFUb9iAWAyJhYK3PT2MSk4uISzR4Dy8oriFozI323E/t1NNUb7JyXQjm2axN7SXZu3lm3W7wUynBbG2K5m7ycDHsDbfVuAJCTmwcAzRkaIdTp4Cwa+nfsefzd1SsiPpsmKczHvr1FQk5xSUXN6pEmX3aNf752+Iy+2uEp+TNOvy2rrAGAN6Epl7yjjs7oLSdW7/YHXHDvXFSQqiwlzGRCcGJuYEIOg8nkIZNKKqpb6iOjFqfRTaW7scE73y+Xb90vLiktKi4+63brwbPXAEBn0AEgLjG5uLR004qlkb6v3j+5NdfBPiQietzsJaVl5U0d67mXj9nA0emZWfu3rDHQ0YpLTAYASfE/bpp3VVIEgEJaccsOjRDq+HAWDdWh9TaCalVJp6bHZ9O+/sza/ShwyN5nQfvtZUUFAODkLGs+CllHSQIA1GRFLdRlRQSop1+HPQ9K6qursMzN16GP1l8/R8ml84k91UceeBGVVnBgmtUYCzV+Xp63Yakrrn+aetLTd/vYLp32EHRmC/2GkEikNjj+qKnIZPKFI7vHzFy0cPXmFVt2MxhMBoPhOHXihRt39bQ0AeDS0b18VKq+jiYAaHRTsTI3FRMROXz20uMXntMmjGrkKPFJySu37nvu6a2u2vXqqYPEzU0+KhUA8guL2FuWlpcDgISYaEsN3V6YzM76HxaE2gumaKgOwkKCxCRQx8dkAhOYrC3Q1GRF1WRFyWSS05WPXmGpxGFHxipSHFcNMlA+/TosKq0gPouWX1JBK69a5uZLVGUWljGZsMzNV11OlP1uaX24dP4jozAqraC3tvysfr/Whg83U/GPyzrrGfHse1Ln3fmspIohKyLS/H6EhYXTczvige4GOlpBb5/e93gV9SNWXk5mUN9e7z/7A4CetgYAmBlx/uCGDOx7+OyliJgfjez/1oOnS9dvJ5FIezetWuo4ncjMAEBOVhoAEpJS2RsXFBQBgLSUZIsM3Y6KS0pFRDrrP0sQaheYoqE6yMvJpRWUtncUjXLiVejuR4G3nGwHGSqzCiWF+QAgLb+U+N+gxBwTVRllyd8nPSflFgOAtCg/lYfHoItkfDaNVVVZTWcwITwlrzF7YnDvPDK1AAB6acmzX9JPT+msZ0RRWeVffuAOILOwvJe8fMPtGiIvL//1s2/z+2lZVdXVicmpUpISs6f8Pn3ywKkLCrIykuJiqemZAUGh5iaGXZQUWLUJSSkAICPNmazX6bmXz+zl63p2N7lx5jB7JwCgpaZKIpESklPYC0MjowHA0tSo+UO3r7TMLHm5Fvi1Qei/A9eioToYGZuEpRS0dxSNoqskAQDvo9LZC69//AEABl0kAaCwrHLOOe9jL0LYGzwOSACAnhpycwfovts8mv1LS0FcVUbk3ebRx2b2aXB07p1rK4oDwNPARPbaJ98SWGF3RmWVNbEZ+YaGhg03bYiRkdGPuHjWyvcOoqy8wqDvMOdNu1glaRmZj56/GWE3AADyCwsnzV++98Q59kvuPX0JAH16NOopkM17j4qJCN+5cJwjPwMABTlZ657mH798i09KJkqqa2puP3qmKC9nZvQ/9s46rsnvi+NnLMix0SndiJRKGCCKCpjYhYod2P5UFLtbv/q1G1ERMREVREQRFRWkke5mAwYMxrbfH4/fOQYjHEj4vF/8wXOfG2dj3H2ee+85x1jwobuW6LhEk36tL0ujoKBwQFfRUJphmIPD5o0B9Q0sAq67i/gRJqqGKlKXQxIkRQkOxioF1OonXzNffc8x15B17KcKAEYq0v215G+9S5YSF3axUGex2H6f0kIT8sZYaFhoyrXa//ng+F1+kevHmG0YY9b0bsuds9hseyOV0IS8aadeTbHS7iMr8Twqy/9zur4y2cmsp6YQCEvKZ7LY9vb2gndlZ2fHZLJC3n1A1E83gSxJHDbI2v/Zy+FDbMY7OaZlZC3733YVZcWDXhsBwMRQ39rS7Mrt+zJS5AlOjiw2y+fB06C34RNdRg4w6wcApy7d2LznyNa1y7etXd60c0pFZXxyillfw5Pnr/HcGmo70GWE/SaPJePdlsxYsnbLqqVksuTRs5czsnMf3TiHwWBaHbo7U1dfHxr+6eChQ11tCApKTwKVaCjNMH78+NWrVwVGZ43vr9nVtrSCEAZzc/nwZVfCjjyNOvI0Cil0sVDfP90aJyQEABgM3FwxfO3N96cCY04F/swKNc/OYPfUgW3pn8VmM1l8D7W33LkQBnNhkZ3nnY/+kelv4vOQuza6iqfmDe7+2pcf9z+l21pbKSgoCN6VoqKijY31bf+n3UqiAcCl4/tmL1+/eP22xeu3AYC5idGts0eJEuIAgMFg/K6eWbLB69A/Fw/9cxGpv8RtxuEd/0N+Z7FYTCaT3yfmQ+Q3NpsdFZsQFZvAcwuDwbiMsHe0G3T99OElG7ZNXbQKAMiSxCM7NiGRbFsdujvz9OXrmtraceO6u08DCkq3ApVoKM2gqqrq4ux8LjhynKVm9/fBUpcjPtvknF1KSymkiuBxOookJXKj8BmyRJFbK0bkltFSiyokRQl6SmSJ/1IRNCV4W6NvkeWOfesYTHVZvqfjW+5cSlz43EI7r0n9k/OpdAZTR5Gko0Dq/m8pP9KLK19EZ1+9trujOly6dJm7u3tqRpaOZjdaVlRTVX772Ccu6UdGVq65iRHPjqS8rMzD6/9m5+Ynp2WQSUQDHW1EvSGsXTKfXlenpdan2Z5dRtjX5yW2PPrU8c6uLqO+xsSxWKyB5v2w2F/hY1oeutvCZrNPXLju4uKsqqraem0UFJT/QCUaSvPsP3DQzNTU92PqNBudrraldYQwGA05IifPUrOoykiotj/ORUZxpU94yqP1Ti1Xa7lzZSlxZake8FXaKl6+kXq6utOnT++oDmfMmHH0yJGNuw49vP5vR/XZISAbiyaG+vwqqKkqq6kqNy1Py8y+ftf/td9NQUbH4bBWFqbtHbrbcuv+o28x8V+vCfSeoKD8haASDaV5jI2NFy9ZsvfOLWdzdSL/NaeuIi6nfOGFN/215ZeO6NzQFZklVd4rR6hId7zAuhOe8jou91tmaQsl3Yrg2NygmOw3b97gcB02b2Cx2JOnTg0bNiwwJMzpv8SUf57v8Ykzlqy17m+2etFcAbtKy8x+dP2cqnIXuC7euOf/IuRdZHRMs5ddRWUVzevgySVLlpia8hWdKCgozYJKNBS+7N69+8F93+VX391YNkyoO23O2Rur5JVXs9jwB+KeDjNW6aSe2QAsNpipy3I2RpuWdB9yymirb36YMX1ahzgKcGNvbz9jxoxFaz3Dn91T79NZ73YLONoNyskvZLH5HzlsDyPtW3cE7iTYbDaLzbI07UsUF2962SWwWKy5HptYALt3d9jmOArK30N3jO6N0n348uWL3dAh84bo7Jw8oKttQekyaHTGmCMvCFJK78I/SEh0fPTRmpoae3u7Kiol7MkdsmQHBMVF6Sb8b9eh8zfvhoSE2NjYtF4bBQWlMT3VrQzlz9C/f//LV66eC4o/8jQKFfN/J5TquhlnXlPqhZ48C+gMfQYAYmJiDx74V9CqJ85dVkahdsYQKH8YNpu959iZU5duXL16FdVnKCi/ByrRUFphxowZFy5cOBkYt+zquzoGs6vNQfmjpBRWjD4UWETHBb0O6dOneS/FDqFPnz5BQcF5RaWDx05PTk3vvIFQ/gD0ujq3lRsP/nPxwoULM2bM6GpzUFB6KqhEQ2mdRYsWBb548Sap2Olw4KfUoq42B+VP0MBiXXmT6HwoUFFd91PkF2PjTs8oamxs/OnzZ3lFpSHjZvx77XZDA/o80CMJ//x1yLgZr96GBwYGLlq0qKvNQUHpwaASDaVNDB8+/POXr8p6puOOBC678o47qSVKL4PFZgfH5g7fG7DzwddlHqtDQt/Ky8v/maHl5eVDQt4sXbZ8054jA0a5BoaEsVisPzM0iuCkZmS5rdzo4DpHQVn18+fI4cOHd7VFKCg9G9RdAKV9PHnyZP3aNWkZmbb6yqP6qQzQkteUJ5LFhbuVyydKe6ljMMto9KR86vukgoDo3IwiyrixY44dP6Gj0zVR8VJTU9evX/fkyVMtDTVXZ0c7W6u+Broy0lIiwsJdYg9Ks7BYrHJqRWpG1qdv35+9ehMW8VlbS+vY8eNoFgEUlA4BlWgo7YbJZD5//tzn9u2XLwIpFehyWq9CT0dr3ATX+fPnGxkZdbUtEB8ff+3atadPnvxISelqW1BaQlpaauTIUbNmzXJycuJOh4CCgiIIqERD+X3YbHZmZmZ6ejqVSuW3IVVZWXno0KHCwsJDhw7Jysr+YQs7kAULFkydOnXUqFFdbUinICwsLCUlZWxsLC0t3dW2NEN5eXlCQgKFQqHT6V1ti6DMnTvXzc2tR28CXr16NTg4eMmSJcOGDSOTyZqampqamhh0HR0FpaNBJRpKJ5KWlubs7NzQ0PD8+XN9fb65dHoEKioqGzduXLNmTVcbgtKzERMTO3fu3Ny5gqYx6ELYbPauXbt27dq1adOmAwcOoOIMBaWTQLMLoHQWHz9+HDdunKam5tOnT//YefPOg0Ag1NXVdbUVKD2ehoaGDsyg1SVgMJidO3eqqaktXbq0oKDg0qVLBAKhq41CQemFoB6dKJ3Cw4cPHRwcBg0a9ObNm16gzwBAWFi4vr6+q61A6fH0AomG4O7uHhAQ8OjRIycnJyqV2tXmoKD0QlCJhtLxnDp1avLkyYsWLfLz8xMTE+tqczoGAoGASjQUAWEymWw2G4/vdjlYfw9HR8f379+npKQMGjQoKyurq81BQeltoBINpSNhMpmrVq1au3atl5fXqVOnepNvF7qKhiI4DAYDAHrHKhqCiYnJx48fhYWFra2tv3z50tXmoKD0KlCJhtJh0On0mTNnXrx40cfHZ+fOnV1tTgeDnkVDEZyGhgboXRINAJSVlcPCwiwsLOzt7Z8+fdrV5qCg9B5QiYbSMZSVlY0YMSI4ODgoKGj69OldbU7Hg66ioQgOItF6zUYnBwkJicePH8+ZM2fixIlnzpzpanNQUHoJvephDqWr4ATX+PDhQ08PrsEPdBUNRXB630YnBxwOd+7cOQMDg9WrV6ekpJw4cUJICF0CQEERCPRfCEVQPn78aGNjQyaTIyIieqs+A3QVDaUj6JUbndysXr363r17Fy9enDx5ck1NTVebg4LSs0ElGopA9L7gGvxAV9FQBKfXSzQAmDx58uvXr9+9e+fg4FBcXNzV5qCg9GBQiYby+/TK4Br8QFfRUAQH2ejsfWfReLC1tY2IiCgvL7exsUlKSupqc1BQeiqoREP5HXpxcA1+oKtoKILzN6yiIejo6ERERCgpKQ0aNCgsLKyrzUFB6ZGgEg2l3fTu4Br8QEPXogjO3yPRAEBGRiY4ONjR0XHkyJE+Pj5dbQ4KSs8DlWgo7aPXB9fgh7CwMLqKhiIgvTXoBj9ERETu3LmzefPm2bNn/z2PcygoHcVf8TCH0lH8DcE1+IGuoqEITi8OusEPJOe6srLyihUrcnJyzp8///coVBQUAUFX0VDayl8SXIMf6CoaiuD8VRud3CxevPjp06f37993cXGprKzsanNQUHoGqERDaRN/T3ANfqCraCiC87dtdHIzevTo169fx8TEDB48OCcnp6vNQUHpAaASDaV1/qrgGvxAJRqK4PyFG53cDBgw4OPHjw0NDdbW1lFRUV1tDgpKdweVaCgt8RcG1+AHutGJIjh/7UYnBw0NjfDwcD09vaFDhz5//ryrzUFB6dagEg2FL39ncA1+oKtoKIKDSjQAkJKSevny5cSJE8ePH3/+/PmuNgcFpfvyV88UKC1QVlY2fvz4xMTEoKCgIUOGdLU5XQ+6ioYiOH9JdoFWIRAIN27c0NLSWr58eWJiIppzHQWlWVCJhtIMf3NwDX6gq2gogoOuonFAgnFoaGgsXrw4Pz//5s2boqKiXW0UCkr3An1wQeHlLw+uwQ90FQ1FcFCJxsO8efMCAwODgoKGDx9eWlra1eagoHQvUImG0gg0uAY/CAQCm81GNqpQUH6PhoYGLBaLwWC62pBuxPDhw8PDw/Pz821sbFJSUrraHBSUbgQq0VB+gQbXaAECgQAA6F4niiAwGAz0IFpTjI2NIyIiSCSSjY3N+/fvu9ocFJTuAirRUADQ4BptQFhYGADQvU4UQWhoaEB3OZtFSUnp7du3NjY2jo6O9+7d62pzUFC6BehkgQJ0On3u3LmPHz/28fH5qzKjtwt0FQ1FcFCJ1gLi4uKPHj1avXr1jBkzEhMT0UA/KCjoZPG3gwbXaCPoKhqK4KAbnS2DxWLPnDmjq6u7bt26goKCs2fPoooW5W8G/fT/1aDBNdoOuoqGIjjoKlpbWL16dZ8+fWbPnp2dne3r60skErvaIhSUrgE9i/b3ggbXaBfIKhoq0VAEAZVobcTV1TUkJOTbt2/Dhw8vKirqanNQULoGVKL9paDBNdoLsoqGbnSiCAKDwUAlWhuxtraOiIiorKy0trZOTEzsanNQULoAVKL9jaDBNX4DdBUNRXAaGhrQs2htR0tL68OHD2pqasjDZFebg4Lyp0El2t8FGlzjt0FX0VAEB93obC/S0tKvXr0aPXr06NGjb9261WwdJGcDCkrvA50s/iLQ4BqCgK6ioQgOKtF+A2Fh4du3b+vp6c2dOzctLW3Hjh3c6RkCAwPv3r1748aNLrQQBaWTQCeLvwU0uIaAoKtoKIKDbnT+HkjO9T59+ixbtiwrK+vixYvI2/jt27dJkybR6fSlS5fa2Nh0tZkoKB0MKtH+CtDgGoKDBt1AERx0FU0QFixY0KdPnylTpuTk5Pj5+VVWVjo5OTEYDCEhoZUrV3758gVNforSy0DPovV+0OAaHQIOh8NisegqGoogoB6dAjJy5Mj379//+PHD1tZ2+PDhFAqloaGByWRGRUV5e3t3tXUoKB0MKtF6OWhwjQ6EQCCgq2gogoBudAqOiYlJaGhoYWFhZmYmg8HglG/YsKG6uroLDUNB6XBQidab4QTXePDgARpcQ3AIBAK6ioYiCOhGZ4ewa9euyspKbkdONptdXl5+5MiRLrQKBaXDQSVa74QnuIaQEPqH7gCEhYXRVTQUQUA3OgVn9+7dt27dYjKZPOUNDQ0HDhzIysrqEqtQUDoD9Ju7F0Kn02fOnHnx4kUfH5+dO3d2tTm9B3QVDUVA0FU0Abl169bOnTvZbHazd9ls9ubNm/+wSSgonQcq0XobZWVlI0aMCA4ODgoKQoOfdSzoKhqKgKBn0QSBzWYnJiaSSCQMBtNs2G0Gg3Hv3r2PHz/+edtQUDoDDL/HEZRuTl1dHRJMlRtOcI3nz5+jzpuCc+nSpZCQECaT2dDQUF5enpCQIC4uLiEhAQCVlZUYDObmzZtDhw7tajNRui8XLlz4559/OMEgqFQqBoPR0tICACkpKTweP23atEmTJnWpjT2M+vr6x48f//vvv2/fvsXhcNweAwCAw+H69euHBuBA6R2gEq1H8vr166NHjz59+pR70+Tjx4/jxo3T1NR8+vQp6rzZIdy+fXv27Nn87oqKipaXl4uIiPxJk1B6FklJSYaGhi1U+P79e79+/f6YPb2J1NTUy5cvX7p0iUKhCAkJcU6nIc9OLfznoqD0FFCJ1vNgMpn9+vVLSEhwd3e/cuUKUvjw4cNZs2aNGjXq9u3bqPNmR1FbWysvL0+j0ZrewuFwrq6u9+7d+/NWofQsDA0Nk5KSmpZjMBgjI6O4uLg/b1JvAllUO3fuXGhoKLKohsFg5OXl09PT0ZkQpaeDnkXreVy9ejUxMREArl+/vm/fPkCDa3QaoqKi06dPb/bwEJPJnDx58p83CaXHMWPGjGY/QlgsdsGCBX/enl4GgUCYMmVKSEhISkrKhg0bZGRk2Gx2UVHR4cOHu9o0FBRBQVfRehhVVVWamprl5eXIHw6DwYwfP/7JkydHjx5du3ZtV1vXC4mIiLC1tW1ajsfjy8rKiETinzcJpWeRnJxsYGDQtByLxebm5ioqKv55k3oxmZmZ+/fvf/z4cWlpqZiYWLNL4CidipCQEJlM1tLSsrCwGDVqlJOTk6ioaFcb1VNB3b97GPv376+oqOAIazab/fTp023btqH6rJOwsbHR0dFJTU3lLsRisaNGjUL1GUpb0NfX19PT+/HjB3chFot1dHRE9VkHEhMTs3379mfPnomJiTk4OGhpaYmKipqZmXW1XX8dLBarvLw8NTU1IiLiypUrkpKSixcv3rJlC4lE6mrTeiBslJ5DRkZG0x0TISEhMTGx79+/d7V1vZaDBw/yxLLCYrE3btzoartQegw7d+7k+c8VEhK6d+9eV9vVSygrK1u+fDkWix04cKCvr29dXV1XW4Tyk8LCwv3798vJycnLy1++fJnJZHa1RT0MdKOzJzFlypTHjx/zOJkDAA6Hk5aW/vr1q6qqapcY1rspLCxUUVFhsVicEiwWW1xcLC0t3YVWofQg4uPj+/bty10iLi5eUlKCbgAJTkRExMSJE4WEhA4cOODm5obG2uiGUCiUnTt3/vvvv8OGDfP19SWTyV1tUY8BdRfoMXz48OHBgwdN9RkANDQ0lJaWOjk5VVVV/XnDej2KioqOjo6chTQhISE7OztUn6G0HWNjY11dXc4lHo+fNWsWqs8E586dOw4ODgMHDkxKSpo7dy6qz7onUlJSp06d+vTpU2Jioo2NTVpaWldb1GNAJVrPgM1me3h4NBtQGwCwWKyQkJCBgUFeXt4fNuwvYeHChdxRl6ZOndq19qD0OLj9OhkMxty5c7vWnl7ApUuXZs2atXz58ocPH0pKSna1OSitYGFh8enTJwkJCVSltR10o7Nn4O3t7ebmxvPHwuFwDQ0Nampqy5cvnz9/PhqutvOor6+Xl5evqKgAAAwGk5eXp6Sk1NVGofQk4uLiTExMkN/V1NQyMzPRJR9BeP36tZOTk6enJ5qGuGdRXV1tb29Po9EiIiLQHc9WQSVaD6C2tlZbW7uoqIhzHAqHw7FYrFGjRq1bt2748OHoXP8HWLVq1YULFxgMhpWVVURERFebg9Lz0NXVTU1NxePxXl5eXl5eXW1ODyY1NXXgwIGjR4++fft2s7NfUlJSeHg4v+b29vba2trtHfTixYuqqqrOzs7tbciPBw8eiIqKdlSHMTExb968cXNzk5KS6pAOEVgslpBQB++25efnW1lZGRgYvHz5ssM77210qbMCSpvYvXs38jlGjkOpqqoeOHCgsLCwq+36u/j27RsAYDCYEydOdLUtKD2Sbdu2YTAYDAaTnp7e1bb0bEaNGmVmZlZbW8uvwvnz51v41vP29v6NQWVkZCZPniyA1bwYGRkNGzaso3o7e/YsACQkJHRIb8nJyatWrVJXVyeTyS4uLsHBwS1URhLeGDXG2dm5hSZfv37F4XCXL1/uEGt7MWhctO5Ofn7+gQMHWCwWFosdM2bMsmXLRowYgT55/HnMzc2NjIwSExMnTpzY1bag9EimTJmyd+9eW1tbTU3NrralB/P48eNXr16Fhoa2mh7X09PT0dGxabmRkVHnmNZLqK2tHTduXF5e3syZM2VkZB48eDB27NgXL14MHTq02fq5ubkxMTEmJibcTlQtO1RZWFisWLHC09Nz0qRJ6HZnS7RX0+Xk5Jw9e3aSq6u2pjpRHM011O0giotpa6pPcnU9e/ZsTk5OZ+j63+PnJ2fSJB1tbSJRoqvfp78RISEhaWmp/paWixcvfvDgQU1NTVd/KPjSeJ4R7+p3DoUXorh4l8wzDQ0NOjo6M2fObLkasop269atDhz671lFQwKhP3/+HLksLCxUUFDQ1NTkV//169cAEB0d3a5RysvL5eTkNm3aJJCtvZ12rKLFxMRs37btWUCAKAE3SJM4UUNMsZ8SUbh5H0OUDoHBZKeU1BoqiLX9sFlVHbOwsj428e2m589WeXiMcXHZvXdvv379OtPMVvgV9VtU1H6w9cxJY1SUFCUlep5Ko9Gq30Z8cnF06GpDfhMWm1VOoaZlZH38+uXKlSuSksTFi5d0t6jfMTEx272QeQY/WFdukqGkkrWshEgzOS57IgHf8xwMFUUJPX7apNEZBRW1MamfNwUGrFrlMcbFZfeePzHPBAQEpKWlBQYGdkhvixYtqq+v9/LyOnjw4MuXL3V1dd3d3WfPnn38+PHbt2/n5ORYWlqePn2aO2DKy5cvd+/eHR0draamNmPGDE9PT+641qGhoffv3w8KCqqtrR08eLCdnd2iRYsQT/xVq1ZVV1fv2rXrwIEDvr6+JSUlPMb4+fmdOnVq+PDhHAcIKpXq6ekZFhZWWlpqa2u7cOFC7oNrkZGRhw8f/vr1q5aW1oQJE37jRHJRUZGfn9/AgQMHDBjAXX79+vV+/fo5OTkhlwoKCqNGjbp58+anT5+srKya9pOSkoLBYPT09No1upSU1Nq1a48ePbpjxw40AA0/2iTRysvLvby2XTh/oZ8K8d/JOqMMpPFY9Hx6d4fBZL9MKj8fEWZhbr5k6ZI9e/b++VBe5eXlXl5eFy5csDDt633+5FinEYTm8kn3IGZMGd/TXwJCUUnpdR+/0xcvX7t2df/+A/Pnz+/y3fOfn5bz503VZc67DXTqp4zH9rYN/d73ohhMVmBM/rnQjxbm5kuWLt2zZ0+nzjN37twZNmyYjo5Oh/QWHR2dm5sbHBxMJpOHDRt279690NBQHx+foKAgZ2dndXX1gICAESNGZGRkIP8d79+/f/z48aRJk0aMGBEcHLxjx46EhIS7d+8ivb1588bR0ZFEIs2cOVNWVjYoKGjZsmXp6elIQveYmJjCwkIXF5eYmBgLCwseS+7duzd79mwHB4dNmzYhJbm5uUOGDCkpKXFzcyORSC9fvhw7duyxY8fWrFkDAKGhoS4uLiIiIq6urkJCQl5eXm3fLiwtLX3w4IGvr+/bt2+ZTOaDBw+4JVppaSmFQpk/fz53E0R+ffnypVmJlpqaqqamRqPRXr9+XVRUZGhoaGVlxS9EFDfu7u5eXl4vXrxAT4/wo3WPzoiIiInjx0J9zRYHlcmmcqjvYM+CzQa/7yUHQvKAIPbw8VMbG5s/NnRERMTEiROEAPZu3TB76kTU7bQbQqFW7Dl6+vy128OG2fv63u/CQyERERETx48DBn3rGMOpA9TRD0vPgs0G38isfc8SAS/y8PGTTppn2Gy2jIzM9u3bEZnSAhcuXFi6dKmlpWWfPn14bhkbG+/duxf5fcCAAV++fNm7d+/WrVsBIDAw0NnZWVRUNDo6GhEl8+bNu3HjRnJysp6enqysbFlZ2f379ydPngwATCZz9OjRwcHBERER1tbWALB48eKbN28WFhYi/0d0Ol1LS4tEIiUmJgKAvb3927dvR40adfLkSQMDA8QSBQWFkJCQ27dvz507d9SoUf7+/sLCwohts2fPvn379sePHxFVVF9f7+Tk9P79+4KCAmlpaTMzs+zs7G/fvmloaABASkqKmZlZTU1NQkKCoaFhs+8JhULx9/f39fUNCQlpaGgwNTUdP378+PHjefRieHj44MGDjxw5smHDBk6hn5/flClTtm/fvmvXrqY9T5w48e3bt3V1dTU1NUiJpaXlrVu3+FnCja2trYmJyYULF1qt+XfSyvPcnTt3HIbZ95PBvF1hMsUM1Wc9DwwGppjJvV1h0k8GHIbZ37lz58+Mi0T97m9mEhv+as40V1SfdU+kyKTje73CAx8kxsfb2Fh3VTxJZJ4xUxQO9xw+bSCqz3oeGAxMG6ge7jncTFG48+aZ9PR0CoXSdv2XnZ0d0wSeDzkWi924cSPyu6mpKQA4ODhw9uzs7e0BICEhAbk0NzdH9BnSEAlhjZzEAoB169ZFRkZynnPq6+vJZHJlZSX3cHv27EH0GYebN2+6ubk5OTk9fPiQo8/Ky8t9fHwGDBjAWbUiEAjItqy/v//Hjx+/f/++fPlyRJ8BgK6u7pw5c/i9D0VFRS4uLgoKCkuXLm1oaDh27FhmZmZ0dPSuXbuaruelpqZCk8P+6urqAEClUpvtPzU1taqqaseOHT9+/AgPD1+8eHF0dPT48eOrq6v5mcTB2to6Kiqq1Wp/LS1tdF66dGnJkiWLbJS2OaphhdBZswdDFMZemaa7Nyh71qxZNBpt0aJFnToc8slZvWT+ge2b2rLcjdK1mPczDg984Dp3iY2NdUTEx98IGSUIyKdlib3u9vEm6DzToyGK4K8tsN79OLaT5pmMjAwAaPsu5/Hjx2fPnt1yHWVlZQKBgPyOuIgqKytz7iLTV319PXLJsyzk4ODAsQoADAwMysrKjh07FhERkZmZmZKSUllZyd2bnJwcz6mv6Ojo+fPns1gsNpvNMQMAkpOT2Ww2jUabNm0apxBRe2lpacjpNzMzM+6ujI2N+b3G4uLi58+f43C4lStXzp8/v+Ujg4hMLC8v5y5ExBa/iGvXr18XFhZGstDq6ura2tqSSKQjR474+/u3IBwRdHV1b9682XKdvxm+q2ivX79esXz5WjuVHaPU0XmzF4AVwuwYpb7WTmXF8mWcx77O4PXr1ytWrNi23uPwLk9Un/UUlBTlgx/6qKkojRnjwu9ZuTNA5pn1ow13TeyHzjO9AKwQZtfEfutHG65YvrzD5xlEo3Ssd4t4E3/hFg5lcoKHIyBSieMucOTIEVVV1T179jAYjBEjRly/fn3QoEHc9TmLZBwoFMrMmTPd3NwCAgJ8fHw45WVlZUh9PBcyMjKzZs0yNjZG9BPP7NpCCBJDQ8OAgIBZs2Zdu3bN1NRUS0tr3bp1YWFhnKR23CgqKgJAeno6dyEyopycXLP9W1paIvqMA+LWEBcXx88kDmQyGcnagtIsza+ipaamTpnk6mIkvc6edyP/j/Eyqby+gT22r0wH1mwvLDb0sm+NdfZ90svrpkxy/fzla0cdueUmNTV1ypTJrmNHb9vg0eGd8+Ppi+C6uvrJ49sUpLtdldvOb8TgrqJV1zMYMlLk37jbGYiLifrfuDDIadKUKZNfvnz1B7wHkHlmrJnKhtFdFqfqRWx+XQNrvLlqB9ZsLyw2W6jNm7vVdQ3iwi3tfrRa4Q+wYbRRWgmtw+eZhoYG4JJEf56kpCTuy/fv3wOAlpYWAJSUlGzevFlOTi4lJYVIJCIV9u3b13KHlpaWN2/eLC8vDwgIWLNmzciRI2VlZTl96urqent7cyozmcyqqioxMbGAgAAAePv2Lfcp+8zMTH6j4HA4Z2dnZ2fn+vr6Fy9e+Pr6Xr58+cSJE7KysmPGjPHy8kKGQ9DT00OiK3P38P37dwBo1lcgJyfn8+fPAwYMUFNT4xQizduSkxCLxSJ/VpRmaf6zvnL5MhUJOD5eswsPhZx6m0epZbRFeLW9ZhtJL6Nf/1z4Mqm8ks4coEZcbKM0WKv157ZBp6JsNSWPjPu1SfQ+vcLreUazlfspS0wxk2vh7inXjtdPAIDBwPHxWuOuJq5cvuzFq6AO73/lyhVqKsqXTh78k4fP9p84W1ZOaaPqalflVklJyzh3zftJYHBlVZXtQMtVS+Y7DLFtS8MyCtXC3plEJMa8f9neu4bWw+1src4f3y+o9U1QUpR/cOP8IKdJ165dW7BgQYf3z8PK5ctUSPiTMyy6cJ458TKxvLq+LcKr7TXbSFpx1bV3aYGx+VW1jIFaskuG6Q7R4/uVFpND3fc0NjqbQq2plyOKjDZR3jHBhMgVi6TVCgjWe17Y6sgdn2HZUa+iWTAYODXD0vlUWCfNM11FQkJCQkICJ/LtmzdvMBgMEpwiKyuLxWK5urpy9FlOTk50dLSCgkILHUpKSmIwGBkZmSNHjri7u69evfr27dsAoKOjIycn9/LlSwaDgf/PhfzAgQNeXl7v3r3r378/Ho8PCQnh9NPQ0MC9CMcPAoEwbty4cePG0en058+f+/r63r9/f8yYMdwSTVlZeejQoWFhYWlpaciZBwaD4ePjo6KiYmnZzMemvLx88uTJixcv5j7yf+/ePQAYMmRIqyahtEwzEu3x48evgl/7zTcSxnWlc/h8K0U6g9V6vfbUbAt0BmueT1JhZf3EfrJSoriAhLK5Pkm35xhaq0u20Mo3qiSznG6r2agOBgO4Jg72dQ2stNJaTRnRlu92yGtpFmGc0D4ntQlXXj958mTcuHEd2PPjx49fvQoKfugj0mQ9v1NZ7j6nlk7vjMotU0unT3Rbkl9QON11nIw02f/Zy4mzFz+7e22IzYBW2y5es7mgsJj032ze9rs37z5Iy8iys23mcbZDMO9nvGz+bE/PLZ0d9RuZZx562Anju3I33H2oDr2+me0eQWq2BTqD6XbxQ0FFraulmrQ44dn3vNkXwu8uH2KjLdu0cnQ2ZcrZMKwQxtWyD1mc8Phb7q0P6bG5lMD1DsjyW6sVEO5+yswoodnqNL9d1bEI47EHJ/Ube7Lj55m2c+3aNWShi4exY8e6uLj8RocYDGbixIlbt241MjIKDAy8evXqpEmTTExMAEBfX19CQuLevXtOTk4GBgbh4eFeXl6SkpI0Gi05OVlfX7/lnufNm3ft2jUfH59Zs2Y5OzsTCIQDBw4sXLhw9uzZmzZtkpSUfPz48d69ex0dHQcNGoTBYFasWHHy5MkFCxasWLECg8Hs2rWrhe3CkpKSq1evNi03NzfX09PjPi2H4Onp6eLiMnXq1K1bt0pJSR06dCg9Pf3Zs2fIg/fFixeXL1++ffv27du3A0C/fv1sbGwuXbokIyPj6urKYrG8vb1fvXo1adKkgQMHtvcdRuGBV6Ixmcz1a9dM6CfXsiL5A0wxa+s80vaabeHg6+y00tpbsw0ddMkAsMBayfHc97UPUyPW8Hq+AEBBZf3x0JzovOqEwmZcVwZpkoKW8R7M3PY8o6qOeXCslrwEvoW7HfNi+NC/D3FCP7l1a1a7uLh01HExJpO5YcP6aa5j2yJQOpY501w7qXLLbN9/7Edq+hOfK6OH2wHAykXz+g8bs2DVxh+RoS03vHD99quQMGk+AqjZu3n5hXuOnv4SHRsTn9ghxrfAtg0edx8+PXjw4MGDBztpCCaTuWHdWtf+ajY6zSiSP8m0geodXrMt7H8Wl1pc5bN08HAjRQBYZK8z7GDwKu/IyB1OTStfDUutrWe+2ODQV4UMAJucjSefCXv3o/hZdN44c9VWK+RTa48GJkRnl8fn/dFDPwM0ZVz7q61fu6YD55l2ERISwr3UxEFZWfn3JJqbmxudTl+wYAGyNzdlypQbN24gt4hE4tWrV93d3RE9Ki0tfeLECXFx8blz5/bt25fBYLTcMwaDOX/+vJmZ2dKlS+Pj44lE4oIFC2pqav73v//5+voCAA6HW7hw4b59+xCddPDgwerq6kuXLiHaa/jw4adPn+Z3Nr+wsHDz5s38hkb8WLkZOXLkrVu3Fi5cOGnSJAAgk8nHjx/nRLJls9lMJpMTrguDwTx69GjhwoUHDhw4cOAAUrhs2bJjx461/JJR2gJvXLQnT55MmDDh/SozDelW0p8JTmJRzbE3OXEF1YYKYs5GMoqShFuRRYfGakmJ4QDA63kGrZ55YoIOAGx8kkbACq0aqrL7ZVZkdhVOCGOtIbnXWVOMIMRTU3CMDkYqSxKCl//61K5+mOoXXfJskYm5Km9A/JSS2s1P0wGA3sCKzqPNtJTn3uhsyptUqpt34t25RoM0m9k5bflux5JZTh98Ovrx48djx47tkA6RT05CRLC2Zkd+k3GITUjafeR0dGyCiZH+RJdRykoKl27eOXtkr4wUee3W3VW06sunDgHA0nWewsKEzauX/2/ngQ+fv+Jw2KG2Vif37xAX+7kwyV1ZQBT0LVWVlb6+ecYpcffY6O378H3gg4EWvLMeh4TkFJuRE/du23Dl1j0Wi8WzlcnvblJK2oqN2wCgtrbuS3SM+6ypnbHRyeHQqfMnzl/Jzc3rpKjfyKclYtsoTblOTzKRkF9x5HlCbC7VSIXkYqqiRBK9GZ5+ZJqFlDgBALb6RdPqGk7N6g8A6+58FcYJrR5psPNRzOf0MpwQxlZXbv9kMzECjqem4OhvfqJMFn2z+VcGSQ/vSN/PWYHrHSzUeUO/2ux5QRIjvFj/K63Fgy/Zy29+Xu6gt2NCv1YrpBRVbrz7DQBqGczobMosG83O3ujkkFFCs9n7sqPmGV9f32nTprUay7OzqaioiI6ONjIyanp8vqysLCoqSklJycjICNFSZWVlFArltw/kVVVVRUVF0Wg0ExOTpjHecnJyYmNjDQ0NOyPra0NDw5cvX1gsVhvj0GZlZSUnJ5PJZENDQyKf/YGmdJO/abeFdxXtjo/PIC2pP6DPPmZVzr6VKIoXGqYrJYSBrQEZSpKE1NLanaM1EL/erzk0Su3PJ4/4gpryGsaLpHI1svB4E5moXNq9qOIqesOl6fo8NQWkvKahorZhmnmjfzxtGVEA+J5PayrRdOVEH7gbA0BmOX3QqVaCu1BqGtY9ShvXV7ZZBdby3Q5HQ1rEVkvqjo9PR0m0O3fu2A+27iR99i4icuwMdzFRkZEOQ7FY7OotO1WUlZJT0o7u3gpS5I9fosrKKUjN7/GJpWWUx4FBmmp9pk0c8/lb9I07fhWVVb5XzyIVuCsLQmk5hUKtmDt9EnehrrYmAHyNjuUn0eh1dbOXrBls3X/lwrlXbt1r+10DXe3Xj+4AQFpGlqH1cMHtb5l5MyfvPHSi86J+3/HxGayv+Af0WURa6Yxz70TxOAcjBSwGs+V+lDJZNKWoavfEfohE+5JZVl79M6RCfB61jFYfGJOvJiM+0bLPt8zyOx8zK2sZVxfY8NQUkPLqOmpN/XQrDe5CbXkJAIjOpvBINAaTNcxQ0Vy9UbyDPEoNAJDFCW2poKsg+Wi1PQBklNCs97zokJfQRjTlJAbpKXTgPNMdIJFIdnZ2zd6SkZEZMWIET4mMzO+fkyYSifySlwNAnz59muq2jgKHwyEheduIuro6Ej4NpQNpJNHYbPbLF4GrbTo9TRCLDV7PMwk4ocAl/VTJwgCw1LZm9IWYFprkUOtWDFbZMkINgwEWG5wvxLzLaH3Rvrym4cbnQn53nY2k9eUbZYJPK60FAAUJAnehtqwIAJRWC6oCPQPSK+kNno5qv3G3M3DUlTwV+JzNZgt+tJ/NZr98+WLruhUdYhgPLBZr7dbdwsKEj0GP1FRVAGDtsgXWjhP41c/Kyd3osWTv1g0YDIbFYtmMmvjm3YdWRyktp5y/5s3vruuY0Ub6utwlP1LTAUBRodH5bn1tLQAoKS3j18/mXQcLCosC7l1r9j1v+e6fREFOdoCFaSdJNGSeWTe845/7eWCx2Vv9ooRx2KCNw1WlxQBgmYOe45GWIkHklFd7jNDfOtYEgwEWmz3q6Ot3P4pbHai8uu7aO75Rf8eYquorNTo3klpEAwAFUqMnYW15IgCUVtXxNMdjhfZPNuMuKa2qu/YuDY8VGmms1JYKXctII4UTHTTPoKD8bTSSaOnp6ZSKyv59Ol0IxxVUJxRWrxyigugzADBQEBvfV9bvO29mWQ4ieKH1w1SR/3EhDAxQI8YWVBdU1itJEvg1AYCyasbRNzn87mrJiPBItMxyOgCQRRu9LSokYQCopAt0Uji5uOZpfJnHEBWkt3bd7SQs+0hQXmRmZmYKvkienp5OoVCt+zdzXE9womMTYuIT/7dqKaLPAKCvof6UCS637z9qtr6oiIjXxlXI94GQkJDtQMuomPi8/EIVZcUWRiktK999+BS/u3ramjwSLS0jCwCkyY2WPNX6KAMAtXE8cQ4BQSH/Xrl1/9q/SgrNOO61fPfPY2Vh+uHrt87o+ec8o9nxUXJ4iM2lxudVrHI0QPQZABgqkyZY9LkfmcWviQgeu9HJ6L95BjNQUzYmh5pPrVUmt7ThW0arO/w8gd9dbXkij0TLKKUBAFms0dzVR1ocACprW1moC4orWHPnSxmtbo+rmaFyMyvurVb4w/TXlKFUfO+QeQYF5W+jkRZBoiT/gV3OrHI6/LeByEFPvqVJUFYcz+1hShLFAUB1aw5WOrKiadv4+r41TQZPwGIAgFrbKExLLYMFACQRgY67/huej8cKLbHl9Z1py91OQlNaFAAyMjIEnzqRT04n7XKmZ2YDgJ52IyN5BBM3crIy3C6lUiQSANBaS0Wir6NVkcU30GLT1OnCwgQAKKc2WsqtrqnljMhDQVHxolWb3GdNHe88sr13uwQdLQ1vv8ed0TPyadGU7fRdzszSavhvA5EDj1riQZYozO1hShIjAEB1XStxm3TkJbOO8V1ubJo3HZnKqDWN1FhNXQNnxGbJLKV5+X9/FVegKSdxzs1qqD6vlG+1QpegJScBHTTPoKD8bTSSaEjsZqJgWqQtVNAbAABxC+DAbDFuhkhzEUBaPWKIwYAIvh2hQ+SJBADIojQKykCpbQAAGXHeL+m2k1dR9yim1NlImmd9ri13Ow/kD90hoeR/Rv1u8xHRdkGpqAAAGelGR22YLL4fF1HRZp4xWj2MisFgRPmH526KgrwcAGRkNVqjpVCoACAr08xRgYvXfUrLKRVVVQtXb0JK8guL2Gz2wtWbdLU06XR6C3c3rV7adsM6CjJJsqKi+eVAAfk5z4j+/j9UG6moqQcAafFGK9MsVkufBdHmI4C08vHBYECkPaFD5IkiAJBV2uixgVJTDwAyEs2vo/tFZv/P9xsGYPt4k0V2uoQm82GrFboK5A/9J1NWoKD0Ghppgp+xmzs/oD6yvxmZXeWo/+t7N66g9ZSr7aWYxjj5Npff3enm8v2UG2X/0JIRwWAgm9LoOAgSUKOpr0Db8f5S1MBiz7BoPoZhy3c7D+QP3SGRnf+L+t0p4l69jyoAfPj81WXkL4e16Nj4jh2lsLhk//Ez/O7OmzHFwrRRhhM9LU0MBpORlc1dGBOfBADN+grIykib9jVMTc/klNTV1bNYrO9xCUJCQqbGhi3c/c2XJBhYoc6K+v3H5hlk6/BzeunIvr+OZMXmUjt8oOJK+vGXfIOhzLDWMO3T6AFDS14Cg4GsMhp3IRIRo6k7JwAExRWs9P7cX0PmwjwrFSmx36jQhXTgPNO1PH78uK6uDkmd3rGV287vZDGpqqqvr2/qstDQ0IDFYvkdEGxoaGAwGJ3k0I3Sdromk4aBvBhOCBOWRuWcjs+i0N+ld3zMnkp6g8/XIn53bdQleSSaApFgrS75Masyq5yuLi0CAA1M9sOYUkVJQj+l35doYWkVZFEcvxQFLd9F6Wugh8Nhg9++37dtI1KSkZUTEta6B0C7qKiovOrty+/uUBsrHommpCg/xGbAu4jI9MxsLQ01AGAwGu74P1FWUuCpibBioduKhW7cJVaO42tr6ZGvn3IqtHAX5TcwUJbECWHeJhdtAxOkJKusOiyZ74Tw21TUMrw/NJ8pBABsdOR4JJoiSdRGWy4itTSzlKYhKwEADCbL/2u2EkmUpybCvmdxkiL4KwtsFCSbX+httQKK4Ozdu7esrKyNqqtdlVvlx48fZ8+effz4cUVFxaBBg9auXTt8eJvcusvKyvr160cikRISfp2VfP78+bZt2xISEiQlJR0cHJYvX87tNPrq1avNmzfHxcU1NDSoq6uvX79++fLlXfWgiNI1Ek1RkrDAWunCh/w1D1PH9ZXNKKu9zt/vUhB0ZEUzt7fDbRgAPIaquHknLfH9scpOlSyCPfs+P5tCvzHLEHnY8P5S5BmQsdZOda19W/PAVNQ2xOTTHPWlm101aPkuCgAoKyl4LJp34tyVBav+N2W8S2p65jn+rpe/jb6uNi23fVFhN61ePn7WghmLPLasWU4mk47+cyEjK+eR9yXkwfTyrbsem3ZsXb9y2/o/l64UhRslkugie91zIT9WeUeOt+iTXkJrwe9SEHQViLkn2hcSefVIg1nn3y+69nHNSEOyGOGf4KSs0mrvJYOQeebWh/RNvlHrRxuuH21EralPKqgwUSWfC/nB08kgHTnHvkqtVhDglaH8YuXKlbW1tZ1RuWVqa2vHjRuXl5c3c+ZMGRmZBw8ejB079sWLFy0E4+CwYMGC/Px87sTzd+7cmTVrloaGxsaNG/Py8nx9fQMDAz9//ozkP3j9+vXo0aPJZPL8+fPxeLyfn5+Hh0dJScmuXbs65LWgtJcuy0fr6ahGEsFe+lhwP7pESgzn2k9OUgR7IjSXKNyV2WAAwE6bfNpVZ8OTtEV3kwFAUgS3Y7QGkmkAgclqX5S98MxKFhss+zS/CNfyXRSEfdv+RyJJ/nPh2q17/jJS5BmTx5MlJfce+4co0ZXvm6P94Otnjy1Zu2Wq+woAIJMkj+z2RDINQJMY3ChdwrZxJiRR/IXQlHufs6TECZP7q0mKEo69SJBokrzyD2NvoHDWbeBan6/uVyIAgCSK3z2xH5JpAADYbGCyfn52ItPL2GyIyaHG5FB5OsEAOPZVarVCJ7+Uv4W5c+d2UuWW2bp1a3Jy8vPnz5H4/qtXrzY1NZ03bx5PpvOmnDt37sWLF9LSv7bO6+vrN27cKC4u/u3bNyS928GDB1VVVadPnx4VFQUAe/bsYbPZkZGRSHbOAwcOqKqqHjt2bPv27V2SHwKlUXYBJM5v3i6bP2lBRW0D4p657XlGcDLl49pOCdzQXhpY7Jh8GosN5ioS2N67wKWyI+LevXuCr8Yjn5z6otQOsaoFKNQKKTIJANZ47gp49SblS2hnj9gqDQ3Mr99jWSzWQAvT3jSL+T1+PnPxqs6QmMinpej05A7vuQWoNfVIkAtPv+hXcQVfdjaTZ+nP08Bif8+msNhsC3XpXjzPKKzy68B5plMfe2JiYnbu3BkVFdWvXz9XV1cVFZULFy6cP39eRkZm1apVVVVV165dA4BFixYJCwt7enpu2LAhPDwch8PZ2dn9888/4uI/T85wVxYQaWnpPn36fP/+nVMyd+7cmzdvfvz40cqKb7yC+Pj4AQMGHDhw4NKlSywWC9nojI6ONjc3nzp1KpLmHGHMmDEBAQFUKpVEImlra9fX1+fk/PKCcnR0DAsLKy8v57y0jgXNLtAyXbPBTGewxl6K2/kiE/4Ln1FTzwpNpRordsqH4DfACWEsVIn9+xB78bzZU6il04c4T97gtQ8AEH1WXVP76s07076GXW0aAAAOh7WyNLMZYNGb9FnvgM5gOh8P8fL/Dv8FIaupb3iTWNhXtbuc+8QJYSw1pAdoyqDzTHcgLCzMxsbm3bt3gwcPlpKSWrlypYeHh5+fX01NDQBERES8ffsWqRkdHR0QEDBw4MCcnJzp06f36dPn2rVrbm6/jpNyVxaE0tJSCoXCk7FAT08PAL58+cKvFZ1OnzFjxpAhQ1atWsVdnp+fDwA82c2Ry/j4eACYOHFibm7u8+fPkVvJyclv3rwZNmxYJ+kzlFbpmo1OEbwQWRR39VNhJZ05Ql+qorbhXlRxYWX90fEtJbhE+TsRFRGRliKfvXKzoqrKxXEYpaLyxh2//IKiC8cPdLVpKN0aETxWSoxwJSy1is5wNFaqqKm/8ymzoKL2+MyOybOJ0ptgsVirVq0SFhb+8uULksho/fr1/fvz/ahkZmZu2rTpwIEDSBaTAQMGvH7dUuIKhNLS0n///Zff3UmTJhkbG3OXJCcnA4CSUqPdauTcWHEx37wXGzduzM/Pf/nyJY/DJrJ9GRISsn79ek4hssAWHx9va2vr4eHx+vXrMWPG2NraioiIvHnzRllZed++fa2+LpROosvOov07Wff0u9ywtArf6GIxPNZESfzGLANr9ZaiSqL8tdw8d+LQqXPBb9/fvPtAXEzUvJ/xQ++LQ2wGdLVdKN2dc3OtTgUlvU0quvspU4yA66dK9l48yEZbtqvtQul2REVFff/+ffPmzZxEkyYmJtOmTbt161az9UVFRXfu3MnJYjJo0KBv377l5uaqqrbkSVZSUrJjxw5+d/X09HgkWmpqKgBwnycDAMRCfqHmnj17dubMGX9/fx5hBwC6urr9+/d//fr15cuXp02bxmKxvL2979+/DwBMJhMAyGSyurp6dHR0ZGQkHo9nsVg4HK6qqqqFV4TSqXSZRCOKYLc6qm91hCo6U1wYXeZHaQmSJHG/1//2e/2vorKKKCGOeoCjtBFJUbzXOBOvcSaVtQwJEZwQmiYShQ9paWnw3wIVBx7BxI28vLwIV7BrKSkpAKDRaPzqIxgYGCDbps1CIPDmlhAWFgaA8vJy7sLq6mrOiDwUFBTMnz9/4cKFzWbXFRISunr16tixYxctWrR69WoWi8VisRYtWnThwgXklQ4ZMiQ2Nvbff/+dPn26iIhIYGDgokWLXFxc4uPjNTQ0Wn5pKJ1Bl0k0Dn8gmQFKr4Ek2SkJDFB6PZKdn8wApUdDoVAAgCfEK7K21CzNhnVt9dg7BoNpVzxYRUVFAOBx3kQUm5ycXNP6586dKy0traiomD9/PlKSl5fHZrPnz5+vp6e3ZcsWExOT2NhYX1/fhIQEJSUlR0fH0NBQADA2Nk5MTIyNjbW3t1+2bBnS1tXVNTw8/Pjx4/7+/uvWrWu72SgdRddLtM4jJIVSRWeON+kumxoNLDYGoIUFw5YrsNlQSf/p/YrS2QQGh1bRaFMnjOlqQ9oEm82mVlRKkbvLKfi/iuCEQhqdMcGiT1cb0jE0sNgNTFa78ln1DpBVovDw8LFjx3IKkVAUHUhhYeGePXv43XV3d7e0tOQu0dPTw2AwPBIN8e5s1p1TTk7OzMwsJSWFU1JXV8disaKjo4WEhOrr6zMyMmRlZRcsWMCpcPDgQSUlJWlp6aCgIACws7Pj7tDR0fH48eOIfkX58/Tm7/t/3+dnltO7g0Tzjym9/rkwrqCayWKrS4vMH6g4d6AitxJruUJFbcPeoCz/mFI6gyUhjB2mS97voiUt1pv/dl3OsbMX0zKzu1aihbz7sNZzd7O3LEz7XjtzFAAo1Iotuw/defCklk4nSoiPGm53+uAuWelmdkBQOomzwcmZpbRuJdGs97yw1ZE7PqPRlz2LzR5+KLihcYpSNWmx20sHI7+HJhXtfRKbVFDZwGKpSokvc9CdP0T779ka7tu3Lw6HCwoKOnjwIFKSnp4eHBzcsaNQqdTLly/zu2tnZ8cj0ZSVlYcOHRoWFpaWloYc9mcwGD4+PioqKjw1ETw8PDw8GsXKtrS0rK2tRbQmlUo1MDCYMWOGj48Pcjc3N/fBgwfu7u4AYGRkBAB+fn47d+7kNPf19QUAExOT33zBKIKBnunpdPyiS1b5p1TUNiy0Vpo7ULG6nrntecY/YbltrMBgsmd7J935VjzRRPboeO0JJrJP48rm+yR10atB+XNgMBh8E5gsVuKP1MoqGgDUMxjjZi645nN/uuvYCycOTJs41u/x80luS7racJSu5O6nzIySZk5EFVBrE/IrsEIYWQlhzg9Z/Ofhp3c/iqefe5dTXjPdSmP+YG06g+npF300sH35Nno0Kioqq1ev/vbt27x58wIDA0+fPo2Eiu1YDAwM6vjTbOg4T09PBoMxdepUf3//N2/ejB07Nj09/dKln1lMLl68iMPhdu9u/lmOBzKZ7ODg4Ofnd/XqVQqFEhkZOXbsWFVV1SNHjgCAsbHxyJEj4+PjR48e7e3t/f79+/Xr19+5c8fY2HjChAkd+jagtBV0JabTOf8hX1Na5NliEyRxworBylYnvl3/XLjaTrUtFXyji7/lVm0fpb7EVhkAZljIA4D3l6Lv+TRTZTQnQW9m2GCbLyG8OTrXeO6qqqKdPbIHAG7d8//0NfrQzi1rly0AgPkzp2AwmEs373yNjrU0Q596/y7yqbVHAxOis8uRdOxNQXTb2TkDjVWa2RA//iKRzYaXGxyQnKFbx5mYeQWcC/mxfrTh3+PMdfDgQTKZfPLkyRs3bsjIyMyaNYtMJu/evVtSsitDDYwcOfLWrVsLFy6cNGkSAJDJ5OPHj3PkY3uzmFy9enXGjBkLFixA9jotLCx8fHyIRCIACAkJ3blzx8PD486dOy9fvkTqDx069OrVq039GFD+DJ0i0eoaWP+8y/P/XppfWadCEh6sRfIaqS7xX2aniMzKp/FlYWlUOoM1UF3SRl1ypqU8MgtsfJJWz2SvtVM98y4vNJWqKSM63VxukqncxQ8F/jEl+ZX1/ZTE9zhrasr89KNZev+HkYK4rabk5Y8F4ekVsuL4yWZyywapNDulVNIbDgRnf8qqKq9h9O9DnGkp76D7az+oZZt/myo6M7m4xt1KiZPYSoFIGKxJep9R0cBk47CYViv4fy+VFce7W/1yn141VGWAGlFGrBcef6bX1R0+df6236O8/MI+qsrDBtsc2rmFKPErauLbD58ePHke/Da8lk4fNLD/UNuBC2ZPQ2LGLl3nWc9gbF238vDp869C3+lqasybOWXm5PEnz1+98+Bxbl6BhWnfE/u262hpIF3NXLyqn7Ghna3VP5euh76LkJOVmT114voVi5p1F6VWVHrtP/Yu4nNZOcV6gIX7rKlOI+zbbnZH8TIk7Py124H3byjKywGAj98jeVkZ7vzrm9cssx1oKScrzb+P3kMdg3kqKNkvMiufWqsqLTZYV37nxH4Swj/ntA8pJU+ic98mFdEZzIFasrY6crNtNZF5Zt2drwwma90ow9PByaGJhZpyEjOtNScPUDv/5seDL9l5lFrTPlL7Jptpyf18BFp87aOxCtlWV+5SaMq7HyWyROGpA9VXDNdrdhOwopax/2lcRFpJOa1+gKbMLFvNEf+ldWrVZkGormOkF1dJiuDN1KSis5s5OZReQsNgQFu++ee6PEqNMlkU0WcAICGMM1eXikgtrWtgihH+lid5HA63bdu2bdu2USgUxF/Sw8NDQ0MDyXEZGRnJqcn9O8KuXbu4E1k2rSAI06dPnzx58pcvX1gslpWVFXeU7CVLlixZ0tLC+devX7kv1dXVw8PDY2Nj09PTLSws1NTUuO9KS0vfvn370KFD8fHxtbW1BgYG+vr6mL9ms7sb0in/e1ueZfh9L5lkKttXUTGLUnf7a1FiUc2ThX0B4ENGxfSbiURh7MR+stJi+LA06uZn6VkU+raR6gAQX1BTUFn3Lq2CJIIdpEl6HFcakVnxKLY0LK3CQZesShYO/kGZdiPh41oLRIS9T6+Iya/+NzxvkAZpdn+Ft6kV+4OyM8roTUPgFlTWT7wSV1bDmGwqJymCC02lzr2dtH2UxiIbpVZtFgSsEMbfva+6lDCnpIrOTCiqsdMm47CYtlRIL6cP0yXjsZgsCj25uFaRSDBSFJts2owvTy/AY9MOb9+Hs6ZMMOtrlJ6VfeXWvbjE5LCA+8jd0PCPTlPmkojE6ZPGykhLvX4bvvJ/2zOycg5s3wQA3+MT8/ILX4eFkyUl7QdZ338U8PbDp7v+T4Lfvh893F5NVSUw6M2oyW4pX0IREfYm7MO373HHzly0G2S9cM70oLfvt+49kpqeeeEEb0TcvPxC+3HTS8vKZk91JUkSX70Jmzhn8eFdW1Ytnt8WszuKMgp18ZrNU8a7DBv8M0VbanrWqOF2BDw+IysnPumHsqJCP2PDWVMmdOy43ZZN96N8P2dNGaDeV5WcVUq79SEjsaAiYO0wAAhPKZlyNowogp/UX01anPA2ueh/vt+yyqq3jzcBgPg8aj61Niy5WFIUP0hX/tG3nA+pJf5fs98mFQ03VlKVEg+KL5h8JuzLTidEhIX9KP6eQz3zOnmQrtycQZpvk4r2PolNL6GdmMF7GCifWjvuZGgZrW7qQHVJUfybxMI5F8J3Tey32F63VZsFRFdB8tFqewDIKKFZ73nRtEJGCU1FSqy6ruFdcnFJFV1XUZI765Szqcq5kB/BCYWIoEwtrgpPKRmqL//36LPa2loHBwdra+sTJ04g+qy6uvrly5dmZmZdbRoAAA6Hs7a27pCuMBhMv379+vXrx6+Cqqpqy9HdUP4YHf/vV9/AehBTMlyXfGKCDlKiLiW8PTAzvYyuJSPyKLYMK4SJWGMuKYIDgBWDla1PRgUlUxCJBgDFNMam4WqrhqoAwHgT2TneiR8yK9+sNNOSEQGANQ9T70eXZJbTtf5bSMsqp+8c/VNpbXSAaTcS7kYVuw1Q7KfcaA1jf1BWDrXu2SITc1UJANgwrM+sW4n7grKmmMmRRXEt28zdT3lNw43Phfxeu7ORtL68GHeJGEFogNrPOBGXIgryKuqCf1BYbLbHUJW2VKiuZxZX1ctJ4OfeTgr+8fPJWEdW9MREbQvV3hZ+oq6+3sfvkdMI+8unDiElWupq67btSUnL0NXWBIB7/k9xWGzS5xAySRIANnos0R8w7NmrEESiAUBhccmuLeu2rFkOANMmjh03c8Hb8E/fw14gzRes+t+te/5pGVnIJQCkZ2Yf2b119ZL5ALBz89rRk92u3/FbMm+WhWkjae6590hWTu77wAcDLUwBYPv/Vo+d7u65+/DsqROlyeRWzeZQWk45f82b38t3HTPaSF+3hfdn1aYd1IrK/V4bkUtadU1BUbGCnOzE2YsDgkKQQn1d7cunDllZmrX2Zvd46htYfpHZI4yVTs36Gf9dXVZi24PotOIqbXmi/9dsrBDm8w4nkigeADxG6A/YFfgqLh+RaABQXEnfMsZ4zUhDAJho2Wfm+ffhKSVhniO15YkAsMo78t7nrIwSGnIJAJmltN0TTZcM0wWAzS7Gk8+E3fmYMW+wlmmfRp4Ze5/E5pRXB653sFCXBoD/ORtNP/d+9+PYqQPVyWKElm3m7qe8uu7auzR+r32Mqaq+Uru33jJKaTR6g+XO57X1PwNJmPaROus2QFdBEgAWDtV5l1w8+8L7AZoywjhseEqJIklkyxhBn1F7EKKiotLS0v/8809FRcWYMWMoFMq1a9fy8vJaON2PgtLZdLxEY7IBACIyK+MKqvsqiQPAfCulGRYKwjgMACy2VXK3UkT0GQDUM9kkEWwl/VfsGawQZtkgZeR3Y0UxABikSeLoJFsN0v3okh8lNZwSSRHcQuufK2FCGFg1VOVDRsXbNCq3RKPWNjyMLTVTkUD0GQDgsZhZlvLhGRXPE8pnWsq3bDM3ZdWMo29ygA9aMiI8Eo2bQ6+zaxksANCXFxPBNbOb1rRCZjkdAC5/LNSUFtnrrNlfjRiZXbUvKGu+T/LrFaay4r1qrxMJQRT24VN0bIKZiREALF8wZ/6sqSLCP49BrFnqvmKhG6LPAKC+nkGSJFZwRb7GYrHrVyxCfjc1NgSAYUNsODrJztbq1j3/xB+pnBIySXLV4nnI70JCQpvWLAsN/xgU+p5bopVTqXf9n/Q364foMwAg4PEL5kx78z7iUcAr91lTWzWbQ2lZ+e7Dp/i9fD1tzRYkWkJyit+T55tXL+uj8vO/Iy0jCwD+uXhdW1P95P4dNgMsPnz+6rnn8CS3Jd/ePpeXleHXVe+AyWIDwIeUkthcqokqGQAWDNWeZaMhjMMCwNJheguH6pD+i4VWz2RJihKq6AxOc6wQZsXwn0FKkbNZQ/TkOTrJVlfu3uesH4W/lBNJFM9ZCRPCYNaMNAxPKQlNKuKWaNSaev+v2WZqUog+AwA8VmiOreb7H8UB3/Nm2Wi2bDM3ZbS6w88T+L12bXni70i0EhqNztgypq+zqUoZre7epyyfjxluFz+83jRCjICTFMWrSovF5VGjsih4rBCLzcYKCVXTG9o7So/Gx8dn//79QUFB169fFxcXt7CwePr06dChQ7vaLpS/l46XaKJ4ofX2fQ69zh51PkZXTtRWkzRcl2ynQ0ZW1HVkRSk1DRc+5H/NoeVQ6Rll9Ko6pgLx15eZAhGPx/4URsI4IQBQ5LqLHBNiNPw6GqklI8K9Ua4vJwoAWeV0bpPSSmvZbKiuZy69/4NTSKMzASCLQm/VZm50ZEXTtjUTjQaBY3mzpG6zyiijf86uPBic7XIpNnKdpbwEvuUK1NoGAKhvYF2cpqcjKwoAJkriJbT602F5j2NLF1jz5vfo0YiJim7bsGrHgeMDR4wz0NW2H2w9erj9yGFDOQcv9HW1yyjUE+eufPwSlZWTm5qeWVlFU1KU5/SgpCBPwP98S4VFCEgJ5y7ST339r+9pHU0N7mMWiEJKz8zitupHagabzaZVV89c/CshcVUVDQDSM7PbYjYHfR2tiqw4fi+fY3mzHD1zkYDHr17mzikpp1IBoK6+/t6VM/q62gBg3s+4uKT0wMl/fR8+W7lobgu99QJECdgNToYHnsWPOBysqyA5WE9uuJHiMENF5H9WV4FIqa4/F/LjS2ZZTllNegmtis5QJP0KGapAEsVjfz4mITHAFEi/1suRTuqZLE6JppxEo3lGSRIAMkuruU1KLapis6G6jrn42kdOYRW9gVOzZZu50ZGXzDrWTHR4BI7l7eL07AHCOKyBkiQAaMlJDNCUkRTFn32dHPA9b8oA9XGnQhPzKw5NNZ9g0UcEj32dULjuzteZF96/8xzZR/pvSaFNIpEOHTp06NChiooKIpGIZjFB6XI65SO4aqjKh9Xma+xURfFCtyIL3W4nDTsTXUxjAMC58HzLY19PvM1lMFlDtMgnJupwtvkQxJqETGz5qCKPyhElYOE/bceBUtsAAASsEF4Iw/mREsO59pPVkxNt1WYeY0TwQvx+mk61bDZwxyHSlBGZZi7v6ajewGSH/KC0WgGRpxaqRESfIYzUlwaAlNLalt6XnsmWNcuTPoVsXbdSTEz04o07E2YvMh06urC4BLl77OwlTdNB+4+fYTAYw4cOunL6sO3ARoeBxMV5lzBbnmQVFRod6RMXEwMAERFh7sIyCgUAhIUJeBye8yMtJTVj0njOolfLZnPAYDCiIiL8fppKOg45efl3/Z+Mc3KUJpM5hSqKCgBgZWmG6DMEl1HDASAphe8eWW9izUjDT9tHrxttKEbA3nifPvtC+ND9r4or6QBw9nWy6faA4y8TGUz2UH3507P7D9RqtKwoTuB9t1sOAKZAahQRXoyABQCetXBKdT0ACOOEcNhfP1LihEn91fQVJVu1mRsMBkTwWH4/v+diadpHyqDx2hty7CypoDKlqDIxv8JWV27eYG2yGEEEj3UxVZlupVFbzwz4nvcbY/V0SCQSqs9QugMdv4rGYLJrGUxVsvBGhz4bHfoU0xinw3KvfSq89qlgobXS/qAsGXH8+1XmHGfJ01wRwn6DzMYLZrnUOgDQlm00n6pJiQCApozIP5N+bSQxWezqeqYoHtuyzZuGN3J4KaYxTr7la/B0c3meM3Bn3ucdDM6+NduA23sUiTqbX1nfagUVkjAANLBY3H3SG1gAINkRXmDdinoGo6amVr2Pyo5Na3ZsWlNYXHLw5L//Xrn17+Wbuz3Xl5SVb917RE5GOuHja46z5IGT/woyIrJXyCErJxcA9LS1uAu11NUAQEdL48a/xziFTCazilYtJibaqtncXRUWl+w/foafMfNmTOE5A8fh8s27DQ3M+bOmcBf2UVUGAEZDo62oWjod/o40WQwmq6ae2UdafJOz8SZn4+JK+slXSVfCUi+HpS6x1937JE5GQvjj9tEcZ8mTLwUKJcgTaSynvAYAtBUavc/qsuIAoCUv8a/bQE4hk8Wm1TUgkq4Fmz0bn/oqrqQff8k3JtkMaw2eM3Ctkk+p+ZZFMVeXUpH69RiTWVYNALISwgl5FQBgq9PoicXOQP78mx/UGt7HVBRBeP78eWVl5fTp07vakHZQVVVVX1/PkxqLA41Gk5BAwz91Fh3/oPA+o8LwQOSj2FLkUl4Cj5wto9Y25FbUsdjgZCjN0Wf5FfXxhXxzyraF9DJ6RtkvlXYvqhj+O8TGQVNaREYc/zaV2sD8tWB15l2e4YHIqDxayzbzDFdJb/D5WsTvh2eDFQAMFcQAICytUaSi21+LAcBIUazVCiJ4oUGapJj8au7X+CKxHAD6q/W2r+E37yLk9SzuPXyGXCrKyyEHyygVlQCQnZPHYrEmuIzi6LPc/ILvcQKF1kxJz0hNz+Rc3rjzAABM+xpy19HWVJeTkQ56847B+PVhOHT6vLyeReS3762azU1FReVVb19+P8i2abMEhb6XJpMdhthyF4qKiAwbbPPtexz3S3jyPAgAbAZYtOdt6JG8+1Gst+nxw68/D4bKS4qsGK4HABU1jJzyGhab7WKqwtFn+ZSauDyqIMOlF1elc6m0Ox8zAaCvCpm7jqachIyE8JvEIgbXDunpoCS9TY+/ZZW3bDPPcBW1DO8PGfx+eDZY2wKlhrHgasSJxjr18bccALDWltVTlASAp9GNHj6fROUCgKEymlWsIzl8+PDGjRu72opG6OrqLlq0iN/dsrIyAwODIUOG8JR/+/Zt1KhR0tLSRCJRUVFxyZIllZW8Mx6K4HT8SsyAPkRZcfyJt7nKJOG+iuIZ5XRknWyEnpS2jKg4AfskrsxBV0pHVjQyu+pwSLaEMLamnplWWsuz9NVGmGy2+52k/w1X05IRCUwsv/KxYGxfGSv1Ruv5eCxmywi1DY/TVvqnrBisQhTGvkwqPxmWN1SbNKAPsWWbeYbTkRXN3N4Oz2cHXSkDBbGrnwolRXD2OqSCyvpn8WVByeVmKhJI561W8HRUG3Mpdonvj80j1JRJhPD0iltfigaqEUfq97YkP7YDLeVlZfYe+0dFWdGsr1FaRhaySIZEINPT0ZIQF7v/KGD0cDt9Ha0Pn7/uOHRCkihRXV3zIzVdT0erld6bg8lkTZq7dPeWdbramg8DXp65fGPyeOfB1gO46xDw+L3bNi5Zu2XuinUbVy6RJEo8eRF84PjZEXaDkW3Wls3mRl9Xm5bbbk1JoVZ8i4lzGenQdOdln9fGQaMnzVjkscdzQx8VpTfvIi7dvDPIqv+YUcPbO0qPY6CWrCxR+NiLBGWyaF9VckYpDVknG2GsqKNAFBfGPfqWM9xIUUeB+Dm99FBAPFEEX13XkFpcpSP/O882TDZ77qUPW8YYa8sRA77nXX6bOt5c1Vq7UXI5PFZo29i+a+98XXHz88oRBkQR3IvY/OMvE+0MFAZqyrZsM89wugrE3BOuv/nWNIeRMqm/pox3RLq0OMHZVIXNZvtFZocmFY0xUzFXl2ax2fYGCqFJRdPPvZvcX72PjNjz7/n+X3P0lSSd+yl3oBko3Y3r16+npqba29vzq7BgwYL8/HwkMhyHL1++jBgxAofDzZw5U1pa+t69excvXoyKivr48SO6QdyxdLxEkxDGnpmsu9o/dfK1eKREGCe0abjacD0pADg+QXvdo7R5PkkAQBbF7RqtIUoQWvMw1eHs96wdvxP0ZbAmSVGSsPheMnKiy0ZD8oBLM9/WMyzkaxmsva+ynsaVAQBOCDPDUn7zcDXk/EnLNguCEAauztD3eJB67E3Osf9cQZ0Npfc4a+KEMG2pYKYicXOW4bpHqXO8f367j9SXOjFRR0DDuiFECfEb5467e2x0nDgLKRERFt7tud7ZcRhy99LJQ4vWbJo4ZzEASJPJR/dsFRcTdffYaGbnVJOX/BsjOgyxVVZSmLZgJYvFAgA7W6t/DjWTR2X+zCk1NbVbdh/ye/wcAHA4rPusabs91yGuBi2bLThvwz+yWCzr/uZNb/U36/f49uVFqzeNm/kzKfKYUcMvnz7UIeN2cySEcefcrDy8Iyf+8xYpEcZjPcf0dTRWAoCTM/uv8fky52I4AJDFCHtcTcUIOA/vSLv9r/JOTvqN4YboySuRRBdc+chiswHAVlfu0NRmlipn2mjWMJi7H8c+jsoFAJwQZpatpueYvv/NMy3Z3KlgMHBjoe3aO19OBSWdCvq5ljZvsPauif0AQAiDuTDPaotf9MOv2W8Si5C7NtqyJ2f1/z3XBJRuTm5u7q5duyIjI5GM7Pw4d+7cixcvpKV5Q2GfOXOmtrb206dPSNC43bt3jxgx4vXr1w8ePJgyZUozHaH8LhjuxBG+vr7Tpk3L22UjeL+1DFZiUXUetV5aHKcvL8YdHoJS0xBXWC0vgdeTE0NmLkpNQwW9QUNahG93fOh7KNJMWcJ7jmFFbcP3/GpFSQLn+H+z0OqYcYXVNfVMA3lxZRJvTIQWbBYQFhtyKPTU0loRvJC2jKiiJO/QrVZoYLKTimvKahiG8mLyxA7LxaGyI+LevXvNJoZrF8gnp74oVXCTamprYxOSc3LzZWSkjA30eIJHlFGo0bHxSgryhno6iEIqo1Cp1AptTfX2DqRk0L+/eb+nd65SqBVfv8eqKCka6rUkfKto1dGxCbTqahMjfVVl3u/Uls3uVBiMhvikHyVl5X0N9bg9WAXE7/HzmYtXtT2xTNtBPi1FpycL3lVtPTMhvyKXUiMjTjBQIskSf7l6UKrrY3OpCpIieoqSP+eZ6npqTb2mXLvPzRhseWKuJn1n2WBqTf33bIoSWVRPsaWYF7S6hthcanVdg5GSpLIUrwtLCzb/AXLLa1KLq0iieF1FyaZZDfKptckFlXQGU0eBqCNP7Kio8gqr/DpwnvmNzySdTj9w4IC3t3dubq6ampqDg8PRo0eRrEcAEBoaev/+/aCgoNra2sGDB9vZ2S1atIjjvrNo0aL6+novL6+DBw++fPlSV1fX3d199uzZx48fv337dk5OjqWl5enTp3V1dQFg2rRppqam9vb2p06dCgkJkZeXd3Nz27hxI2dtyd7ePi0tLSfn59M4lUr19PQMCwsrLS21tbVduHChs7NzW2wWkMTExKVLlwJAbW1tZGTkwoULL126xFMnPj5+wIABBw4cuHTpEovFSkj4FQVGT09PSkrq06dPnJLbt2/Pnj17w4YNSLrPtvPbf9O/hM46ci6KF7JQJVo0F6BYSgw3RIvEUyIlJpAlJFHcUO3Wz0xICGOt1fnOrS3YLCBCGFCXFlHnr0FbrYDDYpCAbb0eMVFRK0szfsFXZaTIw4cO4imRkSILMqIUmTTCbnCr1YgS4kNsBvC727LZnQoej0Pisf2FiBKwlhrSlhrNJLySEicM1ZfnKZESF+jxhixGsDNQaLWahDDOpvEeKDct2PwHUJUWU5XmG7tRmSyqTP6dAyfdnOXLl9+8eXPOnDnm5uZpaWmXLl2KjY398OEDALx588bR0ZFEIs2cOVNWVjYoKGjZsmXp6emHDx9G2kZHR+fm5gYHB5PJ5GHDht27dy80NNTHxycoKMjZ2VldXT0gIGDEiBEZGRlCQkKvX7/++vXr4cOHhw0btnjx4levXm3evDklJaXZ+Le5ublDhgwpKSlxc3MjkUgvX74cO3bssWPH1qxZ07LNgmNoaPj27VsASE1NRcQlD3Q6fcaMGUOGDFm1ahWPemMwGKNGjRo4cCB3ISI6m663oQhIb/MKREFBQUFB4VBXV+ft7e3i4nLt2jWkRFtbe/Xq1T9+/NDT07tz5w4Oh0tLSyOTyQCwadMmLS2tp0+fciQaABQWFu7du3fr1q0AMGPGDGdn59DQ0Pj4eD09PQCYN2/ejRs3UlNTkcu0tLTjx4+vXbsWAPbs2TNixIirV68uW7bM0pI3XdjmzZszMzM/fvxoZWUFALt27XJyctq0aZObm5u4uHgLNvP0U1pa+u+/fH3bJ02aZGxs3N43bePGjfn5+S9fvmyaoBOPx//zzz/cJcXFxWfPnsXj8WPGjGnvQCgt07MlmoIEQbp3RdhH+WMoKsjLSPc2lwuUzkBBUkRaosNOF6D8YZD8H6GhoVFRUebm5gCwcuXKBQsWiIiIAMC6des8PDzI/0UcrK+vJ5PJFRWNXOyxWCzHDdPU1BQAHBwcOFLJ3t7+xo0bCQkJSAmZTEaWwQBASEjI09PzzZs3r1694pFo5eXlPj4+AwYMQPQZABAIhEWLFoWEhPj7+8+cObMFm3koKSnZsWMHv5evp6fXXon27NmzM2fO+Pv7Kym1fkry2bNnCxYsKCkpOXnypImJSbsGQmmVni3RXq8w7WoTUHoqUW+fd7UJKD2Dt1tGdrUJKL+PmJjYjh07tm3bZmFhYWhoOGzYMGdn51GjRiGnzQwMDMrKyo4dOxYREZGZmZmSklJZWams3MiPVVlZmUD4qdERkcRd4b+0JfXIpa6uLvfKEyKP0tJ4o0knJyez2WwajTZt2jROIRK3Ii0trWWbeTAwMKip4Ru7imN5GykoKJg/f/7ChQsnTuSb3wIhLS1t7dq1T58+1dHRuX379ogRI9o1EEpbQL11UFBQUFB6M1u3bk1NTfXy8hITEzt//vyYMWOMjY0LCwsB4MiRI6qqqnv27GEwGCNGjLh+/fqgQYN4mouL854DbiG0BM/KE9K26epXWVkZAAgLC+O5kJGRmTVrFqLqWrCZBwwGI8qfFtKWNMu5c+dKS0srKirm/0deXl5+fv78+fMPHDjAqebt7W1mZhYaGnr48OG4uDhUn3USf3oVLSSFUkVnjjfhe5b2j+H9pai8pgEAdOREnQ2leS451RpYbMx/OfuapdUKLdCWtiw28LvfbPO3adTvedUAIIITWmzbe5J4BgaHVtFoUyd0/VmHy7fulpSVA4ChrvYEl1E8l9w1adU1Ek1yUnUVQaHvv0THAICoiMiape6t1u/RBCcU0uiMCRZ9utoQuPUhvYxWBwC6CpIupio8l23vp+W5ooHFbmCyRJpkz2s71XUN4vwTlrDYbJ4EWaFJRdHZ5QAggscuHcZ7OqpbUV9fX1NTo6GhsXv37t27dxcWFu7bt+/MmTP//PPPmjVrNm/eLCcnl5KSwnGW3LdvnyDDpaY2cmzPzMwEAH19fZ5qWlpaAKCrq+vt7c0pZDKZVVVVYmJiLdjc1LzCwsI9e/bws8fd3b3pMbgWkJOTMzMzS0lJ4ZTU1dWxWKzo6GiOMH327Jmbm5uNjc2dO3fU1NT49ITSAfxpifbv+/zMcnp3kGhXPhbkUOsUiAQHXbKzoTTPJQD4x5Re/1wYV1DNZLHVpUXmD1ScO1CRe4ZstUILtNo2vYx+/XPhy6TySjpzgBpxsY3SYC432BaaR+XS7keXlFYzcEKY3iTRjp29mJaZ3R0k2j8Xr2fl5Ckpyo8ebjfBZRTPJQBExcRv23fkS3QshVqhICc7dvSIgzs2SxJ/xnpgsVgDho9raJy4SUNN9fHtZny+eGhXW0Pr4Xa2VueP70cuP3+L9vZ9WFxSisfhe71EOxucnFlK6w4S7WJoak55tSJJdLihooupCs8ld03rPS9sdeSOz+D9Nn3wJfvqu7TYXCqTydKQlXAfqj1/iDZHMIUmFe19EptUUNnAYqlKiS9z0OW+2yoxOdR9T2OjsynUmno5oshoE+UdE0yIIj8P+KYVV117lxYYm19VyxioJbtkmO4QvZ9Ost8yy30js0oq6TisUDeXaCEhIU5OTrdu3Zo9ezYAKCoqbty48cyZMxQKJSsri8Viubq6cvRZTk5OdHS0gkLrfrv8+PHjR0pKCsdNEjnvj8QP40ZHR0dOTu7ly5cMBgOP//mGHzhwwMvL6927dzQajZ/NTUekUqnNeowi2NnZtUuieXh4eHh4cJdYWlrW1tZGRUVxSjw9PUkkkp+fX1sOq6EIQs8+iyYg1uqS3nMMm730iy5Z8yhVW0Z0obUSvYEVkFC27XlGJb1htZ1qGyu0QKtt6QzWPJ+kwsr6if1kpURxAQllc32Sbs8xRCKGtNx8jZ3qGjvV1Q9Tg5Ob+WdG6RCG2Ax4eudqs5dfo2NHT3HDYbHTXcdKk8m+jwMu37obHZvwPtAPeQbNKyiMTUjqa6gvLfVLc0uR25Rmp+1tb959kJaRZWdrxSnZum7l1nUr3T02Pn/1pp0vF0UgbLTl7iwbzO8S4e6nzIwSGk+WTADw/Zy16nakjjxxsZ0OncF8Fp3n6RddWctYO8oQAN79KJ5+7h1JlDDdSgOPxTyNzvP0iy6j1f/PuU1BWKKzKVPOhmGFMK6WfcjihMffcm99SI/NpQSudxDCYOgMptvFDwUVta6WatLihGff82ZfCL+7fAgST2TdaMN1ow09vCNfxRUI9O50PoMGDZKXl9+9e7eqqqq5uXlqaiqyEOXi4qKvry8hIXHv3j0nJycDA4Pw8HAvLy9JSUkajZacnNx06astMJnMCRMm7N27V09Pz9/f//Tp01OnTm2aQIlAIBw4cGDhwoWzZ8/etGmTpKTk48eP9+7d6+joOGjQIBqNxs/mpiMaGBjU1dX9hqm/B4VCiYuLMzc3P3bsGM8te3t71KmzY/mrJVoLnP+Qrykt8myxCVEYCwArBitbnfh2/XMhR0W1WkGQzg++zk4rrb0129BBlwwAC6yVHM99X/swNWKNhYBDo3Q2/169VVtLD3/hj+T63LFpzejJbiHvPjx89nLSOCcASM3IAoDrZ4/2MzZspa8mtNo2L79wz9HTX6JjY+IFyl6K8mfIp9YeDUyIzi6Pz6totsK5kB9acsTA9Q7IytbKEfr9dwZefZeGSLTjLxLZbHi5wUFDVgIAto4zMfMKOBfyY/1ow7Ycvbgallpbz3yxwQFJNrrJ2XjymbB3P4qfReeNM1fd/ywutbjKZ+ng4UaKALDIXmfYweBV3pGRO5w67g34ExCJxNu3b8+dO3fYsJ8JP0RERPbt24fInatXr7q7u48bNw4ApKWlT5w4IS4uPnfu3L59+zIYv5NCfvjw4SoqKpMnT0Zyltjb2/OLiLFgwYKampr//e9/vr6+AIDD4RYuXLhv3z4MBtOyzV1LeHg4m83+9u3bt2/feG5hMBhUonUs7ZZo255nxBdUX5iqxx3j/n9P0nOo9JuzDPFYTERm5dP4srA0Kp3BGqguaaMuOdNSvtn5YrV/KovN/mfSr7h5Z97lvf5BuT/fGMl9VElvOBCc/SmrqryG0b8PcaalvIPun4iSUEVnJhfXuFspEf9L965AJAzWJL3PqGhgsnFYTKsVBOkcAHyjSwwVxBB9BgByEng7HbJfdElULk1HVvS3h+5a1nju+h6X6HPpNHcE/GXrt2bl5D26fYmAx7/98OnBk+fBb8Nr6fRBA/sPtR24YPa0Zs+6zl+5gcVi3/j31zPc4dPnA4NDg/xv43BYAKBWVHrtP/Yu4nNZOcV6gIX7rKlNM2Z2EhGR30z7GnHnYp87Y1LIuw+RUd9/SrT0TAwGo6ut+Rudt9q2qro6JT2DJCnR36wfcvKsh+LpFx2XS73kbq0g+euc9fq7X3PKa24vGYTHCn1IKXkSnfs2qYjOYA7UkrXVkZttq9nsPLPyViSLzf7X7VekzdNBScHxhf6r7JB5pqKWsf9pXERaSTmtfoCmzCxbzRFGvEkzO4nqOkZ6cZWkCN5MTSo6m3fZu7KWkVRQucBOh7PzqEgSHaIn/+5HMYPJwmOF8ig1ymRRRJ8BgIQwzlxdKiK1tK6BKUZofW6PzCjrq0rmTgY/w1rj3Y/iqKzyceaq9z5lGSmThv/3VsgRRYYZKvh+zvqWVW6h3sMilI4YMSIlJSUmJiY7O1tWVrZv377y8j9noSlTpjg4OERFRSkpKRkZGSHOmPb29pwtxcjISO6upKWleULhz5kzZ86cOZxLHA53/fr1EydOfPnyRUVFxcio0YpmaGgo96WHh8e8efOioqJoNJqJiUmfPr+25luwuQPR0dFpNbL/169fuS/HjBmDJgP4Y7RbomlIi1z7VPg8sXzewJ//ukVV9Xe+FY0xlsFjMR8yKqbfTCQKYyf2k5UWw4elUTc/S8+i0LeNbCY/T0w+jdX4D51RTv+cXYX89Qsq6ydeiSurYUw2lZMUwYWmUufeTto+SmORTadvfmOFMP7ufdWlfiVmqaIzE4pq7LTJiAZqtYIgnZfXNFTUNkwzb7TloS0jCgDf82n68mK/PXTXoq2p/u+VW48CXi1zn42UFBQWX/O5P2msEwGPDw3/6DRlLolInD5prIy01Ou34Sv/tz0jK+fA9k1Nu/r2PY7VeI5IzcgK//SFxWYBYPPyC+3HTS8tK5s91ZUkSXz1JmzinMWHd21ZtXh+Z79GBqNh5LAhA8wbxYLJySsAAKn/Ai+lZWT1UVGmVdeEvPtQXFJmoKs90MK0jV5XrbY10NV+/egOUtPQugcnU9eUFb8SlhrwPc99iDZSUlhR6xOROdZcFY8VCk8pmXI2jCiCn9RfTVqc8Da56H++37LKqrePbyYs0/ccCs83SkYJ7VN6KZvNBsDkU2vHnQwto9VNHaguKYp/k1g450L4ron9Fts3E3K9w9FVkHy02h4xyXrPC567OCzm8Wp7ddlf7oSVtYyE/Ap7QwUkdaazqcq5kB/BCYWIpkwtrgpPKRmqL98WfcZgsoYZKpqrN3rozaPUAABZnFBeXUetqZ9upcF9V1teAgCisyk9TqIBgJiYmLW1tbV1M5mgZWRkeBwSZWRkZGQEyuEmJSXl6OjYlppEInHo0KHN3mrBZpS/hHZLtIkmsnteZj2LL+NItCdxZSw2TDOXB4BHsWVYIUzEGnNJERwArBisbH0yKiiZ0qxEa5n9QVk51Lpni0zMVSUAYMOwPrNuJe4LyppiJkcW5TW7vKbhxudmvJERnI2k9eXb4VgnRhAaoPbz9OiliIK8irrgHxQWm+0xVKWNFQTpPK20FgAUGofK1JYVAYDSaoYgQ3ct013Hbdp5wP9pIEei3X8SwGKx5s6YDAD3/J/isNikzyFkkiQAbPRYoj9g2LNXIc1KtJbx3HskKyf3feCDgRamALD9f6vHTnf33H149tSJ0v/pJA6l5ZTz17yb6QUAAFzHjDbSb8dXNR6PO7m/UQzJ4tKyc9e88Xicy8ifGxapGVlVNJqupV1NbS1SYmHa9/rZYwa62q32L0jbnoVrf7Wdj2KeRudyJNqTqFwWmz3DSgMA/L9mY4Uwn3c4kUTxAOAxQn/ArsBXcfnNSrSW2fskNqe8OnC9AyI7/udsNP3c+92PY6cOVCeL8QaUKq+uu/aON8AVhzGmqvpKLeXubC9iBNxArZ9C4WJoSk55TXB8AZPFXu1ogBQuHKrzLrl49oX3AzRlhHHY8JQSUKqERgAAd5dJREFURZLIljF929I5Hiu0f7IZd0lpVd21d2l4rNBIY6XUIhoAKJAahYrQlici1QR+ZSgoKG2i3RJNRhw/TJcckkItrWYgicYfx5UqShKGapMBYLGtkruVIqLPAKCeySaJYCvpzPaOQq1teBhbaqYigegzAMBjMbMs5cMzKp4nlM+05F3vLatmHH2Tw683LRmRdkk0bg69zq5lsABAX15MBNdMLJxWK7S388xyOgDwyFAVkjAA8LyTggz955GTkR7lYPfi9dvi0jIky7jvw2fKSgoj7AYBwJql7isWuiH6DADq6xkkSWJFVVV7RymnUu/6P+lv1g/RZwBAwOMXzJn25n3Eo4BX7rN4EzmXlpXvPnyKX2962prtkmg8BASFLFmzpaSs/NiebX0Nfx49TsvIqqLRdm9ZP8F5ZElZ+a17/td87ru6LYl8/VRcrJX0iIK07VnISAg7GCm+TigsrapDEo0//JqjRBK1M5AHgKXD9BYO1UH0GQDUM1mSooQqertPDlFr6v2/ZpupSXGWhfBYoTm2mu9/FAd8z5tlw7uhXEarO/w8oUk3P9GWJ3asRONm/7O42nomAOgrSXKCa0iK4lWlxeLyqFFZFDxWiMVmY4WEqukNLfbUPEFxBWvufCmj1e1xNTNUJt37nAUAPCK1j7Q4AFTW1gv6YnovSkpKsrJdH68ApdfwO+4CU8zkgpIpLxLLZ/dXyKHWReXSPIaoIIdAdGRFKTUNFz7kf82h5VDpGWX0qjqmArHduVPSSmvZbKiuZy69/4NTSKMzASCLQm9aX0dWNG2bVdNyBLwAO4Cp26wyyuifsysPBme7XIqNXGcpL4FvV4X2dk7AYgCAWttonkWkGEkE22rz336lfwC3aa4Br0IeP3+1yG1GVk7u52/fN61eivg56utql1GoJ85d+fglKisnNzU9s7KKpqTY7rMXP1Iz2Gw2rbp65uJVnMKqKhoApGdmN62vr6NVkRXHrzcC/jffz/TM7PVeewNehWhrqt84d5w79fuV04eFhQnGBnoAoKOlYTPAgiRJPHb20qOAl7OmTGi5W0Ha9jimDdR4FVfwPCbPbZBWTnn1t6zy1Y4GSDgJXQUipbr+XMiPL5llOWU16SW0KjpDkdRukZpaVMVmQ3Udc/G1j5zCKnoDAGSWVjetryMvmXWMb8h1ZPOxk8g8OjG9hPYprXT/szinYyHfdjnLS4qMOxWamF9xaKr5BIs+Injs64TCdXe+zrzw/p3nSEROtannUpqX//dXcQWachLn3KyQ3PPCOCEAoNY0UmM1dQ0AQGqyuIjCITY2tqtNQOlV/M6c4qgnRRLFPYsvA4AncaUAMNX851fpufB8y2NfT7zNZTBZQ7TIJybqcHbl2gK15qcuodQ2AAABK4QXwnB+pMRwrv1k9eSamYgxGBDBC/H7aW9cWTYbuA/JacqITDOX93RUb2CyQ35Q2lJBkM4RPwweJYq8ITLieEGG7nKcRzpIkUn+T18AgO+jAABwmzYJuXXs7CVN00H7j59hMBjDhw66cvqw7cB2xPIpp1CRX8ooFAAQFibgcXjOj7SU1IxJ45tdD8NgMKIiIvx+2huYG8HH73F/hzFhHz4d2L4pOiyQW58BgIVpX0RjcRg9wh4A4pN+QGsI0rbHMbKvElmM8DQ6FwAefcsFgGlWP89LnH2dbLo94PjLRAaTPVRf/vTs/pwNwbZA+U95UKrrAUAYJ4TD/vqREidM6q+mr9jMehgGAyJ4LL+f34tf3QJsNnCfudSSk5hhrbFtnAmDyQpOKEwpqkzMr7DVlZs3WJssRhDBY11MVaZbadTWMwO+57VxCL/IbIdDwR9SSraPNwnbMhLRZwAgTxQBgKzGOhV532QkhJv2g4KC0hn8zioaASc0rq/Mna/FlJqGx7Fl/fsQtWREAKCsmrE/KEtGHP9+lbnEf/6Gp8Ny+fWDwWAQt2QOaWU/T9ioSYkAgKaMCLe/J5PFrq5nijYXQbuYxjj5lu9A083l+ym39ZkSAM68zzsYnH1rtgG3A6m0GA4A8ivr21JBkM61ZEQwGMimNDrwkVBYDQDmqhKCDN3lCBMIU8a7XL19r4xC9X30zGaABeKcWFJWvnXvETkZ6YSPr4kSP/9SB04276kOyCeH2WjP90dqOvKLlroaAOhoaXD7ezKZzCpatVhzW4GFxSX7j5/hN9C8GVMsTNt0sodDQFDI/JUbrPube1842UdFmedubn5B5Lfv/c37cd/KyMwGADnZVkSGIG17IgSc0HgL1dsfMijV9Y++5gzQlEHOQpXR6vY+iZOREP64fbTEfwHxT75M4tcPBgPMRtMMIAetAAA5ia8lL8Ht78lksWl1DWKE5uaZSvrxl3yjmcyw1jDt05Eu56eDk/Y/jbu9dDC3h6m0OAEA8ik1CQQsAPCEUrMzkD//5ge1pk17vkFxBSu9P/fXkLkwz0pFqtFREC15CQwGsspo3IVIZJCe6CvQdp4/f15ZWTl9+vSuNgQuXrxYUlICAIaGhq6urjyXnGpsNptKpUpJ/YlYB23h1atXiA+sqKjounXrutqcHs9vxkWbaiZ3K7Lo7Pu8+MLqI+N+nufNrahjscHJUJqjz/Ir6uMLa5Aja01RJQuHpVE5oSKSi2syyn8uHWlKi8iI49+mUrkDSZx5l3c4JOfhgr4Dm6zMVdIbfL4W8bPWRl2yXRLNUEEMAMLSKrhl0O2vxQBgpCjWlgqCdK5AJFirS37Mqswqp6tLiwBAA5P9MKZUUZLQT0mihMb47aG7A3OmuV684XP0nwvf4xI5ge+zc/JYLNYEl1EcfZabX/A9LlFernnloaGmGhz6nsFowONxAJCQnJKWmYXc0tZUl5ORDnrzjnMXAA6dPr/z4Ik3T+4OsurP01VFReVVb19+1g61sWqvRPPad4wkSbx75Qx3bBEO5RTqtAUrF86Z/u/RvZzC+48DAGCwNa9tHdi2hzJtoMaN9+n/BCfH5VE5YfdzymtYbLaLqQpHn+VTauLyqHJE3jSICGrS4qFJRUiUCgBILqjMLP2pPDTlJGQkhN8k/roLAKeDkg4GxD9ZY2+lxXuoqKKW4f0hg5+1NjpyHSvRjJRIAPA2qYhboiEGGKuQNWTFAeBpdO5Gp19hHZ5E5QKAoXKbIiHvexYnKYK/ssCGO7IJgiJJ1EZbLiK1NLOUhgT1YDBZ/l+zlUiiHfsauxuHDx9OS0vrDhLt1KlTmZmZysrKTk5Orq6uPJcAQKFQ/ve//92+fbu2tpZIJDo5OZ09exY5Cff69etVq1Y1262lpeXNmzdbGLctbVkslrm5OW+aEw2NgICAT58+3bx5s6ioCI/HoxJNcH5TolmoErVkRC5GFIjihcb2/fk9qi0jKk7APokrc9CV0pEVjcyuOhySLSGMralnppXWasvyrmFYqEq8/kFZ8yh1lqVCRhn97Ps8SWEskigTj8VsGaG24XHaSv+UFYNViMLYl0nlJ8PyhmqTBvRpZudUR1Y0c3uHeSY76EoZKIhd/VQoKYKz1yEVVNY/iy8LSi43U5EYoSfVlgqXIgr2vMpaa6e61p43nGyrbQHAY6iKm3fSEt8fq+xUySLYs+/zsyn0G7MMMZg2Ne/OWFma6Wprnjx/VUxUdPI4Z6RQT0dLQlzs/qOA0cPt9HW0Pnz+uuPQCUmiRHV1zY/UdD0dLZ5OBliYPg96s2DV/xbMmZaWkXXknwskIrG0nAIABDx+77aNS9Zumbti3caVSySJEk9eBB84fnaE3eBmd071dbVpuR0W5ZVCrYhP+mFmYnTy3BWeW0MHWbk4OpgYGVj3N7/ifU9GmjzBeRSLzfLxexwU+n7imNFIqI5TF65t3nVw6/qV29Z78PTQatveh6WGtLY88fybH6IE7Djzn/9KOgpEcWHco285w40UdRSIn9NLDwXEE0Xw1XUNqcVVOvK884OFunRQfMGq21/m2GhmlNL+CU4miuDLq+sAAI8V2ja279o7X1fc/LxyhAFRBPciNv/4y0Q7A4WBms0c+tZVIOaecG1a3kkMN1Y0VCZdCUslieKHGSoWUGufROe+iiswU5Ny7KskhAF7A4XQpKLp595N7q/eR0bs+fd8/685+kqSzv2UAeDCm5Rdj2PWjzZcP7qZZAPUmvqkggoTVfK5EN5d8kE6co59lVaPNJh1/v2iax/XjDQkixH+CU7KKq32XjKozcmlUARl6NChgYGBzV7W19c7Ozt/+vTJ3d3dxsbm8+fPFy9ezM3NDQ8PBwAMBoNvco6WTqcnJydzMlPxoy1tc3NzY2JiTExMpKV/Lakiv3t5eXl5ec2dO/fZs2e/85pRGvP72QUmm8odDslxNpHlxFCVEMYen6C97lHaPJ8kACCL4naN1hAlCK15mOpw9nvWDl4JtcRW+WtO1cOYUmSJaLKpHACceffzFMUMC/laBmvvq6yncWUAgBPCzLCU3zxc7Q9MEEIYuDpD3+NB6rE3Ocf+cxR1NpTe46yJxLpstQKLzWaymo/u12pbALDTJp921dnwJG3R3WQAkBTB7RitgUSybUvzbs6sKRN2HjwxwWUkJ20lUUL80slDi9ZsmjhnMQBIk8lH92wVFxN199hoZudUk5fM08PaZQs+fYm66//krv8TZSWF2VMmAsDh0+eRu/NnTqmpqd2y+5Df4+cAgMNh3WdN2+25DtP5H50PkV/ZbHZUTHxUTDzPLQwG4+LogMFg/G6cX7J2y6FT5w+d+mnwknmzDu/agvzOYrGYTGazkSFbbdsrmTJA7WBAvIupCid8q4Qw7uTM/mt8vsy5GA4AZDHCHldTMQLOwzvSbv+rvJOTeHpY5qD3JbPM/0u2/5dsJZLolIHqAHA66OfG6EwbzRoGc/fj2MdRuQCAE8LMstX0HNO3OwgRIQzmxiLb5Tc/HwlMOBL405PUxVRl32Qz5J/9wjyrLX7RD79mv0n8uYdgoy17clZ/ZEXw5yzEJ8hoZHoZmw0xOdSYHCrPLQyAY18lewOFs24D1/p8db8SAQAkUfzuif2G/6mgvigtc+PGjY8fPx49enT9+vUAsGDBAgwGc+HChS9fvvTv39/BwSE6OpqniYeHR2Vl5fnz51vuuS1tkVTxt27dMjXtnQ+H3Yffl2ir7VSbZhwaYywzSJMUV1gtL4HXkxNDpjlbDVLFf37gfvONOZVF8UK3ZhuWVTMKq+qNFMSRyltGqHEquFspTjWTiyusrqlnGsiLK5P+nCeRupTIowV9cyj01NJaEbyQtoyooiSh7RWW2CrXNbDVpJo/V9tq5wAw3kTWxVgGie5rriLBfRK5Lc27M55rV3iuXcFTOGmck/0Qm+jYeCUFeUM9HURODR1kTaX+TIwT/NCHU1lMVPSJz5WSsvL8gqJ+xgZI5b1bN3AqrFjo5jZ9UnRsAq262sRIX1X5D+X6dXF0qC9KbbmOvKzMw1sXs3PzklMzyCSiga4OZ3sXANYuW0Cvq9NSbz7/d8ttudHWVG/Vkh7B2lGGSLIjbsaZqw7Rk4/NpSpIiugpSiJTxyBdOY4H4sNVdpzKogSsz9LBZbS6gopaY2UyUnnr2F/71wuH6ky30ojNpVbXNRgpSSpLdcGBAU05iaLTk5uWq8uIP11jn11WnVJUJYrHaisQlbgcV8lihHNuA73GmSQXVNIZTB0Foo48kSMulzno1TUw1WUkmh3Rsa9SsyNyM8Gizxgz1e/ZFBabbaEu3eH+EJ2Bh4dHdHS0r68vd4bvxYsXZ2ZmPnv2jEAghIaG3r9/PygoqLa2dvDgwXZ2dosWLWrWMcjNzY3FYnl7/4qbePDgwYCAgDdv3uBwOACgUqmenp5hYWGlpaW2trYLFy50dnb+A68RALy9veXl5bnznXt6eg4aNEhOjjfNK8KLFy/+/fffoKAgRcV2i+ymbVNSUjAYjJ6eXssNUQSn43N0SonhhmiReEqkxPgOJCOOl+FzWA0AJISxSO7wP48QBtSlRZDTYO2tkFlOv/utmFuPtrdzAMAJYSxUm/eHbUvzHoeMFJnH+VFGiiwjReZXX05GWk6G78llooT4EJsBHWhex6KmqqKm2ky04bSMrOs+918/8ml6q9W2fxVS4gSO+yGnREqc77OKjIRwC66IEsI4JDt4N0QIg9GQleBkeWqKMllUmdyMK0xGCc0nIvMRl1r9DXBCGEuNnuQfoKOjc+bMGX9//xUrfj4H5ufnX7lyZcqUKQQC4c2bN46OjiQSaebMmbKyskFBQcuWLUtPTz98+HDTrr5+/crj0JaSkvL+/XukMDc3d8iQISUlJW5ubiQS6eXLl2PHjj127NiaNWs6/1VCSkqKk5MTgUBIT0+Pi4tTUVExNTXlzkPFTVlZmbu7+7Rp0xwcHNo7ULNtU1NT1dTUaDTa69evi4qKDA0Nraysfs//HaVl/uo06vGF1Ut8f/TvQ0SSSvFcCkJmOf36LIM/uezH4V5UcUgKNTqP1npVlN/le1zijEUe1v0tVi+Z3/RSENIysx95X+qMZb8bd/xehLyN/NaDE3f2UOLyqIuufeyvIbNkmG7Ty84js7Tae8mgTloUvPMxMySx8FtWeWd0LggzZ87csGGDn58fR6L5+vqyWKz58+cDwJ07d3A4XFpaGplMBoBNmzZpaWk9ffq0WYnWMps3b87MzPz48aOVlRUA7Nq1y8nJadOmTW5ubtwntBBKS0v5JVMHgEmTJhkb832ebwqNRisoKFBQUBg7diznyJeBgcG1a9eazRa1YsUKKpV68ODBtg/RctvU1NTKykoNDY2amhqkxNLS8tatW4aGvAveKALy90o0Ox1yfkU9mw3IWQ2eSwGx1yF3QC+/BfISTJUlxIW7e76BHoqj/ZCc/AIWi40c8+G5FJCRw4YI3kmzsNlsFottaWbCb28UpTOwN1DIp9aw2Gw2sJtedirDDBU6r3M2AIvNNlOTkhDuXuGy5eTknJycnj9/XlxcjOQdv3v3roqKCpIxc926dR4eHuT/EsHV19eTyeSKior2jlJeXu7j4zNgwABEnwEAgUBYtGhRSEiIv7//woULeeqXlJTs2LGjSTc/0dPTa5dEQ46CnTp1SkdH559//rG1tQ0PD9+0adP48eNjY2N5sq3Hx8f7+vp6enqqqanx6Y8v/NqmpqZWVVXt27dv4sSJJSUlN27cuHLlyvjx46OiosTF0emlI/l7JdrO0RotXPZcplvIT7dod1B+lLZzdM/WFi67LfNmTpk3c0pXW/HXscfVtIXLnstMa42Z1hpdbUXzzJ079+nTpw8fPlyyZElmZuanT5+2bNmCZDExMDAoKys7duxYREREZmZmSkpKZWWlsjJv/MJWSU5OZrPZNBpt2rRpnMLKykoASEtrJourgYEBZ8GpKQRC+/ZbysvLAaCurs7Pz8/AwAAALCwsioqK9u3bd/fuXZ6QGYcPHyYQCL8X/4Jf2+vXrwsLC/ft2xcAdHV1bW1tSSTSkSNH/P39+W22ovwe6EILCgoKCkrvYcyYMVJSUn5+fgBw7949AJg3bx5y68iRI6qqqnv27GEwGCNGjLh+/fqgQYNa6IoHRBsBQFlZGQAICwvjuZCRkZk1a1az62EYDEaUP+09xaWiogIA1tbWiD5DGDt2LAAkJjYKIZSdne3j4zNhwoSme6+t0kJbS0tLRJ9xQPwk4uL4JtND+T266Sqa95ciJECajpyos+Gvz0cDi40BaMGxiMWGFryOWm3eAq22bVrhbRr1e141AIjghBbbKvFc/oYNKK1y+dbdkrJyADDU1Z7gMupPDk2rrpEQb+u5n6DQ91+iYwBAVERkzVL3ZktQOptbH9LLaHUAoKsg6WLayAOjuq5BXJjv9Mhis4U6JyxHW+aZBiZLhCvJSmhSUXR2OQCI4LFLh+nxXHaGkd0cYWHhadOmXb58uays7O7du7a2tojvYUlJyebNm+Xk5FJSUojEn55Y+/bt49dP0/w3yck/AwBpaWkBgK6uLre/J5PJrKqqEhNrZhIoLCzcs2cPv4Hc3d0tLduR7w7ZdmQwGuWQqK2tBQASqZGv3sWLFxsaGhYsWND2zlttm5OT8/nz5wEDBnDvfqanpwMAzx4riuB0U4l25WNBDrVOgUhw0CUjEs0/pvT658K4gmomi60uLTJ/oOLcgYqceSy9jH79c+HLpPJKOnOAGnGxjdLgxl6lLTdvmVbb8qsQlUu7H11SWs3ACWEW2yrxXHbQW4XSiH8uXs/KyVNSlB893A6RaCwWa8DwcbyBsNVUH9++zNPW0Hq4na0VJ+dBG4mKid+278iX6FgKtUJBTnbs6BEHd2xGQr61MPTnb9Hevg+LS0rxODwiyJqWoHQ2F0NTc8qrFUmiww0VEYkWk0Pd9zQ2OptCramXI4qMNlHeMcGEE5Itrbjq2ru0wNj8qlrGQC3ZJcN0h+j9zneS9Z4XtjpynHwJCA++ZF99lxabS2UyWRqyEu5DtecP0eYWgqFJRXufxCYVVDawWKpS4sscdJEK3zLLfSOzSirpOKzQ0mF6PJcCvD09mLlz554/f/7QoUPR0dGXLl1CCrOyslgslqurK0ef5eTkREdHKyg0f2hPQ0MjKCiIwWAgoVzj4+ORQ2AAoKOjIycn9/LlS85dADhw4ICXl9e7d+8GDx7M0xWVSr18mXfC4WBnZ9cuiSYqKurg4BASEpKSksIJJ/vo0SMAsLW15a756tUraWnp4cOHt73zVtuWl5dPnjx58eLFFy5c4BQiq5VDhnTWUdq/lu670WmtLhm+2nyPsyYA+EWXrPJPqahtWGitNHegYnU9c9vzjH/+y/5JZ7Dm+STd/VZsr0OeO0Aho6x2rk/Sx6xKTlctN2+ZVtu2UGGNnWr4avPR/60C8lyidBJDbAYkfnx9Yt925DKvoDA2IQmLxcrJSnN+pMi8GXJu3n2QlpHV3rG+RseOnDT72/e46a5jt65bKSlJvHzr7ujJbsjDdwtDb123MvHj6/HOIzldNS1B+QPYaMt99Bq9b7IZAERnUyadefs9h+Jq2WfdaENJUfytD+mTz4QhUajpDKbbxQ8+HzOHGSjOG6ydXkKbfSE8Iq20vSPe/ZSZUcLrcO37OWvFrc8VNfWL7XTmD9Gurmvw9Is+9epX4tF3P4qnn3uXU14z3Upj/mBtOoPp6Rd9NDARANaNNvzoNdr5v1VAnsu/E2traz09vePHj4uJiU2dOhUp1NfXl5CQuHfv3tOnT1NSUq5fv25rayspKUmj0TjLY9xYWVnV19fPmzcvNDT08uXLEyZM4KxREQiEAwcOVFZWzp49+9u3b6mpqceOHdu7d6+jo2OzO6cGBgZ1/OFY2HYOHjyIwWCmTp0aGBgYFxd3+vTpCxcuDB48eNy4cZw6FArl69evQ4YMQc7hcXPixAkcDrd7925+/bfQtl+/fjY2NpcuXfL09Pzy5cvnz59XrVr16tWrSZMmDRw4sNneUH6bbrqKxsP5D/ma0iLPFpsgmQxWDFa2OvHt+udCJHbuwdfZaaW1t2YbIvH3F1grOZ77vvZhasQai7Y0F2RoATtH+QOkZmQBwPWzR/sZN+MQnpdfuOfo6S/RsTHxv5MG6t+rt2pr6eEv/E37GgLAjk1rRk92C3n34eGzl5PGObU8NEp342pYam0988UGh74qZADY5Gw8+UzYux/Fz6Lzxpmr7n8Wl1pc5bN0MBJhf5G9zrCDwau8IyN3OLWl83xq7dHAhOjsciQZOQ/nQn5oyRED1zsgK3YrR+j33xl49V0aJ2zv8ReJbDa83OCABEjbOs7EzCvgXMiP9aMNe0RE2T/PnDlzvLy8XF1dJSV/RtYkEolXr151d3dHdIy0tPSJEyfExcXnzp3bt29fnn1DAFi/fn1ERISPj4+Pj4+KigpyEJ4TfmLBggU1NTX/+9//fH19AQCHwy1cuHDfvn1/IIsJAAwYMCAgIGD+/PmcYLnjxo27du0ad503b96wWCwbG5umzVvIYtJqWwwG8+jRo4ULFx44cODAgQNI4bJly44dO/b7rweFDz1AolXRmcnFNe5WSpxMUwpEwmBN0vuMCiTJum90iaGCGKLPAEBOAm+nQ/aLLonKpZmrSrTaXJChBekc5c+Qmp6JwWB0tTWbvVtVXZ2SnkGSlOhv1g85CtYuIiK/mfY1QvQZwtwZk0LefYiM+j5pnFPLQ6N0NyIzyvqqkhF9hjDDWuPdj+KorPJx5qr3PmUZKZM4GZDkiCLDDBV8P2d9yyq3UG99aby6jpFeXCUpgjdTk4rOpnDfqqxlJBVULrDT4eyoKpJEh+jJv/tRzMnvnkepUSaLcgLYSgjjzNWlIlJL6xqYYoQeMI3/ebZt27Zt2zaewilTpjg4OERFRSkpKRkZGSFyyt7enkL5+RcJDQ3lVBYTE3v+/HlJSUleXp6pqSlSmSNKAMDDw2PevHlRUVE0Gs3ExKRPn+aTgnQSTk5OOTk5cXFxJSUlJiYm3NkUEFxdXfmJsPXr19PpdOREXbO00BYA5OXlnzx5kpWVlZycTCaTDQ0NOXvHKB1LD/jfxgph/N37qnMlU6qiMxOKauy0yTgsprymoaK2YZp5o6wX2jKiAPA9n2auKtFyc0GGbksFlC4nLSOrj4oyrbom5N2H4pIyA13tgRamHBcqA13t14/uINUMrdt3YoPBaBg5bAhPCvOcvAIAkCKTWx0apVvBYLKGGSqaq0txF+ZRagCALE4or66j1tRPt9LgvqstLwEA0dmUtkg0XQXJR6vtASCjhGa95wX3LRwW83i1vbrsr4BSlbWMhPwKe0MFRJ8BgLOpyrmQH8EJhSOMFAEgtbgqPKVkqL48qs/ai4yMzIgRI3hKZGRk+NWXk5Pjl1UJAIhE4tChQzvSvvaAx+PNzc1/o2FqaurVq1e59ehvoK6urq6uLkgPKK3SA/69xQhCA9R+KvRLEQV5FXXBPygsNttjqAoApJXWAoCCRKO4MtqyIgBQWs1otbkgQwvYOcqfITUjq4pG07W0q6mtRUosTPteP3vMQFdbwJ7xeNzJ/Y3CURaXlp275o3H41xGDuvUoVE6HDxWaP9kM+6S0qq6a+/S8FihkcZKqUU0AFAgNUq5pi1PRKoJOLQYATdQ66dEuBiaklNeExxfwGSxVzv+CqmwcKjOu+Ti2RfeD9CUEcZhw1NKFEkiW8b05dMlSm8gOjp66tSpNjY2a9eubXopCGlpaU+fPu2MZb9r164FBgZ+/vy5w3v+O+kBEo2bQ6+zaxksANCXFxPBCQFAZjkdAMiijV6ICkkYACrpzFabCzJ0B3aO0nmkZWRV0Wi7t6yf4DyypKz81j3/az73Xd2WRL5+Ki7WTGbD3yYgKGTJmi0lZeXH9mzra6j/J4dG6XCC4grW3PlSRqvb42pmqEy69zkLAMhijR4F+0iLA0BlbX0Hjrv/WVxtPRMA9JUkuSNrSIriVaXF4vKoUVkUPFaIxWZjhYSq6Q38e0Lp2YwcOTInJ4fFYiEbjjyXAjJqVGcFJGKz2SwWq3///ujWZ4fQSNngcDgAYLLY3fb8aeo2q4wy+ufsyoPB2S6XYiPXWRKwGACg1jaaqhCpRBLh3VFq2lxeoq3ZS1ptK0jnXUIDiw3//dEF5Ocnh8nshrt4V04fFhYmGBvoAYCOlobNAAuSJPHY2UuPAl7OmjKhQ4ZIz8xe77U34FWItqb6jXPHOcng/8DQnQeTxeyQz0ZTuvk8k1lK8/L//iquQFNO4pybFZKsXRgnBADUmkZqrKauAQBIYh2Zijfz6MT0EtqntNL9z+KcjoV82+UsLykCAONOhSbmVxyaaj7Boo8IHvs6oXDdna8zL7x/5zkSUYrdlg6cZ/4qTpw40cJlt8Xd3d3dHY0Z1GE0WuxBPIqr6ngXn7oWNhtYXI8NmjIi08zlPR3VG5jskB8UeSIBALIodO4mlNoGAJARx7faXJChBey8y6miMwGAk65OEJBPTkVVleBddTgWpn0RkcRh9Ah7AIhP+tEh/fv4Pe7vMCbsw6cD2zdFhwVy9NkfGLpToVZUkkiSndHzz3mGzutA1x3wi8x2OBT8IaVk+3iTsC0jEX0GAPJEEQDIKq3mrkypqQcAGQnhpv20CzYbWFxLI1pyEjOsNbaNM2EwWcEJhQCQUlSZmF9hqys3b7A2WYwggse6mKpMt9KorWcGfM8TcPTOpqqWAR00z6Cg/G00kmiampoAkF5W20XGNM+Z93l9dkaEpDRSPNJiOADIr6zXkhHBYCCb0ug4SEJhNQCYq0q02lyQoQXsvMtJK6uF/8JkCwjyyUlJyxS8q44lN7/g4bMXOXn53IUZmdkAICfL94Bw2wkICpm/coOJkUF0WOD6FYuEuXLtdfbQnU1KWqa2VqecmUM+LWnFvLHBupyguIKV3p+NlElhniNXDNcncB1X0JKXwGAgq6yRzUj4jLb4CrTM6eAkpdUPEDXGQVqcAAD5lBoASMirAABbnUaH1u0M5AGAWtMdlS43qcVV0EHzTPfh4sWL+/bt27dvn7+//58cl81mc5xP28KrV68QO48fP86vBKU702jxWVNTU4ok+TWHZqHajXaRDRXEACAsrcJB95ez1e2vxQBgpCimQCRYq0t+zKrMKqerS4sAQAOT/TCmVFGS0E9JotXmggwtYOddTlQuTYok2SEuOZqamlJS5I9foqwszQTvrQMpp1CnLVi5cM70f4/u5RTefxwAAIOt+wvev9e+YyRJ4t0rZ5QUeKPMd/bQnc3nqO9m5p1iJzLPfMkos9ToXmGc9z2LkxTBX1lgoyApwnNLkSRqoy0XkVqaWUpDIl8wmCz/r9lKJFHTPlLNddYOjJRIAPA2qWjEfxE9AMD7QwYAGKuQAUBPURIAnkbnbnQy4lR4EpULAIbKvEGYuxvfMss7ap7pPpw6dSozM1NZWdnJycnV1fX169c8ycs5WFpa3rx5k8VimZub8yYa0dAICAho44gUCuV///vf7du3a2triUSik5PT2bNnZWVlWx5aV1f35s2bRUVFeDweyYb+6dMnnhKU7kwjiYbBYEaNdgr6ErTIphulJ3LQlTJQELv6qVBSBGevQyqorH8WXxaUXG6mIjFCTwoAPIaquHknLfH9scpOlSyCPfs+P5tCvzHLEIkg2GrzSxEFe15lrbVTXWvPG2y21batVujOvPpRMdrJuUMCLWIwmFGjRge8Clm9ZL7gvXUgJkYG1v3Nr3jfk5EmT3AexWKzfPweB4W+nzhmNE+wjGY5deHa5l0Ht65fuW29R9O7FGpFfNIPMxOjk+eu8NwaOsjKecQwQYbuWgqLSz5/jf7fFt6wUh0CMs+8in67ZJhuZ/T/e1Br6pMKKkxUyedCeLehB+nIOfZVWj3SYNb594uufVwz0pAsRvgnOCmrtNp7ySDOP9CFNym7HsesH224frQRb+8tMtxY0VCZdCUslSSKH2aoWECtfRKd+yquwExNyrGvEgDoK0naGyiEJhVNP/ducn/1PjJiz7/n+3/N0VeSdO6n3BGvvhN5GV/UUfNMt2Lo0KGBgYHI7xgMhpMGigOdTk9OTkYSNOXm5sbExJiYmHCnJG97avP6+npnZ+dPnz65u7vb2Nh8/vz54sWLubm54eHhLQ/t5eXl5eU1d+7cZ8+eIbealqB0Z3iPcM6YOXOCr29mOV1Dmvc5sqsQwsDVGfoeD1KPvck59iYHKXQ2lN7jrIkTwgCAnTb5tKvOhidpi+4mA4CkCG7HaA1OJNtWm7PYbCareSeZVtu2WqHbklFGj8igbj45s6M6nDFjxoQJE9IysrQ1u9HjMgaD8btxfsnaLYdOnT906jxSuGTerMO7trSlecsxuD9EfmWz2VEx8VEx8U3HdXF0EGToruXGnQdkMmn06NGd1D8yz2SU0DTlJDppiPYSmV7GZkNMDjUmh8pzCwPg2FfJ3kDhrNvAtT5f3a9EAABJFL97Yr/hXOteP2eS9vvbCWEwNxbZLr/5+UhgwpHABKTQxVRl32Sz/+YZzIV5Vlv8oh9+zX6TWIRUsNGWPTmrPydwWvckvYT2IaVo09EOm2e6Jw4ODtHR0TyFHh4elZWV58+fBwAkueetW7dMTX/n8ezGjRsfP348evTo+vXrAWDBggUYDObChQtfvnxpdWiUHg2vRHNxcdHSUD8amnfGtRuFblKXEnm0oG8OhZ5aWiuCF9KWEVWUbORFNd5E1sVYJiafxmKDuYoEj6dYy82X2CrXNbDVpJo/89vq0K1W6J4ce5unpaHOSR4iOC4uLtraWruOnLr5b/c64iAvK/Pw1sXs/7d3p/FQdXEcwM9obGWXtJc1IslSKJHQKmmTelJUWlS0l5Q20kqyJG1IitKGklLalOxLKsvYieyEMPO8GKYxxtiGGfy/n16Yc++ce+7c32fmdO695+bm/UjD8fFyS0mIc3NRuQNOTGTC319pFIW7t22sq68XnUB99qBFOlpt39KNTTObsvIKp2u3Nm824+TsrZlBFi1aJCYy8fyLFNd1yr20ia7SkR31y2kF7XWWKoxbLD82PrsMTyAoTBCg+J7ZpiVZ39g0QbCDTqeIEFfbDU0QHPbMUjO7pCb1VxUn6xAxYe5RvK0+fL6hbG7G048umfKjoLKuoUlcmFt8BDfzj0xdeJEiJjKRjt8z/cWLFy9cXV1DQ0NHjhyJEEpNTcVgMJKS3Xyq/Z07d0aMGLFz57+xfCsrq5kzZ1KdU5di06Bfo+yiDRky5JLj5aVLl/6nKKQyoVfu5+oeFgyaIMAxof2xPSwLhsYldDTenllady+m6IGJTLc33eEKzCYqp+pxQvGTJ0/oOEfGkCFDLl68tHTp0s3rjNRVmeV3l2T82DHjx3Z5PuF0XNbtu/6vH9/t+00z0KkLThgWlsOHe3G0b8iQIRcdHJcuXbpOVURVfHjvbYjusCyY9i6hwxVX343IfLxLo3s1s2AwE4dzkR7xRNVoPs7RfP1mRr2vuJKAqGz6fs/0CyUlJaampoaGhlpaWsSStLS08ePHV1dXv379+tevX9LS0jNmzOj8x5KamrpgwQI2NraMjIykpKQxY8ZMnTqV+MzQDjcN+jUqc9UsWbJEV3uuTUjkU1NpdsZNwZpcWLPF76fSOO7evjAus7Tu9lqp0bz0H/q6H1sUlloel1dN9SWj1DfijzzP1tWeq6enR9+alyxZoqurs8f61Ptgfw72ns5E0G3xSSlGm3eqKCn0/MK49Mzsx3c8xo6mfwI9fR+8CAv/GpNAo4QhYhOSr97yuXr1KnFqjN5D/J6xfhwbbDGbnZVhP+FJeeWbb31WmijY8wvjMn/X3NkyczR/X98n5Ps5MyylMCarlOpLRqlvaDr0MKE3vmeYn7m5eXl5OemB6wihtLS0ysrKiRMn/vnzh1iiqKjo7e0tLS3dTh3/VFdXFxQUCAsL6+npkS4gk5KSunXrloqKSoebBv0a9R6Ys6tbXjXa8wRHj3mMu0NDnE95PA+BgPqgAZrifJJCvfIfU2L7p47m0pXib/uSIQgEtOdJRl41cnZ16436nZ1dsvPyN1seossU2N2go6muOl0RjyfQpQG6c9SlJcV7Xk9bBAIBjycoyk9ZPH9ueyV9r6CwaPn6rZqaGiYmfXHbh7OrW15Fg6VvDKO+ZzSlhKeLCuIJBAKiQwvmSAsTb73sYwSE8ASC/Hj++VNGt33JEAQCsvCNzqto6KXvGWaWnJzs5+e3Z8+e8ePHkwrT0tKqqqpsbGx+/vz58eNHMzOzuLg4fX39mpoaGlWR3osQunz5Mg6Hu3LlSnR0tJOTU1ZWlr6+flFRUYebBv0apr1fstevXy+YP3/nrJF759D/MV6AUS6+ybnyoeD5i5C5c3urH/D69esFCxYcsth2dD/1W8EBc6r5U6ttsKam7m9ExOc+m2iU+D1joSNJPp0E6O/OP/92OfTn8xcv6Ps9ExAQsHz58sbGRoafOZWRkRk/fjzpjk5y69evv3//fn5+PvkNm9HR0ezs7LKy/56peuDAgfPnz3t5eVE9X0kuLCyM+DGmpKRISTU/ttXa2trW1vby5cvkM25Q3TSxPDAwsKSkhEYJo/j6+hobGzc0MPv0fozS7nnMuXPnuri6OoTnnQjJasIz6D+5gH6a8IQTIVkO4Xkurm691z9DxOS4uJy+eOWAjV1TE3M9qQK0p6CwSNtgTXZeQWBgUF9OBE/8nrn4IsXmUQJ8zwwATXiCzaOEiy9SXFxd6f490/wUk4oK+lZLR9nZ2Xfv3l26dClFJ0lRUZG8f4YQIt5CkZSU1GGdY8aMQQipqKiQ+mcIIeLp45SUlA43zeTKy8t7+5qKfo3Wc9M2b97MxcVlarIBV/r3yjJRbvbBdcnnQFJV37QzIP09rsrHx8fIyKi3N9ecHFPTVFyWp8tFHm5mmVgBUBWbkLx8/VYuHp6IiM9iYn19K/e/75nfNS7rlLg5mPrJtoCGqroGc++o8J/FvfQ9Q3wuxc+fP9teg8Ukrl271tjYuHHjRvLCnJycyMhIZWVl8vOPGRkZCKERIyinvG6L+C6Kcaba2lrU0melsWnm9/Pnz77/zulHOrgbwMjIKOzN24QSgoZLon9cMaMuGQHdRiAg/7hiDZfEhBIU9uZtH/TPiIyMjMLCwqLiEqfM1PW+H8CoS9MAbWXlFXusT81csFxaRoYh/TMi4vdMXGH9TLvX9yOzICz9DoGA7kdmzbR7HVdY33vfMyIiIvz8/BEREb1ROV28fPlSQECAYviwtLR0xYoVtra25IX3799HCKmrq3dYJycnp5aWVnR0dGpqKqnw8ePHCCE1NTXam2Z+X758kZeXZ3QrmFfHN2yqqqp++/5z+doNe59k6N349iyppKEJvkH7gYYmwrOkEr0b3/Y+yVi+dsO37z9VVVX7sgGqqqrfvqUYLF9htvvwrIUrHjwJ/gsXHDCNwqLis5evys7U9XsSfPXq1RcvQhj7oGtVVdVv338sX2O8+270QsfwJ7G5DU14BrYHdFJDE/5JbO5Cx/Ddd6OXrzH+9v1H733PYDCYefPmPXv2rJfq76GysrLo6Gh1dXUWllY/rHJycqqqqh4eHlZWVlFRUZGRkbt27Xr58uXy5cunT5+OEHJwcMBisSdPnmyvZnt7ewwGs2rVqufPnyclJTk5Obm7u8+aNWvJkiW0N83kCgsLv3z50ntTZA8AtE50kggICLi4uG7ZsvWYtbX5wyBONuxMEW7ZkUNH8bDB2U9mU1XfVFD5N6nwz0dcVe3fxsWLFt0OPC0nJ8eQxggICLi4uGzZsuXYsWPrtu0eysmpOUtFfsrksaNH8XDB2c++1oRvKi2rSMdlfo6O+xoTz8fHu3mz2eHDh5nkWpB/aTlqvc0riJONdZaE0JQxPKP5OLng7CeTqa5ryC+vTcyr/JBaXPu3YfGiRbce98X3DPEpJmlpaeLivXKrdU+8efMGj8e37aFiMJjHjx9v2rTpzJkzZ86cIRZu27bt4sWLxL9pP8UEIaSsrBwUFGRiYkKaBHjJkiW3bt3qcNNM7tatW3x8fNBFo6HdOzrbk5ub+/Tp07DXr+PjYoqKiiurO75nGPQl7mFDR4wQkp+mqDV3rr6+PvFSU2bQnJywsIT4+F9FvyorqxjdokGHhYWFj49XVERUQVFx/vz5CxYs4OBg0vmW4XuGyXEPGzZihJD8NIU+/p5pamqSkpKaPn26j49P32yRKhp3dNKQlZX148cPPj4+aWlpbu5WE63b2tqKiorSPkHc0NCQlJRUXFw8ZcqUUaO6MFkjc97RWVZWNmnSJFNTU5jFjYYud9EAAAAARnn69OnSpUvfvn07e/ZsRrWhe1209qSlpc2bN+/t27fjxvXKFFfM2UWzsLC4d+/ez58/mWQUnzlBFw0AAEB/Mn/+/F+/fkVERDBqGFhGRqa0tFRdXV1VVXX37t09rC0kJGTcuHGTJ9N/asBbt249f/48MjKyqqqK2CFrW8IQMTExM2bMuHr1ar+7BbWPdepaNAAAAIBJODs7T58+3dTU1MfHB8OIh8nr6urm5OTg8Xi6jHHMmzev55VQRSAQ8Hi8kpIS6bxq25K+l5+fr6+vr6mp2TdPMenXYBQNAABAP0N8iomVldXx48cZ3RbQBTU1NZqamtXV1REREYy9i7xfgFE0AAAA/QzxKSZbtmypqqo6d+4cwx8JBTqDOH6WlZUF/bNOgi4aAACA/uffU0xSU+/cucPDw4Bn2IPOi4mJ0dfX5+LiioiIgCcKdFJ/muYOAAAAICE+xSQyMlJKSsrT0xOu22FOZWVlFhYWM2bMkJaWhv5Zl0AXDQAAQH+lqqr67ds3AwODjRs3qqio+Pn5/f37l9GNAs0KCwvPnDkzadKke/fuXb169cWLF3B+s0vgdgEAAAD9XkJCwrFjxwIDA4cOHaqlpTVt2rSxY8fC2c++19TUVFpampaWFhERERkZycfHt3nzZuZ5ikn/Al00AAAAA8S/p5gkJPz69auyspLRLRp0WFhY+Pj4REVFFRQUmPwpJswPumgAAABAx2pra2VlZZWVle/du8fottDBiRMnLly48P37d+Z5TiCgAF00AAAAoGNHjx69fPlySkrKwOjT1NfXy8nJTZs2bWD0OAckuF0AAAAA6EBqauqFCxdOnjw5MPpnCCF2dnYnJ6f79++HhIQwui2AOhhFAwAAADqwcOHC3Nzc6OhoVlZWRreFnpYuXZqSkpKQkMDOzs7otgBKMIoGAAAA0HLv3r0XL15cvXp1gPXPEEJOTk55eXmXL19mdEMAFTCKBgAAALSrqqpKWlp6wYIFHh4ejG5Lrzh58uTZs2e/ffs2YcIERrcFtAJdNAAAAKBdlpaW3t7e379/FxISYnRbegXxvgF5efn79+8zui2gFTjRCQAAAFCXmJjo4uJy9uzZgdo/Qwixs7NfuXLFz8/vxYsXjG4LaAVG0QAAAAAq8Hj8rFmzGhsbP3/+zMIywEc0DAwMkpOTExMT4b4B5jHAMwcAAAB0z40bNyIjI93d3Qd8/wwhdPny5fz8fEdHR0Y3BPwDo2gAAAAApdLS0kmTJq1bt+7SpUuMbksfOX369JkzZ+C+AeYBXTQAAACA0qZNm4KCgr5//z54nv/99+9fOTk5OTk5Pz8/RrcFIAQnOgEAAAAKkZGRt27dcnR0HDz9M4QQGxubk5OTv7//8+fPGd0WgBCMogEAAADkGhsblZWVhw8fHhoayui2MMCyZcuSkpLgvgFmAKNoAAAAwD9OTk7fvn27cuUKoxvCGMT7BhwcHBjdEABdNAAAAKBFYWHhyZMnDx48KCUlxei2MMa4ceMOHz586tSpzMxMRrdlsIMTnQAAAEAzQ0PDL1++JCcnDxs2jNFtYRjifQNTpkzx9/dndFsGNRhFAwAAABBCKDQ01M/Pz9nZeTD3zxBCbGxsV65cefDgAdw3wFgwigYAAAA0Dx3JyMg8fPiQ0W1hCsuXL09ISEhKSoL7BhgFRtEAAAAAZG9vn5OTc/HiRUY3hFk4OjoWFBTAB8JA0EUDAAAw2KWnp585c8bGxmbixImMbguzGDdunJWV1enTp+G+AUaBE50AAAAGu8WLF+NwuLi4OFZWVka3hYkQT/7Kyso+ePCA0W0ZjGAUDQAAwKD28OHD4OBgZ2dn6J9RIN43QPx8GN2WwQhG0QAAAAxef/78kZGRmT17tqenJ6PbwqRWrFgRHx+fmJjIwcHB6LYMLjCKBgAAYPA6fvx4WVmZvb09oxvCvBwcHAoLC+G+gb4HXTQAAACDVHJysqOj45kzZ0aNGsXotjAv4n0Dtra2OByO0W0ZXOBEJwAAgMGIQCDMnTu3srLyy5cvQ4YMYXRzmNrfv3+nTp0qLS0dEBDA6LYMIjCKBgAAYDDy8vIKDw93cXGB/lmHiPcNPHr0CO4b6EswigYAAGDQKSsrk5KSWrlypbOzM6Pb0m+sXLkyLi4O7hvoMzCKBgAAYNCxsrLCYDCnTp1idEP6E+J9AxcuXGB0QwYL6KIBAAAYXKKiojw8PM6fP8/Pz8/otvQnY8eOPXLkiJ2dHdw30DfgRCcAAIBBBI/Hq6qqsrOzh4eHYzAYRjenn/n796+8vPykSZMePXrE6LYMfDCKBgAAYMCqqKgwMzMrKSkhlbi6usbExLi4uED/rBuI9w08fvw4KCiIVJiammpqasrAVg1UMIoGAABgwHr16pWOjg4fH9/FixdNTEyKioqkpKS2bt165swZRjetH1u1alVMTExSUhIej7ezszt37lxDQ0NeXt7o0aMZ3bQBBbpoAAAABixbW9sTJ040NDRgMBglJaURI0YkJCR8+/aNi4uL0U3rx3Jzc6WlpfX09MLDw4uKihobGzEYzOPHj5csWcLopg0ocKITAADAgBUREdHU1IQQIhAIsbGxwcHBCgoKeDye0e3q3+rr60VERHx9fQsLCxsbGxFCrKysX79+ZXS7BhroogEAABiwIiIiSB2yxsZGAoEQFBQkJibm5eXF2Ib1U7W1tcePH588efL3798RQqTPtqGhISIigqFNG4DgRCcAAICBKTMzU0REpG05CwsLHo/X0tJyd3cXFxfv+4b1U8+fP9+8efOvX7+II2cUeHh4ysvL4SYMOoJRNAAAAANTZGQk1R4DHo/HYrFFRUVsbGx936r+a9y4cRgMpr1OWGVlZUZGRh83aWCDLhoAAICB6fPnz6ysrG3LWVhYlixZ8vnz5/Hjx/d9q/ovWVnZuLg4FRUVLBbbdikLCwtcjkZf0EUDAAAwMH348OHv37/kJcRBoP379/v7+w8bNoxRDeu/BAUFw8LCzMzM2i7CYrHQRaMvuBYNAADAANTQ0MDFxUXeRcNisVgs9u7duwYGBgxs2MBw7dq1bdu2IbI7BhBCKioqcNMAHUEXDQAAwAAUExOjqKhIesnKyiooKBgUFKSgoMDAVg0kL1++XL58eX19fUNDA7GEnZ29urqa6mlQ0A1wohMAAMAA9OXLF1JfAYvFKioqxsfHQ/+MjnR1dWNiYsaPH0/6nOvr64mTcQC6gC4aAACAAejLly/EPzAYzIYNG969ezdixAjGNmngkZCQiIyMnDVr1pAhQxBCQ4YMgcvR6Ai6aAAAAAagDx8+NDY2DhkyxM3NzcPDg+qtnaDnBAQEXr58uWnTJgwGg8fjoYtGR3AtGgAA9G8EAgGHw+FwuLKyMvhKJ/rz54+JicnQoUMPHDggLS3dq9vi5uYWFhaePHkyOzt7r26oG/oyGyEhIbdu3Ro/fvy5c+d6dUP9SA+zAV00AADol5qamoKCgnx9fUNCQsrKyhjdnMEOi8XOnDnTwMDA2NiYn5+fsY2BbDCVbmcDumgAAND/PH36dO/ePenpGRqz1BbP11GdrigmMlGAn4+FBS5fQQih6Nj4SZLiXH0y81lVdXVeQWFsfGLIq7dPgl404fH79+8/cODA0KFD+2DrbVFmQ7lPs/EzPYNr2LDRI4X7YFvM7182XncnG9BFAwCA/iQtLc3c3Dw0NHT18qU2h/eJi05kdIvAP1XV1e43ve0uXObj53N0vNzHE7C1ysYhyAZzqaqudr/VtWzA/7cAAKDfeP369fTp038V5L8NDvD2cIbfYGbDzcW1b9e2lKj3Wupqy5cvt7Ky6rNxkH/ZCArwvgbZYDrcXFz7dnYtGzCKBgAA/YOHh4e5ufnyJYuuO1/i4GC6K9MBBS9f/62WB/T09Ly9vTk5OXt1W62ywXx3LQAKXr7+W3d3nA3oogEAQD/g6+u7du3aowd2Hz24B4PBMLo5oFM+RHxZtnbjHC0tPz+/3rsU7F82DkA2+o0PEV+W/ddBNqCLBgAAzC4qKkpDQ2Or6bpzp44xui2gaz5+jtRdunrv3r22tra9UX9zNkwgG/3Px8+Ruga0sgFdNAAAYGolJSUyMjLK0+QCfG722Q2bT4ND6uv/rjTQo/vKnYfH47u6v1XV1X//NggKMHjOCwpevv4bzXc/ePBg2bJl9K35Xzbu9G02/v5dubTT2ej0yp3Xl9kgEAjlFZX8fLxdfWNnePn6b9zRbjagiwYAAEzN3Nz8UcDD5MhwHm7uPtvoDK2FpaVlqXERdF+5Qz/TMtyu334aHFJRWak2Q9lyu5mWxqzOvLGktGzazLm8PDyJX94SS/B4vOJs3abGJvLVJowf+8zPGyEUFv7B8uBRqlUpyMvdvnq5R7vR2qYde8Lef0pJ+U7fmTias/Glb7Mxd2FpaVlqbOey0ZWVO/QzvXU2tnUlG7Pm8vLwJH5+SyzB4/GKGtSycd+b9LKsvOKQzem7/gG1dXXcXFzztedcOW83XFCALvtCsmlnu9mAx9EDAADzSk5OvnbtmseVi335G4wQMt9sUltX1xsr01ZbV2ewZkNefqHRSgNBfv6AZ0H6q9cHP/RRV1Pp8L2bd+7NL/zFy8NDKsnNL0hMTpGdLCVANl8o6W8MBoNlpfwRrK+v/5GaLi4mQo+9+cfOxkpaSf3cuXPHjx+nV53N2XDq82xs6ko2urIybbV1dQZGG/IKCo1WGAgK8Ac8DdI3Wh/8oHPZ2NW1bCCE/v5tWLzqv8joWJO1q1WmK36NjvPwvJObX/D+xRO67A6J3TEraWXq2YBRNAAAYF76+voFeTmfQp8NksvA9x057ujqEejvPV9bCyH0q6hYQV1nKCdnh0N0V2967bWyGTZ0qLCQEGkU7c27jzr6q2Leh8rJTu5kAywOWAc8Dfr6LmQkvZ+5fsHJ7eTZS7m5ufR69kBzNl4Opmy4eQT6tWSjuFhhls7QoZwdDtFdvem190hLNlpG0d68+6izdFXMu3azcd3LZ6vlgXOnju0x30Is2b7n4LXbd768DlacNpVue4UQQujCFerZgHnRAACASeXm5gYFBe3dsbWXfoMTk1NWrNskPlXFYI2Jl6//67fvDTeYlZSWIYQsDx7daL6btOYWi/279h/JL/z13yZz0SnTJaepbdqxp+bPH+JSipV7wvOu3xQZaeJvMEJIeISQrpYGLis7MiqWxru+ff+x/8iJM8ePjBRuNal9ajoOg8FIiIt2cushr9+43fD0uuZM9/4ZQmiL6bohLCze3t4dr9oJfZEN403i8ioGa028fP1fh5Nl49DRjTtaZ+PAkfzCX/9tNheVmy6poLZpJ1k2Wq/cE56+rbMhJKQ7VwOXlR0Z3VE2rE+csWmTjYwOsuHjFzBCaPiOzaakkkN7dt12uzx8uGDP9oOKLSbUswFdNAAAYFJPnjwZNnTokoXzeqPy958+z9TR+xDxZabKdH4+3l37j1gcsH74JOhPbS1CKOJr9LuPn0krxyUmB798raq1MCcv33C5/tgxo2/73N+w1YK4lGLlbvtdUlpWXqGtqU5eKCEuhhCKiotv71119fVrNm6fpTZj55aNFIvScbjxY8dUV9cEhby66e0bERnV1NREtRKEUElp2SbzPasMlsyZPbNn+0EdNxeX/qL5AQEBdKmtORsLei0bumTZOHDE4oD1w6ftZCMpOfjla9W5C3Py8g2XtWRjW+9kQ6N1NsTEEEJRsTSzsWn7LFVq2cggy8YdKtlIS8+Yrz2HjY01IzPr2fOXMXEJo0cK/2e4YsK4sT3fHQrtZQOuRQMAACb15s0bTXU1NjZWuteMx+MtDh5lZ2f78uY58Sdnz46t0+fMp/GWzOycA5bmtscOYzAYPB4/Q2thWPh72lv5XVLqdsOzvaXLlyycLDWJvORnWjpCiGK0Y5K4GEKouPh3e/UcPHqqoPDX8wDftuNJaRmZlVVVYnIziH0LhJCCvJynu5O0pETbenbutyqvqLQ7bkV7p3pCd67GRvM99fX17D2eXbZ3s3HoKDs725ewlmyYb52u1VE2LMiyMbfXstH60Z+TJMQQQsW/28/GsVMFhb+eP6SWDVxmZVWV2NTW2bjanI3qmpqCX0XCQkL6RuuDQl4RV5CSEL/h4jBDSYH2rnWPrpbGxh2U2YAuGgAAMKmEhHij5fq9UXNcQlJC0reDljtIQwKyk6VWGejfuf+gvbdwcnAcO7SX+FPHwsIyc4ZybHxibn7B2NGj2ntLcUnJiTMX2lsqKS5K8TOclpGJEBLg5yMvnDBuDEKovKKSaiVBIa9cPG498L4+SpjKqcm0jMyq6ppT1geXLl7wu6TEy9f/prfvsjUmUe9eDmt999y37z/8Hz07vGfn+LFj2mtwz02bOqWhoeH79+9Tp/b0YqaEhHijZf08G/Z9kg2vjrKxqCUbd3yXrTWJCn85bOjQ9IxMhJCT+3UxEZHLZ0+rTVf6+OXr4eO2BmtN4j68HiE0vL2WdxvVbEAXDQAAmFR+fsG4MaN7o+Z0XBZCSFJCjLxwspQkjbeMEBpO/mQh4jRR1TU1NN4iJSFeVZDe3lI2VsoRIHZ2NoRQaVk5eWHNn1rS5igU/CraaL57o/GapYsXUN3ELVcHdnY2GWkphJCEmIjqdCVeHu4LTm6PngX/Z7iCfM3zl13Z2FgtWy4M7yXELktBQUHPu2j5+QXjxvZONjKzEEKS4r2fjfweZ6OGZjZ27N64rv1suFDLxpXmbBA3VF//18/zmpSEOEJo2tQpRcXFdhed7gc8aXvatOeoZgO6aAAAwKT+/PkzjK7TaJGUlVcghCim8WzCt3udFkKIk4OjbSHtOQEwGAzVd7WHeJE+LjOLvLC0rAwhRPUabfcbnr9LSisqK0k3K+QXFBAIhI3muyXERQ/t3qkgL0fxlgU6cy84uSWn/CAvzM7N833weNmShRSDNHTHNWwYQqiqqqrnVfV1Ntq/hg8xPBuC1LJxsyUbO1pnY8duCbH2s3GlORujR49ECM1QUiD2z4gWz9e1u+j0/Wdq55vdeVSzAV00AABgUgQCoZfu15s4fixC6NOXr4vn65AK4xKS6LuVwqIi23OO7S01+W81xc+khLgoBoPJyMomL0xI+oYQmqE4rW0Nw4cLTp0ik5qOI5XU1//FE/BxicksLCw5eflfo2OVFOTJz11mZGYhhISGtzpRdf32ncbGRtP/jLq0d91APJp0metqIGTjvGN7S03WtpONzNbZSG4/G4KCU6fIpGZQywaGJScv/2tMrNK01tnIykIICQkNRwgRyxsaG8nrrK2tQwiRT65GR1SzAV00AAAYdGQmS2Gx2NA37+xsmq+Oz8jMev22g0u8u6q8ovKG9932ls6eqUrxMzx6pLC6msr7j5/TcVliIhMQQg0Njb4PHo0ZNbLtmAdCaIeZ6Q4zU/ISZc35dbV10e9eIoQSkr6tWm+2ecN/bg5nSSv4PXqKEFJXnUH+rpdv3gnw83VynvoBT0ZaCovFhr5tnY2OLv/vqm5m41MPsjFnfl1tXXQ4WTbWt85GwL9scHJwzJk98827j6npOImWeYyfBL9ACKlOV+ruTncZdNEAAGDQGTNq5K6tGy85u5tut1y1bElqOs7t+m26b0VKQvzPr8wuveXwnp16hsarTbZY7d3Fz8d37rJLRmb20/uepBEjj9t3duyzsj6w++iBDmbbmiIjraKseN3TR5Cf30BvAR5P8PF7GBoWvmzJImVFedJqZeUVMXEJi+fr9NkzLpncmFEjd23ZeMnF3dTccpVBb2ajMLNLb2nOhukWqz1k2bhHlg3POzv2WVnv73Q2vHwEBfgNFi/AEwg+fg9D34Qv01ukrCBPXOeMjZWq9uLVpltsjx4aN2Z02LuP1255z1SZrrdAt8t7213QRQMAgMHIzsaKl5fXyc3Dy9dfUIB/zcplfLw8p8459PHThCjoaGl4ujuZ7dy30ngzQoiPl+eCrQ1ptlKEEIGAmpqaOnOuEIPBBPjcNNu1z97hir3DFWLhVlPj87Y25Ku9ff8Rj8erKCvSdT/6t+ZsXGWybMzR8LzqZLZr38r1Ldk43YNs3LlpZtEmG6f/ZUNpmvyz+14bzfcsXrWOWKK3QPeGswM9d6nDdsIDoAAAgDlhMBjfm1dXGuj16lbKyiuI98RZHLAOCnmVFk+HiUZ7qLGxMTouAY/HT1ecNmTIkB7WlpWT+zM1nY+XV2qSODcXF11a2G1Y/jH3799ftWpVD+tpzsbSvsrGQeugkFdpcQMxG2npfLy8UpLUs9HQ0Jic8r24pER2sjTVyTvoCCtAmQ0YRQMAgEGntq5OW2+lirLiRbvjxN/gmj9/Xoa9nTpFhtFNQwghLBZLxwlCJ4wb2xszwg9UtXV12ktWqigrXrSFbCBWVqy8nCy9NtdV0EUDAIBBh5ODQ4Cfz/nazYrKykXztMvKK2773M/LL7zm1O5somCQaJUNXe2yipZsXIZs9DXoogEAwGB057qr/SWn0DfvPO/6DRs6dNrUKU/ueaqrqTC6XYDx7ni42l9yCn1Llg1fyAYDQBcNAAAGI14e7jPHj5w5fqSisoqbaxjczwhImrOBIBsMBl00AAAY1Hh5GHmbHmBmkA3Ggq4xAACAvvA8NOx+wBNGt+KfxsbG2ro6RrcCIMR82WASMIoGAACgL5y/7JqByzRcps/ohqDQsPDDJ+ySU743NjZNGDd2944t2zauJ53Ow+PxirN1mxpbPZVywvixz/y8GdHYQeG8E1NkA4/HK2pQO/T3vRFCYeEfLA8dpfpGBXm5226X6d4e6KIBAAAYRMLCPyxcsZaPl2fD2tWsWOzDp0EWB6x//y6xObyPuEJufkFicorsZCkB/n+PEif/GwxUtA89BoPBslL2murr6n+kpYu3PCSKvqCLBgAAYBA5fd6RQCB8DntOfNSjrc3hCZOVLjm7Wx/YTZwKNT0jEyHk5X5FTnYyY5sK+ljzob9K/dDPmT0z5l0oRaHFQevKqirXS/a90R64Fg0AAAa4uvr6E2cuSE5TGyo8UUpx5rbdB6uqq0lLwz9E7NxnJa00a6KM0tqN291veTc1NZ/o2WKx32SbRVpGptmufRNllLSXrPTxe4gQcnC5pqw5f5SE3KIV/6Wm40hVGZluPXPJKSIyysh060jxKXIqc845uuDxeKqtKq+o3LH3sJyq1phJ8ivWbXoeGtb5NvdEbl7+2NGjiP0zhBA3F5eyonxDY0NdfT2xJDUdh8FgJMRF6bI5JldXX3/C/oKkgtrQkROllKhlY7+VtPKsibJKaze1ycb2lmzIKmnrt2TD9ZrynPmjJOUWrWw/GxJT5FTnnLtMMxv7DsupaY2ZJL/CmFo22m9zT6RmdO3Qh7x+43bD08vdeeSIXnnwAIyiAQDAALdj72Hvew/+M1wuLyebgcu67umTmJzy4eVThNDb95/mGazm5eE2WmEgKCjw6s078z2HcJlZ9iesEUJxicl5eQWv377n4+XVVJ/p9+hJ+IcIX//Hr96+W6CjNWHc2OCXr+YtNUyL/0y8kCss/ENMXMKFy66a6jM3r//v5ZtwqxN2aRm4tjPi5uYXaC4wKP5dsm71Cl4enpCwt/qr158/fcxi2+YO29xDSxfPv+Ts/jw0bIGOFkLoR2r62/ef5mqqDxs6lLhCOg43fuyY6uqasPAPv4qKpSdJ0OVZQ8xpx76Wz3mKbEZm1nVPn8RvKR9CWrKxrCUbAgKv3r4z30uWjSRq2XjQOhsGhmlxLdl49yEmPuGCU+tspLeTjYWts2G0/vwpsmy03+YeSs8gO/TFxdKStA59SWnZph17VhksmTN7Zs83TRV00QAAYCCrr//r4/dwoe7cGy7NT4AWFZmw+9Cxn2kZkuKi9x4+xmKH/IyN4OPlQQgdsDSXmKoS+DyU+DOMECosKjppfdBq7y6E0OoV+otXrgv/8Ckh4o2kuChCyHS7pZevf1pGpmTLwEM6LuuC7XHL7ZsRQieO7Nddanjrzr2tpsYK8nLkrbI6bpeZnfMpNHC60jSEkM3hfYtWrj183Hbd6pUC/Hy020xez++SUrcbnu3t+/IlCydLTaIoNDczfR3+YYmhsep0JQ4O9rfvP40eKXza+iBphbSMzMqqKjG5GX9qa4klCvJynu5O0pISXfjc+4N/n3PL08FFJ07YffjYz/QMSbGWbMSQZUNeJfBF62wcacnGcv3Fq1qyISaKEDI1t/Ty9U/DZRJfIlI2tm1GCJ2w2q9rYHjLh1o2TrRkQ3EaQsjm0L5Fq9YePtEmG9TaTF5PN7KRhsusrKoSm9r60F+lfuh37rcqr6i0s7Hq+IPuLuiiAQDAQNaEb0IIhX+IiEtIIj5t0Hyziek6Iw52doSQpbnZDjNT4m8wQujv3798vLwVlZWktw8ZMmTfzm3Ev+VkZRBCc2bPJPWTNGapefn6p/z4SSrh4+Wx2LaJ+DcLC8vhPbvevv/08k04+c9waVm574NHSgryxP4ZQoiNjXXT+rVv3n189Cx4o/Ea2m0mV1xScuJMuw8mkhQXbfszzMfLO2Hc2PjE5KjYOFYsKx6Px2KxVdU1pBXSMjKrqmtOWR9cunjB75ISL1//m96+y9aYRL17SRppGxh6JRst/SSNmWpevv4p33+SSvh4eSy2di4b0+SJ/TNEzIbx2jfvPj4KDN64rovZsO9aNv4d+kUth/6O77K1JlHhlIf+2/cf/o+fHd6zc/zYMbQ+4p6BLhoAAAxkQzk5jx7ce+z0WSWNedKSEprqagt05+pqaRBP30hJiJeUll1ydv/8NTozOyctHVdZVTV6pDDp7aNHCrOxsRL/Jv4Kjh41krR0yBAWhNDfvw2kEnExUQwGQ3o5WXoSQigDl0XepJ9p6QQCoaa6xsh0K6mwsrKatCbtNpOTkhCvKkhvb9/ZWFnbFmosWJr07bvzxTOGy/Q5ONhfhIZtsdivt2pdwuc3E8ePQwjdcnVgZ2eTkZZCCEmIiahOV+Ll4b7g5PboWfB/hiva21Z/NJST8+iBvcdszypptnzOOm2y4eL+OTI6M6dz2RjZJhsNZNkQbZ0NqfazUdM6G1Wts9F+m8lJSYhX5XctG7dcqB36K1QO/XknVzY2VsvtW9qrny7gdgEAABjgrPbu+hHzyXq/JedQTvdb3ksMjeVU5xQWFSGELji5TZisaHveoaGhQVtT/aarg9oMZfL3th03YmHBoPaNEm513fSwoZyo5febpKS0DCHExs7GimUl/RMU4F+zctlkackO20wOg8FwcnC096/tz3bKz9Skb981ZqluNTXm5+Pl5OAw0Fu4fs2qP7W1j549J66jIC9H/JEmWaAzFyGUnPKDxo73U1Z7d/2IJvucV5Nl44rbBBlF2/MODY0N2hrqN116nI2R1LLB0U42yDRnQ4osG+20mVxXs4E6feizc/N8HzzWXzhfgJ+Pxv72HIyiAQDAQPb3b8Of2tqJ48cet9p/3Gp/YVHRmQtOLh63XNxv7dq2yeqEndBwwe/RH7i5uIjr21106snmiNMWkGRl5yKEJCXEyAtFJo5HCEmIiXhdu0IqbGpqqqquGcrJSbvNp44eJK+qsKjI9pxje40x+W81xXVOiUkpCCGNmarkhdpzZju4XCsvL0cI5eTlf42OVVKQJz+BlZGZhRASGj68Ex9Af/Lvcz68//jh/YVFRWcuOrl43HK5dmvX1k1WJ+yEBFtn41IvZEOcWjZERbzcO8pGmzafsm6TjfOO7TXGZC1lNnLy8r/GxCpNa33os7IQQkJCrQ79dc87jY2NpuuMOrff3QejaAAAMJC9ef9h+ETpew8fE1+OHDFi765tCKGy8vLsnFw8Hm+weAHpNzgnLz8+Mbknm/uZnkE+1cJtn/sIIfkpMuTriIuICA0XfPk6vKGhkVRo7+A8fKL015hY2m2m2Fx5ReUN77vt/UtvfRINIUQciXnwJIi80P/RM4SQ7GRphFBZWfmq9WZnWvdT/R49RQipq87o4ofB7N68/zBcpPXnvLN1NvR6Mxt3289GWJtsiJBlo502U2yug2xkUmaD+qEPoHLoX4a9E+Dn05o9q+ufQdfAKBoAAAxkajOURwgNP33OYezo0fJysukZOOI42cJ52pISYlzDhvk9ejpfR2uShPinL19tbM/xcHNV1/z5kZo+qfXQVyc1NTUtX2t60vqApLhowLPnV9xvrDTQm9X6F46NjdX22GGzXfuMt+w4YGHOzc39NDjE7oKj9pzZxFNpNNpMsTkpCfE/vzI737zJUpI6WhqhYeELV6xdu2rZxPHjHgc+v/fg8WSpSfqL5iOEpshIqygrXvf0EeTnN9BbgMcTfPwehoaFL1uySFlRvhsfCDNr/pzPk33Ol5wQQgt1ybKh3ZINu5ZspKVPEu9uNv4zPXmELBtLO5GN5yF2Fx21NVtng1qbKTYnJSH+pzCz881rPvRePoIC/AaLF+AJBB+/h6FvwpfpLVJWkCetVlZeEROfsHi+DumJYb0HumgAADCQcXNxeV9zNtlmMVev+XpnDnb2U0cPLtSdixC67nxp0449S402IIQE+Pku2p0YNpTTZJvlVDWtumLKYYbO0NKYNWbUyFXrzYizkmrMUnW+cKbtaqbrjP7U1h46dpo4goXFYjeuMzp19BDxcnLabe4JFhYWn+uuFges7z18/PL1W2KhuprKdedLxCvfMRhMgM9Ns1377B2u2Ds0n2vbamp83tamh5tmQv8+5yVkn7N162ys2YCI2bA9MWxYSzaKupWN2bPGjB65akNH2fjP6M+f2kM2p/0fk2XDuk02qLW5JzAYTMCdm2YWbQ796VaH/u37j3g8XkVZsYeb61STCARCH2wGAABAV2EwGN+bV1ca6PW8qj+1tYnJKdk5ecMFBWSkJ40gu7ampLQsLiFp1MgR0pMkib+CJaVlZeUV4qITu7oVYTFZpWnyQQ/ulJVXRMfGjx49cvIkSRrrV1VXxyUkVdf8kZ0sNW7M6M63uedy8wu+pfyoraubJCk+SVyM/E5Doqyc3J+p6Xy8vFKTxEkn+3oOyz/m/v37q1at6mE9zdlYSr9s5OYNF6CWjcSkUcL0yIa4rNI0+SD/O2XlFdFx8aNH0SMb1Nrcc1k5uT/T0vl4eaUk6XnoO4QVoMwGdNEAAIBJ0bGL1jdIXTRGN4R5MWEXrW+QumiMbgjzattFg9sFAAAAAACYDnTRAAAA0MdIYeHhggKMbgVgRpCNboDbBQAAANBH/KfXjG4CYFLxHyEbXQajaAAAAAAATAdG0QAAYJB6HhpWWVVluEyf0Q1BHrfvFJeUIoSkJcUN9BZSvCRfs7GxEYPBUH16DxEej++DCatIQsPCv8bGI4Q4OTh2m5v12XZ7GxNlw/NO8W+ybLR+Sb5mh9nooeqaGq5hw9pb2jZ4oW/Cv8bEI4Q4OTl2b+9ONqCLBgAAg9T5y64ZuExm+Bm+cvVGZnbO6FHC87W1DPQWUrwkrnPXP8DV43ZcQlJjU5OYyITtm022bVxP+lH8mZbhdv320+CQispKtRnKltvNtDQ6O/k7Ho9XnK3b1NhEXjhh/Nhnft4dLv0SHXvnnv+vot+srNiB1EU779TfsnG9JRsT/2UjLPyD5aGjVKtVkJe77Xa5Mw2IjU+0OnkmKjaurLxCWEhoycJ5Z09a83BzE5f+TG8dvG3/gvclKvbO/ZZsQBcNAABAP6WupkI+WwfFS+97D0y3W04SF9u1bVNtbV3A0yCLA9blFZVH9lkghGrr6gzWbMjLLzRaaSDIzx/wLEh/9frghz7qaiqd2XRufkFicorsZCkBfn5SIelv2kut91ta77c02WYRFPKqB3sPaFFXUyGfrYPipfe9B6bmlpPExXZt3VRbVxfwNMjiYHM2MBgMlpWyn1NfV/8jLV1cTKQzm46Ojdc1MMRisUYrDAT4+fwCnnp43olNSPoU+oyFhaW2rs7AaENeQaHRCgNBAf6Ap0H6RuuDHzQHrzkb27ufDeiiAQAAYHaXnK9KiIl8eh1IHL3Yb2kuPnWGm8dtYhft6Cn7H6npgf7e87W1EEI7t25UUNcx3b47NS6iM5UTH+/t5X5FTnZyV5cChrvkclVCVOTTq5ZsWJiLy89wu377yD6LObNnxrwLpVjf4qB1ZVWV6yX7zlTucv1WbV1dRGjQ1CkyCKHjh/frGhiGhX8IeBa8Qn/x0VP2P9LSA/3IgjdLx9R8d2psp4LXIbhdAAAA+iuLA9YaCwwKfhWRF261PDB/mdHfvw3El+EfInbus5JWmjVRRmntxu3ut7ybmpraVrVhq4Wx2U7ykrOOzhoLDBob/z3Nuryicsfew3KqWmMmya9Yt+l5aFgv7BMVFZVVySk/5mtrkc4ujR4pPEd9Vml5GfFh2553/abISBN/JhFCwiOEdLU0cFnZkVGxnak/NR2HwWAkxEW7sZRpWRy01ljYiWzst5JWnjVRVmntpvazsc3CeEubbCxsk419h+XUtMZMkl9h3OfZ0Gk3GxRCXr9xu+Hp5e48csSIztQfERk1VVZmKtmz3jesMUQIfY2ORQh5+rYOnpCQ7lwNXFZ2ZHSngtch6KIBAEB/JSY68ePnyEfPgkkl+YW/bnr7CvDzEZ84+fb9J92lhvcDnuhqaZoar8nJyzffc+jISSoPRoyJS4iJSyAvSUvHffwcicc3P4EmN79Aabau970Hs9VmbFhjmJmdo796/WU3j97cv2ZY7JC3wQH7Lc1JJRWVVYnJ33TmaLCyYn+XlJaVV2hrqpO/RUJcDCEUFRffmfrTcbjxY8dUV9cEhby66e0bERlF3lOhvZRpiYlQy8ad1tkwaMnGujU5efnme3uQDY2WbKw1zMzO0Tfqw2wEBey3oJ4NipVLSss27dizymDJnNkzO1N5Q0Ojrpam+WYT8sKcvHyEED8/X3PwNFoHT0wMIRQV26ngdQhOdAIAQH9ltMLgwNFTD58Ebt+0gVji/+gpHo8n/kcfIXTv4WMsdsjP2Ag+Xh6E0AFLc4mpKoHPQ+1PWHd1W1bH7TKzcz6FBk5XmoYQsjm8b9HKtYeP265bvVKAn498zd8lpW43PNurZ/mShZOlJnVp08OGDlWboUz8+7KbR3ZOXvDLV014/KE9OxFCP9PSEUIjhYXJ3zJJXAwhVFz8uzP1p2VkVlZVicnN+FNbSyxRkJfzdHeSlpTocCnTMlphcODYqYdP22RjbetsxJBlQ14l8EW3snGiJRuK0xBCNof2LVq19vAJRmQjNy/45aumJvyh3Tvbrrxzv1V5RaWdjVUnK2dlxV4+e5q8pKj4t9v126ys2MXzdJqDN7J18CTEEELFvzsVvA5BFw0AAPoroeGC87XnPA8NKyr+TXyS9P2AJ2NGjdSeM5u4gqW52Q4zU+JvMELo79+/fLy8FZWVXd1QaVm574NHSgryxP4ZQoiNjXXT+rVv3n189Cx4o/Ea8pWLS0pOnLnQXlWS4qJd/Rkmd/TUWWJXabLUJE4ODoRQWkYmQoiiKzBh3BiEUHlFp/Y0LSOzqrrmlPXBpYsX/C4p8fL1v+ntu2yNSdS7l8OGDqW9tNs70tvazYZm72Rjmjyxf4aI2TBe++bdx0eBwRvXtcmGfa9l4zRlNsh9+/7D//Gzw3t2jh87pnv1B4W82rxrb/Hvkkt2J2QnS3n5+qOeBa9D0EUDAIB+zNhoZeCL0MeBL8xM/svMzomMij20eydpKgopCfGS0rJLzu6fv0ZnZuekpeMqq6pGt/5/f2f8TEsnEAg11TVGpltJhZWV1QihDFwWxcpSEuJVBentVcXGytrVrZOrzE9LTcd9/BxpfdJeVXsRLukrOzsbQqi0rJx8tZo/tQghfj7eztR5y9WBnZ1NRloKISQhJqI6XYmXh/uCk9ujZ8H/Ga6gvbQn+9LbmrMR9MJsw3+Z2TmR0dSy4eL+OTI6M6fH2ahpnY2q9rOR32vZyGvJxil7VZ1FuMSv5BecnXdyZWNjtdy+pRs1p+Oy9h6xCXwRKi460fua81wNdYQQ9eDVdCF4HYJr0QAAoB9bNE+Hn4/34dNAhJBfwFOEkPGaVaSlF5zcJkxWtD3v0NDQoK2pftPVgXRWqEPkvz0lpWUIITZ2NlYsK+mfoAD/mpXLJktLUrwRg8FwcnC0968bM4sSCAQ8Hk96KSEmsmGtod1xq4aGxucvw4g/w7jMVr2B0rIyhNDw4YKdqV9BXo7YAyNZoDMXIZSc8qPDpcxska4OPx/vwyeBCCG/R22yccVtgoyi7XmHhsYGbQ31my5dyUZ5Oenvf9kg05wNKQZlw8aqoaGR/JaF7Nw83weP9RfOpxj06gwfv4eKs3XCP0TYn7CO//hmbsvFZ7SCJ9ip4HUIRtEAAKAfY2dnW2Ww5Ia3b0lp2f2AJ6rTlSRb7j0s/l1idcJOaLjg9+gP3FxcxEK7i07UK8Jg8AQ8ecHP1H+jHSITxyOEJMREvK5dIRU2NTVVVdcM5eSkqKmwqMj2nGN7DTb5b7WCvFyn9w8hhM46OluftH/m571AR4tUSHwmd05e/jztORgMJiMrm/wtCUnfEEIzWk690ZCTl/81OlZJQZ78/FdGZhZCSGj4cNpLu7QXfY9KNsRaZ0OwdTYutZ8NfEfZEBXxcu9cNs47ttdgk7XdysYp+2f3qWUjN59Uct3zTmNjo+k6oy5VjhAKCnm1YZuFirKiz3VXijOkEuKiGAwmI7N18JI7G7zOgC4aAAD0b8ZrVrnf8j5/2SU+Mdn98nlSeXZOLh6PN1i8gPQbnJOXH5+YLCxEpW8xcfzYV2/fNTQ0Eu+D+/b9RxoOR1oqLiIiNFzw5etw0goIIXsHZxvbc+HPH81UmU5eVXlF5Q3vu+21dvZM1a7+DE+ZLI0QevXmHfnP8HVPH4TQVNnJo0cKq6upvP/4OR2XJSYyASHU0NDo++DRmFEjO7OhsrLyVevNNm/4z83hLKmQOOakrjqD9tIu7QVDGBvRzIYe/bIR1iYbdufCg/sqG29bZ8OrORukkpdh7wT4+bRmd/aBEyRHTp3h5eH28/QYJUw5SUdz8D51M3idAV00AADo32YoKUiKizq4XBvKybnSQI9ULikhxjVsmN+jp/N1tCZJiH/68tXG9hwPN1d1zZ8fqenEW89IpispBL98bbrdctP6tWkZuPOXXXh5eH6XlBKXsrGx2h47bLZrn/GWHQcszLm5uZ8Gh9hdcNSeM7vt2TEpCfE/vzLpuIMLdLRkJ0s5X7vJy8szb65mXn7BgyeBgS9ClRTkF83TRggd3rNTz9B4tckWq727+Pn4zl12ycjMfnrfE4PBIIQcXT0OHjtlfWD30QO721Y+RUZaRVnxuqePID+/gd4CPJ7g4/cwNCx82ZJFyoryBAKBxlI67mMvmaGkICkm6uB6bSgn58ql1LKh3ZINu5ZspKUT74clma6oEPzytam55SbjtWm4TmTjeYjdRUdtzXayUZhJxx38lw0ennlzNfMKCh48Dgx8Eao0rTkbCKGy8oqY+ITF83XaPrzV0c3j4LFT1vupZ6OsvCI55Ye8nKyD81WKRRqz1BbN024OnukWqz1kwbvXHLyegy4aAAD0e2sNV9jYnjPQW0iawBMhxM3Fdd350qYde5YabUAICfDzXbQ7MWwop8k2y6lqWnXFra6h2bNjy+fIaN8Hj4jDAMQL4c86OpNWMF1n9Ke29tCx0/6PniGEsFjsxnVGp44eotevEQ0sLCwBPjeNzXaetL940v4isdBAb6Hj2VNYLBYhpKOl4enuZLZz30rjzQghPl6eC7Y2pAlF8Xh8U1MTgUCgWjkGgwnwuWm2a5+9wxV7h+ZTdVtNjc/b2nS4tF9Ya7jCxq79bKzZgIjZsD0xbFhLNoraZOMrzWz8Z/TnT+0hm9P+j8myYd1X2bhz03jLzpNnL548S5YN++ZsIITevv+Ix+NVlBXbvp12Nj59+UogEGLjE2PjEykWYTCYRfO0deZoeF51Mtu1b+X6luCd/he8nsO01zIAAACMhcFgfG9eJR8Y64aS0rK4hKRRI0dIT5Ik/mSWlJaVlVeIi05su3Lx75L8gkI52cnt/bhWVVfHJSRV1/yRnSw1bszonjSMnJzKnHFjx5AeyknxkgiPx+Oycn6kpnFycEhKiI0ZNZKiksbGxui4BDweP11xGsWF53YXnUQnjl+9fCmNNmTl5P5MTefj5ZWaJE46/dfJpcRndBZlJHe4p1j+Mffv31+1alWHa9LWnI2lPc5GYtIoYebOhuqccWPHkB7KSfGSqMNs0NCZbNBGI3gIIeIzOovSO5ENAcpswCgaAAAMZIIC/HNbz7wvKMAvKMBPdWWh4YJCNO+C5Obi6uSzyemOhYVFTGQC8aIfqrBY7AwlhbblaRmZt+/cex34gHb9E8aNnTBubPeW9lOCAvxzNQZFNtqTlpF52+fe62cdZIO29oLXczDpBgAAAMaLT0xebbLF0dWD6sueyMBlPr53m47jOuRu+9xfbbLl3cfPvVE5IGoOg5sH1Zc9kZGZ+diXebMBo2gAAAAYTEdLIycvH48nEK+9oXjZQ7pzNXteSXsIBAIeT1CcNpWba1jvbWUw09HSyMltnY1c+mVDS7PnlbSHgAh4PEFRfio3dzezAdeiAQAAk6LLtWiAqTDVtWiAqbS9Fg1OdAIAAAAAMB040QkAAKADHrfvFJeUIoSkJcUN9Bb2zUYbGxsxGAyNhwLh8XiKma5Cw8K/xsYjhDg5OHabm1G87O0GD04enneKf1PPRnVNDdewds/xtT18nddhNtoKfRP+NSYeIcTJybF7uxnFy+41o7dBFw0AAEAHrly9kZmdM3qU8HxtLQO9hXg8XnG2blNjE/k6E8aPfebnjRCivbQz7voHuHrcjktIamxqEhOZsH2zybaN60k/5z/TMtyu334aHFJRWak2Q9lyu5mWRvOs8V+iY+/c8/9V9JuVFbvb3IziZU8/BUANRTYQQrHxiVYnz0TFxpWVVwgLCS1ZOO/sSWvSrGw/01sfvm3/Dl9n3PUPcL3eko2J/7IRFv7B8tBRqm9RkJe77Xb5S1TsnfstYdhuRvGy559Db4ATnQAAADqmrqbyPfqj49lTCKHc/ILE5BSWISzDhwuS/gnwN0/WQHtph7zvPVi/ZVd5ecWubZu2bVxfXV1jccD6zKXmaWNr6+oM1my4deee7lzNrabr0zJw+qvXv//UfNOc9X7L79Efly6eT/Ul6CXqairfoz462p9CCEXHxmvrr4yJTzBaYWC935KXh9vD847u0tXEp3zW1tUZGG24deeerpbmVtP1aek4faN/h69D3vcerN+6q7y8YtfWTds2rq+uqbE42JwNDAaDZcVS/Gtqavr242dlVRUihiGqdTaimD0bMIoGAACga9IzMhFCXu5X5Mgeg9jJpR265HxVQkzk0+tA4rjLfktz8akz3DxuH9lngRA6esr+R2p6oL83cQ73nVs3KqjrmG7fnRoX0f39AfTjcv1WbV1dRGjQ1CkyCKHjh/frGhiGhX8IeBa8Qn/x0VP2P9LSA/3IDt8sHVPz3amxnTp8l1yuSoiKfHrVkg0Lc3H5GW7Xbx/ZZzFn9syYd6EU61sctK6sqnK9ZE/vvewjMIoGAACga1LTcRgMRkJctBtLaauorEpO+TFfW4t0Xmz0SOE56rNKy8saGhoRQp53/abISJOesSM8QkhXSwOXlR0ZFdutXQF0FhEZNVVWhtg/I9qwxhAh9DU6FiHk6dv68AkJ6c7VwGVlR0Z3fPias6HTbjYohLx+43bD08vdeeQIyieg9xcwigYAAKBr0nG48WPHVFfXhIV/+FVULD1JgvzRN7SX0obFDnkbHCAy8d808RWVVYnJ33TmaLCyYn+XlJaVV2xYa0j+FglxMYRQVFz8dKVp9NtF0B0NDY26WprKCvLkhTl5+Qghfn6+5sO3pvXhExNDCEXFxk9X7ODwYbFD3ga1mw2KlUtKyzbt2LPKYMmc2TN7sEMMBl00AAAAXZOWkVlZVSUmN+NPbS2xREFeztPdSVpSosOltA0bOlRthjLx78tuHtk5ecEvXzXh8Yf27EQI/UxLRwiNFBYmf8skcTGEUHHxb7rtHuguVlbs5bOnyUuKin+7Xb/NyopdPE+n+fCNbH34JMQQQsW/Oz58lNnIzQt++aqpCX9o9862K+/cb1VeUWlnY9XtfWEGcKITAABA16RlZFZV1xw9uCcl6sP7kCebN/wXn5i8bI1JzZ8/HS7tvKOnzl5280hNxwkKCHBycBBrRggJ8PORrzZh3BiEUHlFJZ12DtBNUMgr+Vlz8woKz508JjtZio6H7+jplmwINmeD3LfvP/wfP9ttbjZ+7JietJ/hYBQNAACYFAcHR/3feka3gopbrg7s7Gwy0lIIIQkxEdXpSrw83Bec3B49C/7PcAXtpZ3fSmV+Wmo67uPnSOuT9qrai3BJX9nZ2RBCpWXl5KvV/KlFCPHz8dJxB3tJbV0dQoiTk7PnVXFwcNTXM2M2iNJxWXuP2AS+CBUXneh9zZn4sHbqh6+mO4evMq8lG6fsVXUW4RK/kl9wdt7JlY2N1XL7lp7vSJ+hmg0YRQMAACYlIMD/u6SM0a2gQkFejtgDI1mgMxchlJzyo8OltBEIBOLsDEQSYiIb1hraHbdqaGh8/jKM+DOMy8wif0tpWRlCaPhwwW7vTp8pKS1DCAkK0qGpAgL8v0uZMRsIIR+/h4qzdcI/RNifsI7/+IbYP0MI0Tp8nfhMqGfDxqqhofF5aBipPDs3z/fBY/2F8ymG65gc1WxAFw0AAJiUtLR0csp3RreCUk5efsDToOzcPPLCjMwshJDQ8OG0l3ZY+VlHZzbBceS/uAih4YICxO1KiItiMJiMrGzypQlJ3xBCMzq62JwZEI+mlJRUh2t2SFpaOvkb02UDIRQU8mrDNospMtLxn8L27dxGHDkjaj58ma0PX3JnD99ZR2e24e1kIzefVHLd805jY6PpOqMe7kgfo5oN6KIBAACTUlVVe/PuI6NbQamsrHzVerMzF53IC/0ePUUIqavOoL20w8qnTJZGCL1684688LqnD0Joquzk0SOF1dVU3n/8nI5rHolpaGj0ffBozKiRCvJyPdqrPvHm3UdJSQkBAYGeV6WqqvbmPdNlAyF05NQZXh5uP0+PtteBNR++T908fM3ZeNs6G17N2SCVvAx7J8DPpzW7C08sYAZUswHXogEAAJNavHjx6dOno2PjFadNZXRb/pkiI62irHjd00eQn99AbwEeT/DxexgaFr5sySJlRXkCgUBjKbEGR1ePg8dOWR/YffTAborKF+hoyU6Wcr52k5eXZ95czbz8ggdPAgNfhCopyC+ap40QOrxnp56h8WqTLVZ7d/Hz8Z277JKRmf30vicGg+njz6Gr8Hj8o2fPly5bTpfamDMbZeUVySk/5OVkHZyvUizSmKW2aJ528+Ez3WK1h+zw3ft3+BzdPA4eO2W9n2Y2eHjmzdXMKyh48Dgw8EWo0rTmbBAbEBOfsHi+Tref/skQeDz+USCVbEAXDQAAmNSMGTNkZCa7Xr99w8WB0W35B4PBBPjcNNu1z97hir1D83OZtpoan7e16XApER6Pb2pqIhAIbStnYWEJ8LlpbLbzpP3Fk/YXiYUGegsdz57CYrEIIR0tDU93J7Od+1Yab0YI8fHyXLC1IU2FysxCXr9Nx2WamJjQpbbmbNy4fcOZibLx6ctXAoEQG58YG59IsQiDwSyap60zR8PzqpPZrn0r17ccvtOtDl8H2bhz03jLzpNnL548S5YN++ZsIITevv+Ix+NVlBV7Zfd6TXvZgC4aAAAwr0OHDm/YsGHX1k3k07Uz3Aih4Y99b2fl5P5MTefj5ZWaJM7NxdXJpQihPTu21NXXi04cT7Vy0YkT3r14jMvK+ZGaxsnBISkhNmbUSPIVDJfpL1+yKDouAY/Hd35SXMZqbGw8dNxWT09PRoZux7E5G1uYKBuL5mk3lubRXof24dtjvqWujmY2ntPKhoHewg4bwGxoZAO6aAAAwLzWrl177dq1nQeOhAc/YrZzeRPGjZ0wbmw3lqZlZN6+c+914IP23svCwiImMkFMZEJ7K2Cx2BlKCl1qLWNdvemVmpYR8OgJHetk5mzQRuPwpWVk3va59/pZ97PR71y96ZWanhHwmEo2+tPJWgAAGGwwGIyDg8PnyGjnazcZ25L4xOTVJlscXT16XlUGLvPxvdvjxozueVUUbvvcX22y5d3Hz1RfMsr31LTjdhf27NkjKSlJx2qbs/GVabLhRo9sZGY+9h1k2TjTbjZgFA0AAJiaoqLi6dOn9x05KjpxAumy6D6mo6WRk5ePxxOoXiTUVbpzNXteCVUEAgGPJyhOm8rNNaztS4YoLSs3MDIRl5A4evQo3StvzoY1o7ORS79saGn2vBKqCIiAxxMU5adycw9r+5IhSsvKDdbQygaGLp8pAACAXmViYhLw8GHIo3uk+yIB86usqtJbZZxX+OvLl8gRZNPf09e/bLR+fjlgZpVVVXqGHWQDTnQCAEA/4O7uPktdfe6SFQ+fBDG6LaBTMrNz1OcvzcjKCQwM6r3+GSLPxlPIRv/QyWxAFw0AAPoBNja2p0+fbty4abXJluN25+vqmPf5jAAh9Dw0TE17MSsb+5cvX+h4FydVrbJx5nwdEz+7EyBiNnQWs7J3nA3oogEAQP8wZMgQJycnV1dXR7frcqpzHgc+Z3SLABWp6Th9ow16q9bN1dZ5//7DuHHj+mCjkI1+oTkbhp3NBnTRAACgP9m6deuPHz/UZqmvNN6spDHf7YZnbn4BoxsF0J/a2mfPXxpu2CKnOic7r+DNmzd3797laj0hXG/7l431m5U0IRvM4l821OZk53chG3C7AAAA9EtRUVFOTk4BAQE1NTXjxo4RE5kowM/HwtKf5scaGCqrqnPzC1LTMpqamtTU1LZu3WpoaEia754hqGSDD7LBAJXVPcoGdNEAAKAfq6ur+/DhQ0xMDA6HKysrw+PxjG7RoMPNzS0sLDx16lRNTU1hYWFGN+cfyAbD9TAb0EUDAAAAAGA6cC0aAAAAAADTgS4aAAAAAADTgS4aAAAAAADT+R/f5B/IlgGh6wAAAABJRU5ErkJggg==\n",
      "text/plain": [
       "<IPython.core.display.Image object>"
      ]
     },
     "execution_count": 601,
     "metadata": {},
     "output_type": "execute_result"
    }
   ],
   "source": [
    "import graphviz\n",
    "from sklearn.externals.six import StringIO\n",
    "from sklearn.tree import export_graphviz\n",
    "import pydotplus\n",
    "import graphviz\n",
    "\n",
    "# Export our trained model as a .dot file\n",
    "with open(\"model_tree.dot\", 'w') as f:\n",
    "     f = tree.export_graphviz(model,\n",
    "                              out_file=f,\n",
    "                              feature_names = feature_names,\n",
    "                              class_names = ['Died', 'Survived'],\n",
    "                              filled=True, \n",
    "                              rounded=True,\n",
    "                              special_characters=True)\n",
    "        \n",
    "#Convert .dot to .png to allow display in web notebook\n",
    "check_call(['dot','-Tpng','model_tree.dot','-o','model_tree.png'])\n",
    "\n",
    "# Annotating chart with PIL\n",
    "img = Image.open(\"model_tree.png\")\n",
    "draw = ImageDraw.Draw(img)\n",
    "img.save('sample-out.png')\n",
    "PImage(\"sample-out.png\")"
   ]
  },
  {
   "cell_type": "code",
   "execution_count": 602,
   "metadata": {},
   "outputs": [
    {
     "data": {
      "image/svg+xml": [
       "<?xml version=\"1.0\" encoding=\"UTF-8\" standalone=\"no\"?>\n",
       "<!DOCTYPE svg PUBLIC \"-//W3C//DTD SVG 1.1//EN\"\n",
       " \"http://www.w3.org/Graphics/SVG/1.1/DTD/svg11.dtd\">\n",
       "<!-- Generated by graphviz version 2.40.1 (20161225.0304)\n",
       " -->\n",
       "<!-- Title: Tree Pages: 1 -->\n",
       "<svg width=\"617pt\" height=\"433pt\"\n",
       " viewBox=\"0.00 0.00 616.50 433.00\" xmlns=\"http://www.w3.org/2000/svg\" xmlns:xlink=\"http://www.w3.org/1999/xlink\">\n",
       "<g id=\"graph0\" class=\"graph\" transform=\"scale(1 1) rotate(0) translate(4 429)\">\n",
       "<title>Tree</title>\n",
       "<polygon fill=\"#ffffff\" stroke=\"transparent\" points=\"-4,4 -4,-429 612.5,-429 612.5,4 -4,4\"/>\n",
       "<!-- 0 -->\n",
       "<g id=\"node1\" class=\"node\">\n",
       "<title>0</title>\n",
       "<path fill=\"#fcf2eb\" stroke=\"#000000\" d=\"M326,-425C326,-425 218,-425 218,-425 212,-425 206,-419 206,-413 206,-413 206,-354 206,-354 206,-348 212,-342 218,-342 218,-342 326,-342 326,-342 332,-342 338,-348 338,-354 338,-354 338,-413 338,-413 338,-419 332,-425 326,-425\"/>\n",
       "<text text-anchor=\"start\" x=\"241\" y=\"-409.8\" font-family=\"Helvetica,sans-Serif\" font-size=\"14.00\" fill=\"#000000\">Title ≤ 1.5</text>\n",
       "<text text-anchor=\"start\" x=\"235.5\" y=\"-394.8\" font-family=\"Helvetica,sans-Serif\" font-size=\"14.00\" fill=\"#000000\">gini = 0.466</text>\n",
       "<text text-anchor=\"start\" x=\"226\" y=\"-379.8\" font-family=\"Helvetica,sans-Serif\" font-size=\"14.00\" fill=\"#000000\">samples = 712</text>\n",
       "<text text-anchor=\"start\" x=\"214\" y=\"-364.8\" font-family=\"Helvetica,sans-Serif\" font-size=\"14.00\" fill=\"#000000\">value = [[263, 449]</text>\n",
       "<text text-anchor=\"start\" x=\"238.5\" y=\"-349.8\" font-family=\"Helvetica,sans-Serif\" font-size=\"14.00\" fill=\"#000000\">[449, 263]]</text>\n",
       "</g>\n",
       "<!-- 1 -->\n",
       "<g id=\"node2\" class=\"node\">\n",
       "<title>1</title>\n",
       "<path fill=\"#ea9a61\" stroke=\"#000000\" d=\"M254,-306C254,-306 142,-306 142,-306 136,-306 130,-300 130,-294 130,-294 130,-235 130,-235 130,-229 136,-223 142,-223 142,-223 254,-223 254,-223 260,-223 266,-229 266,-235 266,-235 266,-294 266,-294 266,-300 260,-306 254,-306\"/>\n",
       "<text text-anchor=\"start\" x=\"138\" y=\"-290.8\" font-family=\"Helvetica,sans-Serif\" font-size=\"14.00\" fill=\"#000000\">Has_Cabin_1 ≤ 0.5</text>\n",
       "<text text-anchor=\"start\" x=\"161.5\" y=\"-275.8\" font-family=\"Helvetica,sans-Serif\" font-size=\"14.00\" fill=\"#000000\">gini = 0.242</text>\n",
       "<text text-anchor=\"start\" x=\"152\" y=\"-260.8\" font-family=\"Helvetica,sans-Serif\" font-size=\"14.00\" fill=\"#000000\">samples = 412</text>\n",
       "<text text-anchor=\"start\" x=\"144\" y=\"-245.8\" font-family=\"Helvetica,sans-Serif\" font-size=\"14.00\" fill=\"#000000\">value = [[58, 354]</text>\n",
       "<text text-anchor=\"start\" x=\"168.5\" y=\"-230.8\" font-family=\"Helvetica,sans-Serif\" font-size=\"14.00\" fill=\"#000000\">[354, 58]]</text>\n",
       "</g>\n",
       "<!-- 0&#45;&gt;1 -->\n",
       "<g id=\"edge1\" class=\"edge\">\n",
       "<title>0&#45;&gt;1</title>\n",
       "<path fill=\"none\" stroke=\"#000000\" d=\"M246.1184,-341.8796C240.6858,-333.1434 234.9008,-323.8404 229.2947,-314.8253\"/>\n",
       "<polygon fill=\"#000000\" stroke=\"#000000\" points=\"232.2451,-312.9418 223.9921,-306.2981 226.3007,-316.6383 232.2451,-312.9418\"/>\n",
       "<text text-anchor=\"middle\" x=\"218.3153\" y=\"-326.945\" font-family=\"Helvetica,sans-Serif\" font-size=\"14.00\" fill=\"#000000\">True</text>\n",
       "</g>\n",
       "<!-- 2 -->\n",
       "<g id=\"node5\" class=\"node\">\n",
       "<title>2</title>\n",
       "<path fill=\"#fae5d7\" stroke=\"#000000\" d=\"M396,-306C396,-306 296,-306 296,-306 290,-306 284,-300 284,-294 284,-294 284,-235 284,-235 284,-229 290,-223 296,-223 296,-223 396,-223 396,-223 402,-223 408,-229 408,-235 408,-235 408,-294 408,-294 408,-300 402,-306 396,-306\"/>\n",
       "<text text-anchor=\"start\" x=\"307.5\" y=\"-290.8\" font-family=\"Helvetica,sans-Serif\" font-size=\"14.00\" fill=\"#000000\">Pclass ≤ 2.5</text>\n",
       "<text text-anchor=\"start\" x=\"309.5\" y=\"-275.8\" font-family=\"Helvetica,sans-Serif\" font-size=\"14.00\" fill=\"#000000\">gini = 0.433</text>\n",
       "<text text-anchor=\"start\" x=\"300\" y=\"-260.8\" font-family=\"Helvetica,sans-Serif\" font-size=\"14.00\" fill=\"#000000\">samples = 300</text>\n",
       "<text text-anchor=\"start\" x=\"292\" y=\"-245.8\" font-family=\"Helvetica,sans-Serif\" font-size=\"14.00\" fill=\"#000000\">value = [[205, 95]</text>\n",
       "<text text-anchor=\"start\" x=\"316.5\" y=\"-230.8\" font-family=\"Helvetica,sans-Serif\" font-size=\"14.00\" fill=\"#000000\">[95, 205]]</text>\n",
       "</g>\n",
       "<!-- 0&#45;&gt;2 -->\n",
       "<g id=\"edge4\" class=\"edge\">\n",
       "<title>0&#45;&gt;2</title>\n",
       "<path fill=\"none\" stroke=\"#000000\" d=\"M297.8816,-341.8796C303.3142,-333.1434 309.0992,-323.8404 314.7053,-314.8253\"/>\n",
       "<polygon fill=\"#000000\" stroke=\"#000000\" points=\"317.6993,-316.6383 320.0079,-306.2981 311.7549,-312.9418 317.6993,-316.6383\"/>\n",
       "<text text-anchor=\"middle\" x=\"325.6847\" y=\"-326.945\" font-family=\"Helvetica,sans-Serif\" font-size=\"14.00\" fill=\"#000000\">False</text>\n",
       "</g>\n",
       "<!-- 5 -->\n",
       "<g id=\"node3\" class=\"node\">\n",
       "<title>5</title>\n",
       "<path fill=\"#e58139\" stroke=\"#000000\" d=\"M112,-179.5C112,-179.5 12,-179.5 12,-179.5 6,-179.5 0,-173.5 0,-167.5 0,-167.5 0,-123.5 0,-123.5 0,-117.5 6,-111.5 12,-111.5 12,-111.5 112,-111.5 112,-111.5 118,-111.5 124,-117.5 124,-123.5 124,-123.5 124,-167.5 124,-167.5 124,-173.5 118,-179.5 112,-179.5\"/>\n",
       "<text text-anchor=\"start\" x=\"25.5\" y=\"-164.3\" font-family=\"Helvetica,sans-Serif\" font-size=\"14.00\" fill=\"#000000\">gini = 0.177</text>\n",
       "<text text-anchor=\"start\" x=\"16\" y=\"-149.3\" font-family=\"Helvetica,sans-Serif\" font-size=\"14.00\" fill=\"#000000\">samples = 336</text>\n",
       "<text text-anchor=\"start\" x=\"8\" y=\"-134.3\" font-family=\"Helvetica,sans-Serif\" font-size=\"14.00\" fill=\"#000000\">value = [[33, 303]</text>\n",
       "<text text-anchor=\"start\" x=\"32.5\" y=\"-119.3\" font-family=\"Helvetica,sans-Serif\" font-size=\"14.00\" fill=\"#000000\">[303, 33]]</text>\n",
       "</g>\n",
       "<!-- 1&#45;&gt;5 -->\n",
       "<g id=\"edge2\" class=\"edge\">\n",
       "<title>1&#45;&gt;5</title>\n",
       "<path fill=\"none\" stroke=\"#000000\" d=\"M150.4338,-222.8796C136.9872,-211.1138 122.3653,-198.3197 108.9549,-186.5855\"/>\n",
       "<polygon fill=\"#000000\" stroke=\"#000000\" points=\"111.0476,-183.766 101.2171,-179.8149 106.4381,-189.034 111.0476,-183.766\"/>\n",
       "</g>\n",
       "<!-- 6 -->\n",
       "<g id=\"node4\" class=\"node\">\n",
       "<title>6</title>\n",
       "<path fill=\"#fae9dc\" stroke=\"#000000\" d=\"M247.5,-179.5C247.5,-179.5 154.5,-179.5 154.5,-179.5 148.5,-179.5 142.5,-173.5 142.5,-167.5 142.5,-167.5 142.5,-123.5 142.5,-123.5 142.5,-117.5 148.5,-111.5 154.5,-111.5 154.5,-111.5 247.5,-111.5 247.5,-111.5 253.5,-111.5 259.5,-117.5 259.5,-123.5 259.5,-123.5 259.5,-167.5 259.5,-167.5 259.5,-173.5 253.5,-179.5 247.5,-179.5\"/>\n",
       "<text text-anchor=\"start\" x=\"164.5\" y=\"-164.3\" font-family=\"Helvetica,sans-Serif\" font-size=\"14.00\" fill=\"#000000\">gini = 0.441</text>\n",
       "<text text-anchor=\"start\" x=\"159\" y=\"-149.3\" font-family=\"Helvetica,sans-Serif\" font-size=\"14.00\" fill=\"#000000\">samples = 76</text>\n",
       "<text text-anchor=\"start\" x=\"150.5\" y=\"-134.3\" font-family=\"Helvetica,sans-Serif\" font-size=\"14.00\" fill=\"#000000\">value = [[25, 51]</text>\n",
       "<text text-anchor=\"start\" x=\"175.5\" y=\"-119.3\" font-family=\"Helvetica,sans-Serif\" font-size=\"14.00\" fill=\"#000000\">[51, 25]]</text>\n",
       "</g>\n",
       "<!-- 1&#45;&gt;6 -->\n",
       "<g id=\"edge3\" class=\"edge\">\n",
       "<title>1&#45;&gt;6</title>\n",
       "<path fill=\"none\" stroke=\"#000000\" d=\"M199.0493,-222.8796C199.3182,-212.2134 199.6084,-200.7021 199.8806,-189.9015\"/>\n",
       "<polygon fill=\"#000000\" stroke=\"#000000\" points=\"203.3817,-189.9 200.1349,-179.8149 196.3839,-189.7235 203.3817,-189.9\"/>\n",
       "</g>\n",
       "<!-- 3 -->\n",
       "<g id=\"node6\" class=\"node\">\n",
       "<title>3</title>\n",
       "<path fill=\"#e99254\" stroke=\"#000000\" d=\"M394,-179.5C394,-179.5 294,-179.5 294,-179.5 288,-179.5 282,-173.5 282,-167.5 282,-167.5 282,-123.5 282,-123.5 282,-117.5 288,-111.5 294,-111.5 294,-111.5 394,-111.5 394,-111.5 400,-111.5 406,-117.5 406,-123.5 406,-123.5 406,-167.5 406,-167.5 406,-173.5 400,-179.5 394,-179.5\"/>\n",
       "<text text-anchor=\"start\" x=\"307.5\" y=\"-164.3\" font-family=\"Helvetica,sans-Serif\" font-size=\"14.00\" fill=\"#000000\">gini = 0.221</text>\n",
       "<text text-anchor=\"start\" x=\"298\" y=\"-149.3\" font-family=\"Helvetica,sans-Serif\" font-size=\"14.00\" fill=\"#000000\">samples = 158</text>\n",
       "<text text-anchor=\"start\" x=\"290\" y=\"-134.3\" font-family=\"Helvetica,sans-Serif\" font-size=\"14.00\" fill=\"#000000\">value = [[138, 20]</text>\n",
       "<text text-anchor=\"start\" x=\"314.5\" y=\"-119.3\" font-family=\"Helvetica,sans-Serif\" font-size=\"14.00\" fill=\"#000000\">[20, 138]]</text>\n",
       "</g>\n",
       "<!-- 2&#45;&gt;3 -->\n",
       "<g id=\"edge5\" class=\"edge\">\n",
       "<title>2&#45;&gt;3</title>\n",
       "<path fill=\"none\" stroke=\"#000000\" d=\"M345.3005,-222.8796C345.1212,-212.2134 344.9278,-200.7021 344.7462,-189.9015\"/>\n",
       "<polygon fill=\"#000000\" stroke=\"#000000\" points=\"348.2444,-189.7547 344.5767,-179.8149 341.2454,-189.8724 348.2444,-189.7547\"/>\n",
       "</g>\n",
       "<!-- 4 -->\n",
       "<g id=\"node7\" class=\"node\">\n",
       "<title>4</title>\n",
       "<path fill=\"#ffffff\" stroke=\"#000000\" d=\"M529.5,-187C529.5,-187 436.5,-187 436.5,-187 430.5,-187 424.5,-181 424.5,-175 424.5,-175 424.5,-116 424.5,-116 424.5,-110 430.5,-104 436.5,-104 436.5,-104 529.5,-104 529.5,-104 535.5,-104 541.5,-110 541.5,-116 541.5,-116 541.5,-175 541.5,-175 541.5,-181 535.5,-187 529.5,-187\"/>\n",
       "<text text-anchor=\"start\" x=\"433.5\" y=\"-171.8\" font-family=\"Helvetica,sans-Serif\" font-size=\"14.00\" fill=\"#000000\">Embarked ≤ 0.5</text>\n",
       "<text text-anchor=\"start\" x=\"446.5\" y=\"-156.8\" font-family=\"Helvetica,sans-Serif\" font-size=\"14.00\" fill=\"#000000\">gini = 0.498</text>\n",
       "<text text-anchor=\"start\" x=\"437\" y=\"-141.8\" font-family=\"Helvetica,sans-Serif\" font-size=\"14.00\" fill=\"#000000\">samples = 142</text>\n",
       "<text text-anchor=\"start\" x=\"432.5\" y=\"-126.8\" font-family=\"Helvetica,sans-Serif\" font-size=\"14.00\" fill=\"#000000\">value = [[67, 75]</text>\n",
       "<text text-anchor=\"start\" x=\"457.5\" y=\"-111.8\" font-family=\"Helvetica,sans-Serif\" font-size=\"14.00\" fill=\"#000000\">[75, 67]]</text>\n",
       "</g>\n",
       "<!-- 2&#45;&gt;4 -->\n",
       "<g id=\"edge6\" class=\"edge\">\n",
       "<title>2&#45;&gt;4</title>\n",
       "<path fill=\"none\" stroke=\"#000000\" d=\"M393.916,-222.8796C404.6993,-213.513 416.2329,-203.4948 427.3039,-193.8784\"/>\n",
       "<polygon fill=\"#000000\" stroke=\"#000000\" points=\"429.6251,-196.4982 434.8795,-187.2981 425.0347,-191.2134 429.6251,-196.4982\"/>\n",
       "</g>\n",
       "<!-- 7 -->\n",
       "<g id=\"node8\" class=\"node\">\n",
       "<title>7</title>\n",
       "<path fill=\"#fcefe5\" stroke=\"#000000\" d=\"M461.5,-68C461.5,-68 368.5,-68 368.5,-68 362.5,-68 356.5,-62 356.5,-56 356.5,-56 356.5,-12 356.5,-12 356.5,-6 362.5,0 368.5,0 368.5,0 461.5,0 461.5,0 467.5,0 473.5,-6 473.5,-12 473.5,-12 473.5,-56 473.5,-56 473.5,-62 467.5,-68 461.5,-68\"/>\n",
       "<text text-anchor=\"start\" x=\"378.5\" y=\"-52.8\" font-family=\"Helvetica,sans-Serif\" font-size=\"14.00\" fill=\"#000000\">gini = 0.457</text>\n",
       "<text text-anchor=\"start\" x=\"373\" y=\"-37.8\" font-family=\"Helvetica,sans-Serif\" font-size=\"14.00\" fill=\"#000000\">samples = 85</text>\n",
       "<text text-anchor=\"start\" x=\"364.5\" y=\"-22.8\" font-family=\"Helvetica,sans-Serif\" font-size=\"14.00\" fill=\"#000000\">value = [[30, 55]</text>\n",
       "<text text-anchor=\"start\" x=\"389.5\" y=\"-7.8\" font-family=\"Helvetica,sans-Serif\" font-size=\"14.00\" fill=\"#000000\">[55, 30]]</text>\n",
       "</g>\n",
       "<!-- 4&#45;&gt;7 -->\n",
       "<g id=\"edge7\" class=\"edge\">\n",
       "<title>4&#45;&gt;7</title>\n",
       "<path fill=\"none\" stroke=\"#000000\" d=\"M457.6793,-103.9815C452.2984,-95.1585 446.6068,-85.8258 441.1941,-76.9506\"/>\n",
       "<polygon fill=\"#000000\" stroke=\"#000000\" points=\"444.0912,-74.9789 435.8962,-68.2637 438.1149,-78.6236 444.0912,-74.9789\"/>\n",
       "</g>\n",
       "<!-- 8 -->\n",
       "<g id=\"node9\" class=\"node\">\n",
       "<title>8</title>\n",
       "<path fill=\"#fceee5\" stroke=\"#000000\" d=\"M596.5,-68C596.5,-68 503.5,-68 503.5,-68 497.5,-68 491.5,-62 491.5,-56 491.5,-56 491.5,-12 491.5,-12 491.5,-6 497.5,0 503.5,0 503.5,0 596.5,0 596.5,0 602.5,0 608.5,-6 608.5,-12 608.5,-12 608.5,-56 608.5,-56 608.5,-62 602.5,-68 596.5,-68\"/>\n",
       "<text text-anchor=\"start\" x=\"513.5\" y=\"-52.8\" font-family=\"Helvetica,sans-Serif\" font-size=\"14.00\" fill=\"#000000\">gini = 0.456</text>\n",
       "<text text-anchor=\"start\" x=\"508\" y=\"-37.8\" font-family=\"Helvetica,sans-Serif\" font-size=\"14.00\" fill=\"#000000\">samples = 57</text>\n",
       "<text text-anchor=\"start\" x=\"499.5\" y=\"-22.8\" font-family=\"Helvetica,sans-Serif\" font-size=\"14.00\" fill=\"#000000\">value = [[37, 20]</text>\n",
       "<text text-anchor=\"start\" x=\"524.5\" y=\"-7.8\" font-family=\"Helvetica,sans-Serif\" font-size=\"14.00\" fill=\"#000000\">[20, 37]]</text>\n",
       "</g>\n",
       "<!-- 4&#45;&gt;8 -->\n",
       "<g id=\"edge8\" class=\"edge\">\n",
       "<title>4&#45;&gt;8</title>\n",
       "<path fill=\"none\" stroke=\"#000000\" d=\"M507.9483,-103.9815C513.2501,-95.1585 518.8581,-85.8258 524.1911,-76.9506\"/>\n",
       "<polygon fill=\"#000000\" stroke=\"#000000\" points=\"527.2605,-78.638 529.4111,-68.2637 521.2604,-75.0325 527.2605,-78.638\"/>\n",
       "</g>\n",
       "</g>\n",
       "</svg>\n"
      ],
      "text/plain": [
       "<graphviz.files.Source at 0x127f187d0>"
      ]
     },
     "execution_count": 602,
     "metadata": {},
     "output_type": "execute_result"
    }
   ],
   "source": [
    "dot_data = tree.export_graphviz(model, \n",
    "                               out_file=None,\n",
    "                               feature_names = feature_names,\n",
    "                               class_names = ['Died', 'Survived'],\n",
    "                               filled=True, \n",
    "                               rounded=True,\n",
    "                               special_characters=True)\n",
    "graph = graphviz.Source(dot_data)\n",
    "graph"
   ]
  },
  {
   "cell_type": "code",
   "execution_count": null,
   "metadata": {},
   "outputs": [],
   "source": []
  },
  {
   "cell_type": "markdown",
   "metadata": {},
   "source": [
    "# <font color='darkred'>Model - Decision Tree</font>"
   ]
  },
  {
   "cell_type": "code",
   "execution_count": 603,
   "metadata": {},
   "outputs": [],
   "source": [
    "from sklearn.externals.six import StringIO\n",
    "from sklearn.tree import export_graphviz\n",
    "import pydotplus\n",
    "from mlxtend.plotting import plot_decision_regions"
   ]
  },
  {
   "cell_type": "code",
   "execution_count": 604,
   "metadata": {},
   "outputs": [],
   "source": [
    "# Create Numpy arrays of train, test and target\n",
    "y_train = train['Survived'].values.astype('int16')\n",
    "x_train = train.drop(['Survived'], axis=1).values.astype('int16')\n",
    "x_test = test.values.astype('int16')"
   ]
  },
  {
   "cell_type": "code",
   "execution_count": 605,
   "metadata": {},
   "outputs": [
    {
     "data": {
      "text/plain": [
       "['Pclass', 'Sex', 'Age', 'Fare', 'Embarked', 'IsAlone', 'Title', 'Has_Cabin']"
      ]
     },
     "execution_count": 605,
     "metadata": {},
     "output_type": "execute_result"
    }
   ],
   "source": [
    "feature_names = [col for col in train.columns] \n",
    "feature_names.remove('Survived')\n",
    "feature_names"
   ]
  },
  {
   "cell_type": "code",
   "execution_count": 606,
   "metadata": {},
   "outputs": [
    {
     "data": {
      "text/plain": [
       "DecisionTreeClassifier(ccp_alpha=0.0, class_weight=None, criterion='gini',\n",
       "                       max_depth=3, max_features=None, max_leaf_nodes=None,\n",
       "                       min_impurity_decrease=0.0, min_impurity_split=None,\n",
       "                       min_samples_leaf=1, min_samples_split=2,\n",
       "                       min_weight_fraction_leaf=0.0, presort='deprecated',\n",
       "                       random_state=None, splitter='best')"
      ]
     },
     "execution_count": 606,
     "metadata": {},
     "output_type": "execute_result"
    }
   ],
   "source": [
    "decision_tree = tree.DecisionTreeClassifier(max_depth = 3)\n",
    "decision_tree.fit(x_train, y_train)"
   ]
  },
  {
   "cell_type": "code",
   "execution_count": 607,
   "metadata": {},
   "outputs": [],
   "source": [
    "y_pred = decision_tree.predict(x_test)\n",
    "#submission = pd.DataFrame({\"PassengerId\": PassengerId, \"Survived\": y_pred})\n",
    "#submission.to_csv('submission.csv', index=False)\n",
    "#submission.head()"
   ]
  },
  {
   "cell_type": "code",
   "execution_count": 608,
   "metadata": {},
   "outputs": [
    {
     "data": {
      "image/png": "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\n",
      "text/plain": [
       "<IPython.core.display.Image object>"
      ]
     },
     "execution_count": 608,
     "metadata": {},
     "output_type": "execute_result"
    }
   ],
   "source": [
    "# Export our trained model as a .dot file\n",
    "with open(\"model_tree.dot\", 'w') as f:\n",
    "     f = tree.export_graphviz(decision_tree,\n",
    "                              out_file=f,\n",
    "                              max_depth = 3,\n",
    "                              impurity = True,\n",
    "                              feature_names = feature_names,\n",
    "                              class_names = ['Died', 'Survived'],\n",
    "                              rounded = True,\n",
    "                              filled= True )\n",
    "        \n",
    "#Convert .dot to .png to allow display in web notebook\n",
    "check_call(['dot','-Tpng','model_tree.dot','-o','model_tree.png'])\n",
    "\n",
    "# Annotating chart with PIL\n",
    "img = Image.open(\"model_tree.png\")\n",
    "draw = ImageDraw.Draw(img)\n",
    "img.save('sample-out.png')\n",
    "PImage(\"sample-out.png\")"
   ]
  },
  {
   "cell_type": "code",
   "execution_count": 279,
   "metadata": {},
   "outputs": [
    {
     "data": {
      "text/plain": [
       "81.26"
      ]
     },
     "execution_count": 279,
     "metadata": {},
     "output_type": "execute_result"
    }
   ],
   "source": [
    "acc_decision_tree = round(decision_tree.score(x_train, y_train) * 100, 2)\n",
    "acc_decision_tree"
   ]
  },
  {
   "cell_type": "markdown",
   "metadata": {},
   "source": [
    "# <font color='darkred'> Classifier Comparison</font>"
   ]
  },
  {
   "cell_type": "code",
   "execution_count": 465,
   "metadata": {},
   "outputs": [],
   "source": [
    "import matplotlib.pyplot as plt\n",
    "import seaborn as sns\n",
    "\n",
    "from sklearn.model_selection import StratifiedShuffleSplit\n",
    "from sklearn.metrics import accuracy_score, log_loss\n",
    "from sklearn.neighbors import KNeighborsClassifier\n",
    "from sklearn.svm import SVC\n",
    "from sklearn.tree import DecisionTreeClassifier\n",
    "from sklearn.ensemble import RandomForestClassifier, AdaBoostClassifier, GradientBoostingClassifier\n",
    "from sklearn.naive_bayes import GaussianNB\n",
    "from sklearn.discriminant_analysis import LinearDiscriminantAnalysis, QuadraticDiscriminantAnalysis\n",
    "from sklearn.linear_model import LogisticRegression"
   ]
  },
  {
   "cell_type": "code",
   "execution_count": 466,
   "metadata": {},
   "outputs": [],
   "source": [
    "classifiers = [\n",
    "    KNeighborsClassifier(3),\n",
    "    SVC(probability=True),\n",
    "    DecisionTreeClassifier(),\n",
    "    RandomForestClassifier(),\n",
    "    AdaBoostClassifier(),\n",
    "    GradientBoostingClassifier(),\n",
    "    GaussianNB(),\n",
    "    LinearDiscriminantAnalysis(),\n",
    "    QuadraticDiscriminantAnalysis(),\n",
    "    LogisticRegression()]\n",
    "\n",
    "log_cols = [\"Classifier\", \"Accuracy\"]\n",
    "log      = pd.DataFrame(columns=log_cols)\n",
    "\n",
    "sss = StratifiedShuffleSplit(n_splits=10, test_size=0.1, random_state=0)"
   ]
  },
  {
   "cell_type": "code",
   "execution_count": 487,
   "metadata": {},
   "outputs": [],
   "source": [
    "# Create Numpy arrays of train, test and target\n",
    "#y_train = train['Survived'].values.astype('int16')\n",
    "#x_train = train.drop(['Survived'], axis=1).values.astype('int16')\n",
    "#x_test = test.values.astype('int16')\n",
    "\n",
    "X = train.drop(['Survived'], axis=1).values.astype('int16')\n",
    "y = train['Survived'].values.astype('int16')\n",
    "\n",
    "acc_dict = {}"
   ]
  },
  {
   "cell_type": "code",
   "execution_count": 488,
   "metadata": {},
   "outputs": [],
   "source": [
    "for train_index, test_index in sss.split(X, y):\n",
    "    X_train, X_test = X[train_index], X[test_index]\n",
    "    y_train, y_test = y[train_index], y[test_index]\n",
    "\n",
    "    for clf in classifiers:\n",
    "        name = clf.__class__.__name__\n",
    "        clf.fit(X_train, y_train)\n",
    "        train_predictions = clf.predict(X_test)\n",
    "        acc = accuracy_score(y_test, train_predictions)\n",
    "        if name in acc_dict:\n",
    "            acc_dict[name] += acc\n",
    "        else:\n",
    "            acc_dict[name] = acc"
   ]
  },
  {
   "cell_type": "code",
   "execution_count": 489,
   "metadata": {},
   "outputs": [
    {
     "data": {
      "text/html": [
       "<div>\n",
       "<style scoped>\n",
       "    .dataframe tbody tr th:only-of-type {\n",
       "        vertical-align: middle;\n",
       "    }\n",
       "\n",
       "    .dataframe tbody tr th {\n",
       "        vertical-align: top;\n",
       "    }\n",
       "\n",
       "    .dataframe thead th {\n",
       "        text-align: right;\n",
       "    }\n",
       "</style>\n",
       "<table border=\"1\" class=\"dataframe\">\n",
       "  <thead>\n",
       "    <tr style=\"text-align: right;\">\n",
       "      <th></th>\n",
       "      <th>Classifier</th>\n",
       "      <th>Accuracy</th>\n",
       "    </tr>\n",
       "  </thead>\n",
       "  <tbody>\n",
       "    <tr>\n",
       "      <th>0</th>\n",
       "      <td>SVC</td>\n",
       "      <td>0.824</td>\n",
       "    </tr>\n",
       "    <tr>\n",
       "      <th>0</th>\n",
       "      <td>GradientBoostingClassifier</td>\n",
       "      <td>0.822</td>\n",
       "    </tr>\n",
       "    <tr>\n",
       "      <th>0</th>\n",
       "      <td>RandomForestClassifier</td>\n",
       "      <td>0.814</td>\n",
       "    </tr>\n",
       "    <tr>\n",
       "      <th>0</th>\n",
       "      <td>QuadraticDiscriminantAnalysis</td>\n",
       "      <td>0.807</td>\n",
       "    </tr>\n",
       "    <tr>\n",
       "      <th>0</th>\n",
       "      <td>AdaBoostClassifier</td>\n",
       "      <td>0.803</td>\n",
       "    </tr>\n",
       "    <tr>\n",
       "      <th>0</th>\n",
       "      <td>LogisticRegression</td>\n",
       "      <td>0.802</td>\n",
       "    </tr>\n",
       "    <tr>\n",
       "      <th>0</th>\n",
       "      <td>KNeighborsClassifier</td>\n",
       "      <td>0.797</td>\n",
       "    </tr>\n",
       "    <tr>\n",
       "      <th>0</th>\n",
       "      <td>DecisionTreeClassifier</td>\n",
       "      <td>0.793</td>\n",
       "    </tr>\n",
       "    <tr>\n",
       "      <th>0</th>\n",
       "      <td>LinearDiscriminantAnalysis</td>\n",
       "      <td>0.787</td>\n",
       "    </tr>\n",
       "    <tr>\n",
       "      <th>0</th>\n",
       "      <td>GaussianNB</td>\n",
       "      <td>0.764</td>\n",
       "    </tr>\n",
       "  </tbody>\n",
       "</table>\n",
       "</div>"
      ],
      "text/plain": [
       "                      Classifier  Accuracy\n",
       "0                            SVC     0.824\n",
       "0     GradientBoostingClassifier     0.822\n",
       "0         RandomForestClassifier     0.814\n",
       "0  QuadraticDiscriminantAnalysis     0.807\n",
       "0             AdaBoostClassifier     0.803\n",
       "0             LogisticRegression     0.802\n",
       "0           KNeighborsClassifier     0.797\n",
       "0         DecisionTreeClassifier     0.793\n",
       "0     LinearDiscriminantAnalysis     0.787\n",
       "0                     GaussianNB     0.764"
      ]
     },
     "execution_count": 489,
     "metadata": {},
     "output_type": "execute_result"
    }
   ],
   "source": [
    "for clf in acc_dict:\n",
    "    acc_dict[clf] = acc_dict[clf] / 10.0\n",
    "    log_entry = pd.DataFrame([[clf, acc_dict[clf]]], columns=log_cols)\n",
    "    log = log.append(log_entry)\n",
    "\n",
    "log.sort_values(by=['Accuracy'], inplace=True, ascending=False)\n",
    "log"
   ]
  },
  {
   "cell_type": "code",
   "execution_count": 356,
   "metadata": {},
   "outputs": [
    {
     "data": {
      "text/plain": [
       "<matplotlib.axes._subplots.AxesSubplot at 0x130203590>"
      ]
     },
     "execution_count": 356,
     "metadata": {},
     "output_type": "execute_result"
    },
    {
     "data": {
      "image/png": "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\n",
      "text/plain": [
       "<Figure size 576x432 with 1 Axes>"
      ]
     },
     "metadata": {
      "needs_background": "light"
     },
     "output_type": "display_data"
    }
   ],
   "source": [
    "plt.figure(figsize=(8,6))\n",
    "plt.xlabel('Accuracy')\n",
    "plt.title('Classifier Accuracy')\n",
    "\n",
    "sns.set_color_codes(\"muted\")\n",
    "sns.barplot(x='Accuracy', y='Classifier', data=log, color=\"brown\")"
   ]
  },
  {
   "cell_type": "markdown",
   "metadata": {},
   "source": [
    "# <font color='darkblue'>Prediction</font>"
   ]
  },
  {
   "cell_type": "code",
   "execution_count": 359,
   "metadata": {},
   "outputs": [],
   "source": [
    "candidate_classifier = SVC()\n",
    "candidate_classifier.fit(X, y)\n",
    "result = candidate_classifier.predict(test)"
   ]
  },
  {
   "cell_type": "code",
   "execution_count": null,
   "metadata": {},
   "outputs": [],
   "source": []
  }
 ],
 "metadata": {
  "kernelspec": {
   "display_name": "Python 3",
   "language": "python",
   "name": "python3"
  },
  "language_info": {
   "codemirror_mode": {
    "name": "ipython",
    "version": 3
   },
   "file_extension": ".py",
   "mimetype": "text/x-python",
   "name": "python",
   "nbconvert_exporter": "python",
   "pygments_lexer": "ipython3",
   "version": "3.7.5"
  }
 },
 "nbformat": 4,
 "nbformat_minor": 4
}
